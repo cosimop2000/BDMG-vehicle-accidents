{
 "cells": [
  {
   "cell_type": "code",
   "execution_count": 2,
   "metadata": {
    "collapsed": true
   },
   "outputs": [],
   "source": [
    "import dask.dataframe as dd\n",
    "import h5py\n",
    "import numpy as np\n",
    "import pandas as pd\n",
    "\n",
    "from dask.distributed import Client, LocalCluster"
   ]
  },
  {
   "cell_type": "code",
   "execution_count": 5,
   "outputs": [],
   "source": [
    "df = dd.read_csv(\"C:\\\\Users\\\\sarap\\\\Desktop\\\\BDMG-vehicle-accidents\\\\datasets\\\\US_Accidents_March23\\\\test.csv\")"
   ],
   "metadata": {
    "collapsed": false,
    "pycharm": {
     "name": "#%%\n"
    }
   }
  },
  {
   "cell_type": "code",
   "execution_count": 18,
   "outputs": [
    {
     "ename": "KeyError",
     "evalue": "'ID'",
     "output_type": "error",
     "traceback": [
      "\u001B[1;31m---------------------------------------------------------------------------\u001B[0m",
      "\u001B[1;31mKeyError\u001B[0m                                  Traceback (most recent call last)",
      "File \u001B[1;32m~\\.virtualenvs\\BDMG-vehicle-accidents-7Efbz886\\lib\\site-packages\\pandas\\core\\indexes\\base.py:3803\u001B[0m, in \u001B[0;36mIndex.get_loc\u001B[1;34m(self, key, method, tolerance)\u001B[0m\n\u001B[0;32m   3802\u001B[0m \u001B[38;5;28;01mtry\u001B[39;00m:\n\u001B[1;32m-> 3803\u001B[0m     \u001B[38;5;28;01mreturn\u001B[39;00m \u001B[38;5;28;43mself\u001B[39;49m\u001B[38;5;241;43m.\u001B[39;49m\u001B[43m_engine\u001B[49m\u001B[38;5;241;43m.\u001B[39;49m\u001B[43mget_loc\u001B[49m\u001B[43m(\u001B[49m\u001B[43mcasted_key\u001B[49m\u001B[43m)\u001B[49m\n\u001B[0;32m   3804\u001B[0m \u001B[38;5;28;01mexcept\u001B[39;00m \u001B[38;5;167;01mKeyError\u001B[39;00m \u001B[38;5;28;01mas\u001B[39;00m err:\n",
      "File \u001B[1;32m~\\.virtualenvs\\BDMG-vehicle-accidents-7Efbz886\\lib\\site-packages\\pandas\\_libs\\index.pyx:138\u001B[0m, in \u001B[0;36mpandas._libs.index.IndexEngine.get_loc\u001B[1;34m()\u001B[0m\n",
      "File \u001B[1;32m~\\.virtualenvs\\BDMG-vehicle-accidents-7Efbz886\\lib\\site-packages\\pandas\\_libs\\index.pyx:146\u001B[0m, in \u001B[0;36mpandas._libs.index.IndexEngine.get_loc\u001B[1;34m()\u001B[0m\n",
      "File \u001B[1;32mpandas\\_libs\\index_class_helper.pxi:49\u001B[0m, in \u001B[0;36mpandas._libs.index.Int64Engine._check_type\u001B[1;34m()\u001B[0m\n",
      "\u001B[1;31mKeyError\u001B[0m: 'ID'",
      "\nThe above exception was the direct cause of the following exception:\n",
      "\u001B[1;31mKeyError\u001B[0m                                  Traceback (most recent call last)",
      "Cell \u001B[1;32mIn[18], line 1\u001B[0m\n\u001B[1;32m----> 1\u001B[0m \u001B[43mdf\u001B[49m\u001B[38;5;241;43m.\u001B[39;49m\u001B[43mcount\u001B[49m\u001B[43m(\u001B[49m\u001B[43maxis\u001B[49m\u001B[38;5;241;43m=\u001B[39;49m\u001B[38;5;124;43m'\u001B[39;49m\u001B[38;5;124;43mcolumns\u001B[39;49m\u001B[38;5;124;43m'\u001B[39;49m\u001B[43m)\u001B[49m\u001B[38;5;241;43m.\u001B[39;49m\u001B[43mcompute\u001B[49m\u001B[43m(\u001B[49m\u001B[43m)\u001B[49m\u001B[43m[\u001B[49m\u001B[38;5;124;43m'\u001B[39;49m\u001B[38;5;124;43mID\u001B[39;49m\u001B[38;5;124;43m'\u001B[39;49m\u001B[43m]\u001B[49m\n",
      "File \u001B[1;32m~\\.virtualenvs\\BDMG-vehicle-accidents-7Efbz886\\lib\\site-packages\\pandas\\core\\series.py:981\u001B[0m, in \u001B[0;36mSeries.__getitem__\u001B[1;34m(self, key)\u001B[0m\n\u001B[0;32m    978\u001B[0m     \u001B[38;5;28;01mreturn\u001B[39;00m \u001B[38;5;28mself\u001B[39m\u001B[38;5;241m.\u001B[39m_values[key]\n\u001B[0;32m    980\u001B[0m \u001B[38;5;28;01melif\u001B[39;00m key_is_scalar:\n\u001B[1;32m--> 981\u001B[0m     \u001B[38;5;28;01mreturn\u001B[39;00m \u001B[38;5;28;43mself\u001B[39;49m\u001B[38;5;241;43m.\u001B[39;49m\u001B[43m_get_value\u001B[49m\u001B[43m(\u001B[49m\u001B[43mkey\u001B[49m\u001B[43m)\u001B[49m\n\u001B[0;32m    983\u001B[0m \u001B[38;5;28;01mif\u001B[39;00m is_hashable(key):\n\u001B[0;32m    984\u001B[0m     \u001B[38;5;66;03m# Otherwise index.get_value will raise InvalidIndexError\u001B[39;00m\n\u001B[0;32m    985\u001B[0m     \u001B[38;5;28;01mtry\u001B[39;00m:\n\u001B[0;32m    986\u001B[0m         \u001B[38;5;66;03m# For labels that don't resolve as scalars like tuples and frozensets\u001B[39;00m\n",
      "File \u001B[1;32m~\\.virtualenvs\\BDMG-vehicle-accidents-7Efbz886\\lib\\site-packages\\pandas\\core\\series.py:1089\u001B[0m, in \u001B[0;36mSeries._get_value\u001B[1;34m(self, label, takeable)\u001B[0m\n\u001B[0;32m   1086\u001B[0m     \u001B[38;5;28;01mreturn\u001B[39;00m \u001B[38;5;28mself\u001B[39m\u001B[38;5;241m.\u001B[39m_values[label]\n\u001B[0;32m   1088\u001B[0m \u001B[38;5;66;03m# Similar to Index.get_value, but we do not fall back to positional\u001B[39;00m\n\u001B[1;32m-> 1089\u001B[0m loc \u001B[38;5;241m=\u001B[39m \u001B[38;5;28;43mself\u001B[39;49m\u001B[38;5;241;43m.\u001B[39;49m\u001B[43mindex\u001B[49m\u001B[38;5;241;43m.\u001B[39;49m\u001B[43mget_loc\u001B[49m\u001B[43m(\u001B[49m\u001B[43mlabel\u001B[49m\u001B[43m)\u001B[49m\n\u001B[0;32m   1090\u001B[0m \u001B[38;5;28;01mreturn\u001B[39;00m \u001B[38;5;28mself\u001B[39m\u001B[38;5;241m.\u001B[39mindex\u001B[38;5;241m.\u001B[39m_get_values_for_loc(\u001B[38;5;28mself\u001B[39m, loc, label)\n",
      "File \u001B[1;32m~\\.virtualenvs\\BDMG-vehicle-accidents-7Efbz886\\lib\\site-packages\\pandas\\core\\indexes\\base.py:3805\u001B[0m, in \u001B[0;36mIndex.get_loc\u001B[1;34m(self, key, method, tolerance)\u001B[0m\n\u001B[0;32m   3803\u001B[0m     \u001B[38;5;28;01mreturn\u001B[39;00m \u001B[38;5;28mself\u001B[39m\u001B[38;5;241m.\u001B[39m_engine\u001B[38;5;241m.\u001B[39mget_loc(casted_key)\n\u001B[0;32m   3804\u001B[0m \u001B[38;5;28;01mexcept\u001B[39;00m \u001B[38;5;167;01mKeyError\u001B[39;00m \u001B[38;5;28;01mas\u001B[39;00m err:\n\u001B[1;32m-> 3805\u001B[0m     \u001B[38;5;28;01mraise\u001B[39;00m \u001B[38;5;167;01mKeyError\u001B[39;00m(key) \u001B[38;5;28;01mfrom\u001B[39;00m \u001B[38;5;21;01merr\u001B[39;00m\n\u001B[0;32m   3806\u001B[0m \u001B[38;5;28;01mexcept\u001B[39;00m \u001B[38;5;167;01mTypeError\u001B[39;00m:\n\u001B[0;32m   3807\u001B[0m     \u001B[38;5;66;03m# If we have a listlike key, _check_indexing_error will raise\u001B[39;00m\n\u001B[0;32m   3808\u001B[0m     \u001B[38;5;66;03m#  InvalidIndexError. Otherwise we fall through and re-raise\u001B[39;00m\n\u001B[0;32m   3809\u001B[0m     \u001B[38;5;66;03m#  the TypeError.\u001B[39;00m\n\u001B[0;32m   3810\u001B[0m     \u001B[38;5;28mself\u001B[39m\u001B[38;5;241m.\u001B[39m_check_indexing_error(key)\n",
      "\u001B[1;31mKeyError\u001B[0m: 'ID'"
     ]
    }
   ],
   "source": [
    "df.count(axis='columns').compute()"
   ],
   "metadata": {
    "collapsed": false,
    "pycharm": {
     "name": "#%%\n"
    }
   }
  },
  {
   "cell_type": "code",
   "execution_count": 24,
   "outputs": [
    {
     "data": {
      "text/plain": "220377"
     },
     "execution_count": 24,
     "metadata": {},
     "output_type": "execute_result"
    }
   ],
   "source": [
    "df['End_Lng'].compute().isnull().sum()"
   ],
   "metadata": {
    "collapsed": false,
    "pycharm": {
     "name": "#%%\n"
    }
   }
  },
  {
   "cell_type": "code",
   "execution_count": 25,
   "outputs": [
    {
     "data": {
      "text/plain": "220377"
     },
     "execution_count": 25,
     "metadata": {},
     "output_type": "execute_result"
    }
   ],
   "source": [
    "df['End_Lng'].isnull().sum().compute()"
   ],
   "metadata": {
    "collapsed": false,
    "pycharm": {
     "name": "#%%\n"
    }
   }
  },
  {
   "cell_type": "code",
   "execution_count": 28,
   "outputs": [
    {
     "data": {
      "text/plain": "dd.Scalar<series-..., dtype=int64>"
     },
     "execution_count": 28,
     "metadata": {},
     "output_type": "execute_result"
    }
   ],
   "source": [
    "df['ID'].count()"
   ],
   "metadata": {
    "collapsed": false,
    "pycharm": {
     "name": "#%%\n"
    }
   }
  },
  {
   "cell_type": "code",
   "execution_count": 26,
   "outputs": [],
   "source": [
    "total_len = df['ID'].compute().count()"
   ],
   "metadata": {
    "collapsed": false,
    "pycharm": {
     "name": "#%%\n"
    }
   }
  },
  {
   "cell_type": "code",
   "execution_count": 27,
   "outputs": [
    {
     "name": "stdout",
     "output_type": "stream",
     "text": [
      "ID: 0 (0.0%)\n",
      "Source: 0 (0.0%)\n",
      "Severity: 0 (0.0%)\n",
      "Start_Time: 0 (0.0%)\n",
      "End_Time: 0 (0.0%)\n",
      "Start_Lat: 0 (0.0%)\n",
      "Start_Lng: 0 (0.0%)\n",
      "End_Lat: 220377 (44.075399999999995%)\n",
      "End_Lng: 220377 (44.075399999999995%)\n",
      "Distance(mi): 0 (0.0%)\n",
      "Description: 1 (0.00019999999999999998%)\n",
      "Street: 691 (0.1382%)\n",
      "City: 19 (0.0038000000000000004%)\n",
      "County: 0 (0.0%)\n",
      "State: 0 (0.0%)\n",
      "Zipcode: 116 (0.0232%)\n",
      "Country: 0 (0.0%)\n",
      "Timezone: 507 (0.10139999999999999%)\n",
      "Airport_Code: 1446 (0.2892%)\n",
      "Weather_Timestamp: 7674 (1.5348000000000002%)\n",
      "Temperature(F): 10466 (2.0932%)\n",
      "Wind_Chill(F): 129017 (25.8034%)\n",
      "Humidity(%): 11130 (2.226%)\n",
      "Pressure(in): 8928 (1.7856%)\n",
      "Visibility(mi): 11291 (2.2582%)\n",
      "Wind_Direction: 11197 (2.2394000000000003%)\n",
      "Wind_Speed(mph): 36987 (7.3974%)\n",
      "Precipitation(in): 142616 (28.5232%)\n",
      "Weather_Condition: 11101 (2.2202%)\n",
      "Amenity: 0 (0.0%)\n",
      "Bump: 0 (0.0%)\n",
      "Crossing: 0 (0.0%)\n",
      "Give_Way: 0 (0.0%)\n",
      "Junction: 0 (0.0%)\n",
      "No_Exit: 0 (0.0%)\n",
      "Railway: 0 (0.0%)\n",
      "Roundabout: 0 (0.0%)\n",
      "Station: 0 (0.0%)\n",
      "Stop: 0 (0.0%)\n",
      "Traffic_Calming: 0 (0.0%)\n",
      "Traffic_Signal: 0 (0.0%)\n",
      "Turning_Loop: 0 (0.0%)\n",
      "Sunrise_Sunset: 1483 (0.2966%)\n",
      "Civil_Twilight: 1483 (0.2966%)\n",
      "Nautical_Twilight: 1483 (0.2966%)\n",
      "Astronomical_Twilight: 1483 (0.2966%)\n"
     ]
    }
   ],
   "source": [
    "for column in df.columns:\n",
    "    null_count = df[column].isnull().sum().compute()\n",
    "    print('{}: {} ({}%)'.format(column, null_count, (null_count / total_len) * 100))"
   ],
   "metadata": {
    "collapsed": false,
    "pycharm": {
     "name": "#%%\n"
    }
   }
  },
  {
   "cell_type": "code",
   "execution_count": 34,
   "outputs": [
    {
     "data": {
      "text/plain": "Dask DataFrame Structure:\n                   ID  Source Severity Start_Time End_Time Start_Lat Start_Lng  End_Lat  End_Lng Distance(mi) Description  Street    City  County   State Zipcode Country Timezone Airport_Code Weather_Timestamp Temperature(F) Wind_Chill(F) Humidity(%) Pressure(in) Visibility(mi) Wind_Direction Wind_Speed(mph) Precipitation(in) Weather_Condition Amenity  Bump Crossing Give_Way Junction No_Exit Railway Roundabout Station  Stop Traffic_Calming Traffic_Signal Turning_Loop Sunrise_Sunset Civil_Twilight Nautical_Twilight Astronomical_Twilight\nnpartitions=3                                                                                                                                                                                                                                                                                                                                                                                                                                                                                                                                                \n               object  object    int64     object   object   float64   float64  float64  float64      float64      object  object  object  object  object  object  object   object       object            object        float64       float64     float64      float64        float64         object         float64           float64            object    bool  bool     bool     bool     bool    bool    bool       bool    bool  bool            bool           bool         bool         object         object            object                object\n                  ...     ...      ...        ...      ...       ...       ...      ...      ...          ...         ...     ...     ...     ...     ...     ...     ...      ...          ...               ...            ...           ...         ...          ...            ...            ...             ...               ...               ...     ...   ...      ...      ...      ...     ...     ...        ...     ...   ...             ...            ...          ...            ...            ...               ...                   ...\n                  ...     ...      ...        ...      ...       ...       ...      ...      ...          ...         ...     ...     ...     ...     ...     ...     ...      ...          ...               ...            ...           ...         ...          ...            ...            ...             ...               ...               ...     ...   ...      ...      ...      ...     ...     ...        ...     ...   ...             ...            ...          ...            ...            ...               ...                   ...\n                  ...     ...      ...        ...      ...       ...       ...      ...      ...          ...         ...     ...     ...     ...     ...     ...     ...      ...          ...               ...            ...           ...         ...          ...            ...            ...             ...               ...               ...     ...   ...      ...      ...      ...     ...     ...        ...     ...   ...             ...            ...          ...            ...            ...               ...                   ...\nDask Name: getitem, 7 graph layers",
      "text/html": "<div><strong>Dask DataFrame Structure:</strong></div>\n<div>\n<style scoped>\n    .dataframe tbody tr th:only-of-type {\n        vertical-align: middle;\n    }\n\n    .dataframe tbody tr th {\n        vertical-align: top;\n    }\n\n    .dataframe thead th {\n        text-align: right;\n    }\n</style>\n<table border=\"1\" class=\"dataframe\">\n  <thead>\n    <tr style=\"text-align: right;\">\n      <th></th>\n      <th>ID</th>\n      <th>Source</th>\n      <th>Severity</th>\n      <th>Start_Time</th>\n      <th>End_Time</th>\n      <th>Start_Lat</th>\n      <th>Start_Lng</th>\n      <th>End_Lat</th>\n      <th>End_Lng</th>\n      <th>Distance(mi)</th>\n      <th>Description</th>\n      <th>Street</th>\n      <th>City</th>\n      <th>County</th>\n      <th>State</th>\n      <th>Zipcode</th>\n      <th>Country</th>\n      <th>Timezone</th>\n      <th>Airport_Code</th>\n      <th>Weather_Timestamp</th>\n      <th>Temperature(F)</th>\n      <th>Wind_Chill(F)</th>\n      <th>Humidity(%)</th>\n      <th>Pressure(in)</th>\n      <th>Visibility(mi)</th>\n      <th>Wind_Direction</th>\n      <th>Wind_Speed(mph)</th>\n      <th>Precipitation(in)</th>\n      <th>Weather_Condition</th>\n      <th>Amenity</th>\n      <th>Bump</th>\n      <th>Crossing</th>\n      <th>Give_Way</th>\n      <th>Junction</th>\n      <th>No_Exit</th>\n      <th>Railway</th>\n      <th>Roundabout</th>\n      <th>Station</th>\n      <th>Stop</th>\n      <th>Traffic_Calming</th>\n      <th>Traffic_Signal</th>\n      <th>Turning_Loop</th>\n      <th>Sunrise_Sunset</th>\n      <th>Civil_Twilight</th>\n      <th>Nautical_Twilight</th>\n      <th>Astronomical_Twilight</th>\n    </tr>\n    <tr>\n      <th>npartitions=3</th>\n      <th></th>\n      <th></th>\n      <th></th>\n      <th></th>\n      <th></th>\n      <th></th>\n      <th></th>\n      <th></th>\n      <th></th>\n      <th></th>\n      <th></th>\n      <th></th>\n      <th></th>\n      <th></th>\n      <th></th>\n      <th></th>\n      <th></th>\n      <th></th>\n      <th></th>\n      <th></th>\n      <th></th>\n      <th></th>\n      <th></th>\n      <th></th>\n      <th></th>\n      <th></th>\n      <th></th>\n      <th></th>\n      <th></th>\n      <th></th>\n      <th></th>\n      <th></th>\n      <th></th>\n      <th></th>\n      <th></th>\n      <th></th>\n      <th></th>\n      <th></th>\n      <th></th>\n      <th></th>\n      <th></th>\n      <th></th>\n      <th></th>\n      <th></th>\n      <th></th>\n      <th></th>\n    </tr>\n  </thead>\n  <tbody>\n    <tr>\n      <th></th>\n      <td>object</td>\n      <td>object</td>\n      <td>int64</td>\n      <td>object</td>\n      <td>object</td>\n      <td>float64</td>\n      <td>float64</td>\n      <td>float64</td>\n      <td>float64</td>\n      <td>float64</td>\n      <td>object</td>\n      <td>object</td>\n      <td>object</td>\n      <td>object</td>\n      <td>object</td>\n      <td>object</td>\n      <td>object</td>\n      <td>object</td>\n      <td>object</td>\n      <td>object</td>\n      <td>float64</td>\n      <td>float64</td>\n      <td>float64</td>\n      <td>float64</td>\n      <td>float64</td>\n      <td>object</td>\n      <td>float64</td>\n      <td>float64</td>\n      <td>object</td>\n      <td>bool</td>\n      <td>bool</td>\n      <td>bool</td>\n      <td>bool</td>\n      <td>bool</td>\n      <td>bool</td>\n      <td>bool</td>\n      <td>bool</td>\n      <td>bool</td>\n      <td>bool</td>\n      <td>bool</td>\n      <td>bool</td>\n      <td>bool</td>\n      <td>object</td>\n      <td>object</td>\n      <td>object</td>\n      <td>object</td>\n    </tr>\n    <tr>\n      <th></th>\n      <td>...</td>\n      <td>...</td>\n      <td>...</td>\n      <td>...</td>\n      <td>...</td>\n      <td>...</td>\n      <td>...</td>\n      <td>...</td>\n      <td>...</td>\n      <td>...</td>\n      <td>...</td>\n      <td>...</td>\n      <td>...</td>\n      <td>...</td>\n      <td>...</td>\n      <td>...</td>\n      <td>...</td>\n      <td>...</td>\n      <td>...</td>\n      <td>...</td>\n      <td>...</td>\n      <td>...</td>\n      <td>...</td>\n      <td>...</td>\n      <td>...</td>\n      <td>...</td>\n      <td>...</td>\n      <td>...</td>\n      <td>...</td>\n      <td>...</td>\n      <td>...</td>\n      <td>...</td>\n      <td>...</td>\n      <td>...</td>\n      <td>...</td>\n      <td>...</td>\n      <td>...</td>\n      <td>...</td>\n      <td>...</td>\n      <td>...</td>\n      <td>...</td>\n      <td>...</td>\n      <td>...</td>\n      <td>...</td>\n      <td>...</td>\n      <td>...</td>\n    </tr>\n    <tr>\n      <th></th>\n      <td>...</td>\n      <td>...</td>\n      <td>...</td>\n      <td>...</td>\n      <td>...</td>\n      <td>...</td>\n      <td>...</td>\n      <td>...</td>\n      <td>...</td>\n      <td>...</td>\n      <td>...</td>\n      <td>...</td>\n      <td>...</td>\n      <td>...</td>\n      <td>...</td>\n      <td>...</td>\n      <td>...</td>\n      <td>...</td>\n      <td>...</td>\n      <td>...</td>\n      <td>...</td>\n      <td>...</td>\n      <td>...</td>\n      <td>...</td>\n      <td>...</td>\n      <td>...</td>\n      <td>...</td>\n      <td>...</td>\n      <td>...</td>\n      <td>...</td>\n      <td>...</td>\n      <td>...</td>\n      <td>...</td>\n      <td>...</td>\n      <td>...</td>\n      <td>...</td>\n      <td>...</td>\n      <td>...</td>\n      <td>...</td>\n      <td>...</td>\n      <td>...</td>\n      <td>...</td>\n      <td>...</td>\n      <td>...</td>\n      <td>...</td>\n      <td>...</td>\n    </tr>\n    <tr>\n      <th></th>\n      <td>...</td>\n      <td>...</td>\n      <td>...</td>\n      <td>...</td>\n      <td>...</td>\n      <td>...</td>\n      <td>...</td>\n      <td>...</td>\n      <td>...</td>\n      <td>...</td>\n      <td>...</td>\n      <td>...</td>\n      <td>...</td>\n      <td>...</td>\n      <td>...</td>\n      <td>...</td>\n      <td>...</td>\n      <td>...</td>\n      <td>...</td>\n      <td>...</td>\n      <td>...</td>\n      <td>...</td>\n      <td>...</td>\n      <td>...</td>\n      <td>...</td>\n      <td>...</td>\n      <td>...</td>\n      <td>...</td>\n      <td>...</td>\n      <td>...</td>\n      <td>...</td>\n      <td>...</td>\n      <td>...</td>\n      <td>...</td>\n      <td>...</td>\n      <td>...</td>\n      <td>...</td>\n      <td>...</td>\n      <td>...</td>\n      <td>...</td>\n      <td>...</td>\n      <td>...</td>\n      <td>...</td>\n      <td>...</td>\n      <td>...</td>\n      <td>...</td>\n    </tr>\n  </tbody>\n</table>\n</div>\n<div>Dask Name: getitem, 7 graph layers</div>"
     },
     "execution_count": 34,
     "metadata": {},
     "output_type": "execute_result"
    }
   ],
   "source": [
    "df[df['End_Lng'].isna() & df['Start_Lng'].isna()]"
   ],
   "metadata": {
    "collapsed": false,
    "pycharm": {
     "name": "#%%\n"
    }
   }
  },
  {
   "cell_type": "code",
   "execution_count": 35,
   "outputs": [
    {
     "data": {
      "text/plain": "True"
     },
     "execution_count": 35,
     "metadata": {},
     "output_type": "execute_result"
    }
   ],
   "source": [
    "dd.compute(df['ID'].nunique() == df.shape[0])[0]"
   ],
   "metadata": {
    "collapsed": false,
    "pycharm": {
     "name": "#%%\n"
    }
   }
  }
 ],
 "metadata": {
  "kernelspec": {
   "display_name": "Python 3",
   "language": "python",
   "name": "python3"
  },
  "language_info": {
   "codemirror_mode": {
    "name": "ipython",
    "version": 2
   },
   "file_extension": ".py",
   "mimetype": "text/x-python",
   "name": "python",
   "nbconvert_exporter": "python",
   "pygments_lexer": "ipython2",
   "version": "2.7.6"
  }
 },
 "nbformat": 4,
 "nbformat_minor": 0
}