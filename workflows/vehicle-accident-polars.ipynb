{
 "cells": [
  {
   "cell_type": "code",
   "execution_count": 7,
   "metadata": {
    "collapsed": true,
    "pycharm": {
     "name": "#%%\n"
    }
   },
   "outputs": [],
   "source": [
    "import polars as pl"
   ]
  },
  {
   "cell_type": "markdown",
   "source": [
    "## EDA"
   ],
   "metadata": {
    "collapsed": false,
    "pycharm": {
     "name": "#%% md\n"
    }
   }
  },
  {
   "cell_type": "code",
   "execution_count": 8,
   "outputs": [],
   "source": [
    "accident_data = pl.read_csv(\"C:\\\\Users\\\\sarap\\\\Desktop\\\\BDMG-vehicle-accidents\\\\datasets\\\\US_Accidents_March23\\\\US_Accidents_March23.csv\")"
   ],
   "metadata": {
    "collapsed": false,
    "pycharm": {
     "name": "#%%\n"
    }
   }
  },
  {
   "cell_type": "code",
   "execution_count": 31,
   "outputs": [
    {
     "name": "stdout",
     "output_type": "stream",
     "text": [
      "Null values per variable\n",
      "ID: 0, (0.0%)\n",
      "Source: 0, (0.0%)\n",
      "Severity: 0, (0.0%)\n",
      "Start_Time: 0, (0.0%)\n",
      "End_Time: 0, (0.0%)\n",
      "Start_Lat: 0, (0.0%)\n",
      "Start_Lng: 0, (0.0%)\n",
      "End_Lat: 3402762, (44.02935461106149%)\n",
      "End_Lng: 3402762, (44.02935461106149%)\n",
      "Distance(mi): 0, (0.0%)\n",
      "Description: 5, (6.469649451102002e-05%)\n",
      "Street: 10869, (0.1406372397680553%)\n",
      "City: 253, (0.003273642622257613%)\n",
      "County: 0, (0.0%)\n",
      "State: 0, (0.0%)\n",
      "Zipcode: 1915, (0.024778757397720667%)\n",
      "Country: 0, (0.0%)\n",
      "Timezone: 7808, (0.10103004582840884%)\n",
      "Airport_Code: 22635, (0.2928810306513876%)\n",
      "Weather_Timestamp: 120228, (1.5556660284141828%)\n",
      "Temperature(F): 163853, (2.1201429430228327%)\n",
      "Wind_Chill(F): 1999019, (25.86590435218494%)\n",
      "Humidity(%): 174144, (2.253301268025414%)\n",
      "Pressure(in): 140679, (1.820287630263157%)\n",
      "Visibility(mi): 177098, (2.291523956982524%)\n",
      "Wind_Direction: 175206, (2.2670428034595544%)\n",
      "Wind_Speed(mph): 571233, (7.391354529802699%)\n",
      "Precipitation(in): 2203586, (28.512857910712107%)\n",
      "Weather_Condition: 173459, (2.244437848277404%)\n",
      "Amenity: 0, (0.0%)\n",
      "Bump: 0, (0.0%)\n",
      "Crossing: 0, (0.0%)\n",
      "Give_Way: 0, (0.0%)\n",
      "Junction: 0, (0.0%)\n",
      "No_Exit: 0, (0.0%)\n",
      "Railway: 0, (0.0%)\n",
      "Roundabout: 0, (0.0%)\n",
      "Station: 0, (0.0%)\n",
      "Stop: 0, (0.0%)\n",
      "Traffic_Calming: 0, (0.0%)\n",
      "Traffic_Signal: 0, (0.0%)\n",
      "Turning_Loop: 0, (0.0%)\n",
      "Sunrise_Sunset: 23246, (0.30078694228063424%)\n",
      "Civil_Twilight: 23246, (0.30078694228063424%)\n",
      "Nautical_Twilight: 23246, (0.30078694228063424%)\n",
      "Astronomical_Twilight: 23246, (0.30078694228063424%)\n"
     ]
    }
   ],
   "source": [
    "#EDA\n",
    "#print number and percentage of null entries per variable\n",
    "print('Null values per variable')\n",
    "for column in accident_data.columns:\n",
    "    print(f'{column}: {accident_data[column].null_count()}, ({accident_data[column].null_count()/len(accident_data)*100}%)')\n",
    "    # print('{}: {} ({}%)'.format(column,accident_data.select(column).null_count(),(accident_data.select(column).null_count()/len(accident_data))*100))"
   ],
   "metadata": {
    "collapsed": false,
    "pycharm": {
     "name": "#%%\n"
    }
   }
  },
  {
   "cell_type": "code",
   "execution_count": 32,
   "outputs": [
    {
     "data": {
      "text/plain": "shape: (7, 47)\n┌────────────┬──────────┬─────────┬────────────┬─────┬────────────────┬────────────────┬───────────────────┬───────────────────────┐\n│ describe   ┆ ID       ┆ Source  ┆ Severity   ┆ ... ┆ Sunrise_Sunset ┆ Civil_Twilight ┆ Nautical_Twilight ┆ Astronomical_Twilight │\n│ ---        ┆ ---      ┆ ---     ┆ ---        ┆     ┆ ---            ┆ ---            ┆ ---               ┆ ---                   │\n│ str        ┆ str      ┆ str     ┆ f64        ┆     ┆ str            ┆ str            ┆ str               ┆ str                   │\n╞════════════╪══════════╪═════════╪════════════╪═════╪════════════════╪════════════════╪═══════════════════╪═══════════════════════╡\n│ count      ┆ 7728394  ┆ 7728394 ┆ 7.728394e6 ┆ ... ┆ 7728394        ┆ 7728394        ┆ 7728394           ┆ 7728394               │\n│ null_count ┆ 0        ┆ 0       ┆ 0.0        ┆ ... ┆ 23246          ┆ 23246          ┆ 23246             ┆ 23246                 │\n│ mean       ┆ null     ┆ null    ┆ 2.212384   ┆ ... ┆ null           ┆ null           ┆ null              ┆ null                  │\n│ std        ┆ null     ┆ null    ┆ 0.487531   ┆ ... ┆ null           ┆ null           ┆ null              ┆ null                  │\n│ min        ┆ A-1      ┆ Source1 ┆ 1.0        ┆ ... ┆ Day            ┆ Day            ┆ Day               ┆ Day                   │\n│ max        ┆ A-999999 ┆ Source3 ┆ 4.0        ┆ ... ┆ Night          ┆ Night          ┆ Night             ┆ Night                 │\n│ median     ┆ null     ┆ null    ┆ 2.0        ┆ ... ┆ null           ┆ null           ┆ null              ┆ null                  │\n└────────────┴──────────┴─────────┴────────────┴─────┴────────────────┴────────────────┴───────────────────┴───────────────────────┘",
      "text/html": "<div><style>\n.dataframe > thead > tr > th,\n.dataframe > tbody > tr > td {\n  text-align: right;\n}\n</style>\n<small>shape: (7, 47)</small><table border=\"1\" class=\"dataframe\"><thead><tr><th>describe</th><th>ID</th><th>Source</th><th>Severity</th><th>Start_Time</th><th>End_Time</th><th>Start_Lat</th><th>Start_Lng</th><th>End_Lat</th><th>End_Lng</th><th>Distance(mi)</th><th>Description</th><th>Street</th><th>City</th><th>County</th><th>State</th><th>Zipcode</th><th>Country</th><th>Timezone</th><th>Airport_Code</th><th>Weather_Timestamp</th><th>Temperature(F)</th><th>Wind_Chill(F)</th><th>Humidity(%)</th><th>Pressure(in)</th><th>Visibility(mi)</th><th>Wind_Direction</th><th>Wind_Speed(mph)</th><th>Precipitation(in)</th><th>Weather_Condition</th><th>Amenity</th><th>Bump</th><th>Crossing</th><th>Give_Way</th><th>Junction</th><th>No_Exit</th><th>Railway</th><th>Roundabout</th><th>Station</th><th>Stop</th><th>Traffic_Calming</th><th>Traffic_Signal</th><th>Turning_Loop</th><th>Sunrise_Sunset</th><th>Civil_Twilight</th><th>Nautical_Twilight</th><th>Astronomical_Twilight</th></tr><tr><td>str</td><td>str</td><td>str</td><td>f64</td><td>str</td><td>str</td><td>f64</td><td>f64</td><td>str</td><td>str</td><td>f64</td><td>str</td><td>str</td><td>str</td><td>str</td><td>str</td><td>str</td><td>str</td><td>str</td><td>str</td><td>str</td><td>f64</td><td>f64</td><td>f64</td><td>f64</td><td>f64</td><td>str</td><td>f64</td><td>f64</td><td>str</td><td>f64</td><td>f64</td><td>f64</td><td>f64</td><td>f64</td><td>f64</td><td>f64</td><td>f64</td><td>f64</td><td>f64</td><td>f64</td><td>f64</td><td>f64</td><td>str</td><td>str</td><td>str</td><td>str</td></tr></thead><tbody><tr><td>&quot;count&quot;</td><td>&quot;7728394&quot;</td><td>&quot;7728394&quot;</td><td>7.728394e6</td><td>&quot;7728394&quot;</td><td>&quot;7728394&quot;</td><td>7.728394e6</td><td>7.728394e6</td><td>&quot;7728394&quot;</td><td>&quot;7728394&quot;</td><td>7.728394e6</td><td>&quot;7728394&quot;</td><td>&quot;7728394&quot;</td><td>&quot;7728394&quot;</td><td>&quot;7728394&quot;</td><td>&quot;7728394&quot;</td><td>&quot;7728394&quot;</td><td>&quot;7728394&quot;</td><td>&quot;7728394&quot;</td><td>&quot;7728394&quot;</td><td>&quot;7728394&quot;</td><td>7.728394e6</td><td>7.728394e6</td><td>7.728394e6</td><td>7.728394e6</td><td>7.728394e6</td><td>&quot;7728394&quot;</td><td>7.728394e6</td><td>7.728394e6</td><td>&quot;7728394&quot;</td><td>7.728394e6</td><td>7.728394e6</td><td>7.728394e6</td><td>7.728394e6</td><td>7.728394e6</td><td>7.728394e6</td><td>7.728394e6</td><td>7.728394e6</td><td>7.728394e6</td><td>7.728394e6</td><td>7.728394e6</td><td>7.728394e6</td><td>7.728394e6</td><td>&quot;7728394&quot;</td><td>&quot;7728394&quot;</td><td>&quot;7728394&quot;</td><td>&quot;7728394&quot;</td></tr><tr><td>&quot;null_count&quot;</td><td>&quot;0&quot;</td><td>&quot;0&quot;</td><td>0.0</td><td>&quot;0&quot;</td><td>&quot;0&quot;</td><td>0.0</td><td>0.0</td><td>&quot;3402762&quot;</td><td>&quot;3402762&quot;</td><td>0.0</td><td>&quot;5&quot;</td><td>&quot;10869&quot;</td><td>&quot;253&quot;</td><td>&quot;0&quot;</td><td>&quot;0&quot;</td><td>&quot;1915&quot;</td><td>&quot;0&quot;</td><td>&quot;7808&quot;</td><td>&quot;22635&quot;</td><td>&quot;120228&quot;</td><td>163853.0</td><td>1.999019e6</td><td>174144.0</td><td>140679.0</td><td>177098.0</td><td>&quot;175206&quot;</td><td>571233.0</td><td>2.203586e6</td><td>&quot;173459&quot;</td><td>0.0</td><td>0.0</td><td>0.0</td><td>0.0</td><td>0.0</td><td>0.0</td><td>0.0</td><td>0.0</td><td>0.0</td><td>0.0</td><td>0.0</td><td>0.0</td><td>0.0</td><td>&quot;23246&quot;</td><td>&quot;23246&quot;</td><td>&quot;23246&quot;</td><td>&quot;23246&quot;</td></tr><tr><td>&quot;mean&quot;</td><td>null</td><td>null</td><td>2.212384</td><td>null</td><td>null</td><td>36.201195</td><td>-94.702545</td><td>null</td><td>null</td><td>0.561842</td><td>null</td><td>null</td><td>null</td><td>null</td><td>null</td><td>null</td><td>null</td><td>null</td><td>null</td><td>null</td><td>61.663286</td><td>58.251048</td><td>64.831041</td><td>29.538986</td><td>9.090376</td><td>null</td><td>7.68549</td><td>0.008407</td><td>null</td><td>0.012465</td><td>0.000455</td><td>0.113059</td><td>0.004733</td><td>0.073928</td><td>0.002529</td><td>0.008667</td><td>0.000032</td><td>0.026125</td><td>0.027738</td><td>0.000983</td><td>0.147996</td><td>0.0</td><td>null</td><td>null</td><td>null</td><td>null</td></tr><tr><td>&quot;std&quot;</td><td>null</td><td>null</td><td>0.487531</td><td>null</td><td>null</td><td>5.076079</td><td>17.391756</td><td>null</td><td>null</td><td>1.776811</td><td>null</td><td>null</td><td>null</td><td>null</td><td>null</td><td>null</td><td>null</td><td>null</td><td>null</td><td>null</td><td>19.013653</td><td>22.389832</td><td>22.820968</td><td>1.00619</td><td>2.688316</td><td>null</td><td>5.424983</td><td>0.110225</td><td>null</td><td>0.11082</td><td>0.021314</td><td>0.316395</td><td>0.068505</td><td>0.26202</td><td>0.050171</td><td>0.092503</td><td>0.005676</td><td>0.159627</td><td>0.164643</td><td>0.031326</td><td>0.35624</td><td>0.0</td><td>null</td><td>null</td><td>null</td><td>null</td></tr><tr><td>&quot;min&quot;</td><td>&quot;A-1&quot;</td><td>&quot;Source1&quot;</td><td>1.0</td><td>&quot;2016-01-14 20:...</td><td>&quot;2016-02-08 06:...</td><td>24.5548</td><td>-124.623833</td><td>&quot;24.566013&quot;</td><td>&quot;-100.00023&quot;</td><td>0.0</td><td>&quot; 1039 GOLDEN B...</td><td>&quot; 1 1/2 Ave&quot;</td><td>&quot;Aaronsburg&quot;</td><td>&quot;Abbeville&quot;</td><td>&quot;AL&quot;</td><td>&quot;01001&quot;</td><td>&quot;US&quot;</td><td>&quot;US/Central&quot;</td><td>&quot;K01M&quot;</td><td>&quot;2016-01-14 19:...</td><td>-89.0</td><td>-89.0</td><td>1.0</td><td>0.0</td><td>0.0</td><td>&quot;CALM&quot;</td><td>0.0</td><td>0.0</td><td>&quot;Blowing Dust&quot;</td><td>0.0</td><td>0.0</td><td>0.0</td><td>0.0</td><td>0.0</td><td>0.0</td><td>0.0</td><td>0.0</td><td>0.0</td><td>0.0</td><td>0.0</td><td>0.0</td><td>0.0</td><td>&quot;Day&quot;</td><td>&quot;Day&quot;</td><td>&quot;Day&quot;</td><td>&quot;Day&quot;</td></tr><tr><td>&quot;max&quot;</td><td>&quot;A-999999&quot;</td><td>&quot;Source3&quot;</td><td>4.0</td><td>&quot;2023-03-31 23:...</td><td>&quot;2023-03-31 23:...</td><td>49.002201</td><td>-67.113167</td><td>&quot;49.075&quot;</td><td>&quot;-99.999554&quot;</td><td>441.75</td><td>&quot; VEHICLE CRASH...</td><td>&quot;william Carey ...</td><td>&quot;Zwingle&quot;</td><td>&quot;Ziebach&quot;</td><td>&quot;WY&quot;</td><td>&quot;99403&quot;</td><td>&quot;US&quot;</td><td>&quot;US/Pacific&quot;</td><td>&quot;KZZV&quot;</td><td>&quot;2023-03-31 23:...</td><td>207.0</td><td>207.0</td><td>100.0</td><td>58.63</td><td>140.0</td><td>&quot;West&quot;</td><td>1087.0</td><td>36.47</td><td>&quot;Wintry Mix / W...</td><td>1.0</td><td>1.0</td><td>1.0</td><td>1.0</td><td>1.0</td><td>1.0</td><td>1.0</td><td>1.0</td><td>1.0</td><td>1.0</td><td>1.0</td><td>1.0</td><td>0.0</td><td>&quot;Night&quot;</td><td>&quot;Night&quot;</td><td>&quot;Night&quot;</td><td>&quot;Night&quot;</td></tr><tr><td>&quot;median&quot;</td><td>null</td><td>null</td><td>2.0</td><td>null</td><td>null</td><td>35.823974</td><td>-87.766616</td><td>null</td><td>null</td><td>0.03</td><td>null</td><td>null</td><td>null</td><td>null</td><td>null</td><td>null</td><td>null</td><td>null</td><td>null</td><td>null</td><td>64.0</td><td>62.0</td><td>67.0</td><td>29.86</td><td>10.0</td><td>null</td><td>7.0</td><td>0.0</td><td>null</td><td>0.0</td><td>0.0</td><td>0.0</td><td>0.0</td><td>0.0</td><td>0.0</td><td>0.0</td><td>0.0</td><td>0.0</td><td>0.0</td><td>0.0</td><td>0.0</td><td>0.0</td><td>null</td><td>null</td><td>null</td><td>null</td></tr></tbody></table></div>"
     },
     "execution_count": 32,
     "metadata": {},
     "output_type": "execute_result"
    }
   ],
   "source": [
    "accident_data.describe()"
   ],
   "metadata": {
    "collapsed": false,
    "pycharm": {
     "name": "#%%\n"
    }
   }
  }
 ],
 "metadata": {
  "kernelspec": {
   "display_name": "Python 3",
   "language": "python",
   "name": "python3"
  },
  "language_info": {
   "codemirror_mode": {
    "name": "ipython",
    "version": 2
   },
   "file_extension": ".py",
   "mimetype": "text/x-python",
   "name": "python",
   "nbconvert_exporter": "python",
   "pygments_lexer": "ipython2",
   "version": "2.7.6"
  }
 },
 "nbformat": 4,
 "nbformat_minor": 0
}