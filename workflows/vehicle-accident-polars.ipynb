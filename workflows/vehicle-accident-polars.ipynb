{
 "cells": [
  {
   "cell_type": "code",
   "execution_count": 1,
   "metadata": {
    "collapsed": true,
    "pycharm": {
     "name": "#%%\n"
    }
   },
   "outputs": [],
   "source": [
    "import polars as pl"
   ]
  },
  {
   "cell_type": "markdown",
   "source": [
    "## EDA"
   ],
   "metadata": {
    "collapsed": false,
    "pycharm": {
     "name": "#%% md\n"
    }
   }
  },
  {
   "cell_type": "code",
   "execution_count": 18,
   "outputs": [],
   "source": [
    "accident_data = pl.read_csv(\"C:\\\\Users\\\\sarap\\\\Desktop\\\\BDMG-vehicle-accidents\\\\datasets\\\\US_Accidents_March23\\\\US_Accidents_March23.csv\")"
   ],
   "metadata": {
    "collapsed": false,
    "pycharm": {
     "name": "#%%\n"
    }
   }
  },
  {
   "cell_type": "code",
   "execution_count": 31,
   "outputs": [
    {
     "name": "stdout",
     "output_type": "stream",
     "text": [
      "Null values per variable\n",
      "ID: 0, (0.0%)\n",
      "Source: 0, (0.0%)\n",
      "Severity: 0, (0.0%)\n",
      "Start_Time: 0, (0.0%)\n",
      "End_Time: 0, (0.0%)\n",
      "Start_Lat: 0, (0.0%)\n",
      "Start_Lng: 0, (0.0%)\n",
      "End_Lat: 3402762, (44.02935461106149%)\n",
      "End_Lng: 3402762, (44.02935461106149%)\n",
      "Distance(mi): 0, (0.0%)\n",
      "Description: 5, (6.469649451102002e-05%)\n",
      "Street: 10869, (0.1406372397680553%)\n",
      "City: 253, (0.003273642622257613%)\n",
      "County: 0, (0.0%)\n",
      "State: 0, (0.0%)\n",
      "Zipcode: 1915, (0.024778757397720667%)\n",
      "Country: 0, (0.0%)\n",
      "Timezone: 7808, (0.10103004582840884%)\n",
      "Airport_Code: 22635, (0.2928810306513876%)\n",
      "Weather_Timestamp: 120228, (1.5556660284141828%)\n",
      "Temperature(F): 163853, (2.1201429430228327%)\n",
      "Wind_Chill(F): 1999019, (25.86590435218494%)\n",
      "Humidity(%): 174144, (2.253301268025414%)\n",
      "Pressure(in): 140679, (1.820287630263157%)\n",
      "Visibility(mi): 177098, (2.291523956982524%)\n",
      "Wind_Direction: 175206, (2.2670428034595544%)\n",
      "Wind_Speed(mph): 571233, (7.391354529802699%)\n",
      "Precipitation(in): 2203586, (28.512857910712107%)\n",
      "Weather_Condition: 173459, (2.244437848277404%)\n",
      "Amenity: 0, (0.0%)\n",
      "Bump: 0, (0.0%)\n",
      "Crossing: 0, (0.0%)\n",
      "Give_Way: 0, (0.0%)\n",
      "Junction: 0, (0.0%)\n",
      "No_Exit: 0, (0.0%)\n",
      "Railway: 0, (0.0%)\n",
      "Roundabout: 0, (0.0%)\n",
      "Station: 0, (0.0%)\n",
      "Stop: 0, (0.0%)\n",
      "Traffic_Calming: 0, (0.0%)\n",
      "Traffic_Signal: 0, (0.0%)\n",
      "Turning_Loop: 0, (0.0%)\n",
      "Sunrise_Sunset: 23246, (0.30078694228063424%)\n",
      "Civil_Twilight: 23246, (0.30078694228063424%)\n",
      "Nautical_Twilight: 23246, (0.30078694228063424%)\n",
      "Astronomical_Twilight: 23246, (0.30078694228063424%)\n"
     ]
    }
   ],
   "source": [
    "#EDA\n",
    "#print number and percentage of null entries per variable\n",
    "print('Null values per variable')\n",
    "for column in accident_data.columns:\n",
    "    print(f'{column}: {accident_data[column].null_count()}, ({accident_data[column].null_count()/len(accident_data)*100}%)')\n",
    "    # print('{}: {} ({}%)'.format(column,accident_data.select(column).null_count(),(accident_data.select(column).null_count()/len(accident_data))*100))"
   ],
   "metadata": {
    "collapsed": false,
    "pycharm": {
     "name": "#%%\n"
    }
   }
  },
  {
   "cell_type": "code",
   "execution_count": 4,
   "outputs": [
    {
     "data": {
      "text/plain": "shape: (7, 47)\n┌────────────┬──────────┬─────────┬────────────┬─────┬────────────────┬────────────────┬───────────────────┬───────────────────────┐\n│ describe   ┆ ID       ┆ Source  ┆ Severity   ┆ ... ┆ Sunrise_Sunset ┆ Civil_Twilight ┆ Nautical_Twilight ┆ Astronomical_Twilight │\n│ ---        ┆ ---      ┆ ---     ┆ ---        ┆     ┆ ---            ┆ ---            ┆ ---               ┆ ---                   │\n│ str        ┆ str      ┆ str     ┆ f64        ┆     ┆ str            ┆ str            ┆ str               ┆ str                   │\n╞════════════╪══════════╪═════════╪════════════╪═════╪════════════════╪════════════════╪═══════════════════╪═══════════════════════╡\n│ count      ┆ 7728394  ┆ 7728394 ┆ 7.728394e6 ┆ ... ┆ 7728394        ┆ 7728394        ┆ 7728394           ┆ 7728394               │\n│ null_count ┆ 0        ┆ 0       ┆ 0.0        ┆ ... ┆ 23246          ┆ 23246          ┆ 23246             ┆ 23246                 │\n│ mean       ┆ null     ┆ null    ┆ 2.212384   ┆ ... ┆ null           ┆ null           ┆ null              ┆ null                  │\n│ std        ┆ null     ┆ null    ┆ 0.487531   ┆ ... ┆ null           ┆ null           ┆ null              ┆ null                  │\n│ min        ┆ A-1      ┆ Source1 ┆ 1.0        ┆ ... ┆ Day            ┆ Day            ┆ Day               ┆ Day                   │\n│ max        ┆ A-999999 ┆ Source3 ┆ 4.0        ┆ ... ┆ Night          ┆ Night          ┆ Night             ┆ Night                 │\n│ median     ┆ null     ┆ null    ┆ 2.0        ┆ ... ┆ null           ┆ null           ┆ null              ┆ null                  │\n└────────────┴──────────┴─────────┴────────────┴─────┴────────────────┴────────────────┴───────────────────┴───────────────────────┘",
      "text/html": "<div><style>\n.dataframe > thead > tr > th,\n.dataframe > tbody > tr > td {\n  text-align: right;\n}\n</style>\n<small>shape: (7, 47)</small><table border=\"1\" class=\"dataframe\"><thead><tr><th>describe</th><th>ID</th><th>Source</th><th>Severity</th><th>Start_Time</th><th>End_Time</th><th>Start_Lat</th><th>Start_Lng</th><th>End_Lat</th><th>End_Lng</th><th>Distance(mi)</th><th>Description</th><th>Street</th><th>City</th><th>County</th><th>State</th><th>Zipcode</th><th>Country</th><th>Timezone</th><th>Airport_Code</th><th>Weather_Timestamp</th><th>Temperature(F)</th><th>Wind_Chill(F)</th><th>Humidity(%)</th><th>Pressure(in)</th><th>Visibility(mi)</th><th>Wind_Direction</th><th>Wind_Speed(mph)</th><th>Precipitation(in)</th><th>Weather_Condition</th><th>Amenity</th><th>Bump</th><th>Crossing</th><th>Give_Way</th><th>Junction</th><th>No_Exit</th><th>Railway</th><th>Roundabout</th><th>Station</th><th>Stop</th><th>Traffic_Calming</th><th>Traffic_Signal</th><th>Turning_Loop</th><th>Sunrise_Sunset</th><th>Civil_Twilight</th><th>Nautical_Twilight</th><th>Astronomical_Twilight</th></tr><tr><td>str</td><td>str</td><td>str</td><td>f64</td><td>str</td><td>str</td><td>f64</td><td>f64</td><td>str</td><td>str</td><td>f64</td><td>str</td><td>str</td><td>str</td><td>str</td><td>str</td><td>str</td><td>str</td><td>str</td><td>str</td><td>str</td><td>f64</td><td>f64</td><td>f64</td><td>f64</td><td>f64</td><td>str</td><td>f64</td><td>f64</td><td>str</td><td>f64</td><td>f64</td><td>f64</td><td>f64</td><td>f64</td><td>f64</td><td>f64</td><td>f64</td><td>f64</td><td>f64</td><td>f64</td><td>f64</td><td>f64</td><td>str</td><td>str</td><td>str</td><td>str</td></tr></thead><tbody><tr><td>&quot;count&quot;</td><td>&quot;7728394&quot;</td><td>&quot;7728394&quot;</td><td>7.728394e6</td><td>&quot;7728394&quot;</td><td>&quot;7728394&quot;</td><td>7.728394e6</td><td>7.728394e6</td><td>&quot;7728394&quot;</td><td>&quot;7728394&quot;</td><td>7.728394e6</td><td>&quot;7728394&quot;</td><td>&quot;7728394&quot;</td><td>&quot;7728394&quot;</td><td>&quot;7728394&quot;</td><td>&quot;7728394&quot;</td><td>&quot;7728394&quot;</td><td>&quot;7728394&quot;</td><td>&quot;7728394&quot;</td><td>&quot;7728394&quot;</td><td>&quot;7728394&quot;</td><td>7.728394e6</td><td>7.728394e6</td><td>7.728394e6</td><td>7.728394e6</td><td>7.728394e6</td><td>&quot;7728394&quot;</td><td>7.728394e6</td><td>7.728394e6</td><td>&quot;7728394&quot;</td><td>7.728394e6</td><td>7.728394e6</td><td>7.728394e6</td><td>7.728394e6</td><td>7.728394e6</td><td>7.728394e6</td><td>7.728394e6</td><td>7.728394e6</td><td>7.728394e6</td><td>7.728394e6</td><td>7.728394e6</td><td>7.728394e6</td><td>7.728394e6</td><td>&quot;7728394&quot;</td><td>&quot;7728394&quot;</td><td>&quot;7728394&quot;</td><td>&quot;7728394&quot;</td></tr><tr><td>&quot;null_count&quot;</td><td>&quot;0&quot;</td><td>&quot;0&quot;</td><td>0.0</td><td>&quot;0&quot;</td><td>&quot;0&quot;</td><td>0.0</td><td>0.0</td><td>&quot;3402762&quot;</td><td>&quot;3402762&quot;</td><td>0.0</td><td>&quot;5&quot;</td><td>&quot;10869&quot;</td><td>&quot;253&quot;</td><td>&quot;0&quot;</td><td>&quot;0&quot;</td><td>&quot;1915&quot;</td><td>&quot;0&quot;</td><td>&quot;7808&quot;</td><td>&quot;22635&quot;</td><td>&quot;120228&quot;</td><td>163853.0</td><td>1.999019e6</td><td>174144.0</td><td>140679.0</td><td>177098.0</td><td>&quot;175206&quot;</td><td>571233.0</td><td>2.203586e6</td><td>&quot;173459&quot;</td><td>0.0</td><td>0.0</td><td>0.0</td><td>0.0</td><td>0.0</td><td>0.0</td><td>0.0</td><td>0.0</td><td>0.0</td><td>0.0</td><td>0.0</td><td>0.0</td><td>0.0</td><td>&quot;23246&quot;</td><td>&quot;23246&quot;</td><td>&quot;23246&quot;</td><td>&quot;23246&quot;</td></tr><tr><td>&quot;mean&quot;</td><td>null</td><td>null</td><td>2.212384</td><td>null</td><td>null</td><td>36.201195</td><td>-94.702545</td><td>null</td><td>null</td><td>0.561842</td><td>null</td><td>null</td><td>null</td><td>null</td><td>null</td><td>null</td><td>null</td><td>null</td><td>null</td><td>null</td><td>61.663286</td><td>58.251048</td><td>64.831041</td><td>29.538986</td><td>9.090376</td><td>null</td><td>7.68549</td><td>0.008407</td><td>null</td><td>0.012465</td><td>0.000455</td><td>0.113059</td><td>0.004733</td><td>0.073928</td><td>0.002529</td><td>0.008667</td><td>0.000032</td><td>0.026125</td><td>0.027738</td><td>0.000983</td><td>0.147996</td><td>0.0</td><td>null</td><td>null</td><td>null</td><td>null</td></tr><tr><td>&quot;std&quot;</td><td>null</td><td>null</td><td>0.487531</td><td>null</td><td>null</td><td>5.076079</td><td>17.391756</td><td>null</td><td>null</td><td>1.776811</td><td>null</td><td>null</td><td>null</td><td>null</td><td>null</td><td>null</td><td>null</td><td>null</td><td>null</td><td>null</td><td>19.013653</td><td>22.389832</td><td>22.820968</td><td>1.00619</td><td>2.688316</td><td>null</td><td>5.424983</td><td>0.110225</td><td>null</td><td>0.11082</td><td>0.021314</td><td>0.316395</td><td>0.068505</td><td>0.26202</td><td>0.050171</td><td>0.092503</td><td>0.005676</td><td>0.159627</td><td>0.164643</td><td>0.031326</td><td>0.35624</td><td>0.0</td><td>null</td><td>null</td><td>null</td><td>null</td></tr><tr><td>&quot;min&quot;</td><td>&quot;A-1&quot;</td><td>&quot;Source1&quot;</td><td>1.0</td><td>&quot;2016-01-14 20:...</td><td>&quot;2016-02-08 06:...</td><td>24.5548</td><td>-124.623833</td><td>&quot;24.566013&quot;</td><td>&quot;-100.00023&quot;</td><td>0.0</td><td>&quot; 1039 GOLDEN B...</td><td>&quot; 1 1/2 Ave&quot;</td><td>&quot;Aaronsburg&quot;</td><td>&quot;Abbeville&quot;</td><td>&quot;AL&quot;</td><td>&quot;01001&quot;</td><td>&quot;US&quot;</td><td>&quot;US/Central&quot;</td><td>&quot;K01M&quot;</td><td>&quot;2016-01-14 19:...</td><td>-89.0</td><td>-89.0</td><td>1.0</td><td>0.0</td><td>0.0</td><td>&quot;CALM&quot;</td><td>0.0</td><td>0.0</td><td>&quot;Blowing Dust&quot;</td><td>0.0</td><td>0.0</td><td>0.0</td><td>0.0</td><td>0.0</td><td>0.0</td><td>0.0</td><td>0.0</td><td>0.0</td><td>0.0</td><td>0.0</td><td>0.0</td><td>0.0</td><td>&quot;Day&quot;</td><td>&quot;Day&quot;</td><td>&quot;Day&quot;</td><td>&quot;Day&quot;</td></tr><tr><td>&quot;max&quot;</td><td>&quot;A-999999&quot;</td><td>&quot;Source3&quot;</td><td>4.0</td><td>&quot;2023-03-31 23:...</td><td>&quot;2023-03-31 23:...</td><td>49.002201</td><td>-67.113167</td><td>&quot;49.075&quot;</td><td>&quot;-99.999554&quot;</td><td>441.75</td><td>&quot; VEHICLE CRASH...</td><td>&quot;william Carey ...</td><td>&quot;Zwingle&quot;</td><td>&quot;Ziebach&quot;</td><td>&quot;WY&quot;</td><td>&quot;99403&quot;</td><td>&quot;US&quot;</td><td>&quot;US/Pacific&quot;</td><td>&quot;KZZV&quot;</td><td>&quot;2023-03-31 23:...</td><td>207.0</td><td>207.0</td><td>100.0</td><td>58.63</td><td>140.0</td><td>&quot;West&quot;</td><td>1087.0</td><td>36.47</td><td>&quot;Wintry Mix / W...</td><td>1.0</td><td>1.0</td><td>1.0</td><td>1.0</td><td>1.0</td><td>1.0</td><td>1.0</td><td>1.0</td><td>1.0</td><td>1.0</td><td>1.0</td><td>1.0</td><td>0.0</td><td>&quot;Night&quot;</td><td>&quot;Night&quot;</td><td>&quot;Night&quot;</td><td>&quot;Night&quot;</td></tr><tr><td>&quot;median&quot;</td><td>null</td><td>null</td><td>2.0</td><td>null</td><td>null</td><td>35.823974</td><td>-87.766616</td><td>null</td><td>null</td><td>0.03</td><td>null</td><td>null</td><td>null</td><td>null</td><td>null</td><td>null</td><td>null</td><td>null</td><td>null</td><td>null</td><td>64.0</td><td>62.0</td><td>67.0</td><td>29.86</td><td>10.0</td><td>null</td><td>7.0</td><td>0.0</td><td>null</td><td>0.0</td><td>0.0</td><td>0.0</td><td>0.0</td><td>0.0</td><td>0.0</td><td>0.0</td><td>0.0</td><td>0.0</td><td>0.0</td><td>0.0</td><td>0.0</td><td>0.0</td><td>null</td><td>null</td><td>null</td><td>null</td></tr></tbody></table></div>"
     },
     "execution_count": 4,
     "metadata": {},
     "output_type": "execute_result"
    }
   ],
   "source": [
    "accident_data.describe()"
   ],
   "metadata": {
    "collapsed": false,
    "pycharm": {
     "name": "#%%\n"
    }
   }
  },
  {
   "cell_type": "code",
   "execution_count": 5,
   "outputs": [
    {
     "data": {
      "text/plain": "Utf8"
     },
     "execution_count": 5,
     "metadata": {},
     "output_type": "execute_result"
    }
   ],
   "source": [
    "accident_data['End_Lat'].dtype"
   ],
   "metadata": {
    "collapsed": false,
    "pycharm": {
     "name": "#%%\n"
    }
   }
  },
  {
   "cell_type": "code",
   "execution_count": 7,
   "outputs": [
    {
     "data": {
      "text/plain": "shape: (397798, 46)\n┌───────────┬─────────┬──────────┬─────────────────────┬─────┬────────────────┬────────────────┬───────────────────┬───────────────────────┐\n│ ID        ┆ Source  ┆ Severity ┆ Start_Time          ┆ ... ┆ Sunrise_Sunset ┆ Civil_Twilight ┆ Nautical_Twilight ┆ Astronomical_Twilight │\n│ ---       ┆ ---     ┆ ---      ┆ ---                 ┆     ┆ ---            ┆ ---            ┆ ---               ┆ ---                   │\n│ str       ┆ str     ┆ i64      ┆ str                 ┆     ┆ str            ┆ str            ┆ str               ┆ str                   │\n╞═══════════╪═════════╪══════════╪═════════════════════╪═════╪════════════════╪════════════════╪═══════════════════╪═══════════════════════╡\n│ A-3412680 ┆ Source1 ┆ 2        ┆ 2016-02-09 08:18:58 ┆ ... ┆ Day            ┆ Day            ┆ Day               ┆ Day                   │\n│ A-3412705 ┆ Source1 ┆ 3        ┆ 2016-02-10 09:08:29 ┆ ... ┆ Day            ┆ Day            ┆ Day               ┆ Day                   │\n│ A-3412748 ┆ Source1 ┆ 2        ┆ 2016-02-11 08:47:51 ┆ ... ┆ Day            ┆ Day            ┆ Day               ┆ Day                   │\n│ A-3412759 ┆ Source1 ┆ 2        ┆ 2016-02-11 13:25:43 ┆ ... ┆ Day            ┆ Day            ┆ Day               ┆ Day                   │\n│ ...       ┆ ...     ┆ ...      ┆ ...                 ┆ ... ┆ ...            ┆ ...            ┆ ...               ┆ ...                   │\n│ A-7777738 ┆ Source1 ┆ 2        ┆ 2019-08-23 15:24:47 ┆ ... ┆ Day            ┆ Day            ┆ Day               ┆ Day                   │\n│ A-7777751 ┆ Source1 ┆ 2        ┆ 2019-08-23 16:43:59 ┆ ... ┆ Day            ┆ Day            ┆ Day               ┆ Day                   │\n│ A-7777753 ┆ Source1 ┆ 2        ┆ 2019-08-23 17:40:12 ┆ ... ┆ Day            ┆ Day            ┆ Day               ┆ Day                   │\n│ A-7777756 ┆ Source1 ┆ 2        ┆ 2019-08-23 18:30:23 ┆ ... ┆ Day            ┆ Day            ┆ Day               ┆ Day                   │\n└───────────┴─────────┴──────────┴─────────────────────┴─────┴────────────────┴────────────────┴───────────────────┴───────────────────────┘",
      "text/html": "<div><style>\n.dataframe > thead > tr > th,\n.dataframe > tbody > tr > td {\n  text-align: right;\n}\n</style>\n<small>shape: (397798, 46)</small><table border=\"1\" class=\"dataframe\"><thead><tr><th>ID</th><th>Source</th><th>Severity</th><th>Start_Time</th><th>End_Time</th><th>Start_Lat</th><th>Start_Lng</th><th>End_Lat</th><th>End_Lng</th><th>Distance(mi)</th><th>Description</th><th>Street</th><th>City</th><th>County</th><th>State</th><th>Zipcode</th><th>Country</th><th>Timezone</th><th>Airport_Code</th><th>Weather_Timestamp</th><th>Temperature(F)</th><th>Wind_Chill(F)</th><th>Humidity(%)</th><th>Pressure(in)</th><th>Visibility(mi)</th><th>Wind_Direction</th><th>Wind_Speed(mph)</th><th>Precipitation(in)</th><th>Weather_Condition</th><th>Amenity</th><th>Bump</th><th>Crossing</th><th>Give_Way</th><th>Junction</th><th>No_Exit</th><th>Railway</th><th>Roundabout</th><th>Station</th><th>Stop</th><th>Traffic_Calming</th><th>Traffic_Signal</th><th>Turning_Loop</th><th>Sunrise_Sunset</th><th>Civil_Twilight</th><th>Nautical_Twilight</th><th>Astronomical_Twilight</th></tr><tr><td>str</td><td>str</td><td>i64</td><td>str</td><td>str</td><td>f64</td><td>f64</td><td>f64</td><td>f64</td><td>f64</td><td>str</td><td>str</td><td>str</td><td>str</td><td>str</td><td>str</td><td>str</td><td>str</td><td>str</td><td>str</td><td>f64</td><td>f64</td><td>f64</td><td>f64</td><td>f64</td><td>str</td><td>f64</td><td>f64</td><td>str</td><td>bool</td><td>bool</td><td>bool</td><td>bool</td><td>bool</td><td>bool</td><td>bool</td><td>bool</td><td>bool</td><td>bool</td><td>bool</td><td>bool</td><td>bool</td><td>str</td><td>str</td><td>str</td><td>str</td></tr></thead><tbody><tr><td>&quot;A-3412680&quot;</td><td>&quot;Source1&quot;</td><td>2</td><td>&quot;2016-02-09 08:...</td><td>&quot;2016-02-09 14:...</td><td>39.86025</td><td>-85.96623</td><td>39.86025</td><td>-85.96623</td><td>0.0</td><td>&quot;At High Timber...</td><td>&quot; Long Lake Ln&quot;</td><td>&quot;Indianapolis&quot;</td><td>&quot;Marion&quot;</td><td>&quot;IN&quot;</td><td>&quot;46235-6127&quot;</td><td>&quot;US&quot;</td><td>&quot;US/Eastern&quot;</td><td>&quot;KMQJ&quot;</td><td>&quot;2016-02-09 08:...</td><td>19.4</td><td>5.0</td><td>86.0</td><td>29.76</td><td>5.0</td><td>&quot;WNW&quot;</td><td>16.1</td><td>null</td><td>&quot;Overcast&quot;</td><td>false</td><td>false</td><td>false</td><td>false</td><td>false</td><td>false</td><td>false</td><td>false</td><td>false</td><td>false</td><td>false</td><td>false</td><td>false</td><td>&quot;Day&quot;</td><td>&quot;Day&quot;</td><td>&quot;Day&quot;</td><td>&quot;Day&quot;</td></tr><tr><td>&quot;A-3412705&quot;</td><td>&quot;Source1&quot;</td><td>3</td><td>&quot;2016-02-10 09:...</td><td>&quot;2016-02-10 15:...</td><td>38.27191</td><td>-85.80838</td><td>38.27191</td><td>-85.80838</td><td>0.0</td><td>&quot;At Bank St/Exi...</td><td>&quot;Henry Watterso...</td><td>&quot;Louisville&quot;</td><td>&quot;Jefferson&quot;</td><td>&quot;KY&quot;</td><td>&quot;40212&quot;</td><td>&quot;US&quot;</td><td>&quot;US/Eastern&quot;</td><td>&quot;KSDF&quot;</td><td>&quot;2016-02-10 08:...</td><td>17.1</td><td>5.8</td><td>68.0</td><td>30.12</td><td>10.0</td><td>&quot;West&quot;</td><td>9.2</td><td>0.0</td><td>&quot;Mostly Cloudy&quot;</td><td>false</td><td>false</td><td>false</td><td>false</td><td>false</td><td>false</td><td>false</td><td>false</td><td>false</td><td>false</td><td>false</td><td>false</td><td>false</td><td>&quot;Day&quot;</td><td>&quot;Day&quot;</td><td>&quot;Day&quot;</td><td>&quot;Day&quot;</td></tr><tr><td>&quot;A-3412748&quot;</td><td>&quot;Source1&quot;</td><td>2</td><td>&quot;2016-02-11 08:...</td><td>&quot;2016-02-11 14:...</td><td>38.33667</td><td>-81.65623</td><td>38.33667</td><td>-81.65623</td><td>0.0</td><td>&quot;At Smith Rd - ...</td><td>&quot; Oakwood Rd&quot;</td><td>&quot;Charleston&quot;</td><td>&quot;Kanawha&quot;</td><td>&quot;WV&quot;</td><td>&quot;25314-2347&quot;</td><td>&quot;US&quot;</td><td>&quot;US/Eastern&quot;</td><td>&quot;KCRW&quot;</td><td>&quot;2016-02-11 08:...</td><td>17.1</td><td>8.7</td><td>56.0</td><td>30.28</td><td>10.0</td><td>&quot;West&quot;</td><td>5.8</td><td>null</td><td>&quot;Scattered Clou...</td><td>false</td><td>false</td><td>false</td><td>false</td><td>false</td><td>false</td><td>false</td><td>false</td><td>false</td><td>false</td><td>false</td><td>false</td><td>false</td><td>&quot;Day&quot;</td><td>&quot;Day&quot;</td><td>&quot;Day&quot;</td><td>&quot;Day&quot;</td></tr><tr><td>&quot;A-3412759&quot;</td><td>&quot;Source1&quot;</td><td>2</td><td>&quot;2016-02-11 13:...</td><td>&quot;2016-02-11 19:...</td><td>41.25666</td><td>-81.63157</td><td>41.25666</td><td>-81.63157</td><td>0.0</td><td>&quot;At OH-21/Breck...</td><td>&quot;OH-21 N&quot;</td><td>&quot;Richfield&quot;</td><td>&quot;Summit&quot;</td><td>&quot;OH&quot;</td><td>&quot;44286&quot;</td><td>&quot;US&quot;</td><td>&quot;US/Eastern&quot;</td><td>&quot;KCLE&quot;</td><td>&quot;2016-02-11 13:...</td><td>17.1</td><td>5.0</td><td>71.0</td><td>30.22</td><td>2.0</td><td>&quot;West&quot;</td><td>10.4</td><td>0.0</td><td>&quot;Light Snow&quot;</td><td>false</td><td>false</td><td>false</td><td>false</td><td>false</td><td>false</td><td>false</td><td>false</td><td>false</td><td>false</td><td>false</td><td>false</td><td>false</td><td>&quot;Day&quot;</td><td>&quot;Day&quot;</td><td>&quot;Day&quot;</td><td>&quot;Day&quot;</td></tr><tr><td>&quot;A-3412760&quot;</td><td>&quot;Source1&quot;</td><td>2</td><td>&quot;2016-02-11 13:...</td><td>&quot;2016-02-11 19:...</td><td>40.58919</td><td>-80.09885</td><td>40.58919</td><td>-80.09885</td><td>0.0</td><td>&quot;At I-279/Exit ...</td><td>&quot; Rochester Rd&quot;</td><td>&quot;Sewickley&quot;</td><td>&quot;Allegheny&quot;</td><td>&quot;PA&quot;</td><td>&quot;15143-8606&quot;</td><td>&quot;US&quot;</td><td>&quot;US/Eastern&quot;</td><td>&quot;KPIT&quot;</td><td>&quot;2016-02-11 13:...</td><td>16.0</td><td>-1.7</td><td>54.0</td><td>30.21</td><td>10.0</td><td>&quot;West&quot;</td><td>21.9</td><td>0.0</td><td>&quot;Mostly Cloudy&quot;</td><td>false</td><td>false</td><td>false</td><td>false</td><td>false</td><td>false</td><td>false</td><td>false</td><td>false</td><td>false</td><td>false</td><td>false</td><td>false</td><td>&quot;Day&quot;</td><td>&quot;Day&quot;</td><td>&quot;Day&quot;</td><td>&quot;Day&quot;</td></tr><tr><td>&quot;A-3412766&quot;</td><td>&quot;Source1&quot;</td><td>2</td><td>&quot;2016-02-11 16:...</td><td>&quot;2016-02-11 22:...</td><td>40.58919</td><td>-80.09885</td><td>40.58919</td><td>-80.09885</td><td>0.0</td><td>&quot;At I-279/Exit ...</td><td>&quot; Rochester Rd&quot;</td><td>&quot;Sewickley&quot;</td><td>&quot;Allegheny&quot;</td><td>&quot;PA&quot;</td><td>&quot;15143-8606&quot;</td><td>&quot;US&quot;</td><td>&quot;US/Eastern&quot;</td><td>&quot;KPIT&quot;</td><td>&quot;2016-02-11 16:...</td><td>17.1</td><td>1.5</td><td>50.0</td><td>30.27</td><td>10.0</td><td>&quot;West&quot;</td><td>17.3</td><td>0.0</td><td>&quot;Mostly Cloudy&quot;</td><td>false</td><td>false</td><td>false</td><td>false</td><td>false</td><td>false</td><td>false</td><td>false</td><td>false</td><td>false</td><td>false</td><td>false</td><td>false</td><td>&quot;Day&quot;</td><td>&quot;Day&quot;</td><td>&quot;Day&quot;</td><td>&quot;Day&quot;</td></tr><tr><td>&quot;A-3412782&quot;</td><td>&quot;Source1&quot;</td><td>2</td><td>&quot;2016-02-11 20:...</td><td>&quot;2016-02-12 02:...</td><td>41.0634</td><td>-81.49079</td><td>41.0634</td><td>-81.49079</td><td>0.0</td><td>&quot;At Arlington S...</td><td>&quot;S Arlington St...</td><td>&quot;Akron&quot;</td><td>&quot;Summit&quot;</td><td>&quot;OH&quot;</td><td>&quot;44306&quot;</td><td>&quot;US&quot;</td><td>&quot;US/Eastern&quot;</td><td>&quot;KAKR&quot;</td><td>&quot;2016-02-11 19:...</td><td>9.0</td><td>2.4</td><td>73.0</td><td>30.31</td><td>10.0</td><td>&quot;SSW&quot;</td><td>3.5</td><td>null</td><td>&quot;Clear&quot;</td><td>false</td><td>false</td><td>false</td><td>false</td><td>false</td><td>false</td><td>false</td><td>false</td><td>false</td><td>false</td><td>false</td><td>false</td><td>false</td><td>&quot;Night&quot;</td><td>&quot;Night&quot;</td><td>&quot;Night&quot;</td><td>&quot;Night&quot;</td></tr><tr><td>&quot;A-3412800&quot;</td><td>&quot;Source1&quot;</td><td>3</td><td>&quot;2016-02-13 18:...</td><td>&quot;2016-02-14 00:...</td><td>40.53024</td><td>-80.00957</td><td>40.53024</td><td>-80.00957</td><td>0.0</td><td>&quot;At Siebert Rd ...</td><td>&quot; McKnight Rd&quot;</td><td>&quot;Pittsburgh&quot;</td><td>&quot;Allegheny&quot;</td><td>&quot;PA&quot;</td><td>&quot;15237-3405&quot;</td><td>&quot;US&quot;</td><td>&quot;US/Eastern&quot;</td><td>&quot;KPIT&quot;</td><td>&quot;2016-02-13 18:...</td><td>7.0</td><td>-7.5</td><td>67.0</td><td>30.5</td><td>10.0</td><td>&quot;WNW&quot;</td><td>10.4</td><td>null</td><td>&quot;Scattered Clou...</td><td>false</td><td>false</td><td>true</td><td>false</td><td>false</td><td>false</td><td>false</td><td>false</td><td>true</td><td>false</td><td>false</td><td>true</td><td>false</td><td>&quot;Night&quot;</td><td>&quot;Night&quot;</td><td>&quot;Day&quot;</td><td>&quot;Day&quot;</td></tr><tr><td>&quot;A-3412801&quot;</td><td>&quot;Source1&quot;</td><td>3</td><td>&quot;2016-02-13 18:...</td><td>&quot;2016-02-14 00:...</td><td>40.53024</td><td>-80.00957</td><td>40.53024</td><td>-80.00957</td><td>0.0</td><td>&quot;At Siebert Rd ...</td><td>&quot; McKnight Rd&quot;</td><td>&quot;Pittsburgh&quot;</td><td>&quot;Allegheny&quot;</td><td>&quot;PA&quot;</td><td>&quot;15237-3405&quot;</td><td>&quot;US&quot;</td><td>&quot;US/Eastern&quot;</td><td>&quot;KPIT&quot;</td><td>&quot;2016-02-13 18:...</td><td>7.0</td><td>-7.5</td><td>67.0</td><td>30.5</td><td>10.0</td><td>&quot;WNW&quot;</td><td>10.4</td><td>null</td><td>&quot;Scattered Clou...</td><td>false</td><td>false</td><td>true</td><td>false</td><td>false</td><td>false</td><td>false</td><td>false</td><td>true</td><td>false</td><td>false</td><td>true</td><td>false</td><td>&quot;Night&quot;</td><td>&quot;Night&quot;</td><td>&quot;Day&quot;</td><td>&quot;Day&quot;</td></tr><tr><td>&quot;A-3412883&quot;</td><td>&quot;Source1&quot;</td><td>2</td><td>&quot;2016-02-16 15:...</td><td>&quot;2016-02-16 21:...</td><td>41.67571</td><td>-83.69385</td><td>41.67571</td><td>-83.69385</td><td>0.0</td><td>&quot;At US-20/OH-12...</td><td>&quot;I-475 N&quot;</td><td>&quot;Toledo&quot;</td><td>&quot;Lucas&quot;</td><td>&quot;OH&quot;</td><td>&quot;43615&quot;</td><td>&quot;US&quot;</td><td>&quot;US/Eastern&quot;</td><td>&quot;KDUH&quot;</td><td>&quot;2016-02-16 15:...</td><td>30.2</td><td>23.4</td><td>77.0</td><td>29.79</td><td>10.0</td><td>&quot;West&quot;</td><td>6.9</td><td>null</td><td>&quot;Overcast&quot;</td><td>false</td><td>false</td><td>false</td><td>false</td><td>false</td><td>false</td><td>false</td><td>false</td><td>false</td><td>false</td><td>false</td><td>false</td><td>false</td><td>&quot;Day&quot;</td><td>&quot;Day&quot;</td><td>&quot;Day&quot;</td><td>&quot;Day&quot;</td></tr><tr><td>&quot;A-3412886&quot;</td><td>&quot;Source1&quot;</td><td>2</td><td>&quot;2016-02-16 16:...</td><td>&quot;2016-02-16 22:...</td><td>38.36387</td><td>-81.73867</td><td>38.36387</td><td>-81.73867</td><td>0.0</td><td>&quot;At WV-25/10th/...</td><td>&quot;I-64 W&quot;</td><td>&quot;Dunbar&quot;</td><td>&quot;Kanawha&quot;</td><td>&quot;WV&quot;</td><td>&quot;25064&quot;</td><td>&quot;US&quot;</td><td>&quot;US/Eastern&quot;</td><td>&quot;KCRW&quot;</td><td>&quot;2016-02-16 16:...</td><td>36.0</td><td>33.3</td><td>82.0</td><td>29.83</td><td>10.0</td><td>&quot;Variable&quot;</td><td>3.5</td><td>null</td><td>&quot;Overcast&quot;</td><td>false</td><td>false</td><td>false</td><td>false</td><td>false</td><td>false</td><td>false</td><td>false</td><td>false</td><td>false</td><td>false</td><td>false</td><td>false</td><td>&quot;Day&quot;</td><td>&quot;Day&quot;</td><td>&quot;Day&quot;</td><td>&quot;Day&quot;</td></tr><tr><td>&quot;A-3412964&quot;</td><td>&quot;Source1&quot;</td><td>2</td><td>&quot;2016-02-19 12:...</td><td>&quot;2016-02-19 18:...</td><td>39.08887</td><td>-84.52271</td><td>39.08887</td><td>-84.52271</td><td>0.0</td><td>&quot;At Spence Brid...</td><td>&quot;I-75 S&quot;</td><td>&quot;Covington&quot;</td><td>&quot;Kenton&quot;</td><td>&quot;KY&quot;</td><td>&quot;41011&quot;</td><td>&quot;US&quot;</td><td>&quot;US/Eastern&quot;</td><td>&quot;KLUK&quot;</td><td>&quot;2016-02-19 11:...</td><td>61.0</td><td>null</td><td>38.0</td><td>29.99</td><td>10.0</td><td>&quot;SSW&quot;</td><td>33.4</td><td>null</td><td>&quot;Clear&quot;</td><td>false</td><td>false</td><td>false</td><td>false</td><td>false</td><td>false</td><td>false</td><td>false</td><td>false</td><td>false</td><td>false</td><td>false</td><td>false</td><td>&quot;Day&quot;</td><td>&quot;Day&quot;</td><td>&quot;Day&quot;</td><td>&quot;Day&quot;</td></tr><tr><td>...</td><td>...</td><td>...</td><td>...</td><td>...</td><td>...</td><td>...</td><td>...</td><td>...</td><td>...</td><td>...</td><td>...</td><td>...</td><td>...</td><td>...</td><td>...</td><td>...</td><td>...</td><td>...</td><td>...</td><td>...</td><td>...</td><td>...</td><td>...</td><td>...</td><td>...</td><td>...</td><td>...</td><td>...</td><td>...</td><td>...</td><td>...</td><td>...</td><td>...</td><td>...</td><td>...</td><td>...</td><td>...</td><td>...</td><td>...</td><td>...</td><td>...</td><td>...</td><td>...</td><td>...</td><td>...</td></tr><tr><td>&quot;A-7777467&quot;</td><td>&quot;Source1&quot;</td><td>3</td><td>&quot;2019-08-23 17:...</td><td>&quot;2019-08-23 18:...</td><td>42.42091</td><td>-87.82568</td><td>42.42091</td><td>-87.82568</td><td>0.0</td><td>&quot;At Beach Rd - ...</td><td>&quot; N Sheridan Rd...</td><td>&quot;Zion&quot;</td><td>&quot;Lake&quot;</td><td>&quot;IL&quot;</td><td>&quot;60099&quot;</td><td>&quot;US&quot;</td><td>&quot;US/Central&quot;</td><td>&quot;KUGN&quot;</td><td>&quot;2019-08-23 17:...</td><td>68.0</td><td>68.0</td><td>52.0</td><td>29.42</td><td>10.0</td><td>&quot;NNE&quot;</td><td>12.0</td><td>0.0</td><td>&quot;Fair&quot;</td><td>false</td><td>false</td><td>true</td><td>false</td><td>false</td><td>false</td><td>false</td><td>false</td><td>false</td><td>false</td><td>false</td><td>true</td><td>false</td><td>&quot;Day&quot;</td><td>&quot;Day&quot;</td><td>&quot;Day&quot;</td><td>&quot;Day&quot;</td></tr><tr><td>&quot;A-7777487&quot;</td><td>&quot;Source1&quot;</td><td>2</td><td>&quot;2019-08-23 12:...</td><td>&quot;2019-08-23 12:...</td><td>34.00705</td><td>-86.7503</td><td>34.00705</td><td>-86.7503</td><td>0.0</td><td>&quot;At 8th St SE -...</td><td>&quot; 8th St SW&quot;</td><td>&quot;Hanceville&quot;</td><td>&quot;Cullman&quot;</td><td>&quot;AL&quot;</td><td>&quot;35077-5100&quot;</td><td>&quot;US&quot;</td><td>&quot;US/Central&quot;</td><td>&quot;K3A1&quot;</td><td>&quot;2019-08-23 11:...</td><td>87.0</td><td>87.0</td><td>59.0</td><td>29.35</td><td>10.0</td><td>&quot;WSW&quot;</td><td>6.0</td><td>0.0</td><td>&quot;Partly Cloudy&quot;</td><td>false</td><td>false</td><td>false</td><td>false</td><td>false</td><td>false</td><td>false</td><td>false</td><td>false</td><td>false</td><td>false</td><td>false</td><td>false</td><td>&quot;Day&quot;</td><td>&quot;Day&quot;</td><td>&quot;Day&quot;</td><td>&quot;Day&quot;</td></tr><tr><td>&quot;A-7777563&quot;</td><td>&quot;Source1&quot;</td><td>2</td><td>&quot;2019-08-23 14:...</td><td>&quot;2019-08-23 14:...</td><td>33.386434</td><td>-111.720459</td><td>33.386434</td><td>-111.720459</td><td>0.0</td><td>&quot;At Higley Rd/E...</td><td>&quot;Superstition F...</td><td>&quot;Mesa&quot;</td><td>&quot;Maricopa&quot;</td><td>&quot;AZ&quot;</td><td>&quot;85206&quot;</td><td>&quot;US&quot;</td><td>&quot;US/Mountain&quot;</td><td>&quot;KFFZ&quot;</td><td>&quot;2019-08-23 14:...</td><td>101.0</td><td>101.0</td><td>25.0</td><td>28.62</td><td>10.0</td><td>&quot;VAR&quot;</td><td>6.0</td><td>0.0</td><td>&quot;Partly Cloudy&quot;</td><td>false</td><td>false</td><td>false</td><td>false</td><td>false</td><td>false</td><td>false</td><td>false</td><td>false</td><td>false</td><td>false</td><td>false</td><td>false</td><td>&quot;Day&quot;</td><td>&quot;Day&quot;</td><td>&quot;Day&quot;</td><td>&quot;Day&quot;</td></tr><tr><td>&quot;A-7777564&quot;</td><td>&quot;Source1&quot;</td><td>2</td><td>&quot;2019-08-23 15:...</td><td>&quot;2019-08-23 16:...</td><td>33.669643</td><td>-112.09983</td><td>33.669643</td><td>-112.09983</td><td>0.0</td><td>&quot;At AZ-101-LOOP...</td><td>&quot;N 19th Ave&quot;</td><td>&quot;Phoenix&quot;</td><td>&quot;Maricopa&quot;</td><td>&quot;AZ&quot;</td><td>&quot;85027&quot;</td><td>&quot;US&quot;</td><td>&quot;US/Mountain&quot;</td><td>&quot;KDVT&quot;</td><td>&quot;2019-08-23 15:...</td><td>99.0</td><td>99.0</td><td>25.0</td><td>28.19</td><td>10.0</td><td>&quot;SSW&quot;</td><td>13.0</td><td>0.0</td><td>&quot;Fair&quot;</td><td>false</td><td>false</td><td>false</td><td>false</td><td>false</td><td>false</td><td>false</td><td>false</td><td>false</td><td>false</td><td>false</td><td>false</td><td>false</td><td>&quot;Day&quot;</td><td>&quot;Day&quot;</td><td>&quot;Day&quot;</td><td>&quot;Day&quot;</td></tr><tr><td>&quot;A-7777565&quot;</td><td>&quot;Source1&quot;</td><td>2</td><td>&quot;2019-08-23 16:...</td><td>&quot;2019-08-23 17:...</td><td>33.468636</td><td>-112.111228</td><td>33.468636</td><td>-112.111228</td><td>0.0</td><td>&quot;At McDowell Rd...</td><td>&quot;Black Canyon F...</td><td>&quot;Phoenix&quot;</td><td>&quot;Maricopa&quot;</td><td>&quot;AZ&quot;</td><td>&quot;85009&quot;</td><td>&quot;US&quot;</td><td>&quot;US/Mountain&quot;</td><td>&quot;KPHX&quot;</td><td>&quot;2019-08-23 16:...</td><td>102.0</td><td>102.0</td><td>22.0</td><td>28.56</td><td>10.0</td><td>&quot;VAR&quot;</td><td>3.0</td><td>0.0</td><td>&quot;Fair&quot;</td><td>false</td><td>false</td><td>false</td><td>false</td><td>false</td><td>false</td><td>false</td><td>false</td><td>false</td><td>false</td><td>false</td><td>false</td><td>false</td><td>&quot;Day&quot;</td><td>&quot;Day&quot;</td><td>&quot;Day&quot;</td><td>&quot;Day&quot;</td></tr><tr><td>&quot;A-7777581&quot;</td><td>&quot;Source1&quot;</td><td>2</td><td>&quot;2019-08-23 07:...</td><td>&quot;2019-08-23 07:...</td><td>45.66491</td><td>-122.43476</td><td>45.66491</td><td>-122.43476</td><td>0.0</td><td>&quot;At 232nd Ave -...</td><td>&quot;NE 232nd Ave&quot;</td><td>&quot;Vancouver&quot;</td><td>&quot;Clark&quot;</td><td>&quot;WA&quot;</td><td>&quot;98682&quot;</td><td>&quot;US&quot;</td><td>&quot;US/Pacific&quot;</td><td>&quot;KPDX&quot;</td><td>&quot;2019-08-23 06:...</td><td>58.0</td><td>58.0</td><td>87.0</td><td>29.96</td><td>10.0</td><td>&quot;NNE&quot;</td><td>3.0</td><td>0.0</td><td>&quot;Mostly Cloudy&quot;</td><td>false</td><td>false</td><td>false</td><td>false</td><td>false</td><td>false</td><td>false</td><td>false</td><td>false</td><td>false</td><td>false</td><td>false</td><td>false</td><td>&quot;Day&quot;</td><td>&quot;Day&quot;</td><td>&quot;Day&quot;</td><td>&quot;Day&quot;</td></tr><tr><td>&quot;A-7777639&quot;</td><td>&quot;Source1&quot;</td><td>2</td><td>&quot;2019-08-23 13:...</td><td>&quot;2019-08-23 14:...</td><td>47.58841</td><td>-122.30586</td><td>47.58841</td><td>-122.30586</td><td>0.0</td><td>&quot;At Massachuset...</td><td>&quot; Rainier Ave S...</td><td>&quot;Seattle&quot;</td><td>&quot;King&quot;</td><td>&quot;WA&quot;</td><td>&quot;98144&quot;</td><td>&quot;US&quot;</td><td>&quot;US/Pacific&quot;</td><td>&quot;KBFI&quot;</td><td>&quot;2019-08-23 13:...</td><td>70.0</td><td>70.0</td><td>51.0</td><td>29.93</td><td>10.0</td><td>&quot;ENE&quot;</td><td>3.0</td><td>0.0</td><td>&quot;Cloudy&quot;</td><td>false</td><td>false</td><td>false</td><td>false</td><td>false</td><td>false</td><td>false</td><td>false</td><td>false</td><td>false</td><td>false</td><td>true</td><td>false</td><td>&quot;Day&quot;</td><td>&quot;Day&quot;</td><td>&quot;Day&quot;</td><td>&quot;Day&quot;</td></tr><tr><td>&quot;A-7777724&quot;</td><td>&quot;Source1&quot;</td><td>3</td><td>&quot;2019-08-23 01:...</td><td>&quot;2019-08-23 01:...</td><td>34.12132</td><td>-117.25454</td><td>34.12132</td><td>-117.25454</td><td>0.0</td><td>&quot;At San Bernard...</td><td>&quot; E Base Line S...</td><td>&quot;San Bernardino...</td><td>&quot;San Bernardino...</td><td>&quot;CA&quot;</td><td>&quot;92410-4114&quot;</td><td>&quot;US&quot;</td><td>&quot;US/Pacific&quot;</td><td>&quot;KSBD&quot;</td><td>&quot;2019-08-23 01:...</td><td>67.0</td><td>67.0</td><td>73.0</td><td>28.61</td><td>10.0</td><td>&quot;W&quot;</td><td>3.0</td><td>0.0</td><td>&quot;Fair&quot;</td><td>false</td><td>false</td><td>false</td><td>false</td><td>false</td><td>false</td><td>false</td><td>false</td><td>false</td><td>false</td><td>false</td><td>false</td><td>false</td><td>&quot;Night&quot;</td><td>&quot;Night&quot;</td><td>&quot;Night&quot;</td><td>&quot;Night&quot;</td></tr><tr><td>&quot;A-7777738&quot;</td><td>&quot;Source1&quot;</td><td>2</td><td>&quot;2019-08-23 15:...</td><td>&quot;2019-08-23 15:...</td><td>34.629366</td><td>-118.153009</td><td>34.629366</td><td>-118.153009</td><td>0.0</td><td>&quot;At Avenue N - ...</td><td>&quot;Antelope Valle...</td><td>&quot;Palmdale&quot;</td><td>&quot;Los Angeles&quot;</td><td>&quot;CA&quot;</td><td>&quot;93551&quot;</td><td>&quot;US&quot;</td><td>&quot;US/Pacific&quot;</td><td>&quot;KPMD&quot;</td><td>&quot;2019-08-23 15:...</td><td>93.0</td><td>93.0</td><td>18.0</td><td>27.2</td><td>10.0</td><td>&quot;SW&quot;</td><td>16.0</td><td>0.0</td><td>&quot;Fair&quot;</td><td>false</td><td>false</td><td>false</td><td>false</td><td>false</td><td>false</td><td>false</td><td>false</td><td>false</td><td>false</td><td>false</td><td>false</td><td>false</td><td>&quot;Day&quot;</td><td>&quot;Day&quot;</td><td>&quot;Day&quot;</td><td>&quot;Day&quot;</td></tr><tr><td>&quot;A-7777751&quot;</td><td>&quot;Source1&quot;</td><td>2</td><td>&quot;2019-08-23 16:...</td><td>&quot;2019-08-23 17:...</td><td>34.120911</td><td>-117.833454</td><td>34.120911</td><td>-117.833454</td><td>0.0</td><td>&quot;At CA-210/CA-5...</td><td>&quot;CA-210 E&quot;</td><td>&quot;Glendora&quot;</td><td>&quot;Los Angeles&quot;</td><td>&quot;CA&quot;</td><td>&quot;91740&quot;</td><td>&quot;US&quot;</td><td>&quot;US/Pacific&quot;</td><td>&quot;KPOC&quot;</td><td>&quot;2019-08-23 16:...</td><td>86.0</td><td>86.0</td><td>40.0</td><td>28.76</td><td>10.0</td><td>&quot;WSW&quot;</td><td>12.0</td><td>null</td><td>&quot;Fair&quot;</td><td>false</td><td>false</td><td>false</td><td>false</td><td>false</td><td>false</td><td>false</td><td>false</td><td>false</td><td>false</td><td>false</td><td>false</td><td>false</td><td>&quot;Day&quot;</td><td>&quot;Day&quot;</td><td>&quot;Day&quot;</td><td>&quot;Day&quot;</td></tr><tr><td>&quot;A-7777753&quot;</td><td>&quot;Source1&quot;</td><td>2</td><td>&quot;2019-08-23 17:...</td><td>&quot;2019-08-23 18:...</td><td>33.943599</td><td>-117.07788</td><td>33.943599</td><td>-117.07788</td><td>0.0</td><td>&quot;At Jack Rabbit...</td><td>&quot;CA-60 E&quot;</td><td>&quot;Moreno Valley&quot;</td><td>&quot;Riverside&quot;</td><td>&quot;CA&quot;</td><td>&quot;92555&quot;</td><td>&quot;US&quot;</td><td>&quot;US/Pacific&quot;</td><td>&quot;KRIV&quot;</td><td>&quot;2019-08-23 17:...</td><td>88.0</td><td>88.0</td><td>32.0</td><td>28.2</td><td>10.0</td><td>&quot;WNW&quot;</td><td>10.0</td><td>0.0</td><td>&quot;Fair&quot;</td><td>false</td><td>false</td><td>false</td><td>false</td><td>false</td><td>false</td><td>false</td><td>false</td><td>false</td><td>false</td><td>false</td><td>false</td><td>false</td><td>&quot;Day&quot;</td><td>&quot;Day&quot;</td><td>&quot;Day&quot;</td><td>&quot;Day&quot;</td></tr><tr><td>&quot;A-7777756&quot;</td><td>&quot;Source1&quot;</td><td>2</td><td>&quot;2019-08-23 18:...</td><td>&quot;2019-08-23 18:...</td><td>34.239104</td><td>-118.416176</td><td>34.239104</td><td>-118.416176</td><td>0.0</td><td>&quot;At Osborne St/...</td><td>&quot;Golden State F...</td><td>&quot;Pacoima&quot;</td><td>&quot;Los Angeles&quot;</td><td>&quot;CA&quot;</td><td>&quot;91331&quot;</td><td>&quot;US&quot;</td><td>&quot;US/Pacific&quot;</td><td>&quot;KWHP&quot;</td><td>&quot;2019-08-23 18:...</td><td>81.0</td><td>81.0</td><td>48.0</td><td>28.78</td><td>10.0</td><td>&quot;ESE&quot;</td><td>6.0</td><td>null</td><td>&quot;Fair&quot;</td><td>false</td><td>false</td><td>false</td><td>false</td><td>false</td><td>false</td><td>false</td><td>false</td><td>false</td><td>false</td><td>false</td><td>false</td><td>false</td><td>&quot;Day&quot;</td><td>&quot;Day&quot;</td><td>&quot;Day&quot;</td><td>&quot;Day&quot;</td></tr></tbody></table></div>"
     },
     "execution_count": 7,
     "metadata": {},
     "output_type": "execute_result"
    }
   ],
   "source": [
    "#checking to see if the missing end lat/long are due having same start lat/long\n",
    "# qui è necessario mettere un cast perchè polars tratta diversamente i tipi di variabile quindi non riesce a confrontarne due diversi:\n",
    "# in questo caso erano per End di tipo utf-8 e per Start Float64\n",
    "\n",
    "accident_data = accident_data.with_columns(\n",
    "    pl.col('End_Lat').cast(pl.Float64),\n",
    "    pl.col('End_Lng').cast(pl.Float64)\n",
    ")\n",
    "\n",
    "accident_data.filter((accident_data['Start_Lat'] == accident_data['End_Lat']) & (accident_data['Start_Lng'] == accident_data['End_Lng']))"
   ],
   "metadata": {
    "collapsed": false,
    "pycharm": {
     "name": "#%%\n"
    }
   }
  },
  {
   "cell_type": "code",
   "execution_count": 8,
   "outputs": [
    {
     "data": {
      "text/plain": "shape: (3402762, 46)\n┌───────────┬─────────┬──────────┬─────────────────────┬─────┬────────────────┬────────────────┬───────────────────┬───────────────────────┐\n│ ID        ┆ Source  ┆ Severity ┆ Start_Time          ┆ ... ┆ Sunrise_Sunset ┆ Civil_Twilight ┆ Nautical_Twilight ┆ Astronomical_Twilight │\n│ ---       ┆ ---     ┆ ---      ┆ ---                 ┆     ┆ ---            ┆ ---            ┆ ---               ┆ ---                   │\n│ str       ┆ str     ┆ i64      ┆ str                 ┆     ┆ str            ┆ str            ┆ str               ┆ str                   │\n╞═══════════╪═════════╪══════════╪═════════════════════╪═════╪════════════════╪════════════════╪═══════════════════╪═══════════════════════╡\n│ A-1       ┆ Source2 ┆ 3        ┆ 2016-02-08 05:46:00 ┆ ... ┆ Night          ┆ Night          ┆ Night             ┆ Night                 │\n│ A-2       ┆ Source2 ┆ 2        ┆ 2016-02-08 06:07:59 ┆ ... ┆ Night          ┆ Night          ┆ Night             ┆ Day                   │\n│ A-3       ┆ Source2 ┆ 2        ┆ 2016-02-08 06:49:27 ┆ ... ┆ Night          ┆ Night          ┆ Day               ┆ Day                   │\n│ A-4       ┆ Source2 ┆ 3        ┆ 2016-02-08 07:23:34 ┆ ... ┆ Night          ┆ Day            ┆ Day               ┆ Day                   │\n│ ...       ┆ ...     ┆ ...      ┆ ...                 ┆ ... ┆ ...            ┆ ...            ┆ ...               ┆ ...                   │\n│ A-3412641 ┆ Source2 ┆ 3        ┆ 2017-08-30 18:59:02 ┆ ... ┆ Day            ┆ Day            ┆ Day               ┆ Day                   │\n│ A-3412642 ┆ Source2 ┆ 3        ┆ 2017-08-30 18:57:52 ┆ ... ┆ Day            ┆ Day            ┆ Day               ┆ Day                   │\n│ A-3412643 ┆ Source2 ┆ 3        ┆ 2017-08-30 19:49:01 ┆ ... ┆ Night          ┆ Night          ┆ Day               ┆ Day                   │\n│ A-3412644 ┆ Source2 ┆ 2        ┆ 2017-08-30 20:17:21 ┆ ... ┆ Night          ┆ Night          ┆ Night             ┆ Day                   │\n└───────────┴─────────┴──────────┴─────────────────────┴─────┴────────────────┴────────────────┴───────────────────┴───────────────────────┘",
      "text/html": "<div><style>\n.dataframe > thead > tr > th,\n.dataframe > tbody > tr > td {\n  text-align: right;\n}\n</style>\n<small>shape: (3402762, 46)</small><table border=\"1\" class=\"dataframe\"><thead><tr><th>ID</th><th>Source</th><th>Severity</th><th>Start_Time</th><th>End_Time</th><th>Start_Lat</th><th>Start_Lng</th><th>End_Lat</th><th>End_Lng</th><th>Distance(mi)</th><th>Description</th><th>Street</th><th>City</th><th>County</th><th>State</th><th>Zipcode</th><th>Country</th><th>Timezone</th><th>Airport_Code</th><th>Weather_Timestamp</th><th>Temperature(F)</th><th>Wind_Chill(F)</th><th>Humidity(%)</th><th>Pressure(in)</th><th>Visibility(mi)</th><th>Wind_Direction</th><th>Wind_Speed(mph)</th><th>Precipitation(in)</th><th>Weather_Condition</th><th>Amenity</th><th>Bump</th><th>Crossing</th><th>Give_Way</th><th>Junction</th><th>No_Exit</th><th>Railway</th><th>Roundabout</th><th>Station</th><th>Stop</th><th>Traffic_Calming</th><th>Traffic_Signal</th><th>Turning_Loop</th><th>Sunrise_Sunset</th><th>Civil_Twilight</th><th>Nautical_Twilight</th><th>Astronomical_Twilight</th></tr><tr><td>str</td><td>str</td><td>i64</td><td>str</td><td>str</td><td>f64</td><td>f64</td><td>f64</td><td>f64</td><td>f64</td><td>str</td><td>str</td><td>str</td><td>str</td><td>str</td><td>str</td><td>str</td><td>str</td><td>str</td><td>str</td><td>f64</td><td>f64</td><td>f64</td><td>f64</td><td>f64</td><td>str</td><td>f64</td><td>f64</td><td>str</td><td>bool</td><td>bool</td><td>bool</td><td>bool</td><td>bool</td><td>bool</td><td>bool</td><td>bool</td><td>bool</td><td>bool</td><td>bool</td><td>bool</td><td>bool</td><td>str</td><td>str</td><td>str</td><td>str</td></tr></thead><tbody><tr><td>&quot;A-1&quot;</td><td>&quot;Source2&quot;</td><td>3</td><td>&quot;2016-02-08 05:...</td><td>&quot;2016-02-08 11:...</td><td>39.865147</td><td>-84.058723</td><td>null</td><td>null</td><td>0.01</td><td>&quot;Right lane blo...</td><td>&quot;I-70 E&quot;</td><td>&quot;Dayton&quot;</td><td>&quot;Montgomery&quot;</td><td>&quot;OH&quot;</td><td>&quot;45424&quot;</td><td>&quot;US&quot;</td><td>&quot;US/Eastern&quot;</td><td>&quot;KFFO&quot;</td><td>&quot;2016-02-08 05:...</td><td>36.9</td><td>null</td><td>91.0</td><td>29.68</td><td>10.0</td><td>&quot;Calm&quot;</td><td>null</td><td>0.02</td><td>&quot;Light Rain&quot;</td><td>false</td><td>false</td><td>false</td><td>false</td><td>false</td><td>false</td><td>false</td><td>false</td><td>false</td><td>false</td><td>false</td><td>false</td><td>false</td><td>&quot;Night&quot;</td><td>&quot;Night&quot;</td><td>&quot;Night&quot;</td><td>&quot;Night&quot;</td></tr><tr><td>&quot;A-2&quot;</td><td>&quot;Source2&quot;</td><td>2</td><td>&quot;2016-02-08 06:...</td><td>&quot;2016-02-08 06:...</td><td>39.928059</td><td>-82.831184</td><td>null</td><td>null</td><td>0.01</td><td>&quot;Accident on Br...</td><td>&quot;Brice Rd&quot;</td><td>&quot;Reynoldsburg&quot;</td><td>&quot;Franklin&quot;</td><td>&quot;OH&quot;</td><td>&quot;43068-3402&quot;</td><td>&quot;US&quot;</td><td>&quot;US/Eastern&quot;</td><td>&quot;KCMH&quot;</td><td>&quot;2016-02-08 05:...</td><td>37.9</td><td>null</td><td>100.0</td><td>29.65</td><td>10.0</td><td>&quot;Calm&quot;</td><td>null</td><td>0.0</td><td>&quot;Light Rain&quot;</td><td>false</td><td>false</td><td>false</td><td>false</td><td>false</td><td>false</td><td>false</td><td>false</td><td>false</td><td>false</td><td>false</td><td>false</td><td>false</td><td>&quot;Night&quot;</td><td>&quot;Night&quot;</td><td>&quot;Night&quot;</td><td>&quot;Day&quot;</td></tr><tr><td>&quot;A-3&quot;</td><td>&quot;Source2&quot;</td><td>2</td><td>&quot;2016-02-08 06:...</td><td>&quot;2016-02-08 07:...</td><td>39.063148</td><td>-84.032608</td><td>null</td><td>null</td><td>0.01</td><td>&quot;Accident on OH...</td><td>&quot;State Route 32...</td><td>&quot;Williamsburg&quot;</td><td>&quot;Clermont&quot;</td><td>&quot;OH&quot;</td><td>&quot;45176&quot;</td><td>&quot;US&quot;</td><td>&quot;US/Eastern&quot;</td><td>&quot;KI69&quot;</td><td>&quot;2016-02-08 06:...</td><td>36.0</td><td>33.3</td><td>100.0</td><td>29.67</td><td>10.0</td><td>&quot;SW&quot;</td><td>3.5</td><td>null</td><td>&quot;Overcast&quot;</td><td>false</td><td>false</td><td>false</td><td>false</td><td>false</td><td>false</td><td>false</td><td>false</td><td>false</td><td>false</td><td>false</td><td>true</td><td>false</td><td>&quot;Night&quot;</td><td>&quot;Night&quot;</td><td>&quot;Day&quot;</td><td>&quot;Day&quot;</td></tr><tr><td>&quot;A-4&quot;</td><td>&quot;Source2&quot;</td><td>3</td><td>&quot;2016-02-08 07:...</td><td>&quot;2016-02-08 07:...</td><td>39.747753</td><td>-84.205582</td><td>null</td><td>null</td><td>0.01</td><td>&quot;Accident on I-...</td><td>&quot;I-75 S&quot;</td><td>&quot;Dayton&quot;</td><td>&quot;Montgomery&quot;</td><td>&quot;OH&quot;</td><td>&quot;45417&quot;</td><td>&quot;US&quot;</td><td>&quot;US/Eastern&quot;</td><td>&quot;KDAY&quot;</td><td>&quot;2016-02-08 07:...</td><td>35.1</td><td>31.0</td><td>96.0</td><td>29.64</td><td>9.0</td><td>&quot;SW&quot;</td><td>4.6</td><td>null</td><td>&quot;Mostly Cloudy&quot;</td><td>false</td><td>false</td><td>false</td><td>false</td><td>false</td><td>false</td><td>false</td><td>false</td><td>false</td><td>false</td><td>false</td><td>false</td><td>false</td><td>&quot;Night&quot;</td><td>&quot;Day&quot;</td><td>&quot;Day&quot;</td><td>&quot;Day&quot;</td></tr><tr><td>&quot;A-5&quot;</td><td>&quot;Source2&quot;</td><td>2</td><td>&quot;2016-02-08 07:...</td><td>&quot;2016-02-08 08:...</td><td>39.627781</td><td>-84.188354</td><td>null</td><td>null</td><td>0.01</td><td>&quot;Accident on Mc...</td><td>&quot;Miamisburg Cen...</td><td>&quot;Dayton&quot;</td><td>&quot;Montgomery&quot;</td><td>&quot;OH&quot;</td><td>&quot;45459&quot;</td><td>&quot;US&quot;</td><td>&quot;US/Eastern&quot;</td><td>&quot;KMGY&quot;</td><td>&quot;2016-02-08 07:...</td><td>36.0</td><td>33.3</td><td>89.0</td><td>29.65</td><td>6.0</td><td>&quot;SW&quot;</td><td>3.5</td><td>null</td><td>&quot;Mostly Cloudy&quot;</td><td>false</td><td>false</td><td>false</td><td>false</td><td>false</td><td>false</td><td>false</td><td>false</td><td>false</td><td>false</td><td>false</td><td>true</td><td>false</td><td>&quot;Day&quot;</td><td>&quot;Day&quot;</td><td>&quot;Day&quot;</td><td>&quot;Day&quot;</td></tr><tr><td>&quot;A-6&quot;</td><td>&quot;Source2&quot;</td><td>3</td><td>&quot;2016-02-08 07:...</td><td>&quot;2016-02-08 08:...</td><td>40.10059</td><td>-82.925194</td><td>null</td><td>null</td><td>0.01</td><td>&quot;Accident on I-...</td><td>&quot;Westerville Rd...</td><td>&quot;Westerville&quot;</td><td>&quot;Franklin&quot;</td><td>&quot;OH&quot;</td><td>&quot;43081&quot;</td><td>&quot;US&quot;</td><td>&quot;US/Eastern&quot;</td><td>&quot;KCMH&quot;</td><td>&quot;2016-02-08 07:...</td><td>37.9</td><td>35.5</td><td>97.0</td><td>29.63</td><td>7.0</td><td>&quot;SSW&quot;</td><td>3.5</td><td>0.03</td><td>&quot;Light Rain&quot;</td><td>false</td><td>false</td><td>false</td><td>false</td><td>false</td><td>false</td><td>false</td><td>false</td><td>false</td><td>false</td><td>false</td><td>false</td><td>false</td><td>&quot;Day&quot;</td><td>&quot;Day&quot;</td><td>&quot;Day&quot;</td><td>&quot;Day&quot;</td></tr><tr><td>&quot;A-7&quot;</td><td>&quot;Source2&quot;</td><td>2</td><td>&quot;2016-02-08 07:...</td><td>&quot;2016-02-08 08:...</td><td>39.758274</td><td>-84.230507</td><td>null</td><td>null</td><td>0.0</td><td>&quot;Accident on Oa...</td><td>&quot;N Woodward Ave...</td><td>&quot;Dayton&quot;</td><td>&quot;Montgomery&quot;</td><td>&quot;OH&quot;</td><td>&quot;45417-2476&quot;</td><td>&quot;US&quot;</td><td>&quot;US/Eastern&quot;</td><td>&quot;KDAY&quot;</td><td>&quot;2016-02-08 07:...</td><td>34.0</td><td>31.0</td><td>100.0</td><td>29.66</td><td>7.0</td><td>&quot;WSW&quot;</td><td>3.5</td><td>null</td><td>&quot;Overcast&quot;</td><td>false</td><td>false</td><td>false</td><td>false</td><td>false</td><td>false</td><td>false</td><td>false</td><td>false</td><td>false</td><td>false</td><td>false</td><td>false</td><td>&quot;Day&quot;</td><td>&quot;Day&quot;</td><td>&quot;Day&quot;</td><td>&quot;Day&quot;</td></tr><tr><td>&quot;A-8&quot;</td><td>&quot;Source2&quot;</td><td>3</td><td>&quot;2016-02-08 07:...</td><td>&quot;2016-02-08 08:...</td><td>39.770382</td><td>-84.194901</td><td>null</td><td>null</td><td>0.01</td><td>&quot;Accident on I-...</td><td>&quot;N Main St&quot;</td><td>&quot;Dayton&quot;</td><td>&quot;Montgomery&quot;</td><td>&quot;OH&quot;</td><td>&quot;45405&quot;</td><td>&quot;US&quot;</td><td>&quot;US/Eastern&quot;</td><td>&quot;KDAY&quot;</td><td>&quot;2016-02-08 07:...</td><td>34.0</td><td>31.0</td><td>100.0</td><td>29.66</td><td>7.0</td><td>&quot;WSW&quot;</td><td>3.5</td><td>null</td><td>&quot;Overcast&quot;</td><td>false</td><td>false</td><td>false</td><td>false</td><td>false</td><td>false</td><td>false</td><td>false</td><td>false</td><td>false</td><td>false</td><td>false</td><td>false</td><td>&quot;Day&quot;</td><td>&quot;Day&quot;</td><td>&quot;Day&quot;</td><td>&quot;Day&quot;</td></tr><tr><td>&quot;A-9&quot;</td><td>&quot;Source2&quot;</td><td>2</td><td>&quot;2016-02-08 08:...</td><td>&quot;2016-02-08 08:...</td><td>39.778061</td><td>-84.172005</td><td>null</td><td>null</td><td>0.0</td><td>&quot;Accident on No...</td><td>&quot;Notre Dame Ave...</td><td>&quot;Dayton&quot;</td><td>&quot;Montgomery&quot;</td><td>&quot;OH&quot;</td><td>&quot;45404-1923&quot;</td><td>&quot;US&quot;</td><td>&quot;US/Eastern&quot;</td><td>&quot;KFFO&quot;</td><td>&quot;2016-02-08 07:...</td><td>33.3</td><td>null</td><td>99.0</td><td>29.67</td><td>5.0</td><td>&quot;SW&quot;</td><td>1.2</td><td>null</td><td>&quot;Mostly Cloudy&quot;</td><td>false</td><td>false</td><td>false</td><td>false</td><td>false</td><td>false</td><td>false</td><td>false</td><td>false</td><td>false</td><td>false</td><td>false</td><td>false</td><td>&quot;Day&quot;</td><td>&quot;Day&quot;</td><td>&quot;Day&quot;</td><td>&quot;Day&quot;</td></tr><tr><td>&quot;A-10&quot;</td><td>&quot;Source2&quot;</td><td>3</td><td>&quot;2016-02-08 08:...</td><td>&quot;2016-02-08 08:...</td><td>40.10059</td><td>-82.925194</td><td>null</td><td>null</td><td>0.01</td><td>&quot;Right hand sho...</td><td>&quot;Westerville Rd...</td><td>&quot;Westerville&quot;</td><td>&quot;Franklin&quot;</td><td>&quot;OH&quot;</td><td>&quot;43081&quot;</td><td>&quot;US&quot;</td><td>&quot;US/Eastern&quot;</td><td>&quot;KCMH&quot;</td><td>&quot;2016-02-08 08:...</td><td>37.4</td><td>33.8</td><td>100.0</td><td>29.62</td><td>3.0</td><td>&quot;SSW&quot;</td><td>4.6</td><td>0.02</td><td>&quot;Light Rain&quot;</td><td>false</td><td>false</td><td>false</td><td>false</td><td>false</td><td>false</td><td>false</td><td>false</td><td>false</td><td>false</td><td>false</td><td>false</td><td>false</td><td>&quot;Day&quot;</td><td>&quot;Day&quot;</td><td>&quot;Day&quot;</td><td>&quot;Day&quot;</td></tr><tr><td>&quot;A-11&quot;</td><td>&quot;Source2&quot;</td><td>3</td><td>&quot;2016-02-08 08:...</td><td>&quot;2016-02-08 08:...</td><td>39.952812</td><td>-83.119293</td><td>null</td><td>null</td><td>0.01</td><td>&quot;Accident on I-...</td><td>&quot;Outerbelt S&quot;</td><td>&quot;Columbus&quot;</td><td>&quot;Franklin&quot;</td><td>&quot;OH&quot;</td><td>&quot;43228&quot;</td><td>&quot;US&quot;</td><td>&quot;US/Eastern&quot;</td><td>&quot;KTZR&quot;</td><td>&quot;2016-02-08 07:...</td><td>35.6</td><td>30.7</td><td>93.0</td><td>29.64</td><td>5.0</td><td>&quot;WNW&quot;</td><td>5.8</td><td>null</td><td>&quot;Rain&quot;</td><td>false</td><td>false</td><td>true</td><td>false</td><td>true</td><td>false</td><td>false</td><td>false</td><td>false</td><td>false</td><td>false</td><td>false</td><td>false</td><td>&quot;Day&quot;</td><td>&quot;Day&quot;</td><td>&quot;Day&quot;</td><td>&quot;Day&quot;</td></tr><tr><td>&quot;A-12&quot;</td><td>&quot;Source2&quot;</td><td>3</td><td>&quot;2016-02-08 08:...</td><td>&quot;2016-02-08 08:...</td><td>39.932709</td><td>-82.83091</td><td>null</td><td>null</td><td>0.01</td><td>&quot;One lane block...</td><td>&quot;I-70 E&quot;</td><td>&quot;Reynoldsburg&quot;</td><td>&quot;Franklin&quot;</td><td>&quot;OH&quot;</td><td>&quot;43068&quot;</td><td>&quot;US&quot;</td><td>&quot;US/Eastern&quot;</td><td>&quot;KCMH&quot;</td><td>&quot;2016-02-08 08:...</td><td>37.4</td><td>33.8</td><td>100.0</td><td>29.62</td><td>3.0</td><td>&quot;SSW&quot;</td><td>4.6</td><td>0.02</td><td>&quot;Light Rain&quot;</td><td>false</td><td>false</td><td>false</td><td>false</td><td>false</td><td>false</td><td>false</td><td>false</td><td>false</td><td>false</td><td>false</td><td>false</td><td>false</td><td>&quot;Day&quot;</td><td>&quot;Day&quot;</td><td>&quot;Day&quot;</td><td>&quot;Day&quot;</td></tr><tr><td>...</td><td>...</td><td>...</td><td>...</td><td>...</td><td>...</td><td>...</td><td>...</td><td>...</td><td>...</td><td>...</td><td>...</td><td>...</td><td>...</td><td>...</td><td>...</td><td>...</td><td>...</td><td>...</td><td>...</td><td>...</td><td>...</td><td>...</td><td>...</td><td>...</td><td>...</td><td>...</td><td>...</td><td>...</td><td>...</td><td>...</td><td>...</td><td>...</td><td>...</td><td>...</td><td>...</td><td>...</td><td>...</td><td>...</td><td>...</td><td>...</td><td>...</td><td>...</td><td>...</td><td>...</td><td>...</td></tr><tr><td>&quot;A-3412633&quot;</td><td>&quot;Source2&quot;</td><td>2</td><td>&quot;2017-08-30 17:...</td><td>&quot;2017-08-30 18:...</td><td>33.855488</td><td>-118.206017</td><td>null</td><td>null</td><td>0.0</td><td>&quot;Accident on Re...</td><td>&quot;S Susana Rd&quot;</td><td>&quot;Compton&quot;</td><td>&quot;Los Angeles&quot;</td><td>&quot;CA&quot;</td><td>&quot;90221-5709&quot;</td><td>&quot;US&quot;</td><td>&quot;US/Pacific&quot;</td><td>&quot;KLGB&quot;</td><td>&quot;2017-08-30 17:...</td><td>87.1</td><td>null</td><td>40.0</td><td>29.68</td><td>10.0</td><td>&quot;WNW&quot;</td><td>8.1</td><td>null</td><td>&quot;Clear&quot;</td><td>false</td><td>false</td><td>false</td><td>false</td><td>false</td><td>false</td><td>false</td><td>false</td><td>false</td><td>false</td><td>false</td><td>false</td><td>false</td><td>&quot;Day&quot;</td><td>&quot;Day&quot;</td><td>&quot;Day&quot;</td><td>&quot;Day&quot;</td></tr><tr><td>&quot;A-3412634&quot;</td><td>&quot;Source2&quot;</td><td>3</td><td>&quot;2017-08-30 17:...</td><td>&quot;2017-08-30 17:...</td><td>32.655594</td><td>-117.0718</td><td>null</td><td>null</td><td>0.0</td><td>&quot;#3 lane blocke...</td><td>&quot;I-805 N&quot;</td><td>&quot;Chula Vista&quot;</td><td>&quot;San Diego&quot;</td><td>&quot;CA&quot;</td><td>&quot;91910&quot;</td><td>&quot;US&quot;</td><td>&quot;US/Pacific&quot;</td><td>&quot;KNRS&quot;</td><td>&quot;2017-08-30 17:...</td><td>73.9</td><td>null</td><td>79.0</td><td>29.71</td><td>8.0</td><td>&quot;West&quot;</td><td>8.1</td><td>null</td><td>&quot;Scattered Clou...</td><td>false</td><td>false</td><td>false</td><td>false</td><td>false</td><td>false</td><td>false</td><td>false</td><td>false</td><td>false</td><td>false</td><td>false</td><td>false</td><td>&quot;Day&quot;</td><td>&quot;Day&quot;</td><td>&quot;Day&quot;</td><td>&quot;Day&quot;</td></tr><tr><td>&quot;A-3412635&quot;</td><td>&quot;Source2&quot;</td><td>3</td><td>&quot;2017-08-30 17:...</td><td>&quot;2017-08-30 18:...</td><td>33.774685</td><td>-118.046837</td><td>null</td><td>null</td><td>0.0</td><td>&quot;#1 lane blocke...</td><td>&quot;I-405 N&quot;</td><td>&quot;Seal Beach&quot;</td><td>&quot;Orange&quot;</td><td>&quot;CA&quot;</td><td>&quot;90740&quot;</td><td>&quot;US&quot;</td><td>&quot;US/Pacific&quot;</td><td>&quot;KSLI&quot;</td><td>&quot;2017-08-30 17:...</td><td>87.6</td><td>null</td><td>47.0</td><td>29.68</td><td>10.0</td><td>&quot;South&quot;</td><td>5.8</td><td>null</td><td>&quot;Partly Cloudy&quot;</td><td>false</td><td>false</td><td>false</td><td>false</td><td>false</td><td>false</td><td>false</td><td>false</td><td>false</td><td>false</td><td>false</td><td>false</td><td>false</td><td>&quot;Day&quot;</td><td>&quot;Day&quot;</td><td>&quot;Day&quot;</td><td>&quot;Day&quot;</td></tr><tr><td>&quot;A-3412636&quot;</td><td>&quot;Source2&quot;</td><td>2</td><td>&quot;2017-08-30 17:...</td><td>&quot;2017-08-30 18:...</td><td>33.853939</td><td>-117.906784</td><td>null</td><td>null</td><td>0.0</td><td>&quot;#3 lane blocke...</td><td>&quot;CA-91 W&quot;</td><td>&quot;Anaheim&quot;</td><td>&quot;Orange&quot;</td><td>&quot;CA&quot;</td><td>&quot;92805&quot;</td><td>&quot;US&quot;</td><td>&quot;US/Pacific&quot;</td><td>&quot;KFUL&quot;</td><td>&quot;2017-08-30 17:...</td><td>93.0</td><td>null</td><td>34.0</td><td>29.66</td><td>10.0</td><td>&quot;Variable&quot;</td><td>3.5</td><td>null</td><td>&quot;Clear&quot;</td><td>false</td><td>false</td><td>false</td><td>false</td><td>false</td><td>false</td><td>false</td><td>false</td><td>false</td><td>false</td><td>false</td><td>false</td><td>false</td><td>&quot;Day&quot;</td><td>&quot;Day&quot;</td><td>&quot;Day&quot;</td><td>&quot;Day&quot;</td></tr><tr><td>&quot;A-3412637&quot;</td><td>&quot;Source2&quot;</td><td>2</td><td>&quot;2017-08-30 17:...</td><td>&quot;2017-08-30 18:...</td><td>34.07383</td><td>-118.233269</td><td>null</td><td>null</td><td>0.0</td><td>&quot;Middle lane bl...</td><td>&quot;CA-110 N&quot;</td><td>&quot;Los Angeles&quot;</td><td>&quot;Los Angeles&quot;</td><td>&quot;CA&quot;</td><td>&quot;90012&quot;</td><td>&quot;US&quot;</td><td>&quot;US/Pacific&quot;</td><td>&quot;KCQT&quot;</td><td>&quot;2017-08-30 17:...</td><td>88.0</td><td>null</td><td>40.0</td><td>29.67</td><td>10.0</td><td>&quot;Variable&quot;</td><td>4.6</td><td>null</td><td>&quot;Clear&quot;</td><td>false</td><td>false</td><td>false</td><td>false</td><td>false</td><td>false</td><td>false</td><td>false</td><td>false</td><td>false</td><td>false</td><td>false</td><td>false</td><td>&quot;Day&quot;</td><td>&quot;Day&quot;</td><td>&quot;Day&quot;</td><td>&quot;Day&quot;</td></tr><tr><td>&quot;A-3412638&quot;</td><td>&quot;Source2&quot;</td><td>3</td><td>&quot;2017-08-30 18:...</td><td>&quot;2017-08-30 19:...</td><td>34.07235</td><td>-117.938385</td><td>null</td><td>null</td><td>0.0</td><td>&quot;Accident on I-...</td><td>&quot;I-10 E&quot;</td><td>&quot;West Covina&quot;</td><td>&quot;Los Angeles&quot;</td><td>&quot;CA&quot;</td><td>&quot;91790&quot;</td><td>&quot;US&quot;</td><td>&quot;US/Pacific&quot;</td><td>&quot;KEMT&quot;</td><td>&quot;2017-08-30 17:...</td><td>98.6</td><td>null</td><td>27.0</td><td>29.69</td><td>10.0</td><td>&quot;SSW&quot;</td><td>6.9</td><td>null</td><td>&quot;Partly Cloudy&quot;</td><td>false</td><td>false</td><td>false</td><td>false</td><td>false</td><td>false</td><td>false</td><td>false</td><td>false</td><td>false</td><td>false</td><td>false</td><td>false</td><td>&quot;Day&quot;</td><td>&quot;Day&quot;</td><td>&quot;Day&quot;</td><td>&quot;Day&quot;</td></tr><tr><td>&quot;A-3412639&quot;</td><td>&quot;Source2&quot;</td><td>2</td><td>&quot;2017-08-30 18:...</td><td>&quot;2017-08-30 18:...</td><td>34.173161</td><td>-118.535988</td><td>null</td><td>null</td><td>0.0</td><td>&quot;Fast lane bloc...</td><td>&quot;Reseda Blvd&quot;</td><td>&quot;Tarzana&quot;</td><td>&quot;Los Angeles&quot;</td><td>&quot;CA&quot;</td><td>&quot;91356&quot;</td><td>&quot;US&quot;</td><td>&quot;US/Pacific&quot;</td><td>&quot;KVNY&quot;</td><td>&quot;2017-08-30 18:...</td><td>100.0</td><td>null</td><td>18.0</td><td>29.66</td><td>10.0</td><td>&quot;WNW&quot;</td><td>4.6</td><td>null</td><td>&quot;Clear&quot;</td><td>false</td><td>false</td><td>false</td><td>false</td><td>false</td><td>false</td><td>false</td><td>false</td><td>false</td><td>false</td><td>false</td><td>true</td><td>false</td><td>&quot;Day&quot;</td><td>&quot;Day&quot;</td><td>&quot;Day&quot;</td><td>&quot;Day&quot;</td></tr><tr><td>&quot;A-3412640&quot;</td><td>&quot;Source2&quot;</td><td>3</td><td>&quot;2017-08-30 18:...</td><td>&quot;2017-08-30 19:...</td><td>34.495808</td><td>-118.623932</td><td>null</td><td>null</td><td>0.0</td><td>&quot;Accident on I-...</td><td>&quot;Lake Hughes Rd...</td><td>&quot;Castaic&quot;</td><td>&quot;Los Angeles&quot;</td><td>&quot;CA&quot;</td><td>&quot;91384&quot;</td><td>&quot;US&quot;</td><td>&quot;US/Pacific&quot;</td><td>&quot;K3A6&quot;</td><td>&quot;2017-08-30 18:...</td><td>100.0</td><td>100.0</td><td>18.0</td><td>28.85</td><td>10.0</td><td>&quot;WNW&quot;</td><td>5.0</td><td>0.0</td><td>&quot;Fair&quot;</td><td>false</td><td>false</td><td>false</td><td>false</td><td>false</td><td>false</td><td>false</td><td>false</td><td>false</td><td>false</td><td>false</td><td>false</td><td>false</td><td>&quot;Day&quot;</td><td>&quot;Day&quot;</td><td>&quot;Day&quot;</td><td>&quot;Day&quot;</td></tr><tr><td>&quot;A-3412641&quot;</td><td>&quot;Source2&quot;</td><td>3</td><td>&quot;2017-08-30 18:...</td><td>&quot;2017-08-30 19:...</td><td>34.031322</td><td>-118.433723</td><td>null</td><td>null</td><td>0.0</td><td>&quot;Left lane clos...</td><td>&quot;I-10 W&quot;</td><td>&quot;Los Angeles&quot;</td><td>&quot;Los Angeles&quot;</td><td>&quot;CA&quot;</td><td>&quot;90064&quot;</td><td>&quot;US&quot;</td><td>&quot;US/Pacific&quot;</td><td>&quot;KSMO&quot;</td><td>&quot;2017-08-30 18:...</td><td>77.0</td><td>null</td><td>64.0</td><td>29.69</td><td>10.0</td><td>&quot;SSW&quot;</td><td>5.8</td><td>null</td><td>&quot;Clear&quot;</td><td>false</td><td>false</td><td>false</td><td>false</td><td>false</td><td>false</td><td>false</td><td>false</td><td>false</td><td>false</td><td>false</td><td>false</td><td>false</td><td>&quot;Day&quot;</td><td>&quot;Day&quot;</td><td>&quot;Day&quot;</td><td>&quot;Day&quot;</td></tr><tr><td>&quot;A-3412642&quot;</td><td>&quot;Source2&quot;</td><td>3</td><td>&quot;2017-08-30 18:...</td><td>&quot;2017-08-30 19:...</td><td>34.106785</td><td>-117.369102</td><td>null</td><td>null</td><td>0.0</td><td>&quot;Accident on Ol...</td><td>&quot;E Foothill Blv...</td><td>&quot;Rialto&quot;</td><td>&quot;San Bernardino...</td><td>&quot;CA&quot;</td><td>&quot;92376-5157&quot;</td><td>&quot;US&quot;</td><td>&quot;US/Pacific&quot;</td><td>&quot;KSBD&quot;</td><td>&quot;2017-08-30 18:...</td><td>102.2</td><td>null</td><td>16.0</td><td>29.73</td><td>6.0</td><td>&quot;SSW&quot;</td><td>5.8</td><td>null</td><td>&quot;Haze&quot;</td><td>false</td><td>false</td><td>true</td><td>false</td><td>false</td><td>false</td><td>false</td><td>false</td><td>false</td><td>true</td><td>false</td><td>false</td><td>false</td><td>&quot;Day&quot;</td><td>&quot;Day&quot;</td><td>&quot;Day&quot;</td><td>&quot;Day&quot;</td></tr><tr><td>&quot;A-3412643&quot;</td><td>&quot;Source2&quot;</td><td>3</td><td>&quot;2017-08-30 19:...</td><td>&quot;2017-08-30 20:...</td><td>33.924686</td><td>-118.103981</td><td>null</td><td>null</td><td>0.0</td><td>&quot;#1 lane blocke...</td><td>&quot;Manchester Ave...</td><td>&quot;Norwalk&quot;</td><td>&quot;Los Angeles&quot;</td><td>&quot;CA&quot;</td><td>&quot;90650&quot;</td><td>&quot;US&quot;</td><td>&quot;US/Pacific&quot;</td><td>&quot;KFUL&quot;</td><td>&quot;2017-08-30 19:...</td><td>88.0</td><td>null</td><td>39.0</td><td>29.68</td><td>10.0</td><td>&quot;West&quot;</td><td>3.5</td><td>null</td><td>&quot;Clear&quot;</td><td>false</td><td>false</td><td>false</td><td>false</td><td>false</td><td>false</td><td>false</td><td>false</td><td>false</td><td>false</td><td>false</td><td>false</td><td>false</td><td>&quot;Night&quot;</td><td>&quot;Night&quot;</td><td>&quot;Day&quot;</td><td>&quot;Day&quot;</td></tr><tr><td>&quot;A-3412644&quot;</td><td>&quot;Source2&quot;</td><td>2</td><td>&quot;2017-08-30 20:...</td><td>&quot;2017-08-30 20:...</td><td>33.729469</td><td>-117.397354</td><td>null</td><td>null</td><td>0.0</td><td>&quot;Accident on Te...</td><td>&quot;Temescal Canyo...</td><td>&quot;Lake Elsinore&quot;</td><td>&quot;Riverside&quot;</td><td>&quot;CA&quot;</td><td>&quot;92530-1613&quot;</td><td>&quot;US&quot;</td><td>&quot;US/Pacific&quot;</td><td>&quot;KF70&quot;</td><td>&quot;2017-08-30 20:...</td><td>89.6</td><td>null</td><td>40.0</td><td>29.78</td><td>10.0</td><td>&quot;South&quot;</td><td>3.5</td><td>null</td><td>&quot;Clear&quot;</td><td>false</td><td>false</td><td>false</td><td>false</td><td>false</td><td>false</td><td>false</td><td>false</td><td>false</td><td>false</td><td>false</td><td>false</td><td>false</td><td>&quot;Night&quot;</td><td>&quot;Night&quot;</td><td>&quot;Night&quot;</td><td>&quot;Day&quot;</td></tr></tbody></table></div>"
     },
     "execution_count": 8,
     "metadata": {},
     "output_type": "execute_result"
    }
   ],
   "source": [
    "# check to see if missing values are in the same rows\n",
    "\n",
    "accident_data.filter(accident_data['End_Lat'].is_null() & accident_data['End_Lng'].is_null())"
   ],
   "metadata": {
    "collapsed": false,
    "pycharm": {
     "name": "#%%\n"
    }
   }
  },
  {
   "cell_type": "code",
   "execution_count": 9,
   "outputs": [
    {
     "name": "stdout",
     "output_type": "stream",
     "text": [
      "ID: shape: (7728394,)\n",
      "Series: 'ID' [str]\n",
      "[\n",
      "\t\"A-2143800\"\n",
      "\t\"A-1760784\"\n",
      "\t\"A-6549321\"\n",
      "\t\"A-7376387\"\n",
      "\t\"A-1168150\"\n",
      "\t\"A-5769797\"\n",
      "\t\"A-1294152\"\n",
      "\t\"A-5623918\"\n",
      "\t\"A-4925776\"\n",
      "\t\"A-6045893\"\n",
      "\t\"A-1874379\"\n",
      "\t\"A-7001192\"\n",
      "\t...\n",
      "\t\"A-5201976\"\n",
      "\t\"A-782997\"\n",
      "\t\"A-5302127\"\n",
      "\t\"A-1519320\"\n",
      "\t\"A-3059487\"\n",
      "\t\"A-4313140\"\n",
      "\t\"A-2766223\"\n",
      "\t\"A-5553749\"\n",
      "\t\"A-2549041\"\n",
      "\t\"A-7162376\"\n",
      "\t\"A-1861000\"\n",
      "\t\"A-4149525\"\n",
      "\t\"A-1875304\"\n",
      "]\n",
      "Source: shape: (3,)\n",
      "Series: 'Source' [str]\n",
      "[\n",
      "\t\"Source3\"\n",
      "\t\"Source2\"\n",
      "\t\"Source1\"\n",
      "]\n",
      "Severity: shape: (4,)\n",
      "Series: 'Severity' [i64]\n",
      "[\n",
      "\t1\n",
      "\t2\n",
      "\t3\n",
      "\t4\n",
      "]\n",
      "Start_Time: shape: (6131796,)\n",
      "Series: 'Start_Time' [str]\n",
      "[\n",
      "\t\"2019-04-08 08:...\n",
      "\t\"2016-08-11 12:...\n",
      "\t\"2016-05-03 00:...\n",
      "\t\"2019-11-18 18:...\n",
      "\t\"2016-07-06 10:...\n",
      "\t\"2020-11-01 23:...\n",
      "\t\"2018-03-05 14:...\n",
      "\t\"2021-01-14 06:...\n",
      "\t\"2021-03-29 09:...\n",
      "\t\"2018-12-30 07:...\n",
      "\t\"2021-08-23 07:...\n",
      "\t\"2020-01-11 09:...\n",
      "\t...\n",
      "\t\"2017-09-07 15:...\n",
      "\t\"2020-05-07 10:...\n",
      "\t\"2022-04-19 09:...\n",
      "\t\"2020-04-13 05:...\n",
      "\t\"2018-11-18 06:...\n",
      "\t\"2020-12-29 05:...\n",
      "\t\"2022-01-17 08:...\n",
      "\t\"2018-10-09 12:...\n",
      "\t\"2021-02-08 10:...\n",
      "\t\"2022-04-01 20:...\n",
      "\t\"2021-03-08 06:...\n",
      "\t\"2020-05-08 05:...\n",
      "\t\"2020-06-08 19:...\n",
      "]\n",
      "End_Time: shape: (6705355,)\n",
      "Series: 'End_Time' [str]\n",
      "[\n",
      "\t\"2019-12-13 21:...\n",
      "\t\"2022-04-24 13:...\n",
      "\t\"2017-08-21 18:...\n",
      "\t\"2019-12-03 08:...\n",
      "\t\"2022-12-29 14:...\n",
      "\t\"2021-12-09 08:...\n",
      "\t\"2021-07-29 17:...\n",
      "\t\"2023-01-30 11:...\n",
      "\t\"2019-01-30 18:...\n",
      "\t\"2020-08-28 16:...\n",
      "\t\"2019-07-24 13:...\n",
      "\t\"2022-06-11 19:...\n",
      "\t...\n",
      "\t\"2020-07-13 17:...\n",
      "\t\"2022-09-08 17:...\n",
      "\t\"2021-01-15 21:...\n",
      "\t\"2020-01-01 22:...\n",
      "\t\"2021-06-08 23:...\n",
      "\t\"2022-06-10 03:...\n",
      "\t\"2017-01-12 17:...\n",
      "\t\"2020-08-24 11:...\n",
      "\t\"2019-10-10 11:...\n",
      "\t\"2018-03-09 18:...\n",
      "\t\"2021-05-24 23:...\n",
      "\t\"2020-06-24 14:...\n",
      "\t\"2020-11-03 11:...\n",
      "]\n",
      "Start_Lat: shape: (2449172,)\n",
      "Series: 'Start_Lat' [f64]\n",
      "[\n",
      "\t24.5548\n",
      "\t24.555269\n",
      "\t24.5574\n",
      "\t24.559731\n",
      "\t24.55987\n",
      "\t24.560246\n",
      "\t24.560688\n",
      "\t24.562117\n",
      "\t24.563089\n",
      "\t24.566027\n",
      "\t24.566999\n",
      "\t24.567459\n",
      "\t...\n",
      "\t48.99838\n",
      "\t48.998445\n",
      "\t48.99951\n",
      "\t48.999569\n",
      "\t48.999901\n",
      "\t49.00026\n",
      "\t49.000269\n",
      "\t49.000493\n",
      "\t49.000504\n",
      "\t49.00056\n",
      "\t49.00058\n",
      "\t49.000759\n",
      "\t49.002201\n",
      "]\n",
      "Start_Lng: shape: (2493905,)\n",
      "Series: 'Start_Lng' [f64]\n",
      "[\n",
      "\t-67.113167\n",
      "\t-67.403551\n",
      "\t-67.48413\n",
      "\t-67.553307\n",
      "\t-67.606864\n",
      "\t-67.606875\n",
      "\t-67.614387\n",
      "\t-67.626576\n",
      "\t-67.70337\n",
      "\t-67.709053\n",
      "\t-67.739696\n",
      "\t-67.78734\n",
      "\t...\n",
      "\t-124.497523\n",
      "\t-124.497567\n",
      "\t-124.497585\n",
      "\t-124.511949\n",
      "\t-124.512297\n",
      "\t-124.531602\n",
      "\t-124.534439\n",
      "\t-124.535726\n",
      "\t-124.535893\n",
      "\t-124.539056\n",
      "\t-124.541015\n",
      "\t-124.548074\n",
      "\t-124.623833\n",
      "]\n",
      "End_Lat: shape: (1568233,)\n",
      "Series: 'End_Lat' [f64]\n",
      "[\n",
      "\tnull\n",
      "\t24.566013\n",
      "\t24.569978\n",
      "\t24.570107\n",
      "\t24.57011\n",
      "\t24.57018\n",
      "\t24.57029\n",
      "\t24.57036\n",
      "\t24.570461\n",
      "\t24.57124\n",
      "\t24.57126\n",
      "\t24.571309\n",
      "\t...\n",
      "\t48.999157\n",
      "\t48.99928\n",
      "\t48.999922\n",
      "\t48.999966\n",
      "\t49.000025\n",
      "\t49.00056\n",
      "\t49.000641\n",
      "\t49.00076\n",
      "\t49.000769\n",
      "\t49.002025\n",
      "\t49.00214\n",
      "\t49.002223\n",
      "\t49.075\n",
      "]\n",
      "End_Lng: shape: (1605836,)\n",
      "Series: 'End_Lng' [f64]\n",
      "[\n",
      "\tnull\n",
      "\t-67.109242\n",
      "\t-67.40355\n",
      "\t-67.48413\n",
      "\t-67.606864\n",
      "\t-67.62034\n",
      "\t-67.626576\n",
      "\t-67.626605\n",
      "\t-67.706448\n",
      "\t-67.739817\n",
      "\t-67.78734\n",
      "\t-67.84011\n",
      "\t...\n",
      "\t-124.497442\n",
      "\t-124.49747\n",
      "\t-124.497478\n",
      "\t-124.497829\n",
      "\t-124.509263\n",
      "\t-124.512297\n",
      "\t-124.531602\n",
      "\t-124.535726\n",
      "\t-124.535893\n",
      "\t-124.539056\n",
      "\t-124.543727\n",
      "\t-124.544508\n",
      "\t-124.545748\n",
      "]\n",
      "Distance(mi): shape: (22382,)\n",
      "Series: 'Distance(mi)' [f64]\n",
      "[\n",
      "\t0.0\n",
      "\t0.001\n",
      "\t0.002\n",
      "\t0.003\n",
      "\t0.004\n",
      "\t0.005\n",
      "\t0.006\n",
      "\t0.007\n",
      "\t0.008\n",
      "\t0.009\n",
      "\t0.01\n",
      "\t0.01\n",
      "\t...\n",
      "\t176.279999\n",
      "\t183.119995\n",
      "\t193.479996\n",
      "\t194.729996\n",
      "\t210.080002\n",
      "\t224.589996\n",
      "\t227.210007\n",
      "\t242.339996\n",
      "\t251.220001\n",
      "\t254.399994\n",
      "\t333.630005\n",
      "\t336.570007\n",
      "\t441.75\n",
      "]\n",
      "Description: shape: (3761579,)\n",
      "Series: 'Description' [str]\n",
      "[\n",
      "\t\"Accident on I-...\n",
      "\t\"Closed between...\n",
      "\t\"Accident on LA...\n",
      "\t\"Lane blocked d...\n",
      "\t\"Right hand sho...\n",
      "\t\"Accident on Ca...\n",
      "\t\"Accident on 90...\n",
      "\t\"Accident on FL...\n",
      "\t\"Incident on MT...\n",
      "\t\"Lane blocked d...\n",
      "\t\"Between High F...\n",
      "\t\"Stationary tra...\n",
      "\t...\n",
      "\t\"Accident on No...\n",
      "\t\"Accident on I-...\n",
      "\t\"Crash on Tryon...\n",
      "\t\"Delays due to ...\n",
      "\t\"Incident on SW...\n",
      "\t\"Accident on I-...\n",
      "\t\"Two lanes bloc...\n",
      "\t\"2 right lane b...\n",
      "\t\"Incident on W ...\n",
      "\t\"Lane blocked d...\n",
      "\t\"Left lane clos...\n",
      "\t\"Crash on SC-70...\n",
      "\t\"2 right lane b...\n",
      "]\n",
      "Street: shape: (336307,)\n",
      "Series: 'Street' [str]\n",
      "[\n",
      "\t\"Village Xing\"\n",
      "\t\"Halcyon Cir\"\n",
      "\t\"Gunter Ln\"\n",
      "\t\"Twin Lane Rd\"\n",
      "\t\"Vermont Maple ...\n",
      "\t\"Lords Chapel D...\n",
      "\t\"Cammy Ave\"\n",
      "\t\"SE Timberwolf ...\n",
      "\t\" Kerrwood Ln\"\n",
      "\t\" Brinckerhoff ...\n",
      "\t\" Paladia Way\"\n",
      "\t\" Auto Centre D...\n",
      "\t...\n",
      "\t\"Abernathy Rd N...\n",
      "\t\"N Lemon Ave\"\n",
      "\t\" Mary St W\"\n",
      "\t\" NE North Vall...\n",
      "\t\"Hayden St\"\n",
      "\t\"Simfield Churc...\n",
      "\t\" Deer Park Cir...\n",
      "\t\" Woodmar Ct\"\n",
      "\t\" Elphick Rd\"\n",
      "\t\" Gates Pointe ...\n",
      "\t\"Clara Barton P...\n",
      "\t\" E Hackett Rd\"\n",
      "\t\" Trail Dr\"\n",
      "]\n",
      "City: shape: (13679,)\n",
      "Series: 'City' [str]\n",
      "[\n",
      "\t\"Brush Prairie\"\n",
      "\t\"Humble\"\n",
      "\t\"San Ysidro\"\n",
      "\t\"Chelsea\"\n",
      "\t\"Santa Rosa Bea...\n",
      "\t\"Branscomb\"\n",
      "\t\"Monetta\"\n",
      "\t\"Lignum\"\n",
      "\t\"Running Spring...\n",
      "\t\"Lusk\"\n",
      "\t\"Osterville\"\n",
      "\t\"Pattonsburg\"\n",
      "\t...\n",
      "\t\"Mound Bayou\"\n",
      "\t\"St Matthews\"\n",
      "\t\"Grosse Pointe\"\n",
      "\t\"Pequannock\"\n",
      "\t\"Paxton\"\n",
      "\t\"Duncansville\"\n",
      "\t\"Tower City\"\n",
      "\t\"Collegeville\"\n",
      "\t\"Ghent\"\n",
      "\t\"Downsville\"\n",
      "\t\"Ford City\"\n",
      "\t\"Summerville\"\n",
      "\t\"Berea\"\n",
      "]\n",
      "County: shape: (1871,)\n",
      "Series: 'County' [str]\n",
      "[\n",
      "\t\"Norfolk (City)...\n",
      "\t\"Las Animas\"\n",
      "\t\"Lamb\"\n",
      "\t\"Yuma\"\n",
      "\t\"Rio Arriba\"\n",
      "\t\"Vermillion\"\n",
      "\t\"Davie\"\n",
      "\t\"Polk\"\n",
      "\t\"Covington City...\n",
      "\t\"Western Connec...\n",
      "\t\"Lancaster\"\n",
      "\t\"Kosciusko\"\n",
      "\t...\n",
      "\t\"Kitsap\"\n",
      "\t\"Whitman\"\n",
      "\t\"Scotland\"\n",
      "\t\"Wilkin\"\n",
      "\t\"Powell\"\n",
      "\t\"Johnson\"\n",
      "\t\"Preble\"\n",
      "\t\"Clark\"\n",
      "\t\"Pacific\"\n",
      "\t\"Skagit\"\n",
      "\t\"Lapeer\"\n",
      "\t\"Laurel\"\n",
      "\t\"Fairfax County...\n",
      "]\n",
      "State: shape: (49,)\n",
      "Series: 'State' [str]\n",
      "[\n",
      "\t\"NJ\"\n",
      "\t\"TN\"\n",
      "\t\"VT\"\n",
      "\t\"VA\"\n",
      "\t\"MN\"\n",
      "\t\"MT\"\n",
      "\t\"AR\"\n",
      "\t\"MS\"\n",
      "\t\"NM\"\n",
      "\t\"DC\"\n",
      "\t\"IA\"\n",
      "\t\"MI\"\n",
      "\t...\n",
      "\t\"KY\"\n",
      "\t\"WI\"\n",
      "\t\"WY\"\n",
      "\t\"MA\"\n",
      "\t\"MD\"\n",
      "\t\"LA\"\n",
      "\t\"AZ\"\n",
      "\t\"OR\"\n",
      "\t\"ND\"\n",
      "\t\"FL\"\n",
      "\t\"CT\"\n",
      "\t\"KS\"\n",
      "\t\"ID\"\n",
      "]\n",
      "Zipcode: shape: (825095,)\n",
      "Series: 'Zipcode' [str]\n",
      "[\n",
      "\t\"94025-1829\"\n",
      "\t\"33174-1077\"\n",
      "\t\"47711-1977\"\n",
      "\t\"08075-4022\"\n",
      "\t\"93455-4744\"\n",
      "\t\"55009-7136\"\n",
      "\t\"70806-4125\"\n",
      "\t\"12522-5911\"\n",
      "\t\"14619-2136\"\n",
      "\t\"19464-5350\"\n",
      "\t\"95616-9500\"\n",
      "\t\"77004-4437\"\n",
      "\t...\n",
      "\t\"71108-3816\"\n",
      "\t\"55810-2317\"\n",
      "\t\"17408-4819\"\n",
      "\t\"17543-8920\"\n",
      "\t\"91722-2233\"\n",
      "\t\"98443-2637\"\n",
      "\t\"17325-7942\"\n",
      "\t\"32547-1472\"\n",
      "\t\"95836\"\n",
      "\t\"33541-1170\"\n",
      "\t\"97439-9757\"\n",
      "\t\"75208-3137\"\n",
      "\t\"90004-1109\"\n",
      "]\n",
      "Country: shape: (1,)\n",
      "Series: 'Country' [str]\n",
      "[\n",
      "\t\"US\"\n",
      "]\n",
      "Timezone: shape: (5,)\n",
      "Series: 'Timezone' [str]\n",
      "[\n",
      "\t\"US/Pacific\"\n",
      "\t\"US/Central\"\n",
      "\t\"US/Mountain\"\n",
      "\t\"US/Eastern\"\n",
      "\tnull\n",
      "]\n",
      "Airport_Code: shape: (2046,)\n",
      "Series: 'Airport_Code' [str]\n",
      "[\n",
      "\t\"KAFF\"\n",
      "\t\"KCIU\"\n",
      "\t\"KD55\"\n",
      "\t\"KSIY\"\n",
      "\t\"KBIJ\"\n",
      "\t\"KJSV\"\n",
      "\t\"KPHN\"\n",
      "\t\"KP67\"\n",
      "\t\"KTIF\"\n",
      "\t\"KEZF\"\n",
      "\t\"KVQQ\"\n",
      "\t\"KFSE\"\n",
      "\t...\n",
      "\t\"KONZ\"\n",
      "\t\"KTVF\"\n",
      "\t\"KGON\"\n",
      "\t\"KRBD\"\n",
      "\t\"KN03\"\n",
      "\t\"KBIX\"\n",
      "\t\"KLDM\"\n",
      "\t\"KARM\"\n",
      "\t\"KEZS\"\n",
      "\t\"KCNO\"\n",
      "\t\"KSDY\"\n",
      "\t\"KTPA\"\n",
      "\t\"KHNB\"\n",
      "]\n",
      "Weather_Timestamp: shape: (941332,)\n",
      "Series: 'Weather_Timestamp' [str]\n",
      "[\n",
      "\t\"2022-06-30 18:...\n",
      "\t\"2022-06-30 04:...\n",
      "\t\"2022-08-20 09:...\n",
      "\t\"2019-07-12 18:...\n",
      "\t\"2022-03-04 18:...\n",
      "\t\"2018-01-09 12:...\n",
      "\t\"2017-07-28 15:...\n",
      "\t\"2016-12-03 18:...\n",
      "\t\"2018-09-06 16:...\n",
      "\t\"2019-10-01 05:...\n",
      "\t\"2020-11-27 11:...\n",
      "\t\"2019-03-24 18:...\n",
      "\t...\n",
      "\t\"2019-09-30 05:...\n",
      "\t\"2020-04-13 06:...\n",
      "\t\"2019-12-17 16:...\n",
      "\t\"2017-05-11 08:...\n",
      "\t\"2022-09-29 04:...\n",
      "\t\"2020-02-01 09:...\n",
      "\t\"2019-10-11 07:...\n",
      "\t\"2020-03-26 16:...\n",
      "\t\"2021-04-16 10:...\n",
      "\t\"2017-05-20 13:...\n",
      "\t\"2021-12-11 10:...\n",
      "\t\"2020-02-09 08:...\n",
      "\t\"2022-06-29 17:...\n",
      "]\n",
      "Temperature(F): shape: (862,)\n",
      "Series: 'Temperature(F)' [f64]\n",
      "[\n",
      "\tnull\n",
      "\t0.0\n",
      "\t0.1\n",
      "\t0.3\n",
      "\t0.5\n",
      "\t0.7\n",
      "\t0.9\n",
      "\t1.0\n",
      "\t1.2\n",
      "\t1.4\n",
      "\t1.6\n",
      "\t1.8\n",
      "\t...\n",
      "\t-32.8\n",
      "\t-33.0\n",
      "\t-35.0\n",
      "\t-36.0\n",
      "\t-37.0\n",
      "\t-38.0\n",
      "\t-40.0\n",
      "\t-44.0\n",
      "\t-45.0\n",
      "\t-50.0\n",
      "\t-58.0\n",
      "\t-77.8\n",
      "\t-89.0\n",
      "]\n",
      "Wind_Chill(F): shape: (1002,)\n",
      "Series: 'Wind_Chill(F)' [f64]\n",
      "[\n",
      "\tnull\n",
      "\t0.0\n",
      "\t0.1\n",
      "\t0.2\n",
      "\t0.3\n",
      "\t0.4\n",
      "\t0.5\n",
      "\t0.6\n",
      "\t0.7\n",
      "\t0.8\n",
      "\t0.9\n",
      "\t1.0\n",
      "\t...\n",
      "\t-53.5\n",
      "\t-53.6\n",
      "\t-54.0\n",
      "\t-54.1\n",
      "\t-55.0\n",
      "\t-55.1\n",
      "\t-58.0\n",
      "\t-59.0\n",
      "\t-63.0\n",
      "\t-65.9\n",
      "\t-69.0\n",
      "\t-80.0\n",
      "\t-89.0\n",
      "]\n",
      "Humidity(%): shape: (101,)\n",
      "Series: 'Humidity(%)' [f64]\n",
      "[\n",
      "\tnull\n",
      "\t1.0\n",
      "\t2.0\n",
      "\t3.0\n",
      "\t4.0\n",
      "\t5.0\n",
      "\t6.0\n",
      "\t7.0\n",
      "\t8.0\n",
      "\t9.0\n",
      "\t10.0\n",
      "\t11.0\n",
      "\t...\n",
      "\t88.0\n",
      "\t89.0\n",
      "\t90.0\n",
      "\t91.0\n",
      "\t92.0\n",
      "\t93.0\n",
      "\t94.0\n",
      "\t95.0\n",
      "\t96.0\n",
      "\t97.0\n",
      "\t98.0\n",
      "\t99.0\n",
      "\t100.0\n",
      "]\n",
      "Pressure(in): shape: (1145,)\n",
      "Series: 'Pressure(in)' [f64]\n",
      "[\n",
      "\tnull\n",
      "\t0.0\n",
      "\t0.02\n",
      "\t0.12\n",
      "\t0.29\n",
      "\t0.3\n",
      "\t0.39\n",
      "\t2.98\n",
      "\t2.99\n",
      "\t3.0\n",
      "\t3.01\n",
      "\t3.04\n",
      "\t...\n",
      "\t39.45\n",
      "\t52.76\n",
      "\t56.31\n",
      "\t56.54\n",
      "\t57.54\n",
      "\t57.74\n",
      "\t58.03\n",
      "\t58.04\n",
      "\t58.1\n",
      "\t58.13\n",
      "\t58.32\n",
      "\t58.39\n",
      "\t58.63\n",
      "]\n",
      "Visibility(mi): shape: (93,)\n",
      "Series: 'Visibility(mi)' [f64]\n",
      "[\n",
      "\tnull\n",
      "\t0.0\n",
      "\t0.06\n",
      "\t0.1\n",
      "\t0.12\n",
      "\t0.19\n",
      "\t0.2\n",
      "\t0.25\n",
      "\t0.31\n",
      "\t0.38\n",
      "\t0.4\n",
      "\t0.5\n",
      "\t...\n",
      "\t76.0\n",
      "\t78.0\n",
      "\t80.0\n",
      "\t90.0\n",
      "\t98.0\n",
      "\t100.0\n",
      "\t101.0\n",
      "\t105.0\n",
      "\t110.0\n",
      "\t111.0\n",
      "\t120.0\n",
      "\t130.0\n",
      "\t140.0\n",
      "]\n",
      "Wind_Direction: shape: (25,)\n",
      "Series: 'Wind_Direction' [str]\n",
      "[\n",
      "\t\"E\"\n",
      "\t\"West\"\n",
      "\t\"ENE\"\n",
      "\t\"NW\"\n",
      "\t\"North\"\n",
      "\t\"South\"\n",
      "\t\"Calm\"\n",
      "\t\"VAR\"\n",
      "\t\"S\"\n",
      "\t\"East\"\n",
      "\t\"SW\"\n",
      "\t\"N\"\n",
      "\t\"CALM\"\n",
      "\t\"W\"\n",
      "\t\"NNE\"\n",
      "\t\"Variable\"\n",
      "\t\"NE\"\n",
      "\t\"SE\"\n",
      "\tnull\n",
      "\t\"SSE\"\n",
      "\t\"WSW\"\n",
      "\t\"ESE\"\n",
      "\t\"NNW\"\n",
      "\t\"WNW\"\n",
      "\t\"SSW\"\n",
      "]\n",
      "Wind_Speed(mph): shape: (185,)\n",
      "Series: 'Wind_Speed(mph)' [f64]\n",
      "[\n",
      "\tnull\n",
      "\t0.0\n",
      "\t1.0\n",
      "\t1.2\n",
      "\t2.0\n",
      "\t2.3\n",
      "\t3.0\n",
      "\t3.5\n",
      "\t4.6\n",
      "\t5.0\n",
      "\t5.8\n",
      "\t6.0\n",
      "\t...\n",
      "\t243.0\n",
      "\t245.1\n",
      "\t254.3\n",
      "\t255.0\n",
      "\t328.0\n",
      "\t471.8\n",
      "\t518.0\n",
      "\t580.0\n",
      "\t703.1\n",
      "\t812.0\n",
      "\t822.8\n",
      "\t984.0\n",
      "\t1087.0\n",
      "]\n",
      "Precipitation(in): shape: (300,)\n",
      "Series: 'Precipitation(in)' [f64]\n",
      "[\n",
      "\tnull\n",
      "\t0.0\n",
      "\t0.01\n",
      "\t0.02\n",
      "\t0.03\n",
      "\t0.04\n",
      "\t0.05\n",
      "\t0.06\n",
      "\t0.07\n",
      "\t0.08\n",
      "\t0.09\n",
      "\t0.1\n",
      "\t...\n",
      "\t10.09\n",
      "\t10.1\n",
      "\t10.11\n",
      "\t10.13\n",
      "\t10.14\n",
      "\t10.16\n",
      "\t10.18\n",
      "\t10.4\n",
      "\t10.8\n",
      "\t23.97\n",
      "\t24.0\n",
      "\t25.0\n",
      "\t36.47\n",
      "]\n",
      "Weather_Condition: shape: (145,)\n",
      "Series: 'Weather_Condition' [str]\n",
      "[\n",
      "\t\"Heavy Sleet / ...\n",
      "\t\"Drifting Snow ...\n",
      "\t\"Light Snow Sho...\n",
      "\t\"Fog\"\n",
      "\t\"Light Thunders...\n",
      "\t\"Light Snow Sho...\n",
      "\t\"Light Snow and...\n",
      "\t\"Patches of Fog...\n",
      "\t\"Light Drizzle ...\n",
      "\t\"Drizzle\"\n",
      "\t\"Heavy Rain Sho...\n",
      "\t\"Showers in the...\n",
      "\t...\n",
      "\t\"Dust Whirls\"\n",
      "\t\"Snow Grains\"\n",
      "\t\"Thunder / Wint...\n",
      "\t\"Light Sleet\"\n",
      "\t\"Smoke / Windy\"\n",
      "\t\"Fog / Windy\"\n",
      "\t\"Light Drizzle\"\n",
      "\t\"Light Rain wit...\n",
      "\t\"Light Thunders...\n",
      "\t\"Light Snow Sho...\n",
      "\t\"Tornado\"\n",
      "\t\"Light Rain Sho...\n",
      "\t\"Heavy Freezing...\n",
      "]\n",
      "Amenity: shape: (2,)\n",
      "Series: 'Amenity' [bool]\n",
      "[\n",
      "\tfalse\n",
      "\ttrue\n",
      "]\n",
      "Bump: shape: (2,)\n",
      "Series: 'Bump' [bool]\n",
      "[\n",
      "\tfalse\n",
      "\ttrue\n",
      "]\n",
      "Crossing: shape: (2,)\n",
      "Series: 'Crossing' [bool]\n",
      "[\n",
      "\tfalse\n",
      "\ttrue\n",
      "]\n",
      "Give_Way: shape: (2,)\n",
      "Series: 'Give_Way' [bool]\n",
      "[\n",
      "\tfalse\n",
      "\ttrue\n",
      "]\n",
      "Junction: shape: (2,)\n",
      "Series: 'Junction' [bool]\n",
      "[\n",
      "\tfalse\n",
      "\ttrue\n",
      "]\n",
      "No_Exit: shape: (2,)\n",
      "Series: 'No_Exit' [bool]\n",
      "[\n",
      "\tfalse\n",
      "\ttrue\n",
      "]\n",
      "Railway: shape: (2,)\n",
      "Series: 'Railway' [bool]\n",
      "[\n",
      "\tfalse\n",
      "\ttrue\n",
      "]\n",
      "Roundabout: shape: (2,)\n",
      "Series: 'Roundabout' [bool]\n",
      "[\n",
      "\tfalse\n",
      "\ttrue\n",
      "]\n",
      "Station: shape: (2,)\n",
      "Series: 'Station' [bool]\n",
      "[\n",
      "\tfalse\n",
      "\ttrue\n",
      "]\n",
      "Stop: shape: (2,)\n",
      "Series: 'Stop' [bool]\n",
      "[\n",
      "\tfalse\n",
      "\ttrue\n",
      "]\n",
      "Traffic_Calming: shape: (2,)\n",
      "Series: 'Traffic_Calming' [bool]\n",
      "[\n",
      "\tfalse\n",
      "\ttrue\n",
      "]\n",
      "Traffic_Signal: shape: (2,)\n",
      "Series: 'Traffic_Signal' [bool]\n",
      "[\n",
      "\tfalse\n",
      "\ttrue\n",
      "]\n",
      "Turning_Loop: shape: (1,)\n",
      "Series: 'Turning_Loop' [bool]\n",
      "[\n",
      "\tfalse\n",
      "]\n",
      "Sunrise_Sunset: shape: (3,)\n",
      "Series: 'Sunrise_Sunset' [str]\n",
      "[\n",
      "\t\"Night\"\n",
      "\tnull\n",
      "\t\"Day\"\n",
      "]\n",
      "Civil_Twilight: shape: (3,)\n",
      "Series: 'Civil_Twilight' [str]\n",
      "[\n",
      "\t\"Night\"\n",
      "\t\"Day\"\n",
      "\tnull\n",
      "]\n",
      "Nautical_Twilight: shape: (3,)\n",
      "Series: 'Nautical_Twilight' [str]\n",
      "[\n",
      "\tnull\n",
      "\t\"Night\"\n",
      "\t\"Day\"\n",
      "]\n",
      "Astronomical_Twilight: shape: (3,)\n",
      "Series: 'Astronomical_Twilight' [str]\n",
      "[\n",
      "\tnull\n",
      "\t\"Day\"\n",
      "\t\"Night\"\n",
      "]\n"
     ]
    }
   ],
   "source": [
    "#look through some of the variables with low number of unique entries\n",
    "#Side has ' '\n",
    "#Wind direction has repeats with different spellings\n",
    "#Weather condition has some repeats (e.g., 'heavy rain shower' and 'heavy rain showers')\n",
    "for col in accident_data.columns:\n",
    "    print(f'{col}: {accident_data[col].unique()}')"
   ],
   "metadata": {
    "collapsed": false,
    "pycharm": {
     "name": "#%%\n"
    }
   }
  },
  {
   "cell_type": "code",
   "execution_count": null,
   "outputs": [],
   "source": [],
   "metadata": {
    "collapsed": false,
    "pycharm": {
     "name": "#%%\n"
    }
   }
  },
  {
   "cell_type": "code",
   "execution_count": 9,
   "outputs": [
    {
     "data": {
      "text/plain": "True"
     },
     "execution_count": 9,
     "metadata": {},
     "output_type": "execute_result"
    }
   ],
   "source": [
    "accident_data['ID'].is_unique().all()"
   ],
   "metadata": {
    "collapsed": false,
    "pycharm": {
     "name": "#%%\n"
    }
   }
  },
  {
   "cell_type": "code",
   "execution_count": 10,
   "outputs": [],
   "source": [
    "#EDA\n",
    "#create dataframe of variables collected at airport for airport_code with null values (i.e., no airport information)\n",
    "\n",
    "weather_info = accident_data.filter(pl.col(\"Airport_Code\").is_null()).select([\n",
    "    'Airport_Code', 'Weather_Timestamp', 'Temperature(F)', 'Wind_Chill(F)',\n",
    "    'Humidity(%)', 'Pressure(in)', 'Visibility(mi)', 'Wind_Direction',\n",
    "    'Wind_Speed(mph)', 'Precipitation(in)', 'Weather_Condition'\n",
    "])"
   ],
   "metadata": {
    "collapsed": false,
    "pycharm": {
     "name": "#%%\n"
    }
   }
  },
  {
   "cell_type": "code",
   "execution_count": 11,
   "outputs": [
    {
     "data": {
      "text/plain": "shape: (22635, 11)\n┌──────────────┬───────────────────┬────────────────┬───────────────┬─────┬────────────────┬─────────────────┬───────────────────┬───────────────────┐\n│ Airport_Code ┆ Weather_Timestamp ┆ Temperature(F) ┆ Wind_Chill(F) ┆ ... ┆ Wind_Direction ┆ Wind_Speed(mph) ┆ Precipitation(in) ┆ Weather_Condition │\n│ ---          ┆ ---               ┆ ---            ┆ ---           ┆     ┆ ---            ┆ ---             ┆ ---               ┆ ---               │\n│ str          ┆ str               ┆ f64            ┆ f64           ┆     ┆ str            ┆ f64             ┆ f64               ┆ str               │\n╞══════════════╪═══════════════════╪════════════════╪═══════════════╪═════╪════════════════╪═════════════════╪═══════════════════╪═══════════════════╡\n│ null         ┆ null              ┆ null           ┆ null          ┆ ... ┆ null           ┆ null            ┆ null              ┆ null              │\n│ null         ┆ null              ┆ null           ┆ null          ┆ ... ┆ null           ┆ null            ┆ null              ┆ null              │\n│ null         ┆ null              ┆ null           ┆ null          ┆ ... ┆ null           ┆ null            ┆ null              ┆ null              │\n│ null         ┆ null              ┆ null           ┆ null          ┆ ... ┆ null           ┆ null            ┆ null              ┆ null              │\n│ ...          ┆ ...               ┆ ...            ┆ ...           ┆ ... ┆ ...            ┆ ...             ┆ ...               ┆ ...               │\n│ null         ┆ null              ┆ null           ┆ null          ┆ ... ┆ null           ┆ null            ┆ null              ┆ null              │\n│ null         ┆ null              ┆ null           ┆ null          ┆ ... ┆ null           ┆ null            ┆ null              ┆ null              │\n│ null         ┆ null              ┆ null           ┆ null          ┆ ... ┆ null           ┆ null            ┆ null              ┆ null              │\n│ null         ┆ null              ┆ null           ┆ null          ┆ ... ┆ null           ┆ null            ┆ null              ┆ null              │\n└──────────────┴───────────────────┴────────────────┴───────────────┴─────┴────────────────┴─────────────────┴───────────────────┴───────────────────┘",
      "text/html": "<div><style>\n.dataframe > thead > tr > th,\n.dataframe > tbody > tr > td {\n  text-align: right;\n}\n</style>\n<small>shape: (22635, 11)</small><table border=\"1\" class=\"dataframe\"><thead><tr><th>Airport_Code</th><th>Weather_Timestamp</th><th>Temperature(F)</th><th>Wind_Chill(F)</th><th>Humidity(%)</th><th>Pressure(in)</th><th>Visibility(mi)</th><th>Wind_Direction</th><th>Wind_Speed(mph)</th><th>Precipitation(in)</th><th>Weather_Condition</th></tr><tr><td>str</td><td>str</td><td>f64</td><td>f64</td><td>f64</td><td>f64</td><td>f64</td><td>str</td><td>f64</td><td>f64</td><td>str</td></tr></thead><tbody><tr><td>null</td><td>null</td><td>null</td><td>null</td><td>null</td><td>null</td><td>null</td><td>null</td><td>null</td><td>null</td><td>null</td></tr><tr><td>null</td><td>null</td><td>null</td><td>null</td><td>null</td><td>null</td><td>null</td><td>null</td><td>null</td><td>null</td><td>null</td></tr><tr><td>null</td><td>null</td><td>null</td><td>null</td><td>null</td><td>null</td><td>null</td><td>null</td><td>null</td><td>null</td><td>null</td></tr><tr><td>null</td><td>null</td><td>null</td><td>null</td><td>null</td><td>null</td><td>null</td><td>null</td><td>null</td><td>null</td><td>null</td></tr><tr><td>null</td><td>null</td><td>null</td><td>null</td><td>null</td><td>null</td><td>null</td><td>null</td><td>null</td><td>null</td><td>null</td></tr><tr><td>null</td><td>null</td><td>null</td><td>null</td><td>null</td><td>null</td><td>null</td><td>null</td><td>null</td><td>null</td><td>null</td></tr><tr><td>null</td><td>null</td><td>null</td><td>null</td><td>null</td><td>null</td><td>null</td><td>null</td><td>null</td><td>null</td><td>null</td></tr><tr><td>null</td><td>null</td><td>null</td><td>null</td><td>null</td><td>null</td><td>null</td><td>null</td><td>null</td><td>null</td><td>null</td></tr><tr><td>null</td><td>null</td><td>null</td><td>null</td><td>null</td><td>null</td><td>null</td><td>null</td><td>null</td><td>null</td><td>null</td></tr><tr><td>null</td><td>null</td><td>null</td><td>null</td><td>null</td><td>null</td><td>null</td><td>null</td><td>null</td><td>null</td><td>null</td></tr><tr><td>null</td><td>null</td><td>null</td><td>null</td><td>null</td><td>null</td><td>null</td><td>null</td><td>null</td><td>null</td><td>null</td></tr><tr><td>null</td><td>null</td><td>null</td><td>null</td><td>null</td><td>null</td><td>null</td><td>null</td><td>null</td><td>null</td><td>null</td></tr><tr><td>...</td><td>...</td><td>...</td><td>...</td><td>...</td><td>...</td><td>...</td><td>...</td><td>...</td><td>...</td><td>...</td></tr><tr><td>null</td><td>null</td><td>null</td><td>null</td><td>null</td><td>null</td><td>null</td><td>null</td><td>null</td><td>null</td><td>null</td></tr><tr><td>null</td><td>null</td><td>null</td><td>null</td><td>null</td><td>null</td><td>null</td><td>null</td><td>null</td><td>null</td><td>null</td></tr><tr><td>null</td><td>null</td><td>null</td><td>null</td><td>null</td><td>null</td><td>null</td><td>null</td><td>null</td><td>null</td><td>null</td></tr><tr><td>null</td><td>null</td><td>null</td><td>null</td><td>null</td><td>null</td><td>null</td><td>null</td><td>null</td><td>null</td><td>null</td></tr><tr><td>null</td><td>null</td><td>null</td><td>null</td><td>null</td><td>null</td><td>null</td><td>null</td><td>null</td><td>null</td><td>null</td></tr><tr><td>null</td><td>null</td><td>null</td><td>null</td><td>null</td><td>null</td><td>null</td><td>null</td><td>null</td><td>null</td><td>null</td></tr><tr><td>null</td><td>null</td><td>null</td><td>null</td><td>null</td><td>null</td><td>null</td><td>null</td><td>null</td><td>null</td><td>null</td></tr><tr><td>null</td><td>null</td><td>null</td><td>null</td><td>null</td><td>null</td><td>null</td><td>null</td><td>null</td><td>null</td><td>null</td></tr><tr><td>null</td><td>null</td><td>null</td><td>null</td><td>null</td><td>null</td><td>null</td><td>null</td><td>null</td><td>null</td><td>null</td></tr><tr><td>null</td><td>null</td><td>null</td><td>null</td><td>null</td><td>null</td><td>null</td><td>null</td><td>null</td><td>null</td><td>null</td></tr><tr><td>null</td><td>null</td><td>null</td><td>null</td><td>null</td><td>null</td><td>null</td><td>null</td><td>null</td><td>null</td><td>null</td></tr><tr><td>null</td><td>null</td><td>null</td><td>null</td><td>null</td><td>null</td><td>null</td><td>null</td><td>null</td><td>null</td><td>null</td></tr></tbody></table></div>"
     },
     "execution_count": 11,
     "metadata": {},
     "output_type": "execute_result"
    }
   ],
   "source": [
    "weather_info"
   ],
   "metadata": {
    "collapsed": false,
    "pycharm": {
     "name": "#%%\n"
    }
   }
  },
  {
   "cell_type": "code",
   "execution_count": 13,
   "outputs": [
    {
     "name": "stdout",
     "output_type": "stream",
     "text": [
      "Percentage null when Airport_Code is null:\n",
      "Airport_Code: 100.0%\n",
      "Weather_Timestamp: 100.0%\n",
      "Temperature(F): 100.0%\n",
      "Wind_Chill(F): 100.0%\n",
      "Humidity(%): 100.0%\n",
      "Pressure(in): 100.0%\n",
      "Visibility(mi): 100.0%\n",
      "Wind_Direction: 100.0%\n",
      "Wind_Speed(mph): 100.0%\n",
      "Precipitation(in): 100.0%\n",
      "Weather_Condition: 100.0%\n"
     ]
    }
   ],
   "source": [
    "#EDA\n",
    "#all records that are missing an airport_code are also missing weather information\n",
    "print('Percentage null when Airport_Code is null:')\n",
    "for weather in weather_info.columns:\n",
    "    missing_percentage = weather_info[weather].is_null().sum() / len(weather_info) * 100\n",
    "    print(f'{weather}: {missing_percentage}%')"
   ],
   "metadata": {
    "collapsed": false,
    "pycharm": {
     "name": "#%%\n"
    }
   }
  },
  {
   "cell_type": "code",
   "execution_count": 15,
   "outputs": [
    {
     "data": {
      "text/plain": "shape: (4991718, 46)\n┌───────────┬─────────┬──────────┬─────────────────────┬─────┬────────────────┬────────────────┬───────────────────┬───────────────────────┐\n│ ID        ┆ Source  ┆ Severity ┆ Start_Time          ┆ ... ┆ Sunrise_Sunset ┆ Civil_Twilight ┆ Nautical_Twilight ┆ Astronomical_Twilight │\n│ ---       ┆ ---     ┆ ---      ┆ ---                 ┆     ┆ ---            ┆ ---            ┆ ---               ┆ ---                   │\n│ str       ┆ str     ┆ i64      ┆ str                 ┆     ┆ str            ┆ str            ┆ str               ┆ str                   │\n╞═══════════╪═════════╪══════════╪═════════════════════╪═════╪════════════════╪════════════════╪═══════════════════╪═══════════════════════╡\n│ A-2       ┆ Source2 ┆ 2        ┆ 2016-02-08 06:07:59 ┆ ... ┆ Night          ┆ Night          ┆ Night             ┆ Day                   │\n│ A-24      ┆ Source2 ┆ 3        ┆ 2016-02-08 12:00:00 ┆ ... ┆ Day            ┆ Day            ┆ Day               ┆ Day                   │\n│ A-27      ┆ Source2 ┆ 2        ┆ 2016-02-08 12:52:05 ┆ ... ┆ Day            ┆ Day            ┆ Day               ┆ Day                   │\n│ A-28      ┆ Source2 ┆ 2        ┆ 2016-02-08 14:24:48 ┆ ... ┆ Day            ┆ Day            ┆ Day               ┆ Day                   │\n│ ...       ┆ ...     ┆ ...      ┆ ...                 ┆ ... ┆ ...            ┆ ...            ┆ ...               ┆ ...                   │\n│ A-7777758 ┆ Source1 ┆ 2        ┆ 2019-08-23 19:11:30 ┆ ... ┆ Day            ┆ Day            ┆ Day               ┆ Day                   │\n│ A-7777759 ┆ Source1 ┆ 2        ┆ 2019-08-23 19:00:21 ┆ ... ┆ Day            ┆ Day            ┆ Day               ┆ Day                   │\n│ A-7777760 ┆ Source1 ┆ 2        ┆ 2019-08-23 19:00:21 ┆ ... ┆ Day            ┆ Day            ┆ Day               ┆ Day                   │\n│ A-7777761 ┆ Source1 ┆ 2        ┆ 2019-08-23 18:52:06 ┆ ... ┆ Day            ┆ Day            ┆ Day               ┆ Day                   │\n└───────────┴─────────┴──────────┴─────────────────────┴─────┴────────────────┴────────────────┴───────────────────┴───────────────────────┘",
      "text/html": "<div><style>\n.dataframe > thead > tr > th,\n.dataframe > tbody > tr > td {\n  text-align: right;\n}\n</style>\n<small>shape: (4991718, 46)</small><table border=\"1\" class=\"dataframe\"><thead><tr><th>ID</th><th>Source</th><th>Severity</th><th>Start_Time</th><th>End_Time</th><th>Start_Lat</th><th>Start_Lng</th><th>End_Lat</th><th>End_Lng</th><th>Distance(mi)</th><th>Description</th><th>Street</th><th>City</th><th>County</th><th>State</th><th>Zipcode</th><th>Country</th><th>Timezone</th><th>Airport_Code</th><th>Weather_Timestamp</th><th>Temperature(F)</th><th>Wind_Chill(F)</th><th>Humidity(%)</th><th>Pressure(in)</th><th>Visibility(mi)</th><th>Wind_Direction</th><th>Wind_Speed(mph)</th><th>Precipitation(in)</th><th>Weather_Condition</th><th>Amenity</th><th>Bump</th><th>Crossing</th><th>Give_Way</th><th>Junction</th><th>No_Exit</th><th>Railway</th><th>Roundabout</th><th>Station</th><th>Stop</th><th>Traffic_Calming</th><th>Traffic_Signal</th><th>Turning_Loop</th><th>Sunrise_Sunset</th><th>Civil_Twilight</th><th>Nautical_Twilight</th><th>Astronomical_Twilight</th></tr><tr><td>str</td><td>str</td><td>i64</td><td>str</td><td>str</td><td>f64</td><td>f64</td><td>f64</td><td>f64</td><td>f64</td><td>str</td><td>str</td><td>str</td><td>str</td><td>str</td><td>str</td><td>str</td><td>str</td><td>str</td><td>str</td><td>f64</td><td>f64</td><td>f64</td><td>f64</td><td>f64</td><td>str</td><td>f64</td><td>f64</td><td>str</td><td>bool</td><td>bool</td><td>bool</td><td>bool</td><td>bool</td><td>bool</td><td>bool</td><td>bool</td><td>bool</td><td>bool</td><td>bool</td><td>bool</td><td>bool</td><td>str</td><td>str</td><td>str</td><td>str</td></tr></thead><tbody><tr><td>&quot;A-2&quot;</td><td>&quot;Source2&quot;</td><td>2</td><td>&quot;2016-02-08 06:...</td><td>&quot;2016-02-08 06:...</td><td>39.928059</td><td>-82.831184</td><td>null</td><td>null</td><td>0.01</td><td>&quot;Accident on Br...</td><td>&quot;Brice Rd&quot;</td><td>&quot;Reynoldsburg&quot;</td><td>&quot;Franklin&quot;</td><td>&quot;OH&quot;</td><td>&quot;43068-3402&quot;</td><td>&quot;US&quot;</td><td>&quot;US/Eastern&quot;</td><td>&quot;KCMH&quot;</td><td>&quot;2016-02-08 05:...</td><td>37.9</td><td>null</td><td>100.0</td><td>29.65</td><td>10.0</td><td>&quot;Calm&quot;</td><td>null</td><td>0.0</td><td>&quot;Light Rain&quot;</td><td>false</td><td>false</td><td>false</td><td>false</td><td>false</td><td>false</td><td>false</td><td>false</td><td>false</td><td>false</td><td>false</td><td>false</td><td>false</td><td>&quot;Night&quot;</td><td>&quot;Night&quot;</td><td>&quot;Night&quot;</td><td>&quot;Day&quot;</td></tr><tr><td>&quot;A-24&quot;</td><td>&quot;Source2&quot;</td><td>3</td><td>&quot;2016-02-08 12:...</td><td>&quot;2016-02-08 12:...</td><td>40.023487</td><td>-82.994888</td><td>null</td><td>null</td><td>0.01</td><td>&quot;Accident on I-...</td><td>&quot;North Fwy S&quot;</td><td>&quot;Columbus&quot;</td><td>&quot;Franklin&quot;</td><td>&quot;OH&quot;</td><td>&quot;43211&quot;</td><td>&quot;US&quot;</td><td>&quot;US/Eastern&quot;</td><td>&quot;KCMH&quot;</td><td>&quot;2016-02-08 11:...</td><td>37.0</td><td>32.4</td><td>96.0</td><td>29.63</td><td>8.0</td><td>&quot;West&quot;</td><td>5.8</td><td>0.0</td><td>&quot;Overcast&quot;</td><td>false</td><td>false</td><td>false</td><td>false</td><td>false</td><td>false</td><td>false</td><td>false</td><td>false</td><td>false</td><td>false</td><td>false</td><td>false</td><td>&quot;Day&quot;</td><td>&quot;Day&quot;</td><td>&quot;Day&quot;</td><td>&quot;Day&quot;</td></tr><tr><td>&quot;A-27&quot;</td><td>&quot;Source2&quot;</td><td>2</td><td>&quot;2016-02-08 12:...</td><td>&quot;2016-02-08 13:...</td><td>39.733219</td><td>-84.159653</td><td>null</td><td>null</td><td>0.0</td><td>&quot;Accident on Ir...</td><td>&quot;Irving Ave&quot;</td><td>&quot;Dayton&quot;</td><td>&quot;Montgomery&quot;</td><td>&quot;OH&quot;</td><td>&quot;45419-4148&quot;</td><td>&quot;US&quot;</td><td>&quot;US/Eastern&quot;</td><td>&quot;KMGY&quot;</td><td>&quot;2016-02-08 12:...</td><td>36.0</td><td>29.0</td><td>86.0</td><td>29.63</td><td>7.0</td><td>&quot;West&quot;</td><td>9.2</td><td>0.0</td><td>&quot;Light Snow&quot;</td><td>false</td><td>false</td><td>false</td><td>false</td><td>false</td><td>false</td><td>false</td><td>false</td><td>false</td><td>false</td><td>false</td><td>true</td><td>false</td><td>&quot;Day&quot;</td><td>&quot;Day&quot;</td><td>&quot;Day&quot;</td><td>&quot;Day&quot;</td></tr><tr><td>&quot;A-28&quot;</td><td>&quot;Source2&quot;</td><td>2</td><td>&quot;2016-02-08 14:...</td><td>&quot;2016-02-08 15:...</td><td>39.775303</td><td>-84.200523</td><td>null</td><td>null</td><td>0.0</td><td>&quot;Accident on He...</td><td>&quot;W Helena St&quot;</td><td>&quot;Dayton&quot;</td><td>&quot;Montgomery&quot;</td><td>&quot;OH&quot;</td><td>&quot;45405-4326&quot;</td><td>&quot;US&quot;</td><td>&quot;US/Eastern&quot;</td><td>&quot;KDAY&quot;</td><td>&quot;2016-02-08 13:...</td><td>39.9</td><td>32.9</td><td>70.0</td><td>29.61</td><td>10.0</td><td>&quot;WNW&quot;</td><td>11.5</td><td>0.0</td><td>&quot;Mostly Cloudy&quot;</td><td>false</td><td>false</td><td>false</td><td>false</td><td>false</td><td>false</td><td>false</td><td>false</td><td>false</td><td>false</td><td>false</td><td>true</td><td>false</td><td>&quot;Day&quot;</td><td>&quot;Day&quot;</td><td>&quot;Day&quot;</td><td>&quot;Day&quot;</td></tr><tr><td>&quot;A-31&quot;</td><td>&quot;Source2&quot;</td><td>2</td><td>&quot;2016-02-08 16:...</td><td>&quot;2016-02-08 16:...</td><td>40.081459</td><td>-83.122398</td><td>null</td><td>null</td><td>0.01</td><td>&quot;Accident on Fr...</td><td>&quot;Frantz Rd&quot;</td><td>&quot;Dublin&quot;</td><td>&quot;Franklin&quot;</td><td>&quot;OH&quot;</td><td>&quot;43017-2552&quot;</td><td>&quot;US&quot;</td><td>&quot;US/Eastern&quot;</td><td>&quot;KOSU&quot;</td><td>&quot;2016-02-08 15:...</td><td>37.0</td><td>31.6</td><td>89.0</td><td>29.61</td><td>10.0</td><td>&quot;West&quot;</td><td>6.9</td><td>0.0</td><td>&quot;Overcast&quot;</td><td>false</td><td>false</td><td>false</td><td>false</td><td>false</td><td>false</td><td>false</td><td>false</td><td>false</td><td>false</td><td>false</td><td>true</td><td>false</td><td>&quot;Day&quot;</td><td>&quot;Day&quot;</td><td>&quot;Day&quot;</td><td>&quot;Day&quot;</td></tr><tr><td>&quot;A-35&quot;</td><td>&quot;Source2&quot;</td><td>2</td><td>&quot;2016-02-08 20:...</td><td>&quot;2016-02-08 21:...</td><td>39.994766</td><td>-83.02449</td><td>null</td><td>null</td><td>0.01</td><td>&quot;Accident on OH...</td><td>&quot;Olentangy Fwy ...</td><td>&quot;Columbus&quot;</td><td>&quot;Franklin&quot;</td><td>&quot;OH&quot;</td><td>&quot;43212&quot;</td><td>&quot;US&quot;</td><td>&quot;US/Eastern&quot;</td><td>&quot;KOSU&quot;</td><td>&quot;2016-02-08 20:...</td><td>33.1</td><td>26.1</td><td>92.0</td><td>29.63</td><td>7.0</td><td>&quot;WNW&quot;</td><td>8.1</td><td>0.0</td><td>&quot;Light Snow&quot;</td><td>false</td><td>false</td><td>false</td><td>false</td><td>false</td><td>false</td><td>false</td><td>false</td><td>false</td><td>false</td><td>false</td><td>false</td><td>false</td><td>&quot;Night&quot;</td><td>&quot;Night&quot;</td><td>&quot;Night&quot;</td><td>&quot;Night&quot;</td></tr><tr><td>&quot;A-36&quot;</td><td>&quot;Source2&quot;</td><td>2</td><td>&quot;2016-02-08 20:...</td><td>&quot;2016-02-08 23:...</td><td>40.006477</td><td>-83.030991</td><td>null</td><td>null</td><td>1.09</td><td>&quot;Right lane blo...</td><td>&quot;Olentangy Fwy ...</td><td>&quot;Columbus&quot;</td><td>&quot;Franklin&quot;</td><td>&quot;OH&quot;</td><td>&quot;43210&quot;</td><td>&quot;US&quot;</td><td>&quot;US/Eastern&quot;</td><td>&quot;KOSU&quot;</td><td>&quot;2016-02-08 20:...</td><td>33.1</td><td>25.5</td><td>92.0</td><td>29.63</td><td>9.0</td><td>&quot;WNW&quot;</td><td>9.2</td><td>0.0</td><td>&quot;Overcast&quot;</td><td>false</td><td>false</td><td>false</td><td>false</td><td>false</td><td>false</td><td>false</td><td>false</td><td>false</td><td>false</td><td>false</td><td>true</td><td>false</td><td>&quot;Night&quot;</td><td>&quot;Night&quot;</td><td>&quot;Night&quot;</td><td>&quot;Night&quot;</td></tr><tr><td>&quot;A-39&quot;</td><td>&quot;Source2&quot;</td><td>2</td><td>&quot;2016-02-09 05:...</td><td>&quot;2016-02-09 05:...</td><td>39.782578</td><td>-84.178688</td><td>null</td><td>null</td><td>0.01</td><td>&quot;Accident on Le...</td><td>&quot;Kiser St&quot;</td><td>&quot;Dayton&quot;</td><td>&quot;Montgomery&quot;</td><td>&quot;OH&quot;</td><td>&quot;45404-1672&quot;</td><td>&quot;US&quot;</td><td>&quot;US/Eastern&quot;</td><td>&quot;KFFO&quot;</td><td>&quot;2016-02-09 04:...</td><td>22.8</td><td>11.5</td><td>89.0</td><td>29.69</td><td>4.0</td><td>&quot;SW&quot;</td><td>11.5</td><td>0.0</td><td>&quot;Light Snow&quot;</td><td>false</td><td>false</td><td>false</td><td>false</td><td>false</td><td>false</td><td>false</td><td>false</td><td>false</td><td>false</td><td>false</td><td>false</td><td>false</td><td>&quot;Night&quot;</td><td>&quot;Night&quot;</td><td>&quot;Night&quot;</td><td>&quot;Night&quot;</td></tr><tr><td>&quot;A-42&quot;</td><td>&quot;Source2&quot;</td><td>2</td><td>&quot;2016-02-09 05:...</td><td>&quot;2016-02-09 06:...</td><td>39.787731</td><td>-84.173439</td><td>null</td><td>null</td><td>0.01</td><td>&quot;Accident on St...</td><td>&quot;Air City Ave&quot;</td><td>&quot;Dayton&quot;</td><td>&quot;Montgomery&quot;</td><td>&quot;OH&quot;</td><td>&quot;45404-1255&quot;</td><td>&quot;US&quot;</td><td>&quot;US/Eastern&quot;</td><td>&quot;KFFO&quot;</td><td>&quot;2016-02-09 05:...</td><td>23.0</td><td>12.4</td><td>86.0</td><td>29.71</td><td>3.0</td><td>&quot;SW&quot;</td><td>10.4</td><td>0.0</td><td>&quot;Light Snow&quot;</td><td>false</td><td>false</td><td>true</td><td>false</td><td>false</td><td>false</td><td>false</td><td>false</td><td>false</td><td>false</td><td>false</td><td>true</td><td>false</td><td>&quot;Night&quot;</td><td>&quot;Night&quot;</td><td>&quot;Night&quot;</td><td>&quot;Night&quot;</td></tr><tr><td>&quot;A-43&quot;</td><td>&quot;Source2&quot;</td><td>2</td><td>&quot;2016-02-09 05:...</td><td>&quot;2016-02-09 06:...</td><td>39.426277</td><td>-83.624611</td><td>null</td><td>null</td><td>0.01</td><td>&quot;Accident on OH...</td><td>&quot;S State Route ...</td><td>&quot;Sabina&quot;</td><td>&quot;Clinton&quot;</td><td>&quot;OH&quot;</td><td>&quot;45169&quot;</td><td>&quot;US&quot;</td><td>&quot;US/Eastern&quot;</td><td>&quot;KILN&quot;</td><td>&quot;2016-02-09 05:...</td><td>19.9</td><td>6.7</td><td>89.0</td><td>29.75</td><td>1.8</td><td>&quot;WSW&quot;</td><td>13.8</td><td>0.0</td><td>&quot;Light Snow&quot;</td><td>false</td><td>false</td><td>false</td><td>false</td><td>false</td><td>false</td><td>false</td><td>false</td><td>false</td><td>false</td><td>false</td><td>false</td><td>false</td><td>&quot;Night&quot;</td><td>&quot;Night&quot;</td><td>&quot;Night&quot;</td><td>&quot;Night&quot;</td></tr><tr><td>&quot;A-45&quot;</td><td>&quot;Source2&quot;</td><td>3</td><td>&quot;2016-02-09 06:...</td><td>&quot;2016-02-09 06:...</td><td>39.84182</td><td>-84.189606</td><td>null</td><td>null</td><td>0.01</td><td>&quot;Accident on I-...</td><td>&quot;Benchwood Rd&quot;</td><td>&quot;Dayton&quot;</td><td>&quot;Montgomery&quot;</td><td>&quot;OH&quot;</td><td>&quot;45414&quot;</td><td>&quot;US&quot;</td><td>&quot;US/Eastern&quot;</td><td>&quot;KDAY&quot;</td><td>&quot;2016-02-09 06:...</td><td>23.0</td><td>10.1</td><td>88.0</td><td>29.66</td><td>2.0</td><td>&quot;West&quot;</td><td>15.0</td><td>0.0</td><td>&quot;Light Snow&quot;</td><td>false</td><td>false</td><td>false</td><td>false</td><td>false</td><td>false</td><td>false</td><td>false</td><td>false</td><td>false</td><td>false</td><td>true</td><td>false</td><td>&quot;Night&quot;</td><td>&quot;Night&quot;</td><td>&quot;Night&quot;</td><td>&quot;Day&quot;</td></tr><tr><td>&quot;A-47&quot;</td><td>&quot;Source2&quot;</td><td>2</td><td>&quot;2016-02-09 06:...</td><td>&quot;2016-02-09 06:...</td><td>40.053082</td><td>-83.049644</td><td>null</td><td>null</td><td>0.01</td><td>&quot;Accident on Ke...</td><td>&quot;Kenny Rd&quot;</td><td>&quot;Columbus&quot;</td><td>&quot;Franklin&quot;</td><td>&quot;OH&quot;</td><td>&quot;43220&quot;</td><td>&quot;US&quot;</td><td>&quot;US/Eastern&quot;</td><td>&quot;KOSU&quot;</td><td>&quot;2016-02-09 06:...</td><td>26.1</td><td>15.0</td><td>84.0</td><td>29.63</td><td>2.0</td><td>&quot;West&quot;</td><td>12.7</td><td>0.0</td><td>&quot;Light Snow&quot;</td><td>false</td><td>false</td><td>false</td><td>false</td><td>false</td><td>false</td><td>false</td><td>false</td><td>false</td><td>false</td><td>false</td><td>true</td><td>false</td><td>&quot;Night&quot;</td><td>&quot;Night&quot;</td><td>&quot;Night&quot;</td><td>&quot;Day&quot;</td></tr><tr><td>...</td><td>...</td><td>...</td><td>...</td><td>...</td><td>...</td><td>...</td><td>...</td><td>...</td><td>...</td><td>...</td><td>...</td><td>...</td><td>...</td><td>...</td><td>...</td><td>...</td><td>...</td><td>...</td><td>...</td><td>...</td><td>...</td><td>...</td><td>...</td><td>...</td><td>...</td><td>...</td><td>...</td><td>...</td><td>...</td><td>...</td><td>...</td><td>...</td><td>...</td><td>...</td><td>...</td><td>...</td><td>...</td><td>...</td><td>...</td><td>...</td><td>...</td><td>...</td><td>...</td><td>...</td><td>...</td></tr><tr><td>&quot;A-7777747&quot;</td><td>&quot;Source1&quot;</td><td>2</td><td>&quot;2019-08-23 16:...</td><td>&quot;2019-08-23 16:...</td><td>34.03047</td><td>-117.59817</td><td>34.0305</td><td>-117.5886</td><td>0.548</td><td>&quot;At Archibald A...</td><td>&quot;Pomona Fwy E&quot;</td><td>&quot;Ontario&quot;</td><td>&quot;San Bernardino...</td><td>&quot;CA&quot;</td><td>&quot;91761&quot;</td><td>&quot;US&quot;</td><td>&quot;US/Pacific&quot;</td><td>&quot;KONT&quot;</td><td>&quot;2019-08-23 16:...</td><td>89.0</td><td>89.0</td><td>34.0</td><td>28.78</td><td>10.0</td><td>&quot;WSW&quot;</td><td>13.0</td><td>0.0</td><td>&quot;Fair&quot;</td><td>false</td><td>false</td><td>false</td><td>false</td><td>true</td><td>false</td><td>false</td><td>false</td><td>false</td><td>false</td><td>false</td><td>false</td><td>false</td><td>&quot;Day&quot;</td><td>&quot;Day&quot;</td><td>&quot;Day&quot;</td><td>&quot;Day&quot;</td></tr><tr><td>&quot;A-7777748&quot;</td><td>&quot;Source1&quot;</td><td>4</td><td>&quot;2019-08-23 16:...</td><td>&quot;2019-08-23 17:...</td><td>33.77913</td><td>-117.88798</td><td>33.77991</td><td>-117.89086</td><td>0.174</td><td>&quot;Ramp closed to...</td><td>&quot;CA-22 W&quot;</td><td>&quot;Orange&quot;</td><td>&quot;Orange&quot;</td><td>&quot;CA&quot;</td><td>&quot;92868&quot;</td><td>&quot;US&quot;</td><td>&quot;US/Pacific&quot;</td><td>&quot;KSNA&quot;</td><td>&quot;2019-08-23 16:...</td><td>76.0</td><td>76.0</td><td>56.0</td><td>29.75</td><td>10.0</td><td>&quot;S&quot;</td><td>10.0</td><td>0.0</td><td>&quot;Fair&quot;</td><td>false</td><td>false</td><td>false</td><td>false</td><td>false</td><td>false</td><td>false</td><td>false</td><td>false</td><td>false</td><td>false</td><td>false</td><td>false</td><td>&quot;Day&quot;</td><td>&quot;Day&quot;</td><td>&quot;Day&quot;</td><td>&quot;Day&quot;</td></tr><tr><td>&quot;A-7777750&quot;</td><td>&quot;Source1&quot;</td><td>2</td><td>&quot;2019-08-23 17:...</td><td>&quot;2019-08-23 17:...</td><td>33.8508</td><td>-117.84365</td><td>33.85075</td><td>-117.83745</td><td>0.356</td><td>&quot;At Tustin Ave ...</td><td>&quot;Riverside Fwy ...</td><td>&quot;Anaheim&quot;</td><td>&quot;Orange&quot;</td><td>&quot;CA&quot;</td><td>&quot;92806&quot;</td><td>&quot;US&quot;</td><td>&quot;US/Pacific&quot;</td><td>&quot;KFUL&quot;</td><td>&quot;2019-08-23 16:...</td><td>79.0</td><td>79.0</td><td>50.0</td><td>29.7</td><td>10.0</td><td>&quot;VAR&quot;</td><td>5.0</td><td>0.0</td><td>&quot;Fair&quot;</td><td>false</td><td>false</td><td>false</td><td>false</td><td>true</td><td>false</td><td>false</td><td>false</td><td>false</td><td>false</td><td>false</td><td>false</td><td>false</td><td>&quot;Day&quot;</td><td>&quot;Day&quot;</td><td>&quot;Day&quot;</td><td>&quot;Day&quot;</td></tr><tr><td>&quot;A-7777752&quot;</td><td>&quot;Source1&quot;</td><td>2</td><td>&quot;2019-08-23 17:...</td><td>&quot;2019-08-23 18:...</td><td>34.06446</td><td>-118.00388</td><td>34.06533</td><td>-117.99715</td><td>0.39</td><td>&quot;At I-605 - Acc...</td><td>&quot;I-10 E&quot;</td><td>&quot;Baldwin Park&quot;</td><td>&quot;Los Angeles&quot;</td><td>&quot;CA&quot;</td><td>&quot;91706&quot;</td><td>&quot;US&quot;</td><td>&quot;US/Pacific&quot;</td><td>&quot;KEMT&quot;</td><td>&quot;2019-08-23 17:...</td><td>78.0</td><td>78.0</td><td>52.0</td><td>29.69</td><td>10.0</td><td>&quot;VAR&quot;</td><td>6.0</td><td>0.0</td><td>&quot;Fair&quot;</td><td>false</td><td>false</td><td>false</td><td>false</td><td>false</td><td>false</td><td>false</td><td>false</td><td>false</td><td>false</td><td>false</td><td>false</td><td>false</td><td>&quot;Day&quot;</td><td>&quot;Day&quot;</td><td>&quot;Day&quot;</td><td>&quot;Day&quot;</td></tr><tr><td>&quot;A-7777753&quot;</td><td>&quot;Source1&quot;</td><td>2</td><td>&quot;2019-08-23 17:...</td><td>&quot;2019-08-23 18:...</td><td>33.943599</td><td>-117.07788</td><td>33.943599</td><td>-117.07788</td><td>0.0</td><td>&quot;At Jack Rabbit...</td><td>&quot;CA-60 E&quot;</td><td>&quot;Moreno Valley&quot;</td><td>&quot;Riverside&quot;</td><td>&quot;CA&quot;</td><td>&quot;92555&quot;</td><td>&quot;US&quot;</td><td>&quot;US/Pacific&quot;</td><td>&quot;KRIV&quot;</td><td>&quot;2019-08-23 17:...</td><td>88.0</td><td>88.0</td><td>32.0</td><td>28.2</td><td>10.0</td><td>&quot;WNW&quot;</td><td>10.0</td><td>0.0</td><td>&quot;Fair&quot;</td><td>false</td><td>false</td><td>false</td><td>false</td><td>false</td><td>false</td><td>false</td><td>false</td><td>false</td><td>false</td><td>false</td><td>false</td><td>false</td><td>&quot;Day&quot;</td><td>&quot;Day&quot;</td><td>&quot;Day&quot;</td><td>&quot;Day&quot;</td></tr><tr><td>&quot;A-7777754&quot;</td><td>&quot;Source1&quot;</td><td>2</td><td>&quot;2019-08-23 17:...</td><td>&quot;2019-08-23 18:...</td><td>34.26103</td><td>-119.228</td><td>34.26239</td><td>-119.23087</td><td>0.189</td><td>&quot;At Telephone R...</td><td>&quot;El Camino Real...</td><td>&quot;Ventura&quot;</td><td>&quot;Ventura&quot;</td><td>&quot;CA&quot;</td><td>&quot;93003&quot;</td><td>&quot;US&quot;</td><td>&quot;US/Pacific&quot;</td><td>&quot;KOXR&quot;</td><td>&quot;2019-08-23 17:...</td><td>73.0</td><td>73.0</td><td>68.0</td><td>29.76</td><td>10.0</td><td>&quot;W&quot;</td><td>9.0</td><td>0.0</td><td>&quot;Fair&quot;</td><td>false</td><td>false</td><td>false</td><td>false</td><td>true</td><td>false</td><td>false</td><td>false</td><td>false</td><td>false</td><td>false</td><td>false</td><td>false</td><td>&quot;Day&quot;</td><td>&quot;Day&quot;</td><td>&quot;Day&quot;</td><td>&quot;Day&quot;</td></tr><tr><td>&quot;A-7777755&quot;</td><td>&quot;Source1&quot;</td><td>2</td><td>&quot;2019-08-23 17:...</td><td>&quot;2019-08-23 18:...</td><td>33.7417</td><td>-117.83709</td><td>33.73917</td><td>-117.83001</td><td>0.443</td><td>&quot;At CA-55 - Acc...</td><td>&quot;Santa Ana Fwy ...</td><td>&quot;Tustin&quot;</td><td>&quot;Orange&quot;</td><td>&quot;CA&quot;</td><td>&quot;92780&quot;</td><td>&quot;US&quot;</td><td>&quot;US/Pacific&quot;</td><td>&quot;KSNA&quot;</td><td>&quot;2019-08-23 17:...</td><td>75.0</td><td>75.0</td><td>60.0</td><td>29.74</td><td>10.0</td><td>&quot;SSW&quot;</td><td>9.0</td><td>0.0</td><td>&quot;Fair&quot;</td><td>false</td><td>false</td><td>false</td><td>false</td><td>false</td><td>false</td><td>false</td><td>false</td><td>false</td><td>false</td><td>false</td><td>false</td><td>false</td><td>&quot;Day&quot;</td><td>&quot;Day&quot;</td><td>&quot;Day&quot;</td><td>&quot;Day&quot;</td></tr><tr><td>&quot;A-7777757&quot;</td><td>&quot;Source1&quot;</td><td>2</td><td>&quot;2019-08-23 18:...</td><td>&quot;2019-08-23 18:...</td><td>34.00248</td><td>-117.37936</td><td>33.99888</td><td>-117.37094</td><td>0.543</td><td>&quot;At Market St -...</td><td>&quot;Pomona Fwy E&quot;</td><td>&quot;Riverside&quot;</td><td>&quot;Riverside&quot;</td><td>&quot;CA&quot;</td><td>&quot;92501&quot;</td><td>&quot;US&quot;</td><td>&quot;US/Pacific&quot;</td><td>&quot;KRAL&quot;</td><td>&quot;2019-08-23 17:...</td><td>86.0</td><td>86.0</td><td>40.0</td><td>28.92</td><td>10.0</td><td>&quot;W&quot;</td><td>13.0</td><td>0.0</td><td>&quot;Fair&quot;</td><td>false</td><td>false</td><td>false</td><td>false</td><td>false</td><td>false</td><td>false</td><td>false</td><td>false</td><td>false</td><td>false</td><td>false</td><td>false</td><td>&quot;Day&quot;</td><td>&quot;Day&quot;</td><td>&quot;Day&quot;</td><td>&quot;Day&quot;</td></tr><tr><td>&quot;A-7777758&quot;</td><td>&quot;Source1&quot;</td><td>2</td><td>&quot;2019-08-23 19:...</td><td>&quot;2019-08-23 19:...</td><td>32.76696</td><td>-117.14806</td><td>32.76555</td><td>-117.15363</td><td>0.338</td><td>&quot;At Camino Del ...</td><td>&quot;I-8 W&quot;</td><td>&quot;San Diego&quot;</td><td>&quot;San Diego&quot;</td><td>&quot;CA&quot;</td><td>&quot;92108&quot;</td><td>&quot;US&quot;</td><td>&quot;US/Pacific&quot;</td><td>&quot;KMYF&quot;</td><td>&quot;2019-08-23 18:...</td><td>70.0</td><td>70.0</td><td>73.0</td><td>29.39</td><td>10.0</td><td>&quot;SW&quot;</td><td>6.0</td><td>0.0</td><td>&quot;Fair&quot;</td><td>false</td><td>false</td><td>false</td><td>false</td><td>false</td><td>false</td><td>false</td><td>false</td><td>false</td><td>false</td><td>false</td><td>false</td><td>false</td><td>&quot;Day&quot;</td><td>&quot;Day&quot;</td><td>&quot;Day&quot;</td><td>&quot;Day&quot;</td></tr><tr><td>&quot;A-7777759&quot;</td><td>&quot;Source1&quot;</td><td>2</td><td>&quot;2019-08-23 19:...</td><td>&quot;2019-08-23 19:...</td><td>33.77545</td><td>-117.84779</td><td>33.7774</td><td>-117.85727</td><td>0.561</td><td>&quot;At Glassell St...</td><td>&quot;Garden Grove F...</td><td>&quot;Orange&quot;</td><td>&quot;Orange&quot;</td><td>&quot;CA&quot;</td><td>&quot;92866&quot;</td><td>&quot;US&quot;</td><td>&quot;US/Pacific&quot;</td><td>&quot;KSNA&quot;</td><td>&quot;2019-08-23 18:...</td><td>73.0</td><td>73.0</td><td>64.0</td><td>29.74</td><td>10.0</td><td>&quot;SSW&quot;</td><td>10.0</td><td>0.0</td><td>&quot;Partly Cloudy&quot;</td><td>false</td><td>false</td><td>false</td><td>false</td><td>true</td><td>false</td><td>false</td><td>false</td><td>false</td><td>false</td><td>false</td><td>false</td><td>false</td><td>&quot;Day&quot;</td><td>&quot;Day&quot;</td><td>&quot;Day&quot;</td><td>&quot;Day&quot;</td></tr><tr><td>&quot;A-7777760&quot;</td><td>&quot;Source1&quot;</td><td>2</td><td>&quot;2019-08-23 19:...</td><td>&quot;2019-08-23 19:...</td><td>33.99246</td><td>-118.40302</td><td>33.98311</td><td>-118.39565</td><td>0.772</td><td>&quot;At CA-90/Marin...</td><td>&quot;San Diego Fwy ...</td><td>&quot;Culver City&quot;</td><td>&quot;Los Angeles&quot;</td><td>&quot;CA&quot;</td><td>&quot;90230&quot;</td><td>&quot;US&quot;</td><td>&quot;US/Pacific&quot;</td><td>&quot;KSMO&quot;</td><td>&quot;2019-08-23 18:...</td><td>71.0</td><td>71.0</td><td>81.0</td><td>29.62</td><td>10.0</td><td>&quot;SW&quot;</td><td>8.0</td><td>0.0</td><td>&quot;Fair&quot;</td><td>false</td><td>false</td><td>false</td><td>false</td><td>false</td><td>false</td><td>false</td><td>false</td><td>false</td><td>false</td><td>false</td><td>false</td><td>false</td><td>&quot;Day&quot;</td><td>&quot;Day&quot;</td><td>&quot;Day&quot;</td><td>&quot;Day&quot;</td></tr><tr><td>&quot;A-7777761&quot;</td><td>&quot;Source1&quot;</td><td>2</td><td>&quot;2019-08-23 18:...</td><td>&quot;2019-08-23 19:...</td><td>34.13393</td><td>-117.23092</td><td>34.13736</td><td>-117.23934</td><td>0.537</td><td>&quot;At Highland Av...</td><td>&quot;CA-210 W&quot;</td><td>&quot;Highland&quot;</td><td>&quot;San Bernardino...</td><td>&quot;CA&quot;</td><td>&quot;92346&quot;</td><td>&quot;US&quot;</td><td>&quot;US/Pacific&quot;</td><td>&quot;KSBD&quot;</td><td>&quot;2019-08-23 20:...</td><td>79.0</td><td>79.0</td><td>47.0</td><td>28.63</td><td>7.0</td><td>&quot;SW&quot;</td><td>7.0</td><td>0.0</td><td>&quot;Fair&quot;</td><td>false</td><td>false</td><td>false</td><td>false</td><td>false</td><td>false</td><td>false</td><td>false</td><td>false</td><td>false</td><td>false</td><td>false</td><td>false</td><td>&quot;Day&quot;</td><td>&quot;Day&quot;</td><td>&quot;Day&quot;</td><td>&quot;Day&quot;</td></tr></tbody></table></div>"
     },
     "execution_count": 15,
     "metadata": {},
     "output_type": "execute_result"
    }
   ],
   "source": [
    "#null percipitation values are not necessarily due to no rain\n",
    "accident_data.filter(pl.col('Precipitation(in)') == 0)"
   ],
   "metadata": {
    "collapsed": false,
    "pycharm": {
     "name": "#%%\n"
    }
   }
  },
  {
   "cell_type": "code",
   "execution_count": 16,
   "outputs": [
    {
     "data": {
      "text/plain": "shape: (0, 2)\n┌─────────────┬───────────────────┐\n│ Humidity(%) ┆ Precipitation(in) │\n│ ---         ┆ ---               │\n│ f64         ┆ f64               │\n╞═════════════╪═══════════════════╡\n└─────────────┴───────────────────┘",
      "text/html": "<div><style>\n.dataframe > thead > tr > th,\n.dataframe > tbody > tr > td {\n  text-align: right;\n}\n</style>\n<small>shape: (0, 2)</small><table border=\"1\" class=\"dataframe\"><thead><tr><th>Humidity(%)</th><th>Precipitation(in)</th></tr><tr><td>f64</td><td>f64</td></tr></thead><tbody></tbody></table></div>"
     },
     "execution_count": 16,
     "metadata": {},
     "output_type": "execute_result"
    }
   ],
   "source": [
    "#looking for cases where Humidity is zero and Precipitation is null (i.e., precipitation should be set to zero)\n",
    "accident_data.filter(\n",
    "    (pl.col('Humidity(%)') == 0) & pl.col('Precipitation(in)').is_null()\n",
    ")[['Humidity(%)', 'Precipitation(in)']]"
   ],
   "metadata": {
    "collapsed": false,
    "pycharm": {
     "name": "#%%\n"
    }
   }
  },
  {
   "cell_type": "code",
   "execution_count": 17,
   "outputs": [
    {
     "data": {
      "text/plain": "shape: (0, 2)\n┌─────────────────┬────────────────┐\n│ Wind_Speed(mph) ┆ Wind_Direction │\n│ ---             ┆ ---            │\n│ f64             ┆ str            │\n╞═════════════════╪════════════════╡\n└─────────────────┴────────────────┘",
      "text/html": "<div><style>\n.dataframe > thead > tr > th,\n.dataframe > tbody > tr > td {\n  text-align: right;\n}\n</style>\n<small>shape: (0, 2)</small><table border=\"1\" class=\"dataframe\"><thead><tr><th>Wind_Speed(mph)</th><th>Wind_Direction</th></tr><tr><td>f64</td><td>str</td></tr></thead><tbody></tbody></table></div>"
     },
     "execution_count": 17,
     "metadata": {},
     "output_type": "execute_result"
    }
   ],
   "source": [
    "#looking for cases where wind speed is zero and wind direction is null (i.e., no wind to have a wind direction)\n",
    "accident_data.filter(\n",
    "    (pl.col('Wind_Speed(mph)') == 0) & pl.col('Wind_Direction').is_null()\n",
    ")[['Wind_Speed(mph)', 'Wind_Direction']]"
   ],
   "metadata": {
    "collapsed": false,
    "pycharm": {
     "name": "#%%\n"
    }
   }
  },
  {
   "cell_type": "code",
   "execution_count": 19,
   "outputs": [
    {
     "data": {
      "text/plain": "shape: (5482, 2)\n┌─────────────────┬───────────────┐\n│ Wind_Speed(mph) ┆ Wind_Chill(F) │\n│ ---             ┆ ---           │\n│ f64             ┆ f64           │\n╞═════════════════╪═══════════════╡\n│ 0.0             ┆ null          │\n│ 0.0             ┆ null          │\n│ 0.0             ┆ null          │\n│ 0.0             ┆ null          │\n│ ...             ┆ ...           │\n│ 0.0             ┆ null          │\n│ 0.0             ┆ null          │\n│ 0.0             ┆ null          │\n│ 0.0             ┆ null          │\n└─────────────────┴───────────────┘",
      "text/html": "<div><style>\n.dataframe > thead > tr > th,\n.dataframe > tbody > tr > td {\n  text-align: right;\n}\n</style>\n<small>shape: (5482, 2)</small><table border=\"1\" class=\"dataframe\"><thead><tr><th>Wind_Speed(mph)</th><th>Wind_Chill(F)</th></tr><tr><td>f64</td><td>f64</td></tr></thead><tbody><tr><td>0.0</td><td>null</td></tr><tr><td>0.0</td><td>null</td></tr><tr><td>0.0</td><td>null</td></tr><tr><td>0.0</td><td>null</td></tr><tr><td>0.0</td><td>null</td></tr><tr><td>0.0</td><td>null</td></tr><tr><td>0.0</td><td>null</td></tr><tr><td>0.0</td><td>null</td></tr><tr><td>0.0</td><td>null</td></tr><tr><td>0.0</td><td>null</td></tr><tr><td>0.0</td><td>null</td></tr><tr><td>0.0</td><td>null</td></tr><tr><td>...</td><td>...</td></tr><tr><td>0.0</td><td>null</td></tr><tr><td>0.0</td><td>null</td></tr><tr><td>0.0</td><td>null</td></tr><tr><td>0.0</td><td>null</td></tr><tr><td>0.0</td><td>null</td></tr><tr><td>0.0</td><td>null</td></tr><tr><td>0.0</td><td>null</td></tr><tr><td>0.0</td><td>null</td></tr><tr><td>0.0</td><td>null</td></tr><tr><td>0.0</td><td>null</td></tr><tr><td>0.0</td><td>null</td></tr><tr><td>0.0</td><td>null</td></tr></tbody></table></div>"
     },
     "execution_count": 19,
     "metadata": {},
     "output_type": "execute_result"
    }
   ],
   "source": [
    "#looking to see if wind_speed is zero, is wind_chill null\n",
    "#for these records, null wind_chill entries should be replaced with temperature\n",
    "\n",
    "accident_data.filter(\n",
    "    (pl.col('Wind_Speed(mph)') == 0) & pl.col('Wind_Chill(F)').is_null()\n",
    ")[['Wind_Speed(mph)', 'Wind_Chill(F)']]"
   ],
   "metadata": {
    "collapsed": false,
    "pycharm": {
     "name": "#%%\n"
    }
   }
  },
  {
   "cell_type": "code",
   "execution_count": 20,
   "outputs": [
    {
     "data": {
      "text/plain": "shape: (956161, 2)\n┌─────────────────┬───────────────┐\n│ Wind_Speed(mph) ┆ Wind_Chill(F) │\n│ ---             ┆ ---           │\n│ f64             ┆ f64           │\n╞═════════════════╪═══════════════╡\n│ 0.0             ┆ 70.0          │\n│ 0.0             ┆ 63.0          │\n│ 0.0             ┆ 65.0          │\n│ 0.0             ┆ 84.0          │\n│ ...             ┆ ...           │\n│ 0.0             ┆ 81.0          │\n│ 0.0             ┆ 82.0          │\n│ 0.0             ┆ 82.0          │\n│ 0.0             ┆ 82.0          │\n└─────────────────┴───────────────┘",
      "text/html": "<div><style>\n.dataframe > thead > tr > th,\n.dataframe > tbody > tr > td {\n  text-align: right;\n}\n</style>\n<small>shape: (956161, 2)</small><table border=\"1\" class=\"dataframe\"><thead><tr><th>Wind_Speed(mph)</th><th>Wind_Chill(F)</th></tr><tr><td>f64</td><td>f64</td></tr></thead><tbody><tr><td>0.0</td><td>70.0</td></tr><tr><td>0.0</td><td>63.0</td></tr><tr><td>0.0</td><td>65.0</td></tr><tr><td>0.0</td><td>84.0</td></tr><tr><td>0.0</td><td>84.0</td></tr><tr><td>0.0</td><td>84.0</td></tr><tr><td>0.0</td><td>61.0</td></tr><tr><td>0.0</td><td>68.0</td></tr><tr><td>0.0</td><td>68.0</td></tr><tr><td>0.0</td><td>66.0</td></tr><tr><td>0.0</td><td>62.0</td></tr><tr><td>0.0</td><td>66.0</td></tr><tr><td>...</td><td>...</td></tr><tr><td>0.0</td><td>70.0</td></tr><tr><td>0.0</td><td>76.0</td></tr><tr><td>0.0</td><td>77.0</td></tr><tr><td>0.0</td><td>78.0</td></tr><tr><td>0.0</td><td>84.0</td></tr><tr><td>0.0</td><td>83.0</td></tr><tr><td>0.0</td><td>67.0</td></tr><tr><td>0.0</td><td>64.0</td></tr><tr><td>0.0</td><td>81.0</td></tr><tr><td>0.0</td><td>82.0</td></tr><tr><td>0.0</td><td>82.0</td></tr><tr><td>0.0</td><td>82.0</td></tr></tbody></table></div>"
     },
     "execution_count": 20,
     "metadata": {},
     "output_type": "execute_result"
    }
   ],
   "source": [
    "#looking to see if wind_speed is zero if there is a wind chill\n",
    "\n",
    "accident_data.filter(\n",
    "    (pl.col('Wind_Speed(mph)') == 0) & pl.col('Wind_Chill(F)').is_not_null()\n",
    ")[['Wind_Speed(mph)', 'Wind_Chill(F)']]"
   ],
   "metadata": {
    "collapsed": false,
    "pycharm": {
     "name": "#%%\n"
    }
   }
  },
  {
   "cell_type": "code",
   "execution_count": 22,
   "outputs": [
    {
     "data": {
      "text/plain": "shape: (571233, 2)\n┌─────────────────┬───────────────┐\n│ Wind_Speed(mph) ┆ Wind_Chill(F) │\n│ ---             ┆ ---           │\n│ f64             ┆ f64           │\n╞═════════════════╪═══════════════╡\n│ null            ┆ null          │\n│ null            ┆ null          │\n│ null            ┆ null          │\n│ null            ┆ null          │\n│ ...             ┆ ...           │\n│ null            ┆ null          │\n│ null            ┆ null          │\n│ null            ┆ null          │\n│ null            ┆ null          │\n└─────────────────┴───────────────┘",
      "text/html": "<div><style>\n.dataframe > thead > tr > th,\n.dataframe > tbody > tr > td {\n  text-align: right;\n}\n</style>\n<small>shape: (571233, 2)</small><table border=\"1\" class=\"dataframe\"><thead><tr><th>Wind_Speed(mph)</th><th>Wind_Chill(F)</th></tr><tr><td>f64</td><td>f64</td></tr></thead><tbody><tr><td>null</td><td>null</td></tr><tr><td>null</td><td>null</td></tr><tr><td>null</td><td>null</td></tr><tr><td>null</td><td>null</td></tr><tr><td>null</td><td>null</td></tr><tr><td>null</td><td>null</td></tr><tr><td>null</td><td>null</td></tr><tr><td>null</td><td>null</td></tr><tr><td>null</td><td>null</td></tr><tr><td>null</td><td>null</td></tr><tr><td>null</td><td>null</td></tr><tr><td>null</td><td>null</td></tr><tr><td>...</td><td>...</td></tr><tr><td>null</td><td>null</td></tr><tr><td>null</td><td>null</td></tr><tr><td>null</td><td>null</td></tr><tr><td>null</td><td>null</td></tr><tr><td>null</td><td>null</td></tr><tr><td>null</td><td>null</td></tr><tr><td>null</td><td>null</td></tr><tr><td>null</td><td>null</td></tr><tr><td>null</td><td>null</td></tr><tr><td>null</td><td>null</td></tr><tr><td>null</td><td>null</td></tr><tr><td>null</td><td>null</td></tr></tbody></table></div>"
     },
     "execution_count": 22,
     "metadata": {},
     "output_type": "execute_result"
    }
   ],
   "source": [
    "#looking for null values in both wind speed and wind chill\n",
    "\n",
    "accident_data.filter(\n",
    "    pl.col('Wind_Speed(mph)').is_null() & pl.col('Wind_Chill(F)').is_null()\n",
    ")[['Wind_Speed(mph)', 'Wind_Chill(F)']]"
   ],
   "metadata": {
    "collapsed": false,
    "pycharm": {
     "name": "#%%\n"
    }
   }
  },
  {
   "cell_type": "code",
   "execution_count": 23,
   "outputs": [
    {
     "data": {
      "text/plain": "['ID',\n 'Source',\n 'Severity',\n 'Start_Time',\n 'End_Time',\n 'Start_Lat',\n 'Start_Lng',\n 'End_Lat',\n 'End_Lng',\n 'Distance(mi)',\n 'Description',\n 'Street',\n 'City',\n 'County',\n 'State',\n 'Zipcode',\n 'Country',\n 'Timezone',\n 'Airport_Code',\n 'Weather_Timestamp',\n 'Temperature(F)',\n 'Wind_Chill(F)',\n 'Humidity(%)',\n 'Pressure(in)',\n 'Visibility(mi)',\n 'Wind_Direction',\n 'Wind_Speed(mph)',\n 'Precipitation(in)',\n 'Weather_Condition',\n 'Amenity',\n 'Bump',\n 'Crossing',\n 'Give_Way',\n 'Junction',\n 'No_Exit',\n 'Railway',\n 'Roundabout',\n 'Station',\n 'Stop',\n 'Traffic_Calming',\n 'Traffic_Signal',\n 'Turning_Loop',\n 'Sunrise_Sunset',\n 'Civil_Twilight',\n 'Nautical_Twilight',\n 'Astronomical_Twilight']"
     },
     "execution_count": 23,
     "metadata": {},
     "output_type": "execute_result"
    }
   ],
   "source": [
    "accident_data.columns"
   ],
   "metadata": {
    "collapsed": false,
    "pycharm": {
     "name": "#%%\n"
    }
   }
  },
  {
   "cell_type": "code",
   "execution_count": null,
   "outputs": [],
   "source": [
    "#categorized variables based on numerical, categoric, and datetime\n",
    "#description is excluded\n",
    "\n",
    "numerical = [\n",
    "       'Start_Lat', 'Start_Lng',\n",
    "       'End_Lat', 'End_Lng', 'Distance(mi)','Number','Temperature(F)', 'Wind_Chill(F)',\n",
    "       'Humidity(%)', 'Pressure(in)', 'Visibility(mi)','Wind_Speed(mph)', 'Precipitation(in)'\n",
    "]\n",
    "\n",
    "categorical = [\n",
    "    'Severity','Street', 'City', 'Zipcode', 'County', 'State','Country','Timezone','Airport_Code','Wind_Direction','Weather_Condition', 'Amenity',\n",
    "       'Bump', 'Crossing', 'Give_Way', 'Junction', 'No_Exit', 'Railway',\n",
    "       'Roundabout', 'Station', 'Stop', 'Traffic_Calming', 'Traffic_Signal',\n",
    "       'Turning_Loop', 'Sunrise_Sunset', 'Civil_Twilight', 'Nautical_Twilight',\n",
    "       'Astronomical_Twilight'\n",
    "]\n",
    "\n",
    "datetime = [\n",
    "        'datetime_start_parsed', 'datetime_end_parsed', 'datetime_weathertime_parsed'\n",
    "]"
   ],
   "metadata": {
    "collapsed": false,
    "pycharm": {
     "name": "#%%\n"
    }
   }
  },
  {
   "cell_type": "code",
   "execution_count": 3,
   "outputs": [
    {
     "name": "stdout",
     "output_type": "stream",
     "text": [
      "Percentage of data sampled: 0.9999878370590319%\n"
     ]
    }
   ],
   "source": [
    "#since dataset is over 1 GB, taking a sample of 1% of data for analysis\n",
    "accident_sample = accident_data.sample(frac=0.01)\n",
    "percentage_sampled = (len(accident_sample) / len(accident_data)) * 100\n",
    "print(f'Percentage of data sampled: {percentage_sampled}%')"
   ],
   "metadata": {
    "collapsed": false,
    "pycharm": {
     "name": "#%%\n"
    }
   }
  },
  {
   "cell_type": "markdown",
   "source": [
    "## Data transformation"
   ],
   "metadata": {
    "collapsed": false
   }
  },
  {
   "cell_type": "code",
   "execution_count": 7,
   "outputs": [
    {
     "data": {
      "text/plain": "shape: (7, 47)\n┌────────────┬──────────┬─────────┬────────────┬─────┬────────────────┬────────────────┬───────────────────┬───────────────────────┐\n│ describe   ┆ ID       ┆ Source  ┆ Severity   ┆ ... ┆ Sunrise_Sunset ┆ Civil_Twilight ┆ Nautical_Twilight ┆ Astronomical_Twilight │\n│ ---        ┆ ---      ┆ ---     ┆ ---        ┆     ┆ ---            ┆ ---            ┆ ---               ┆ ---                   │\n│ str        ┆ str      ┆ str     ┆ f64        ┆     ┆ str            ┆ str            ┆ str               ┆ str                   │\n╞════════════╪══════════╪═════════╪════════════╪═════╪════════════════╪════════════════╪═══════════════════╪═══════════════════════╡\n│ count      ┆ 7728394  ┆ 7728394 ┆ 7.728394e6 ┆ ... ┆ 7728394        ┆ 7728394        ┆ 7728394           ┆ 7728394               │\n│ null_count ┆ 0        ┆ 0       ┆ 0.0        ┆ ... ┆ 23246          ┆ 23246          ┆ 23246             ┆ 23246                 │\n│ mean       ┆ null     ┆ null    ┆ 2.212384   ┆ ... ┆ null           ┆ null           ┆ null              ┆ null                  │\n│ std        ┆ null     ┆ null    ┆ 0.487531   ┆ ... ┆ null           ┆ null           ┆ null              ┆ null                  │\n│ min        ┆ A-1      ┆ Source1 ┆ 1.0        ┆ ... ┆ Day            ┆ Day            ┆ Day               ┆ Day                   │\n│ max        ┆ A-999999 ┆ Source3 ┆ 4.0        ┆ ... ┆ Night          ┆ Night          ┆ Night             ┆ Night                 │\n│ median     ┆ null     ┆ null    ┆ 2.0        ┆ ... ┆ null           ┆ null           ┆ null              ┆ null                  │\n└────────────┴──────────┴─────────┴────────────┴─────┴────────────────┴────────────────┴───────────────────┴───────────────────────┘",
      "text/html": "<div><style>\n.dataframe > thead > tr > th,\n.dataframe > tbody > tr > td {\n  text-align: right;\n}\n</style>\n<small>shape: (7, 47)</small><table border=\"1\" class=\"dataframe\"><thead><tr><th>describe</th><th>ID</th><th>Source</th><th>Severity</th><th>Start_Time</th><th>End_Time</th><th>Start_Lat</th><th>Start_Lng</th><th>End_Lat</th><th>End_Lng</th><th>Distance(mi)</th><th>Description</th><th>Street</th><th>City</th><th>County</th><th>State</th><th>Zipcode</th><th>Country</th><th>Timezone</th><th>Airport_Code</th><th>Weather_Timestamp</th><th>Temperature(F)</th><th>Wind_Chill(F)</th><th>Humidity(%)</th><th>Pressure(in)</th><th>Visibility(mi)</th><th>Wind_Direction</th><th>Wind_Speed(mph)</th><th>Precipitation(in)</th><th>Weather_Condition</th><th>Amenity</th><th>Bump</th><th>Crossing</th><th>Give_Way</th><th>Junction</th><th>No_Exit</th><th>Railway</th><th>Roundabout</th><th>Station</th><th>Stop</th><th>Traffic_Calming</th><th>Traffic_Signal</th><th>Turning_Loop</th><th>Sunrise_Sunset</th><th>Civil_Twilight</th><th>Nautical_Twilight</th><th>Astronomical_Twilight</th></tr><tr><td>str</td><td>str</td><td>str</td><td>f64</td><td>str</td><td>str</td><td>f64</td><td>f64</td><td>str</td><td>str</td><td>f64</td><td>str</td><td>str</td><td>str</td><td>str</td><td>str</td><td>str</td><td>str</td><td>str</td><td>str</td><td>str</td><td>f64</td><td>f64</td><td>f64</td><td>f64</td><td>f64</td><td>str</td><td>f64</td><td>f64</td><td>str</td><td>f64</td><td>f64</td><td>f64</td><td>f64</td><td>f64</td><td>f64</td><td>f64</td><td>f64</td><td>f64</td><td>f64</td><td>f64</td><td>f64</td><td>f64</td><td>str</td><td>str</td><td>str</td><td>str</td></tr></thead><tbody><tr><td>&quot;count&quot;</td><td>&quot;7728394&quot;</td><td>&quot;7728394&quot;</td><td>7.728394e6</td><td>&quot;7728394&quot;</td><td>&quot;7728394&quot;</td><td>7.728394e6</td><td>7.728394e6</td><td>&quot;7728394&quot;</td><td>&quot;7728394&quot;</td><td>7.728394e6</td><td>&quot;7728394&quot;</td><td>&quot;7728394&quot;</td><td>&quot;7728394&quot;</td><td>&quot;7728394&quot;</td><td>&quot;7728394&quot;</td><td>&quot;7728394&quot;</td><td>&quot;7728394&quot;</td><td>&quot;7728394&quot;</td><td>&quot;7728394&quot;</td><td>&quot;7728394&quot;</td><td>7.728394e6</td><td>7.728394e6</td><td>7.728394e6</td><td>7.728394e6</td><td>7.728394e6</td><td>&quot;7728394&quot;</td><td>7.728394e6</td><td>7.728394e6</td><td>&quot;7728394&quot;</td><td>7.728394e6</td><td>7.728394e6</td><td>7.728394e6</td><td>7.728394e6</td><td>7.728394e6</td><td>7.728394e6</td><td>7.728394e6</td><td>7.728394e6</td><td>7.728394e6</td><td>7.728394e6</td><td>7.728394e6</td><td>7.728394e6</td><td>7.728394e6</td><td>&quot;7728394&quot;</td><td>&quot;7728394&quot;</td><td>&quot;7728394&quot;</td><td>&quot;7728394&quot;</td></tr><tr><td>&quot;null_count&quot;</td><td>&quot;0&quot;</td><td>&quot;0&quot;</td><td>0.0</td><td>&quot;0&quot;</td><td>&quot;0&quot;</td><td>0.0</td><td>0.0</td><td>&quot;3402762&quot;</td><td>&quot;3402762&quot;</td><td>0.0</td><td>&quot;5&quot;</td><td>&quot;10869&quot;</td><td>&quot;253&quot;</td><td>&quot;0&quot;</td><td>&quot;0&quot;</td><td>&quot;1915&quot;</td><td>&quot;0&quot;</td><td>&quot;7808&quot;</td><td>&quot;22635&quot;</td><td>&quot;120228&quot;</td><td>163853.0</td><td>1.999019e6</td><td>174144.0</td><td>140679.0</td><td>177098.0</td><td>&quot;175206&quot;</td><td>571233.0</td><td>2.203586e6</td><td>&quot;173459&quot;</td><td>0.0</td><td>0.0</td><td>0.0</td><td>0.0</td><td>0.0</td><td>0.0</td><td>0.0</td><td>0.0</td><td>0.0</td><td>0.0</td><td>0.0</td><td>0.0</td><td>0.0</td><td>&quot;23246&quot;</td><td>&quot;23246&quot;</td><td>&quot;23246&quot;</td><td>&quot;23246&quot;</td></tr><tr><td>&quot;mean&quot;</td><td>null</td><td>null</td><td>2.212384</td><td>null</td><td>null</td><td>36.201195</td><td>-94.702545</td><td>null</td><td>null</td><td>0.561842</td><td>null</td><td>null</td><td>null</td><td>null</td><td>null</td><td>null</td><td>null</td><td>null</td><td>null</td><td>null</td><td>61.663286</td><td>58.251048</td><td>64.831041</td><td>29.538986</td><td>9.090376</td><td>null</td><td>7.68549</td><td>0.008407</td><td>null</td><td>0.012465</td><td>0.000455</td><td>0.113059</td><td>0.004733</td><td>0.073928</td><td>0.002529</td><td>0.008667</td><td>0.000032</td><td>0.026125</td><td>0.027738</td><td>0.000983</td><td>0.147996</td><td>0.0</td><td>null</td><td>null</td><td>null</td><td>null</td></tr><tr><td>&quot;std&quot;</td><td>null</td><td>null</td><td>0.487531</td><td>null</td><td>null</td><td>5.076079</td><td>17.391756</td><td>null</td><td>null</td><td>1.776811</td><td>null</td><td>null</td><td>null</td><td>null</td><td>null</td><td>null</td><td>null</td><td>null</td><td>null</td><td>null</td><td>19.013653</td><td>22.389832</td><td>22.820968</td><td>1.00619</td><td>2.688316</td><td>null</td><td>5.424983</td><td>0.110225</td><td>null</td><td>0.11082</td><td>0.021314</td><td>0.316395</td><td>0.068505</td><td>0.26202</td><td>0.050171</td><td>0.092503</td><td>0.005676</td><td>0.159627</td><td>0.164643</td><td>0.031326</td><td>0.35624</td><td>0.0</td><td>null</td><td>null</td><td>null</td><td>null</td></tr><tr><td>&quot;min&quot;</td><td>&quot;A-1&quot;</td><td>&quot;Source1&quot;</td><td>1.0</td><td>&quot;2016-01-14 20:...</td><td>&quot;2016-02-08 06:...</td><td>24.5548</td><td>-124.623833</td><td>&quot;24.566013&quot;</td><td>&quot;-100.00023&quot;</td><td>0.0</td><td>&quot; 1039 GOLDEN B...</td><td>&quot; 1 1/2 Ave&quot;</td><td>&quot;Aaronsburg&quot;</td><td>&quot;Abbeville&quot;</td><td>&quot;AL&quot;</td><td>&quot;01001&quot;</td><td>&quot;US&quot;</td><td>&quot;US/Central&quot;</td><td>&quot;K01M&quot;</td><td>&quot;2016-01-14 19:...</td><td>-89.0</td><td>-89.0</td><td>1.0</td><td>0.0</td><td>0.0</td><td>&quot;CALM&quot;</td><td>0.0</td><td>0.0</td><td>&quot;Blowing Dust&quot;</td><td>0.0</td><td>0.0</td><td>0.0</td><td>0.0</td><td>0.0</td><td>0.0</td><td>0.0</td><td>0.0</td><td>0.0</td><td>0.0</td><td>0.0</td><td>0.0</td><td>0.0</td><td>&quot;Day&quot;</td><td>&quot;Day&quot;</td><td>&quot;Day&quot;</td><td>&quot;Day&quot;</td></tr><tr><td>&quot;max&quot;</td><td>&quot;A-999999&quot;</td><td>&quot;Source3&quot;</td><td>4.0</td><td>&quot;2023-03-31 23:...</td><td>&quot;2023-03-31 23:...</td><td>49.002201</td><td>-67.113167</td><td>&quot;49.075&quot;</td><td>&quot;-99.999554&quot;</td><td>441.75</td><td>&quot; VEHICLE CRASH...</td><td>&quot;william Carey ...</td><td>&quot;Zwingle&quot;</td><td>&quot;Ziebach&quot;</td><td>&quot;WY&quot;</td><td>&quot;99403&quot;</td><td>&quot;US&quot;</td><td>&quot;US/Pacific&quot;</td><td>&quot;KZZV&quot;</td><td>&quot;2023-03-31 23:...</td><td>207.0</td><td>207.0</td><td>100.0</td><td>58.63</td><td>140.0</td><td>&quot;West&quot;</td><td>1087.0</td><td>36.47</td><td>&quot;Wintry Mix / W...</td><td>1.0</td><td>1.0</td><td>1.0</td><td>1.0</td><td>1.0</td><td>1.0</td><td>1.0</td><td>1.0</td><td>1.0</td><td>1.0</td><td>1.0</td><td>1.0</td><td>0.0</td><td>&quot;Night&quot;</td><td>&quot;Night&quot;</td><td>&quot;Night&quot;</td><td>&quot;Night&quot;</td></tr><tr><td>&quot;median&quot;</td><td>null</td><td>null</td><td>2.0</td><td>null</td><td>null</td><td>35.823974</td><td>-87.766616</td><td>null</td><td>null</td><td>0.03</td><td>null</td><td>null</td><td>null</td><td>null</td><td>null</td><td>null</td><td>null</td><td>null</td><td>null</td><td>null</td><td>64.0</td><td>62.0</td><td>67.0</td><td>29.86</td><td>10.0</td><td>null</td><td>7.0</td><td>0.0</td><td>null</td><td>0.0</td><td>0.0</td><td>0.0</td><td>0.0</td><td>0.0</td><td>0.0</td><td>0.0</td><td>0.0</td><td>0.0</td><td>0.0</td><td>0.0</td><td>0.0</td><td>0.0</td><td>null</td><td>null</td><td>null</td><td>null</td></tr></tbody></table></div>"
     },
     "execution_count": 7,
     "metadata": {},
     "output_type": "execute_result"
    }
   ],
   "source": [
    "accident_data.describe()"
   ],
   "metadata": {
    "collapsed": false,
    "pycharm": {
     "name": "#%%\n"
    }
   }
  },
  {
   "cell_type": "code",
   "execution_count": 3,
   "outputs": [
    {
     "data": {
      "text/plain": "shape: (7728394,)\nSeries: 'Start_Time' [str]\n[\n\t\"2016-02-08 05:...\n\t\"2016-02-08 06:...\n\t\"2016-02-08 06:...\n\t\"2016-02-08 07:...\n\t\"2016-02-08 07:...\n\t\"2016-02-08 07:...\n\t\"2016-02-08 07:...\n\t\"2016-02-08 07:...\n\t\"2016-02-08 08:...\n\t\"2016-02-08 08:...\n\t\"2016-02-08 08:...\n\t\"2016-02-08 08:...\n\t...\n\t\"2019-08-23 16:...\n\t\"2019-08-23 17:...\n\t\"2019-08-23 16:...\n\t\"2019-08-23 17:...\n\t\"2019-08-23 17:...\n\t\"2019-08-23 17:...\n\t\"2019-08-23 17:...\n\t\"2019-08-23 18:...\n\t\"2019-08-23 18:...\n\t\"2019-08-23 19:...\n\t\"2019-08-23 19:...\n\t\"2019-08-23 19:...\n\t\"2019-08-23 18:...\n]",
      "text/html": "<div><style>\n.dataframe > thead > tr > th,\n.dataframe > tbody > tr > td {\n  text-align: right;\n}\n</style>\n<small>shape: (7728394,)</small><table border=\"1\" class=\"dataframe\"><thead><tr><th>Start_Time</th></tr><tr><td>str</td></tr></thead><tbody><tr><td>&quot;2016-02-08 05:...</td></tr><tr><td>&quot;2016-02-08 06:...</td></tr><tr><td>&quot;2016-02-08 06:...</td></tr><tr><td>&quot;2016-02-08 07:...</td></tr><tr><td>&quot;2016-02-08 07:...</td></tr><tr><td>&quot;2016-02-08 07:...</td></tr><tr><td>&quot;2016-02-08 07:...</td></tr><tr><td>&quot;2016-02-08 07:...</td></tr><tr><td>&quot;2016-02-08 08:...</td></tr><tr><td>&quot;2016-02-08 08:...</td></tr><tr><td>&quot;2016-02-08 08:...</td></tr><tr><td>&quot;2016-02-08 08:...</td></tr><tr><td>...</td></tr><tr><td>&quot;2019-08-23 17:...</td></tr><tr><td>&quot;2019-08-23 16:...</td></tr><tr><td>&quot;2019-08-23 17:...</td></tr><tr><td>&quot;2019-08-23 17:...</td></tr><tr><td>&quot;2019-08-23 17:...</td></tr><tr><td>&quot;2019-08-23 17:...</td></tr><tr><td>&quot;2019-08-23 18:...</td></tr><tr><td>&quot;2019-08-23 18:...</td></tr><tr><td>&quot;2019-08-23 19:...</td></tr><tr><td>&quot;2019-08-23 19:...</td></tr><tr><td>&quot;2019-08-23 19:...</td></tr><tr><td>&quot;2019-08-23 18:...</td></tr></tbody></table></div>"
     },
     "execution_count": 3,
     "metadata": {},
     "output_type": "execute_result"
    }
   ],
   "source": [
    "accident_data.drop_in_place(\"Start_Time\")"
   ],
   "metadata": {
    "collapsed": false,
    "pycharm": {
     "name": "#%%\n"
    }
   }
  },
  {
   "cell_type": "code",
   "execution_count": 11,
   "outputs": [
    {
     "data": {
      "text/plain": "shape: (7728394, 1)\n┌────────────────────────────┐\n│ Weather_Timestamp          │\n│ ---                        │\n│ list[str]                  │\n╞════════════════════════════╡\n│ [\"2016-02-08\", \"05:58:00\"] │\n│ [\"2016-02-08\", \"05:51:00\"] │\n│ [\"2016-02-08\", \"06:56:00\"] │\n│ [\"2016-02-08\", \"07:38:00\"] │\n│ ...                        │\n│ [\"2019-08-23\", \"18:53:00\"] │\n│ [\"2019-08-23\", \"18:53:00\"] │\n│ [\"2019-08-23\", \"18:51:00\"] │\n│ [\"2019-08-23\", \"20:50:00\"] │\n└────────────────────────────┘",
      "text/html": "<div><style>\n.dataframe > thead > tr > th,\n.dataframe > tbody > tr > td {\n  text-align: right;\n}\n</style>\n<small>shape: (7728394, 1)</small><table border=\"1\" class=\"dataframe\"><thead><tr><th>Weather_Timestamp</th></tr><tr><td>list[str]</td></tr></thead><tbody><tr><td>[&quot;2016-02-08&quot;, &quot;05:58:00&quot;]</td></tr><tr><td>[&quot;2016-02-08&quot;, &quot;05:51:00&quot;]</td></tr><tr><td>[&quot;2016-02-08&quot;, &quot;06:56:00&quot;]</td></tr><tr><td>[&quot;2016-02-08&quot;, &quot;07:38:00&quot;]</td></tr><tr><td>[&quot;2016-02-08&quot;, &quot;07:53:00&quot;]</td></tr><tr><td>[&quot;2016-02-08&quot;, &quot;07:51:00&quot;]</td></tr><tr><td>[&quot;2016-02-08&quot;, &quot;07:56:00&quot;]</td></tr><tr><td>[&quot;2016-02-08&quot;, &quot;07:56:00&quot;]</td></tr><tr><td>[&quot;2016-02-08&quot;, &quot;07:58:00&quot;]</td></tr><tr><td>[&quot;2016-02-08&quot;, &quot;08:28:00&quot;]</td></tr><tr><td>[&quot;2016-02-08&quot;, &quot;07:50:00&quot;]</td></tr><tr><td>[&quot;2016-02-08&quot;, &quot;08:28:00&quot;]</td></tr><tr><td>...</td></tr><tr><td>[&quot;2019-08-23&quot;, &quot;16:53:00&quot;]</td></tr><tr><td>[&quot;2019-08-23&quot;, &quot;16:47:00&quot;]</td></tr><tr><td>[&quot;2019-08-23&quot;, &quot;17:53:00&quot;]</td></tr><tr><td>[&quot;2019-08-23&quot;, &quot;17:58:00&quot;]</td></tr><tr><td>[&quot;2019-08-23&quot;, &quot;17:51:00&quot;]</td></tr><tr><td>[&quot;2019-08-23&quot;, &quot;17:53:00&quot;]</td></tr><tr><td>[&quot;2019-08-23&quot;, &quot;18:50:00&quot;]</td></tr><tr><td>[&quot;2019-08-23&quot;, &quot;17:53:00&quot;]</td></tr><tr><td>[&quot;2019-08-23&quot;, &quot;18:53:00&quot;]</td></tr><tr><td>[&quot;2019-08-23&quot;, &quot;18:53:00&quot;]</td></tr><tr><td>[&quot;2019-08-23&quot;, &quot;18:51:00&quot;]</td></tr><tr><td>[&quot;2019-08-23&quot;, &quot;20:50:00&quot;]</td></tr></tbody></table></div>"
     },
     "execution_count": 11,
     "metadata": {},
     "output_type": "execute_result"
    }
   ],
   "source": [
    "accident_data.select(pl.col(\"Weather_Timestamp\").cast(pl.Utf8).str.split(\" \", False))"
   ],
   "metadata": {
    "collapsed": false,
    "pycharm": {
     "name": "#%%\n"
    }
   }
  },
  {
   "cell_type": "code",
   "execution_count": 14,
   "outputs": [
    {
     "data": {
      "text/plain": "shape: (7728394,)\nSeries: 'End_Lng' [str]\n[\n\tnull\n\tnull\n\tnull\n\tnull\n\tnull\n\tnull\n\tnull\n\tnull\n\tnull\n\tnull\n\tnull\n\tnull\n\t...\n\t\"-118.47205\"\n\t\"-117.83745\"\n\t\"-117.833454\"\n\t\"-117.99715\"\n\t\"-117.07788\"\n\t\"-119.23087\"\n\t\"-117.830010000...\n\t\"-118.416176\"\n\t\"-117.37094\"\n\t\"-117.15363\"\n\t\"-117.85727\"\n\t\"-118.39565\"\n\t\"-117.239339999...\n]",
      "text/html": "<div><style>\n.dataframe > thead > tr > th,\n.dataframe > tbody > tr > td {\n  text-align: right;\n}\n</style>\n<small>shape: (7728394,)</small><table border=\"1\" class=\"dataframe\"><thead><tr><th>End_Lng</th></tr><tr><td>str</td></tr></thead><tbody><tr><td>null</td></tr><tr><td>null</td></tr><tr><td>null</td></tr><tr><td>null</td></tr><tr><td>null</td></tr><tr><td>null</td></tr><tr><td>null</td></tr><tr><td>null</td></tr><tr><td>null</td></tr><tr><td>null</td></tr><tr><td>null</td></tr><tr><td>null</td></tr><tr><td>...</td></tr><tr><td>&quot;-117.83745&quot;</td></tr><tr><td>&quot;-117.833454&quot;</td></tr><tr><td>&quot;-117.99715&quot;</td></tr><tr><td>&quot;-117.07788&quot;</td></tr><tr><td>&quot;-119.23087&quot;</td></tr><tr><td>&quot;-117.830010000...</td></tr><tr><td>&quot;-118.416176&quot;</td></tr><tr><td>&quot;-117.37094&quot;</td></tr><tr><td>&quot;-117.15363&quot;</td></tr><tr><td>&quot;-117.85727&quot;</td></tr><tr><td>&quot;-118.39565&quot;</td></tr><tr><td>&quot;-117.239339999...</td></tr></tbody></table></div>"
     },
     "execution_count": 14,
     "metadata": {},
     "output_type": "execute_result"
    }
   ],
   "source": [
    "accident_data['End_Lng']"
   ],
   "metadata": {
    "collapsed": false,
    "pycharm": {
     "name": "#%%\n"
    }
   }
  },
  {
   "cell_type": "code",
   "execution_count": 44,
   "outputs": [],
   "source": [
    "column_names = [\"day\", 'hour']  # Replace with actual names\n",
    "\n",
    "# Generate new columns using the predefined column names\n",
    "split_columns = [\n",
    "    pl.col('Weather_Timestamp').cast(pl.Utf8).str.split(\" \", False).arr.get(i).alias(column_names[i])\n",
    "    for i in range(len(column_names))\n",
    "]\n",
    "\n",
    "accident_data = accident_data.with_columns(split_columns)"
   ],
   "metadata": {
    "collapsed": false,
    "pycharm": {
     "name": "#%%\n"
    }
   }
  },
  {
   "cell_type": "code",
   "execution_count": 45,
   "outputs": [
    {
     "data": {
      "text/plain": "shape: (7728394, 49)\n┌───────────┬─────────┬──────────┬─────────────────────┬─────┬───────────────────────┬─────────────────┬────────────┬──────────┐\n│ ID        ┆ Source  ┆ Severity ┆ Start_Time          ┆ ... ┆ Astronomical_Twilight ┆ split_timestamp ┆ day        ┆ hour     │\n│ ---       ┆ ---     ┆ ---      ┆ ---                 ┆     ┆ ---                   ┆ ---             ┆ ---        ┆ ---      │\n│ str       ┆ str     ┆ i64      ┆ str                 ┆     ┆ str                   ┆ str             ┆ str        ┆ str      │\n╞═══════════╪═════════╪══════════╪═════════════════════╪═════╪═══════════════════════╪═════════════════╪════════════╪══════════╡\n│ A-1       ┆ Source2 ┆ 3        ┆ 2016-02-08 05:46:00 ┆ ... ┆ Night                 ┆ 2016-02-08      ┆ 2016-02-08 ┆ 05:58:00 │\n│ A-2       ┆ Source2 ┆ 2        ┆ 2016-02-08 06:07:59 ┆ ... ┆ Day                   ┆ 2016-02-08      ┆ 2016-02-08 ┆ 05:51:00 │\n│ A-3       ┆ Source2 ┆ 2        ┆ 2016-02-08 06:49:27 ┆ ... ┆ Day                   ┆ 2016-02-08      ┆ 2016-02-08 ┆ 06:56:00 │\n│ A-4       ┆ Source2 ┆ 3        ┆ 2016-02-08 07:23:34 ┆ ... ┆ Day                   ┆ 2016-02-08      ┆ 2016-02-08 ┆ 07:38:00 │\n│ ...       ┆ ...     ┆ ...      ┆ ...                 ┆ ... ┆ ...                   ┆ ...             ┆ ...        ┆ ...      │\n│ A-7777758 ┆ Source1 ┆ 2        ┆ 2019-08-23 19:11:30 ┆ ... ┆ Day                   ┆ 2019-08-23      ┆ 2019-08-23 ┆ 18:53:00 │\n│ A-7777759 ┆ Source1 ┆ 2        ┆ 2019-08-23 19:00:21 ┆ ... ┆ Day                   ┆ 2019-08-23      ┆ 2019-08-23 ┆ 18:53:00 │\n│ A-7777760 ┆ Source1 ┆ 2        ┆ 2019-08-23 19:00:21 ┆ ... ┆ Day                   ┆ 2019-08-23      ┆ 2019-08-23 ┆ 18:51:00 │\n│ A-7777761 ┆ Source1 ┆ 2        ┆ 2019-08-23 18:52:06 ┆ ... ┆ Day                   ┆ 2019-08-23      ┆ 2019-08-23 ┆ 20:50:00 │\n└───────────┴─────────┴──────────┴─────────────────────┴─────┴───────────────────────┴─────────────────┴────────────┴──────────┘",
      "text/html": "<div><style>\n.dataframe > thead > tr > th,\n.dataframe > tbody > tr > td {\n  text-align: right;\n}\n</style>\n<small>shape: (7728394, 49)</small><table border=\"1\" class=\"dataframe\"><thead><tr><th>ID</th><th>Source</th><th>Severity</th><th>Start_Time</th><th>End_Time</th><th>Start_Lat</th><th>Start_Lng</th><th>End_Lat</th><th>End_Lng</th><th>Distance(mi)</th><th>Description</th><th>Street</th><th>City</th><th>County</th><th>State</th><th>Zipcode</th><th>Country</th><th>Timezone</th><th>Airport_Code</th><th>Weather_Timestamp</th><th>Temperature(F)</th><th>Wind_Chill(F)</th><th>Humidity(%)</th><th>Pressure(in)</th><th>Visibility(mi)</th><th>Wind_Direction</th><th>Wind_Speed(mph)</th><th>Precipitation(in)</th><th>Weather_Condition</th><th>Amenity</th><th>Bump</th><th>Crossing</th><th>Give_Way</th><th>Junction</th><th>No_Exit</th><th>Railway</th><th>Roundabout</th><th>Station</th><th>Stop</th><th>Traffic_Calming</th><th>Traffic_Signal</th><th>Turning_Loop</th><th>Sunrise_Sunset</th><th>Civil_Twilight</th><th>Nautical_Twilight</th><th>Astronomical_Twilight</th><th>split_timestamp</th><th>day</th><th>hour</th></tr><tr><td>str</td><td>str</td><td>i64</td><td>str</td><td>str</td><td>f64</td><td>f64</td><td>str</td><td>str</td><td>f64</td><td>str</td><td>str</td><td>str</td><td>str</td><td>str</td><td>str</td><td>str</td><td>str</td><td>str</td><td>str</td><td>f64</td><td>f64</td><td>f64</td><td>f64</td><td>f64</td><td>str</td><td>f64</td><td>f64</td><td>str</td><td>bool</td><td>bool</td><td>bool</td><td>bool</td><td>bool</td><td>bool</td><td>bool</td><td>bool</td><td>bool</td><td>bool</td><td>bool</td><td>bool</td><td>bool</td><td>str</td><td>str</td><td>str</td><td>str</td><td>str</td><td>str</td><td>str</td></tr></thead><tbody><tr><td>&quot;A-1&quot;</td><td>&quot;Source2&quot;</td><td>3</td><td>&quot;2016-02-08 05:...</td><td>&quot;2016-02-08 11:...</td><td>39.865147</td><td>-84.058723</td><td>null</td><td>null</td><td>0.01</td><td>&quot;Right lane blo...</td><td>&quot;I-70 E&quot;</td><td>&quot;Dayton&quot;</td><td>&quot;Montgomery&quot;</td><td>&quot;OH&quot;</td><td>&quot;45424&quot;</td><td>&quot;US&quot;</td><td>&quot;US/Eastern&quot;</td><td>&quot;KFFO&quot;</td><td>&quot;2016-02-08 05:...</td><td>36.9</td><td>null</td><td>91.0</td><td>29.68</td><td>10.0</td><td>&quot;Calm&quot;</td><td>null</td><td>0.02</td><td>&quot;Light Rain&quot;</td><td>false</td><td>false</td><td>false</td><td>false</td><td>false</td><td>false</td><td>false</td><td>false</td><td>false</td><td>false</td><td>false</td><td>false</td><td>false</td><td>&quot;Night&quot;</td><td>&quot;Night&quot;</td><td>&quot;Night&quot;</td><td>&quot;Night&quot;</td><td>&quot;2016-02-08&quot;</td><td>&quot;2016-02-08&quot;</td><td>&quot;05:58:00&quot;</td></tr><tr><td>&quot;A-2&quot;</td><td>&quot;Source2&quot;</td><td>2</td><td>&quot;2016-02-08 06:...</td><td>&quot;2016-02-08 06:...</td><td>39.928059</td><td>-82.831184</td><td>null</td><td>null</td><td>0.01</td><td>&quot;Accident on Br...</td><td>&quot;Brice Rd&quot;</td><td>&quot;Reynoldsburg&quot;</td><td>&quot;Franklin&quot;</td><td>&quot;OH&quot;</td><td>&quot;43068-3402&quot;</td><td>&quot;US&quot;</td><td>&quot;US/Eastern&quot;</td><td>&quot;KCMH&quot;</td><td>&quot;2016-02-08 05:...</td><td>37.9</td><td>null</td><td>100.0</td><td>29.65</td><td>10.0</td><td>&quot;Calm&quot;</td><td>null</td><td>0.0</td><td>&quot;Light Rain&quot;</td><td>false</td><td>false</td><td>false</td><td>false</td><td>false</td><td>false</td><td>false</td><td>false</td><td>false</td><td>false</td><td>false</td><td>false</td><td>false</td><td>&quot;Night&quot;</td><td>&quot;Night&quot;</td><td>&quot;Night&quot;</td><td>&quot;Day&quot;</td><td>&quot;2016-02-08&quot;</td><td>&quot;2016-02-08&quot;</td><td>&quot;05:51:00&quot;</td></tr><tr><td>&quot;A-3&quot;</td><td>&quot;Source2&quot;</td><td>2</td><td>&quot;2016-02-08 06:...</td><td>&quot;2016-02-08 07:...</td><td>39.063148</td><td>-84.032608</td><td>null</td><td>null</td><td>0.01</td><td>&quot;Accident on OH...</td><td>&quot;State Route 32...</td><td>&quot;Williamsburg&quot;</td><td>&quot;Clermont&quot;</td><td>&quot;OH&quot;</td><td>&quot;45176&quot;</td><td>&quot;US&quot;</td><td>&quot;US/Eastern&quot;</td><td>&quot;KI69&quot;</td><td>&quot;2016-02-08 06:...</td><td>36.0</td><td>33.3</td><td>100.0</td><td>29.67</td><td>10.0</td><td>&quot;SW&quot;</td><td>3.5</td><td>null</td><td>&quot;Overcast&quot;</td><td>false</td><td>false</td><td>false</td><td>false</td><td>false</td><td>false</td><td>false</td><td>false</td><td>false</td><td>false</td><td>false</td><td>true</td><td>false</td><td>&quot;Night&quot;</td><td>&quot;Night&quot;</td><td>&quot;Day&quot;</td><td>&quot;Day&quot;</td><td>&quot;2016-02-08&quot;</td><td>&quot;2016-02-08&quot;</td><td>&quot;06:56:00&quot;</td></tr><tr><td>&quot;A-4&quot;</td><td>&quot;Source2&quot;</td><td>3</td><td>&quot;2016-02-08 07:...</td><td>&quot;2016-02-08 07:...</td><td>39.747753</td><td>-84.205582</td><td>null</td><td>null</td><td>0.01</td><td>&quot;Accident on I-...</td><td>&quot;I-75 S&quot;</td><td>&quot;Dayton&quot;</td><td>&quot;Montgomery&quot;</td><td>&quot;OH&quot;</td><td>&quot;45417&quot;</td><td>&quot;US&quot;</td><td>&quot;US/Eastern&quot;</td><td>&quot;KDAY&quot;</td><td>&quot;2016-02-08 07:...</td><td>35.1</td><td>31.0</td><td>96.0</td><td>29.64</td><td>9.0</td><td>&quot;SW&quot;</td><td>4.6</td><td>null</td><td>&quot;Mostly Cloudy&quot;</td><td>false</td><td>false</td><td>false</td><td>false</td><td>false</td><td>false</td><td>false</td><td>false</td><td>false</td><td>false</td><td>false</td><td>false</td><td>false</td><td>&quot;Night&quot;</td><td>&quot;Day&quot;</td><td>&quot;Day&quot;</td><td>&quot;Day&quot;</td><td>&quot;2016-02-08&quot;</td><td>&quot;2016-02-08&quot;</td><td>&quot;07:38:00&quot;</td></tr><tr><td>&quot;A-5&quot;</td><td>&quot;Source2&quot;</td><td>2</td><td>&quot;2016-02-08 07:...</td><td>&quot;2016-02-08 08:...</td><td>39.627781</td><td>-84.188354</td><td>null</td><td>null</td><td>0.01</td><td>&quot;Accident on Mc...</td><td>&quot;Miamisburg Cen...</td><td>&quot;Dayton&quot;</td><td>&quot;Montgomery&quot;</td><td>&quot;OH&quot;</td><td>&quot;45459&quot;</td><td>&quot;US&quot;</td><td>&quot;US/Eastern&quot;</td><td>&quot;KMGY&quot;</td><td>&quot;2016-02-08 07:...</td><td>36.0</td><td>33.3</td><td>89.0</td><td>29.65</td><td>6.0</td><td>&quot;SW&quot;</td><td>3.5</td><td>null</td><td>&quot;Mostly Cloudy&quot;</td><td>false</td><td>false</td><td>false</td><td>false</td><td>false</td><td>false</td><td>false</td><td>false</td><td>false</td><td>false</td><td>false</td><td>true</td><td>false</td><td>&quot;Day&quot;</td><td>&quot;Day&quot;</td><td>&quot;Day&quot;</td><td>&quot;Day&quot;</td><td>&quot;2016-02-08&quot;</td><td>&quot;2016-02-08&quot;</td><td>&quot;07:53:00&quot;</td></tr><tr><td>&quot;A-6&quot;</td><td>&quot;Source2&quot;</td><td>3</td><td>&quot;2016-02-08 07:...</td><td>&quot;2016-02-08 08:...</td><td>40.10059</td><td>-82.925194</td><td>null</td><td>null</td><td>0.01</td><td>&quot;Accident on I-...</td><td>&quot;Westerville Rd...</td><td>&quot;Westerville&quot;</td><td>&quot;Franklin&quot;</td><td>&quot;OH&quot;</td><td>&quot;43081&quot;</td><td>&quot;US&quot;</td><td>&quot;US/Eastern&quot;</td><td>&quot;KCMH&quot;</td><td>&quot;2016-02-08 07:...</td><td>37.9</td><td>35.5</td><td>97.0</td><td>29.63</td><td>7.0</td><td>&quot;SSW&quot;</td><td>3.5</td><td>0.03</td><td>&quot;Light Rain&quot;</td><td>false</td><td>false</td><td>false</td><td>false</td><td>false</td><td>false</td><td>false</td><td>false</td><td>false</td><td>false</td><td>false</td><td>false</td><td>false</td><td>&quot;Day&quot;</td><td>&quot;Day&quot;</td><td>&quot;Day&quot;</td><td>&quot;Day&quot;</td><td>&quot;2016-02-08&quot;</td><td>&quot;2016-02-08&quot;</td><td>&quot;07:51:00&quot;</td></tr><tr><td>&quot;A-7&quot;</td><td>&quot;Source2&quot;</td><td>2</td><td>&quot;2016-02-08 07:...</td><td>&quot;2016-02-08 08:...</td><td>39.758274</td><td>-84.230507</td><td>null</td><td>null</td><td>0.0</td><td>&quot;Accident on Oa...</td><td>&quot;N Woodward Ave...</td><td>&quot;Dayton&quot;</td><td>&quot;Montgomery&quot;</td><td>&quot;OH&quot;</td><td>&quot;45417-2476&quot;</td><td>&quot;US&quot;</td><td>&quot;US/Eastern&quot;</td><td>&quot;KDAY&quot;</td><td>&quot;2016-02-08 07:...</td><td>34.0</td><td>31.0</td><td>100.0</td><td>29.66</td><td>7.0</td><td>&quot;WSW&quot;</td><td>3.5</td><td>null</td><td>&quot;Overcast&quot;</td><td>false</td><td>false</td><td>false</td><td>false</td><td>false</td><td>false</td><td>false</td><td>false</td><td>false</td><td>false</td><td>false</td><td>false</td><td>false</td><td>&quot;Day&quot;</td><td>&quot;Day&quot;</td><td>&quot;Day&quot;</td><td>&quot;Day&quot;</td><td>&quot;2016-02-08&quot;</td><td>&quot;2016-02-08&quot;</td><td>&quot;07:56:00&quot;</td></tr><tr><td>&quot;A-8&quot;</td><td>&quot;Source2&quot;</td><td>3</td><td>&quot;2016-02-08 07:...</td><td>&quot;2016-02-08 08:...</td><td>39.770382</td><td>-84.194901</td><td>null</td><td>null</td><td>0.01</td><td>&quot;Accident on I-...</td><td>&quot;N Main St&quot;</td><td>&quot;Dayton&quot;</td><td>&quot;Montgomery&quot;</td><td>&quot;OH&quot;</td><td>&quot;45405&quot;</td><td>&quot;US&quot;</td><td>&quot;US/Eastern&quot;</td><td>&quot;KDAY&quot;</td><td>&quot;2016-02-08 07:...</td><td>34.0</td><td>31.0</td><td>100.0</td><td>29.66</td><td>7.0</td><td>&quot;WSW&quot;</td><td>3.5</td><td>null</td><td>&quot;Overcast&quot;</td><td>false</td><td>false</td><td>false</td><td>false</td><td>false</td><td>false</td><td>false</td><td>false</td><td>false</td><td>false</td><td>false</td><td>false</td><td>false</td><td>&quot;Day&quot;</td><td>&quot;Day&quot;</td><td>&quot;Day&quot;</td><td>&quot;Day&quot;</td><td>&quot;2016-02-08&quot;</td><td>&quot;2016-02-08&quot;</td><td>&quot;07:56:00&quot;</td></tr><tr><td>&quot;A-9&quot;</td><td>&quot;Source2&quot;</td><td>2</td><td>&quot;2016-02-08 08:...</td><td>&quot;2016-02-08 08:...</td><td>39.778061</td><td>-84.172005</td><td>null</td><td>null</td><td>0.0</td><td>&quot;Accident on No...</td><td>&quot;Notre Dame Ave...</td><td>&quot;Dayton&quot;</td><td>&quot;Montgomery&quot;</td><td>&quot;OH&quot;</td><td>&quot;45404-1923&quot;</td><td>&quot;US&quot;</td><td>&quot;US/Eastern&quot;</td><td>&quot;KFFO&quot;</td><td>&quot;2016-02-08 07:...</td><td>33.3</td><td>null</td><td>99.0</td><td>29.67</td><td>5.0</td><td>&quot;SW&quot;</td><td>1.2</td><td>null</td><td>&quot;Mostly Cloudy&quot;</td><td>false</td><td>false</td><td>false</td><td>false</td><td>false</td><td>false</td><td>false</td><td>false</td><td>false</td><td>false</td><td>false</td><td>false</td><td>false</td><td>&quot;Day&quot;</td><td>&quot;Day&quot;</td><td>&quot;Day&quot;</td><td>&quot;Day&quot;</td><td>&quot;2016-02-08&quot;</td><td>&quot;2016-02-08&quot;</td><td>&quot;07:58:00&quot;</td></tr><tr><td>&quot;A-10&quot;</td><td>&quot;Source2&quot;</td><td>3</td><td>&quot;2016-02-08 08:...</td><td>&quot;2016-02-08 08:...</td><td>40.10059</td><td>-82.925194</td><td>null</td><td>null</td><td>0.01</td><td>&quot;Right hand sho...</td><td>&quot;Westerville Rd...</td><td>&quot;Westerville&quot;</td><td>&quot;Franklin&quot;</td><td>&quot;OH&quot;</td><td>&quot;43081&quot;</td><td>&quot;US&quot;</td><td>&quot;US/Eastern&quot;</td><td>&quot;KCMH&quot;</td><td>&quot;2016-02-08 08:...</td><td>37.4</td><td>33.8</td><td>100.0</td><td>29.62</td><td>3.0</td><td>&quot;SSW&quot;</td><td>4.6</td><td>0.02</td><td>&quot;Light Rain&quot;</td><td>false</td><td>false</td><td>false</td><td>false</td><td>false</td><td>false</td><td>false</td><td>false</td><td>false</td><td>false</td><td>false</td><td>false</td><td>false</td><td>&quot;Day&quot;</td><td>&quot;Day&quot;</td><td>&quot;Day&quot;</td><td>&quot;Day&quot;</td><td>&quot;2016-02-08&quot;</td><td>&quot;2016-02-08&quot;</td><td>&quot;08:28:00&quot;</td></tr><tr><td>&quot;A-11&quot;</td><td>&quot;Source2&quot;</td><td>3</td><td>&quot;2016-02-08 08:...</td><td>&quot;2016-02-08 08:...</td><td>39.952812</td><td>-83.119293</td><td>null</td><td>null</td><td>0.01</td><td>&quot;Accident on I-...</td><td>&quot;Outerbelt S&quot;</td><td>&quot;Columbus&quot;</td><td>&quot;Franklin&quot;</td><td>&quot;OH&quot;</td><td>&quot;43228&quot;</td><td>&quot;US&quot;</td><td>&quot;US/Eastern&quot;</td><td>&quot;KTZR&quot;</td><td>&quot;2016-02-08 07:...</td><td>35.6</td><td>30.7</td><td>93.0</td><td>29.64</td><td>5.0</td><td>&quot;WNW&quot;</td><td>5.8</td><td>null</td><td>&quot;Rain&quot;</td><td>false</td><td>false</td><td>true</td><td>false</td><td>true</td><td>false</td><td>false</td><td>false</td><td>false</td><td>false</td><td>false</td><td>false</td><td>false</td><td>&quot;Day&quot;</td><td>&quot;Day&quot;</td><td>&quot;Day&quot;</td><td>&quot;Day&quot;</td><td>&quot;2016-02-08&quot;</td><td>&quot;2016-02-08&quot;</td><td>&quot;07:50:00&quot;</td></tr><tr><td>&quot;A-12&quot;</td><td>&quot;Source2&quot;</td><td>3</td><td>&quot;2016-02-08 08:...</td><td>&quot;2016-02-08 08:...</td><td>39.932709</td><td>-82.83091</td><td>null</td><td>null</td><td>0.01</td><td>&quot;One lane block...</td><td>&quot;I-70 E&quot;</td><td>&quot;Reynoldsburg&quot;</td><td>&quot;Franklin&quot;</td><td>&quot;OH&quot;</td><td>&quot;43068&quot;</td><td>&quot;US&quot;</td><td>&quot;US/Eastern&quot;</td><td>&quot;KCMH&quot;</td><td>&quot;2016-02-08 08:...</td><td>37.4</td><td>33.8</td><td>100.0</td><td>29.62</td><td>3.0</td><td>&quot;SSW&quot;</td><td>4.6</td><td>0.02</td><td>&quot;Light Rain&quot;</td><td>false</td><td>false</td><td>false</td><td>false</td><td>false</td><td>false</td><td>false</td><td>false</td><td>false</td><td>false</td><td>false</td><td>false</td><td>false</td><td>&quot;Day&quot;</td><td>&quot;Day&quot;</td><td>&quot;Day&quot;</td><td>&quot;Day&quot;</td><td>&quot;2016-02-08&quot;</td><td>&quot;2016-02-08&quot;</td><td>&quot;08:28:00&quot;</td></tr><tr><td>...</td><td>...</td><td>...</td><td>...</td><td>...</td><td>...</td><td>...</td><td>...</td><td>...</td><td>...</td><td>...</td><td>...</td><td>...</td><td>...</td><td>...</td><td>...</td><td>...</td><td>...</td><td>...</td><td>...</td><td>...</td><td>...</td><td>...</td><td>...</td><td>...</td><td>...</td><td>...</td><td>...</td><td>...</td><td>...</td><td>...</td><td>...</td><td>...</td><td>...</td><td>...</td><td>...</td><td>...</td><td>...</td><td>...</td><td>...</td><td>...</td><td>...</td><td>...</td><td>...</td><td>...</td><td>...</td><td>...</td><td>...</td><td>...</td></tr><tr><td>&quot;A-7777750&quot;</td><td>&quot;Source1&quot;</td><td>2</td><td>&quot;2019-08-23 17:...</td><td>&quot;2019-08-23 17:...</td><td>33.8508</td><td>-117.84365</td><td>&quot;33.85075&quot;</td><td>&quot;-117.83745&quot;</td><td>0.356</td><td>&quot;At Tustin Ave ...</td><td>&quot;Riverside Fwy ...</td><td>&quot;Anaheim&quot;</td><td>&quot;Orange&quot;</td><td>&quot;CA&quot;</td><td>&quot;92806&quot;</td><td>&quot;US&quot;</td><td>&quot;US/Pacific&quot;</td><td>&quot;KFUL&quot;</td><td>&quot;2019-08-23 16:...</td><td>79.0</td><td>79.0</td><td>50.0</td><td>29.7</td><td>10.0</td><td>&quot;VAR&quot;</td><td>5.0</td><td>0.0</td><td>&quot;Fair&quot;</td><td>false</td><td>false</td><td>false</td><td>false</td><td>true</td><td>false</td><td>false</td><td>false</td><td>false</td><td>false</td><td>false</td><td>false</td><td>false</td><td>&quot;Day&quot;</td><td>&quot;Day&quot;</td><td>&quot;Day&quot;</td><td>&quot;Day&quot;</td><td>&quot;2019-08-23&quot;</td><td>&quot;2019-08-23&quot;</td><td>&quot;16:53:00&quot;</td></tr><tr><td>&quot;A-7777751&quot;</td><td>&quot;Source1&quot;</td><td>2</td><td>&quot;2019-08-23 16:...</td><td>&quot;2019-08-23 17:...</td><td>34.120911</td><td>-117.833454</td><td>&quot;34.120911&quot;</td><td>&quot;-117.833454&quot;</td><td>0.0</td><td>&quot;At CA-210/CA-5...</td><td>&quot;CA-210 E&quot;</td><td>&quot;Glendora&quot;</td><td>&quot;Los Angeles&quot;</td><td>&quot;CA&quot;</td><td>&quot;91740&quot;</td><td>&quot;US&quot;</td><td>&quot;US/Pacific&quot;</td><td>&quot;KPOC&quot;</td><td>&quot;2019-08-23 16:...</td><td>86.0</td><td>86.0</td><td>40.0</td><td>28.76</td><td>10.0</td><td>&quot;WSW&quot;</td><td>12.0</td><td>null</td><td>&quot;Fair&quot;</td><td>false</td><td>false</td><td>false</td><td>false</td><td>false</td><td>false</td><td>false</td><td>false</td><td>false</td><td>false</td><td>false</td><td>false</td><td>false</td><td>&quot;Day&quot;</td><td>&quot;Day&quot;</td><td>&quot;Day&quot;</td><td>&quot;Day&quot;</td><td>&quot;2019-08-23&quot;</td><td>&quot;2019-08-23&quot;</td><td>&quot;16:47:00&quot;</td></tr><tr><td>&quot;A-7777752&quot;</td><td>&quot;Source1&quot;</td><td>2</td><td>&quot;2019-08-23 17:...</td><td>&quot;2019-08-23 18:...</td><td>34.06446</td><td>-118.00388</td><td>&quot;34.06533&quot;</td><td>&quot;-117.99715&quot;</td><td>0.39</td><td>&quot;At I-605 - Acc...</td><td>&quot;I-10 E&quot;</td><td>&quot;Baldwin Park&quot;</td><td>&quot;Los Angeles&quot;</td><td>&quot;CA&quot;</td><td>&quot;91706&quot;</td><td>&quot;US&quot;</td><td>&quot;US/Pacific&quot;</td><td>&quot;KEMT&quot;</td><td>&quot;2019-08-23 17:...</td><td>78.0</td><td>78.0</td><td>52.0</td><td>29.69</td><td>10.0</td><td>&quot;VAR&quot;</td><td>6.0</td><td>0.0</td><td>&quot;Fair&quot;</td><td>false</td><td>false</td><td>false</td><td>false</td><td>false</td><td>false</td><td>false</td><td>false</td><td>false</td><td>false</td><td>false</td><td>false</td><td>false</td><td>&quot;Day&quot;</td><td>&quot;Day&quot;</td><td>&quot;Day&quot;</td><td>&quot;Day&quot;</td><td>&quot;2019-08-23&quot;</td><td>&quot;2019-08-23&quot;</td><td>&quot;17:53:00&quot;</td></tr><tr><td>&quot;A-7777753&quot;</td><td>&quot;Source1&quot;</td><td>2</td><td>&quot;2019-08-23 17:...</td><td>&quot;2019-08-23 18:...</td><td>33.943599</td><td>-117.07788</td><td>&quot;33.943599&quot;</td><td>&quot;-117.07788&quot;</td><td>0.0</td><td>&quot;At Jack Rabbit...</td><td>&quot;CA-60 E&quot;</td><td>&quot;Moreno Valley&quot;</td><td>&quot;Riverside&quot;</td><td>&quot;CA&quot;</td><td>&quot;92555&quot;</td><td>&quot;US&quot;</td><td>&quot;US/Pacific&quot;</td><td>&quot;KRIV&quot;</td><td>&quot;2019-08-23 17:...</td><td>88.0</td><td>88.0</td><td>32.0</td><td>28.2</td><td>10.0</td><td>&quot;WNW&quot;</td><td>10.0</td><td>0.0</td><td>&quot;Fair&quot;</td><td>false</td><td>false</td><td>false</td><td>false</td><td>false</td><td>false</td><td>false</td><td>false</td><td>false</td><td>false</td><td>false</td><td>false</td><td>false</td><td>&quot;Day&quot;</td><td>&quot;Day&quot;</td><td>&quot;Day&quot;</td><td>&quot;Day&quot;</td><td>&quot;2019-08-23&quot;</td><td>&quot;2019-08-23&quot;</td><td>&quot;17:58:00&quot;</td></tr><tr><td>&quot;A-7777754&quot;</td><td>&quot;Source1&quot;</td><td>2</td><td>&quot;2019-08-23 17:...</td><td>&quot;2019-08-23 18:...</td><td>34.26103</td><td>-119.228</td><td>&quot;34.26239&quot;</td><td>&quot;-119.23087&quot;</td><td>0.189</td><td>&quot;At Telephone R...</td><td>&quot;El Camino Real...</td><td>&quot;Ventura&quot;</td><td>&quot;Ventura&quot;</td><td>&quot;CA&quot;</td><td>&quot;93003&quot;</td><td>&quot;US&quot;</td><td>&quot;US/Pacific&quot;</td><td>&quot;KOXR&quot;</td><td>&quot;2019-08-23 17:...</td><td>73.0</td><td>73.0</td><td>68.0</td><td>29.76</td><td>10.0</td><td>&quot;W&quot;</td><td>9.0</td><td>0.0</td><td>&quot;Fair&quot;</td><td>false</td><td>false</td><td>false</td><td>false</td><td>true</td><td>false</td><td>false</td><td>false</td><td>false</td><td>false</td><td>false</td><td>false</td><td>false</td><td>&quot;Day&quot;</td><td>&quot;Day&quot;</td><td>&quot;Day&quot;</td><td>&quot;Day&quot;</td><td>&quot;2019-08-23&quot;</td><td>&quot;2019-08-23&quot;</td><td>&quot;17:51:00&quot;</td></tr><tr><td>&quot;A-7777755&quot;</td><td>&quot;Source1&quot;</td><td>2</td><td>&quot;2019-08-23 17:...</td><td>&quot;2019-08-23 18:...</td><td>33.7417</td><td>-117.83709</td><td>&quot;33.73917&quot;</td><td>&quot;-117.830010000...</td><td>0.443</td><td>&quot;At CA-55 - Acc...</td><td>&quot;Santa Ana Fwy ...</td><td>&quot;Tustin&quot;</td><td>&quot;Orange&quot;</td><td>&quot;CA&quot;</td><td>&quot;92780&quot;</td><td>&quot;US&quot;</td><td>&quot;US/Pacific&quot;</td><td>&quot;KSNA&quot;</td><td>&quot;2019-08-23 17:...</td><td>75.0</td><td>75.0</td><td>60.0</td><td>29.74</td><td>10.0</td><td>&quot;SSW&quot;</td><td>9.0</td><td>0.0</td><td>&quot;Fair&quot;</td><td>false</td><td>false</td><td>false</td><td>false</td><td>false</td><td>false</td><td>false</td><td>false</td><td>false</td><td>false</td><td>false</td><td>false</td><td>false</td><td>&quot;Day&quot;</td><td>&quot;Day&quot;</td><td>&quot;Day&quot;</td><td>&quot;Day&quot;</td><td>&quot;2019-08-23&quot;</td><td>&quot;2019-08-23&quot;</td><td>&quot;17:53:00&quot;</td></tr><tr><td>&quot;A-7777756&quot;</td><td>&quot;Source1&quot;</td><td>2</td><td>&quot;2019-08-23 18:...</td><td>&quot;2019-08-23 18:...</td><td>34.239104</td><td>-118.416176</td><td>&quot;34.239104&quot;</td><td>&quot;-118.416176&quot;</td><td>0.0</td><td>&quot;At Osborne St/...</td><td>&quot;Golden State F...</td><td>&quot;Pacoima&quot;</td><td>&quot;Los Angeles&quot;</td><td>&quot;CA&quot;</td><td>&quot;91331&quot;</td><td>&quot;US&quot;</td><td>&quot;US/Pacific&quot;</td><td>&quot;KWHP&quot;</td><td>&quot;2019-08-23 18:...</td><td>81.0</td><td>81.0</td><td>48.0</td><td>28.78</td><td>10.0</td><td>&quot;ESE&quot;</td><td>6.0</td><td>null</td><td>&quot;Fair&quot;</td><td>false</td><td>false</td><td>false</td><td>false</td><td>false</td><td>false</td><td>false</td><td>false</td><td>false</td><td>false</td><td>false</td><td>false</td><td>false</td><td>&quot;Day&quot;</td><td>&quot;Day&quot;</td><td>&quot;Day&quot;</td><td>&quot;Day&quot;</td><td>&quot;2019-08-23&quot;</td><td>&quot;2019-08-23&quot;</td><td>&quot;18:50:00&quot;</td></tr><tr><td>&quot;A-7777757&quot;</td><td>&quot;Source1&quot;</td><td>2</td><td>&quot;2019-08-23 18:...</td><td>&quot;2019-08-23 18:...</td><td>34.00248</td><td>-117.37936</td><td>&quot;33.99888&quot;</td><td>&quot;-117.37094&quot;</td><td>0.543</td><td>&quot;At Market St -...</td><td>&quot;Pomona Fwy E&quot;</td><td>&quot;Riverside&quot;</td><td>&quot;Riverside&quot;</td><td>&quot;CA&quot;</td><td>&quot;92501&quot;</td><td>&quot;US&quot;</td><td>&quot;US/Pacific&quot;</td><td>&quot;KRAL&quot;</td><td>&quot;2019-08-23 17:...</td><td>86.0</td><td>86.0</td><td>40.0</td><td>28.92</td><td>10.0</td><td>&quot;W&quot;</td><td>13.0</td><td>0.0</td><td>&quot;Fair&quot;</td><td>false</td><td>false</td><td>false</td><td>false</td><td>false</td><td>false</td><td>false</td><td>false</td><td>false</td><td>false</td><td>false</td><td>false</td><td>false</td><td>&quot;Day&quot;</td><td>&quot;Day&quot;</td><td>&quot;Day&quot;</td><td>&quot;Day&quot;</td><td>&quot;2019-08-23&quot;</td><td>&quot;2019-08-23&quot;</td><td>&quot;17:53:00&quot;</td></tr><tr><td>&quot;A-7777758&quot;</td><td>&quot;Source1&quot;</td><td>2</td><td>&quot;2019-08-23 19:...</td><td>&quot;2019-08-23 19:...</td><td>32.76696</td><td>-117.14806</td><td>&quot;32.76555&quot;</td><td>&quot;-117.15363&quot;</td><td>0.338</td><td>&quot;At Camino Del ...</td><td>&quot;I-8 W&quot;</td><td>&quot;San Diego&quot;</td><td>&quot;San Diego&quot;</td><td>&quot;CA&quot;</td><td>&quot;92108&quot;</td><td>&quot;US&quot;</td><td>&quot;US/Pacific&quot;</td><td>&quot;KMYF&quot;</td><td>&quot;2019-08-23 18:...</td><td>70.0</td><td>70.0</td><td>73.0</td><td>29.39</td><td>10.0</td><td>&quot;SW&quot;</td><td>6.0</td><td>0.0</td><td>&quot;Fair&quot;</td><td>false</td><td>false</td><td>false</td><td>false</td><td>false</td><td>false</td><td>false</td><td>false</td><td>false</td><td>false</td><td>false</td><td>false</td><td>false</td><td>&quot;Day&quot;</td><td>&quot;Day&quot;</td><td>&quot;Day&quot;</td><td>&quot;Day&quot;</td><td>&quot;2019-08-23&quot;</td><td>&quot;2019-08-23&quot;</td><td>&quot;18:53:00&quot;</td></tr><tr><td>&quot;A-7777759&quot;</td><td>&quot;Source1&quot;</td><td>2</td><td>&quot;2019-08-23 19:...</td><td>&quot;2019-08-23 19:...</td><td>33.77545</td><td>-117.84779</td><td>&quot;33.7774&quot;</td><td>&quot;-117.85727&quot;</td><td>0.561</td><td>&quot;At Glassell St...</td><td>&quot;Garden Grove F...</td><td>&quot;Orange&quot;</td><td>&quot;Orange&quot;</td><td>&quot;CA&quot;</td><td>&quot;92866&quot;</td><td>&quot;US&quot;</td><td>&quot;US/Pacific&quot;</td><td>&quot;KSNA&quot;</td><td>&quot;2019-08-23 18:...</td><td>73.0</td><td>73.0</td><td>64.0</td><td>29.74</td><td>10.0</td><td>&quot;SSW&quot;</td><td>10.0</td><td>0.0</td><td>&quot;Partly Cloudy&quot;</td><td>false</td><td>false</td><td>false</td><td>false</td><td>true</td><td>false</td><td>false</td><td>false</td><td>false</td><td>false</td><td>false</td><td>false</td><td>false</td><td>&quot;Day&quot;</td><td>&quot;Day&quot;</td><td>&quot;Day&quot;</td><td>&quot;Day&quot;</td><td>&quot;2019-08-23&quot;</td><td>&quot;2019-08-23&quot;</td><td>&quot;18:53:00&quot;</td></tr><tr><td>&quot;A-7777760&quot;</td><td>&quot;Source1&quot;</td><td>2</td><td>&quot;2019-08-23 19:...</td><td>&quot;2019-08-23 19:...</td><td>33.99246</td><td>-118.40302</td><td>&quot;33.98311&quot;</td><td>&quot;-118.39565&quot;</td><td>0.772</td><td>&quot;At CA-90/Marin...</td><td>&quot;San Diego Fwy ...</td><td>&quot;Culver City&quot;</td><td>&quot;Los Angeles&quot;</td><td>&quot;CA&quot;</td><td>&quot;90230&quot;</td><td>&quot;US&quot;</td><td>&quot;US/Pacific&quot;</td><td>&quot;KSMO&quot;</td><td>&quot;2019-08-23 18:...</td><td>71.0</td><td>71.0</td><td>81.0</td><td>29.62</td><td>10.0</td><td>&quot;SW&quot;</td><td>8.0</td><td>0.0</td><td>&quot;Fair&quot;</td><td>false</td><td>false</td><td>false</td><td>false</td><td>false</td><td>false</td><td>false</td><td>false</td><td>false</td><td>false</td><td>false</td><td>false</td><td>false</td><td>&quot;Day&quot;</td><td>&quot;Day&quot;</td><td>&quot;Day&quot;</td><td>&quot;Day&quot;</td><td>&quot;2019-08-23&quot;</td><td>&quot;2019-08-23&quot;</td><td>&quot;18:51:00&quot;</td></tr><tr><td>&quot;A-7777761&quot;</td><td>&quot;Source1&quot;</td><td>2</td><td>&quot;2019-08-23 18:...</td><td>&quot;2019-08-23 19:...</td><td>34.13393</td><td>-117.23092</td><td>&quot;34.13736&quot;</td><td>&quot;-117.239339999...</td><td>0.537</td><td>&quot;At Highland Av...</td><td>&quot;CA-210 W&quot;</td><td>&quot;Highland&quot;</td><td>&quot;San Bernardino...</td><td>&quot;CA&quot;</td><td>&quot;92346&quot;</td><td>&quot;US&quot;</td><td>&quot;US/Pacific&quot;</td><td>&quot;KSBD&quot;</td><td>&quot;2019-08-23 20:...</td><td>79.0</td><td>79.0</td><td>47.0</td><td>28.63</td><td>7.0</td><td>&quot;SW&quot;</td><td>7.0</td><td>0.0</td><td>&quot;Fair&quot;</td><td>false</td><td>false</td><td>false</td><td>false</td><td>false</td><td>false</td><td>false</td><td>false</td><td>false</td><td>false</td><td>false</td><td>false</td><td>false</td><td>&quot;Day&quot;</td><td>&quot;Day&quot;</td><td>&quot;Day&quot;</td><td>&quot;Day&quot;</td><td>&quot;2019-08-23&quot;</td><td>&quot;2019-08-23&quot;</td><td>&quot;20:50:00&quot;</td></tr></tbody></table></div>"
     },
     "execution_count": 45,
     "metadata": {},
     "output_type": "execute_result"
    }
   ],
   "source": [
    "accident_data"
   ],
   "metadata": {
    "collapsed": false,
    "pycharm": {
     "name": "#%%\n"
    }
   }
  },
  {
   "cell_type": "code",
   "execution_count": 46,
   "outputs": [
    {
     "data": {
      "text/plain": "shape: (7728394, 1)\n┌─────────────────────┐\n│ End_Lng             │\n│ ---                 │\n│ str                 │\n╞═════════════════════╡\n│ null                │\n│ null                │\n│ null                │\n│ null                │\n│ ...                 │\n│ -117.15363          │\n│ -117.85727          │\n│ -118.39565          │\n│ -117.23933999999998 │\n└─────────────────────┘",
      "text/html": "<div><style>\n.dataframe > thead > tr > th,\n.dataframe > tbody > tr > td {\n  text-align: right;\n}\n</style>\n<small>shape: (7728394, 1)</small><table border=\"1\" class=\"dataframe\"><thead><tr><th>End_Lng</th></tr><tr><td>str</td></tr></thead><tbody><tr><td>null</td></tr><tr><td>null</td></tr><tr><td>null</td></tr><tr><td>null</td></tr><tr><td>null</td></tr><tr><td>null</td></tr><tr><td>null</td></tr><tr><td>null</td></tr><tr><td>null</td></tr><tr><td>null</td></tr><tr><td>null</td></tr><tr><td>null</td></tr><tr><td>...</td></tr><tr><td>&quot;-117.83745&quot;</td></tr><tr><td>&quot;-117.833454&quot;</td></tr><tr><td>&quot;-117.99715&quot;</td></tr><tr><td>&quot;-117.07788&quot;</td></tr><tr><td>&quot;-119.23087&quot;</td></tr><tr><td>&quot;-117.830010000...</td></tr><tr><td>&quot;-118.416176&quot;</td></tr><tr><td>&quot;-117.37094&quot;</td></tr><tr><td>&quot;-117.15363&quot;</td></tr><tr><td>&quot;-117.85727&quot;</td></tr><tr><td>&quot;-118.39565&quot;</td></tr><tr><td>&quot;-117.239339999...</td></tr></tbody></table></div>"
     },
     "execution_count": 46,
     "metadata": {},
     "output_type": "execute_result"
    }
   ],
   "source": [
    "accident_data.select(pl.col('End_Lng'))"
   ],
   "metadata": {
    "collapsed": false,
    "pycharm": {
     "name": "#%%\n"
    }
   }
  },
  {
   "cell_type": "code",
   "execution_count": 57,
   "outputs": [],
   "source": [
    "accident_data = accident_data.with_columns(pl.col([\"End_Lng\"]).cast(pl.Float64).apply(lambda x: abs(x)).alias('prova'))"
   ],
   "metadata": {
    "collapsed": false,
    "pycharm": {
     "name": "#%%\n"
    }
   }
  },
  {
   "cell_type": "code",
   "execution_count": 58,
   "outputs": [
    {
     "data": {
      "text/plain": "shape: (7728394, 50)\n┌───────────┬─────────┬──────────┬─────────────────────┬─────┬─────────────────┬────────────┬──────────┬───────────┐\n│ ID        ┆ Source  ┆ Severity ┆ Start_Time          ┆ ... ┆ split_timestamp ┆ day        ┆ hour     ┆ prova     │\n│ ---       ┆ ---     ┆ ---      ┆ ---                 ┆     ┆ ---             ┆ ---        ┆ ---      ┆ ---       │\n│ str       ┆ str     ┆ i64      ┆ str                 ┆     ┆ str             ┆ str        ┆ str      ┆ f64       │\n╞═══════════╪═════════╪══════════╪═════════════════════╪═════╪═════════════════╪════════════╪══════════╪═══════════╡\n│ A-1       ┆ Source2 ┆ 3        ┆ 2016-02-08 05:46:00 ┆ ... ┆ 2016-02-08      ┆ 2016-02-08 ┆ 05:58:00 ┆ null      │\n│ A-2       ┆ Source2 ┆ 2        ┆ 2016-02-08 06:07:59 ┆ ... ┆ 2016-02-08      ┆ 2016-02-08 ┆ 05:51:00 ┆ null      │\n│ A-3       ┆ Source2 ┆ 2        ┆ 2016-02-08 06:49:27 ┆ ... ┆ 2016-02-08      ┆ 2016-02-08 ┆ 06:56:00 ┆ null      │\n│ A-4       ┆ Source2 ┆ 3        ┆ 2016-02-08 07:23:34 ┆ ... ┆ 2016-02-08      ┆ 2016-02-08 ┆ 07:38:00 ┆ null      │\n│ ...       ┆ ...     ┆ ...      ┆ ...                 ┆ ... ┆ ...             ┆ ...        ┆ ...      ┆ ...       │\n│ A-7777758 ┆ Source1 ┆ 2        ┆ 2019-08-23 19:11:30 ┆ ... ┆ 2019-08-23      ┆ 2019-08-23 ┆ 18:53:00 ┆ 117.15363 │\n│ A-7777759 ┆ Source1 ┆ 2        ┆ 2019-08-23 19:00:21 ┆ ... ┆ 2019-08-23      ┆ 2019-08-23 ┆ 18:53:00 ┆ 117.85727 │\n│ A-7777760 ┆ Source1 ┆ 2        ┆ 2019-08-23 19:00:21 ┆ ... ┆ 2019-08-23      ┆ 2019-08-23 ┆ 18:51:00 ┆ 118.39565 │\n│ A-7777761 ┆ Source1 ┆ 2        ┆ 2019-08-23 18:52:06 ┆ ... ┆ 2019-08-23      ┆ 2019-08-23 ┆ 20:50:00 ┆ 117.23934 │\n└───────────┴─────────┴──────────┴─────────────────────┴─────┴─────────────────┴────────────┴──────────┴───────────┘",
      "text/html": "<div><style>\n.dataframe > thead > tr > th,\n.dataframe > tbody > tr > td {\n  text-align: right;\n}\n</style>\n<small>shape: (7728394, 50)</small><table border=\"1\" class=\"dataframe\"><thead><tr><th>ID</th><th>Source</th><th>Severity</th><th>Start_Time</th><th>End_Time</th><th>Start_Lat</th><th>Start_Lng</th><th>End_Lat</th><th>End_Lng</th><th>Distance(mi)</th><th>Description</th><th>Street</th><th>City</th><th>County</th><th>State</th><th>Zipcode</th><th>Country</th><th>Timezone</th><th>Airport_Code</th><th>Weather_Timestamp</th><th>Temperature(F)</th><th>Wind_Chill(F)</th><th>Humidity(%)</th><th>Pressure(in)</th><th>Visibility(mi)</th><th>Wind_Direction</th><th>Wind_Speed(mph)</th><th>Precipitation(in)</th><th>Weather_Condition</th><th>Amenity</th><th>Bump</th><th>Crossing</th><th>Give_Way</th><th>Junction</th><th>No_Exit</th><th>Railway</th><th>Roundabout</th><th>Station</th><th>Stop</th><th>Traffic_Calming</th><th>Traffic_Signal</th><th>Turning_Loop</th><th>Sunrise_Sunset</th><th>Civil_Twilight</th><th>Nautical_Twilight</th><th>Astronomical_Twilight</th><th>split_timestamp</th><th>day</th><th>hour</th><th>prova</th></tr><tr><td>str</td><td>str</td><td>i64</td><td>str</td><td>str</td><td>f64</td><td>f64</td><td>str</td><td>str</td><td>f64</td><td>str</td><td>str</td><td>str</td><td>str</td><td>str</td><td>str</td><td>str</td><td>str</td><td>str</td><td>str</td><td>f64</td><td>f64</td><td>f64</td><td>f64</td><td>f64</td><td>str</td><td>f64</td><td>f64</td><td>str</td><td>bool</td><td>bool</td><td>bool</td><td>bool</td><td>bool</td><td>bool</td><td>bool</td><td>bool</td><td>bool</td><td>bool</td><td>bool</td><td>bool</td><td>bool</td><td>str</td><td>str</td><td>str</td><td>str</td><td>str</td><td>str</td><td>str</td><td>f64</td></tr></thead><tbody><tr><td>&quot;A-1&quot;</td><td>&quot;Source2&quot;</td><td>3</td><td>&quot;2016-02-08 05:...</td><td>&quot;2016-02-08 11:...</td><td>39.865147</td><td>-84.058723</td><td>null</td><td>null</td><td>0.01</td><td>&quot;Right lane blo...</td><td>&quot;I-70 E&quot;</td><td>&quot;Dayton&quot;</td><td>&quot;Montgomery&quot;</td><td>&quot;OH&quot;</td><td>&quot;45424&quot;</td><td>&quot;US&quot;</td><td>&quot;US/Eastern&quot;</td><td>&quot;KFFO&quot;</td><td>&quot;2016-02-08 05:...</td><td>36.9</td><td>null</td><td>91.0</td><td>29.68</td><td>10.0</td><td>&quot;Calm&quot;</td><td>null</td><td>0.02</td><td>&quot;Light Rain&quot;</td><td>false</td><td>false</td><td>false</td><td>false</td><td>false</td><td>false</td><td>false</td><td>false</td><td>false</td><td>false</td><td>false</td><td>false</td><td>false</td><td>&quot;Night&quot;</td><td>&quot;Night&quot;</td><td>&quot;Night&quot;</td><td>&quot;Night&quot;</td><td>&quot;2016-02-08&quot;</td><td>&quot;2016-02-08&quot;</td><td>&quot;05:58:00&quot;</td><td>null</td></tr><tr><td>&quot;A-2&quot;</td><td>&quot;Source2&quot;</td><td>2</td><td>&quot;2016-02-08 06:...</td><td>&quot;2016-02-08 06:...</td><td>39.928059</td><td>-82.831184</td><td>null</td><td>null</td><td>0.01</td><td>&quot;Accident on Br...</td><td>&quot;Brice Rd&quot;</td><td>&quot;Reynoldsburg&quot;</td><td>&quot;Franklin&quot;</td><td>&quot;OH&quot;</td><td>&quot;43068-3402&quot;</td><td>&quot;US&quot;</td><td>&quot;US/Eastern&quot;</td><td>&quot;KCMH&quot;</td><td>&quot;2016-02-08 05:...</td><td>37.9</td><td>null</td><td>100.0</td><td>29.65</td><td>10.0</td><td>&quot;Calm&quot;</td><td>null</td><td>0.0</td><td>&quot;Light Rain&quot;</td><td>false</td><td>false</td><td>false</td><td>false</td><td>false</td><td>false</td><td>false</td><td>false</td><td>false</td><td>false</td><td>false</td><td>false</td><td>false</td><td>&quot;Night&quot;</td><td>&quot;Night&quot;</td><td>&quot;Night&quot;</td><td>&quot;Day&quot;</td><td>&quot;2016-02-08&quot;</td><td>&quot;2016-02-08&quot;</td><td>&quot;05:51:00&quot;</td><td>null</td></tr><tr><td>&quot;A-3&quot;</td><td>&quot;Source2&quot;</td><td>2</td><td>&quot;2016-02-08 06:...</td><td>&quot;2016-02-08 07:...</td><td>39.063148</td><td>-84.032608</td><td>null</td><td>null</td><td>0.01</td><td>&quot;Accident on OH...</td><td>&quot;State Route 32...</td><td>&quot;Williamsburg&quot;</td><td>&quot;Clermont&quot;</td><td>&quot;OH&quot;</td><td>&quot;45176&quot;</td><td>&quot;US&quot;</td><td>&quot;US/Eastern&quot;</td><td>&quot;KI69&quot;</td><td>&quot;2016-02-08 06:...</td><td>36.0</td><td>33.3</td><td>100.0</td><td>29.67</td><td>10.0</td><td>&quot;SW&quot;</td><td>3.5</td><td>null</td><td>&quot;Overcast&quot;</td><td>false</td><td>false</td><td>false</td><td>false</td><td>false</td><td>false</td><td>false</td><td>false</td><td>false</td><td>false</td><td>false</td><td>true</td><td>false</td><td>&quot;Night&quot;</td><td>&quot;Night&quot;</td><td>&quot;Day&quot;</td><td>&quot;Day&quot;</td><td>&quot;2016-02-08&quot;</td><td>&quot;2016-02-08&quot;</td><td>&quot;06:56:00&quot;</td><td>null</td></tr><tr><td>&quot;A-4&quot;</td><td>&quot;Source2&quot;</td><td>3</td><td>&quot;2016-02-08 07:...</td><td>&quot;2016-02-08 07:...</td><td>39.747753</td><td>-84.205582</td><td>null</td><td>null</td><td>0.01</td><td>&quot;Accident on I-...</td><td>&quot;I-75 S&quot;</td><td>&quot;Dayton&quot;</td><td>&quot;Montgomery&quot;</td><td>&quot;OH&quot;</td><td>&quot;45417&quot;</td><td>&quot;US&quot;</td><td>&quot;US/Eastern&quot;</td><td>&quot;KDAY&quot;</td><td>&quot;2016-02-08 07:...</td><td>35.1</td><td>31.0</td><td>96.0</td><td>29.64</td><td>9.0</td><td>&quot;SW&quot;</td><td>4.6</td><td>null</td><td>&quot;Mostly Cloudy&quot;</td><td>false</td><td>false</td><td>false</td><td>false</td><td>false</td><td>false</td><td>false</td><td>false</td><td>false</td><td>false</td><td>false</td><td>false</td><td>false</td><td>&quot;Night&quot;</td><td>&quot;Day&quot;</td><td>&quot;Day&quot;</td><td>&quot;Day&quot;</td><td>&quot;2016-02-08&quot;</td><td>&quot;2016-02-08&quot;</td><td>&quot;07:38:00&quot;</td><td>null</td></tr><tr><td>&quot;A-5&quot;</td><td>&quot;Source2&quot;</td><td>2</td><td>&quot;2016-02-08 07:...</td><td>&quot;2016-02-08 08:...</td><td>39.627781</td><td>-84.188354</td><td>null</td><td>null</td><td>0.01</td><td>&quot;Accident on Mc...</td><td>&quot;Miamisburg Cen...</td><td>&quot;Dayton&quot;</td><td>&quot;Montgomery&quot;</td><td>&quot;OH&quot;</td><td>&quot;45459&quot;</td><td>&quot;US&quot;</td><td>&quot;US/Eastern&quot;</td><td>&quot;KMGY&quot;</td><td>&quot;2016-02-08 07:...</td><td>36.0</td><td>33.3</td><td>89.0</td><td>29.65</td><td>6.0</td><td>&quot;SW&quot;</td><td>3.5</td><td>null</td><td>&quot;Mostly Cloudy&quot;</td><td>false</td><td>false</td><td>false</td><td>false</td><td>false</td><td>false</td><td>false</td><td>false</td><td>false</td><td>false</td><td>false</td><td>true</td><td>false</td><td>&quot;Day&quot;</td><td>&quot;Day&quot;</td><td>&quot;Day&quot;</td><td>&quot;Day&quot;</td><td>&quot;2016-02-08&quot;</td><td>&quot;2016-02-08&quot;</td><td>&quot;07:53:00&quot;</td><td>null</td></tr><tr><td>&quot;A-6&quot;</td><td>&quot;Source2&quot;</td><td>3</td><td>&quot;2016-02-08 07:...</td><td>&quot;2016-02-08 08:...</td><td>40.10059</td><td>-82.925194</td><td>null</td><td>null</td><td>0.01</td><td>&quot;Accident on I-...</td><td>&quot;Westerville Rd...</td><td>&quot;Westerville&quot;</td><td>&quot;Franklin&quot;</td><td>&quot;OH&quot;</td><td>&quot;43081&quot;</td><td>&quot;US&quot;</td><td>&quot;US/Eastern&quot;</td><td>&quot;KCMH&quot;</td><td>&quot;2016-02-08 07:...</td><td>37.9</td><td>35.5</td><td>97.0</td><td>29.63</td><td>7.0</td><td>&quot;SSW&quot;</td><td>3.5</td><td>0.03</td><td>&quot;Light Rain&quot;</td><td>false</td><td>false</td><td>false</td><td>false</td><td>false</td><td>false</td><td>false</td><td>false</td><td>false</td><td>false</td><td>false</td><td>false</td><td>false</td><td>&quot;Day&quot;</td><td>&quot;Day&quot;</td><td>&quot;Day&quot;</td><td>&quot;Day&quot;</td><td>&quot;2016-02-08&quot;</td><td>&quot;2016-02-08&quot;</td><td>&quot;07:51:00&quot;</td><td>null</td></tr><tr><td>&quot;A-7&quot;</td><td>&quot;Source2&quot;</td><td>2</td><td>&quot;2016-02-08 07:...</td><td>&quot;2016-02-08 08:...</td><td>39.758274</td><td>-84.230507</td><td>null</td><td>null</td><td>0.0</td><td>&quot;Accident on Oa...</td><td>&quot;N Woodward Ave...</td><td>&quot;Dayton&quot;</td><td>&quot;Montgomery&quot;</td><td>&quot;OH&quot;</td><td>&quot;45417-2476&quot;</td><td>&quot;US&quot;</td><td>&quot;US/Eastern&quot;</td><td>&quot;KDAY&quot;</td><td>&quot;2016-02-08 07:...</td><td>34.0</td><td>31.0</td><td>100.0</td><td>29.66</td><td>7.0</td><td>&quot;WSW&quot;</td><td>3.5</td><td>null</td><td>&quot;Overcast&quot;</td><td>false</td><td>false</td><td>false</td><td>false</td><td>false</td><td>false</td><td>false</td><td>false</td><td>false</td><td>false</td><td>false</td><td>false</td><td>false</td><td>&quot;Day&quot;</td><td>&quot;Day&quot;</td><td>&quot;Day&quot;</td><td>&quot;Day&quot;</td><td>&quot;2016-02-08&quot;</td><td>&quot;2016-02-08&quot;</td><td>&quot;07:56:00&quot;</td><td>null</td></tr><tr><td>&quot;A-8&quot;</td><td>&quot;Source2&quot;</td><td>3</td><td>&quot;2016-02-08 07:...</td><td>&quot;2016-02-08 08:...</td><td>39.770382</td><td>-84.194901</td><td>null</td><td>null</td><td>0.01</td><td>&quot;Accident on I-...</td><td>&quot;N Main St&quot;</td><td>&quot;Dayton&quot;</td><td>&quot;Montgomery&quot;</td><td>&quot;OH&quot;</td><td>&quot;45405&quot;</td><td>&quot;US&quot;</td><td>&quot;US/Eastern&quot;</td><td>&quot;KDAY&quot;</td><td>&quot;2016-02-08 07:...</td><td>34.0</td><td>31.0</td><td>100.0</td><td>29.66</td><td>7.0</td><td>&quot;WSW&quot;</td><td>3.5</td><td>null</td><td>&quot;Overcast&quot;</td><td>false</td><td>false</td><td>false</td><td>false</td><td>false</td><td>false</td><td>false</td><td>false</td><td>false</td><td>false</td><td>false</td><td>false</td><td>false</td><td>&quot;Day&quot;</td><td>&quot;Day&quot;</td><td>&quot;Day&quot;</td><td>&quot;Day&quot;</td><td>&quot;2016-02-08&quot;</td><td>&quot;2016-02-08&quot;</td><td>&quot;07:56:00&quot;</td><td>null</td></tr><tr><td>&quot;A-9&quot;</td><td>&quot;Source2&quot;</td><td>2</td><td>&quot;2016-02-08 08:...</td><td>&quot;2016-02-08 08:...</td><td>39.778061</td><td>-84.172005</td><td>null</td><td>null</td><td>0.0</td><td>&quot;Accident on No...</td><td>&quot;Notre Dame Ave...</td><td>&quot;Dayton&quot;</td><td>&quot;Montgomery&quot;</td><td>&quot;OH&quot;</td><td>&quot;45404-1923&quot;</td><td>&quot;US&quot;</td><td>&quot;US/Eastern&quot;</td><td>&quot;KFFO&quot;</td><td>&quot;2016-02-08 07:...</td><td>33.3</td><td>null</td><td>99.0</td><td>29.67</td><td>5.0</td><td>&quot;SW&quot;</td><td>1.2</td><td>null</td><td>&quot;Mostly Cloudy&quot;</td><td>false</td><td>false</td><td>false</td><td>false</td><td>false</td><td>false</td><td>false</td><td>false</td><td>false</td><td>false</td><td>false</td><td>false</td><td>false</td><td>&quot;Day&quot;</td><td>&quot;Day&quot;</td><td>&quot;Day&quot;</td><td>&quot;Day&quot;</td><td>&quot;2016-02-08&quot;</td><td>&quot;2016-02-08&quot;</td><td>&quot;07:58:00&quot;</td><td>null</td></tr><tr><td>&quot;A-10&quot;</td><td>&quot;Source2&quot;</td><td>3</td><td>&quot;2016-02-08 08:...</td><td>&quot;2016-02-08 08:...</td><td>40.10059</td><td>-82.925194</td><td>null</td><td>null</td><td>0.01</td><td>&quot;Right hand sho...</td><td>&quot;Westerville Rd...</td><td>&quot;Westerville&quot;</td><td>&quot;Franklin&quot;</td><td>&quot;OH&quot;</td><td>&quot;43081&quot;</td><td>&quot;US&quot;</td><td>&quot;US/Eastern&quot;</td><td>&quot;KCMH&quot;</td><td>&quot;2016-02-08 08:...</td><td>37.4</td><td>33.8</td><td>100.0</td><td>29.62</td><td>3.0</td><td>&quot;SSW&quot;</td><td>4.6</td><td>0.02</td><td>&quot;Light Rain&quot;</td><td>false</td><td>false</td><td>false</td><td>false</td><td>false</td><td>false</td><td>false</td><td>false</td><td>false</td><td>false</td><td>false</td><td>false</td><td>false</td><td>&quot;Day&quot;</td><td>&quot;Day&quot;</td><td>&quot;Day&quot;</td><td>&quot;Day&quot;</td><td>&quot;2016-02-08&quot;</td><td>&quot;2016-02-08&quot;</td><td>&quot;08:28:00&quot;</td><td>null</td></tr><tr><td>&quot;A-11&quot;</td><td>&quot;Source2&quot;</td><td>3</td><td>&quot;2016-02-08 08:...</td><td>&quot;2016-02-08 08:...</td><td>39.952812</td><td>-83.119293</td><td>null</td><td>null</td><td>0.01</td><td>&quot;Accident on I-...</td><td>&quot;Outerbelt S&quot;</td><td>&quot;Columbus&quot;</td><td>&quot;Franklin&quot;</td><td>&quot;OH&quot;</td><td>&quot;43228&quot;</td><td>&quot;US&quot;</td><td>&quot;US/Eastern&quot;</td><td>&quot;KTZR&quot;</td><td>&quot;2016-02-08 07:...</td><td>35.6</td><td>30.7</td><td>93.0</td><td>29.64</td><td>5.0</td><td>&quot;WNW&quot;</td><td>5.8</td><td>null</td><td>&quot;Rain&quot;</td><td>false</td><td>false</td><td>true</td><td>false</td><td>true</td><td>false</td><td>false</td><td>false</td><td>false</td><td>false</td><td>false</td><td>false</td><td>false</td><td>&quot;Day&quot;</td><td>&quot;Day&quot;</td><td>&quot;Day&quot;</td><td>&quot;Day&quot;</td><td>&quot;2016-02-08&quot;</td><td>&quot;2016-02-08&quot;</td><td>&quot;07:50:00&quot;</td><td>null</td></tr><tr><td>&quot;A-12&quot;</td><td>&quot;Source2&quot;</td><td>3</td><td>&quot;2016-02-08 08:...</td><td>&quot;2016-02-08 08:...</td><td>39.932709</td><td>-82.83091</td><td>null</td><td>null</td><td>0.01</td><td>&quot;One lane block...</td><td>&quot;I-70 E&quot;</td><td>&quot;Reynoldsburg&quot;</td><td>&quot;Franklin&quot;</td><td>&quot;OH&quot;</td><td>&quot;43068&quot;</td><td>&quot;US&quot;</td><td>&quot;US/Eastern&quot;</td><td>&quot;KCMH&quot;</td><td>&quot;2016-02-08 08:...</td><td>37.4</td><td>33.8</td><td>100.0</td><td>29.62</td><td>3.0</td><td>&quot;SSW&quot;</td><td>4.6</td><td>0.02</td><td>&quot;Light Rain&quot;</td><td>false</td><td>false</td><td>false</td><td>false</td><td>false</td><td>false</td><td>false</td><td>false</td><td>false</td><td>false</td><td>false</td><td>false</td><td>false</td><td>&quot;Day&quot;</td><td>&quot;Day&quot;</td><td>&quot;Day&quot;</td><td>&quot;Day&quot;</td><td>&quot;2016-02-08&quot;</td><td>&quot;2016-02-08&quot;</td><td>&quot;08:28:00&quot;</td><td>null</td></tr><tr><td>...</td><td>...</td><td>...</td><td>...</td><td>...</td><td>...</td><td>...</td><td>...</td><td>...</td><td>...</td><td>...</td><td>...</td><td>...</td><td>...</td><td>...</td><td>...</td><td>...</td><td>...</td><td>...</td><td>...</td><td>...</td><td>...</td><td>...</td><td>...</td><td>...</td><td>...</td><td>...</td><td>...</td><td>...</td><td>...</td><td>...</td><td>...</td><td>...</td><td>...</td><td>...</td><td>...</td><td>...</td><td>...</td><td>...</td><td>...</td><td>...</td><td>...</td><td>...</td><td>...</td><td>...</td><td>...</td><td>...</td><td>...</td><td>...</td><td>...</td></tr><tr><td>&quot;A-7777750&quot;</td><td>&quot;Source1&quot;</td><td>2</td><td>&quot;2019-08-23 17:...</td><td>&quot;2019-08-23 17:...</td><td>33.8508</td><td>-117.84365</td><td>&quot;33.85075&quot;</td><td>&quot;-117.83745&quot;</td><td>0.356</td><td>&quot;At Tustin Ave ...</td><td>&quot;Riverside Fwy ...</td><td>&quot;Anaheim&quot;</td><td>&quot;Orange&quot;</td><td>&quot;CA&quot;</td><td>&quot;92806&quot;</td><td>&quot;US&quot;</td><td>&quot;US/Pacific&quot;</td><td>&quot;KFUL&quot;</td><td>&quot;2019-08-23 16:...</td><td>79.0</td><td>79.0</td><td>50.0</td><td>29.7</td><td>10.0</td><td>&quot;VAR&quot;</td><td>5.0</td><td>0.0</td><td>&quot;Fair&quot;</td><td>false</td><td>false</td><td>false</td><td>false</td><td>true</td><td>false</td><td>false</td><td>false</td><td>false</td><td>false</td><td>false</td><td>false</td><td>false</td><td>&quot;Day&quot;</td><td>&quot;Day&quot;</td><td>&quot;Day&quot;</td><td>&quot;Day&quot;</td><td>&quot;2019-08-23&quot;</td><td>&quot;2019-08-23&quot;</td><td>&quot;16:53:00&quot;</td><td>117.83745</td></tr><tr><td>&quot;A-7777751&quot;</td><td>&quot;Source1&quot;</td><td>2</td><td>&quot;2019-08-23 16:...</td><td>&quot;2019-08-23 17:...</td><td>34.120911</td><td>-117.833454</td><td>&quot;34.120911&quot;</td><td>&quot;-117.833454&quot;</td><td>0.0</td><td>&quot;At CA-210/CA-5...</td><td>&quot;CA-210 E&quot;</td><td>&quot;Glendora&quot;</td><td>&quot;Los Angeles&quot;</td><td>&quot;CA&quot;</td><td>&quot;91740&quot;</td><td>&quot;US&quot;</td><td>&quot;US/Pacific&quot;</td><td>&quot;KPOC&quot;</td><td>&quot;2019-08-23 16:...</td><td>86.0</td><td>86.0</td><td>40.0</td><td>28.76</td><td>10.0</td><td>&quot;WSW&quot;</td><td>12.0</td><td>null</td><td>&quot;Fair&quot;</td><td>false</td><td>false</td><td>false</td><td>false</td><td>false</td><td>false</td><td>false</td><td>false</td><td>false</td><td>false</td><td>false</td><td>false</td><td>false</td><td>&quot;Day&quot;</td><td>&quot;Day&quot;</td><td>&quot;Day&quot;</td><td>&quot;Day&quot;</td><td>&quot;2019-08-23&quot;</td><td>&quot;2019-08-23&quot;</td><td>&quot;16:47:00&quot;</td><td>117.833454</td></tr><tr><td>&quot;A-7777752&quot;</td><td>&quot;Source1&quot;</td><td>2</td><td>&quot;2019-08-23 17:...</td><td>&quot;2019-08-23 18:...</td><td>34.06446</td><td>-118.00388</td><td>&quot;34.06533&quot;</td><td>&quot;-117.99715&quot;</td><td>0.39</td><td>&quot;At I-605 - Acc...</td><td>&quot;I-10 E&quot;</td><td>&quot;Baldwin Park&quot;</td><td>&quot;Los Angeles&quot;</td><td>&quot;CA&quot;</td><td>&quot;91706&quot;</td><td>&quot;US&quot;</td><td>&quot;US/Pacific&quot;</td><td>&quot;KEMT&quot;</td><td>&quot;2019-08-23 17:...</td><td>78.0</td><td>78.0</td><td>52.0</td><td>29.69</td><td>10.0</td><td>&quot;VAR&quot;</td><td>6.0</td><td>0.0</td><td>&quot;Fair&quot;</td><td>false</td><td>false</td><td>false</td><td>false</td><td>false</td><td>false</td><td>false</td><td>false</td><td>false</td><td>false</td><td>false</td><td>false</td><td>false</td><td>&quot;Day&quot;</td><td>&quot;Day&quot;</td><td>&quot;Day&quot;</td><td>&quot;Day&quot;</td><td>&quot;2019-08-23&quot;</td><td>&quot;2019-08-23&quot;</td><td>&quot;17:53:00&quot;</td><td>117.99715</td></tr><tr><td>&quot;A-7777753&quot;</td><td>&quot;Source1&quot;</td><td>2</td><td>&quot;2019-08-23 17:...</td><td>&quot;2019-08-23 18:...</td><td>33.943599</td><td>-117.07788</td><td>&quot;33.943599&quot;</td><td>&quot;-117.07788&quot;</td><td>0.0</td><td>&quot;At Jack Rabbit...</td><td>&quot;CA-60 E&quot;</td><td>&quot;Moreno Valley&quot;</td><td>&quot;Riverside&quot;</td><td>&quot;CA&quot;</td><td>&quot;92555&quot;</td><td>&quot;US&quot;</td><td>&quot;US/Pacific&quot;</td><td>&quot;KRIV&quot;</td><td>&quot;2019-08-23 17:...</td><td>88.0</td><td>88.0</td><td>32.0</td><td>28.2</td><td>10.0</td><td>&quot;WNW&quot;</td><td>10.0</td><td>0.0</td><td>&quot;Fair&quot;</td><td>false</td><td>false</td><td>false</td><td>false</td><td>false</td><td>false</td><td>false</td><td>false</td><td>false</td><td>false</td><td>false</td><td>false</td><td>false</td><td>&quot;Day&quot;</td><td>&quot;Day&quot;</td><td>&quot;Day&quot;</td><td>&quot;Day&quot;</td><td>&quot;2019-08-23&quot;</td><td>&quot;2019-08-23&quot;</td><td>&quot;17:58:00&quot;</td><td>117.07788</td></tr><tr><td>&quot;A-7777754&quot;</td><td>&quot;Source1&quot;</td><td>2</td><td>&quot;2019-08-23 17:...</td><td>&quot;2019-08-23 18:...</td><td>34.26103</td><td>-119.228</td><td>&quot;34.26239&quot;</td><td>&quot;-119.23087&quot;</td><td>0.189</td><td>&quot;At Telephone R...</td><td>&quot;El Camino Real...</td><td>&quot;Ventura&quot;</td><td>&quot;Ventura&quot;</td><td>&quot;CA&quot;</td><td>&quot;93003&quot;</td><td>&quot;US&quot;</td><td>&quot;US/Pacific&quot;</td><td>&quot;KOXR&quot;</td><td>&quot;2019-08-23 17:...</td><td>73.0</td><td>73.0</td><td>68.0</td><td>29.76</td><td>10.0</td><td>&quot;W&quot;</td><td>9.0</td><td>0.0</td><td>&quot;Fair&quot;</td><td>false</td><td>false</td><td>false</td><td>false</td><td>true</td><td>false</td><td>false</td><td>false</td><td>false</td><td>false</td><td>false</td><td>false</td><td>false</td><td>&quot;Day&quot;</td><td>&quot;Day&quot;</td><td>&quot;Day&quot;</td><td>&quot;Day&quot;</td><td>&quot;2019-08-23&quot;</td><td>&quot;2019-08-23&quot;</td><td>&quot;17:51:00&quot;</td><td>119.23087</td></tr><tr><td>&quot;A-7777755&quot;</td><td>&quot;Source1&quot;</td><td>2</td><td>&quot;2019-08-23 17:...</td><td>&quot;2019-08-23 18:...</td><td>33.7417</td><td>-117.83709</td><td>&quot;33.73917&quot;</td><td>&quot;-117.830010000...</td><td>0.443</td><td>&quot;At CA-55 - Acc...</td><td>&quot;Santa Ana Fwy ...</td><td>&quot;Tustin&quot;</td><td>&quot;Orange&quot;</td><td>&quot;CA&quot;</td><td>&quot;92780&quot;</td><td>&quot;US&quot;</td><td>&quot;US/Pacific&quot;</td><td>&quot;KSNA&quot;</td><td>&quot;2019-08-23 17:...</td><td>75.0</td><td>75.0</td><td>60.0</td><td>29.74</td><td>10.0</td><td>&quot;SSW&quot;</td><td>9.0</td><td>0.0</td><td>&quot;Fair&quot;</td><td>false</td><td>false</td><td>false</td><td>false</td><td>false</td><td>false</td><td>false</td><td>false</td><td>false</td><td>false</td><td>false</td><td>false</td><td>false</td><td>&quot;Day&quot;</td><td>&quot;Day&quot;</td><td>&quot;Day&quot;</td><td>&quot;Day&quot;</td><td>&quot;2019-08-23&quot;</td><td>&quot;2019-08-23&quot;</td><td>&quot;17:53:00&quot;</td><td>117.83001</td></tr><tr><td>&quot;A-7777756&quot;</td><td>&quot;Source1&quot;</td><td>2</td><td>&quot;2019-08-23 18:...</td><td>&quot;2019-08-23 18:...</td><td>34.239104</td><td>-118.416176</td><td>&quot;34.239104&quot;</td><td>&quot;-118.416176&quot;</td><td>0.0</td><td>&quot;At Osborne St/...</td><td>&quot;Golden State F...</td><td>&quot;Pacoima&quot;</td><td>&quot;Los Angeles&quot;</td><td>&quot;CA&quot;</td><td>&quot;91331&quot;</td><td>&quot;US&quot;</td><td>&quot;US/Pacific&quot;</td><td>&quot;KWHP&quot;</td><td>&quot;2019-08-23 18:...</td><td>81.0</td><td>81.0</td><td>48.0</td><td>28.78</td><td>10.0</td><td>&quot;ESE&quot;</td><td>6.0</td><td>null</td><td>&quot;Fair&quot;</td><td>false</td><td>false</td><td>false</td><td>false</td><td>false</td><td>false</td><td>false</td><td>false</td><td>false</td><td>false</td><td>false</td><td>false</td><td>false</td><td>&quot;Day&quot;</td><td>&quot;Day&quot;</td><td>&quot;Day&quot;</td><td>&quot;Day&quot;</td><td>&quot;2019-08-23&quot;</td><td>&quot;2019-08-23&quot;</td><td>&quot;18:50:00&quot;</td><td>118.416176</td></tr><tr><td>&quot;A-7777757&quot;</td><td>&quot;Source1&quot;</td><td>2</td><td>&quot;2019-08-23 18:...</td><td>&quot;2019-08-23 18:...</td><td>34.00248</td><td>-117.37936</td><td>&quot;33.99888&quot;</td><td>&quot;-117.37094&quot;</td><td>0.543</td><td>&quot;At Market St -...</td><td>&quot;Pomona Fwy E&quot;</td><td>&quot;Riverside&quot;</td><td>&quot;Riverside&quot;</td><td>&quot;CA&quot;</td><td>&quot;92501&quot;</td><td>&quot;US&quot;</td><td>&quot;US/Pacific&quot;</td><td>&quot;KRAL&quot;</td><td>&quot;2019-08-23 17:...</td><td>86.0</td><td>86.0</td><td>40.0</td><td>28.92</td><td>10.0</td><td>&quot;W&quot;</td><td>13.0</td><td>0.0</td><td>&quot;Fair&quot;</td><td>false</td><td>false</td><td>false</td><td>false</td><td>false</td><td>false</td><td>false</td><td>false</td><td>false</td><td>false</td><td>false</td><td>false</td><td>false</td><td>&quot;Day&quot;</td><td>&quot;Day&quot;</td><td>&quot;Day&quot;</td><td>&quot;Day&quot;</td><td>&quot;2019-08-23&quot;</td><td>&quot;2019-08-23&quot;</td><td>&quot;17:53:00&quot;</td><td>117.37094</td></tr><tr><td>&quot;A-7777758&quot;</td><td>&quot;Source1&quot;</td><td>2</td><td>&quot;2019-08-23 19:...</td><td>&quot;2019-08-23 19:...</td><td>32.76696</td><td>-117.14806</td><td>&quot;32.76555&quot;</td><td>&quot;-117.15363&quot;</td><td>0.338</td><td>&quot;At Camino Del ...</td><td>&quot;I-8 W&quot;</td><td>&quot;San Diego&quot;</td><td>&quot;San Diego&quot;</td><td>&quot;CA&quot;</td><td>&quot;92108&quot;</td><td>&quot;US&quot;</td><td>&quot;US/Pacific&quot;</td><td>&quot;KMYF&quot;</td><td>&quot;2019-08-23 18:...</td><td>70.0</td><td>70.0</td><td>73.0</td><td>29.39</td><td>10.0</td><td>&quot;SW&quot;</td><td>6.0</td><td>0.0</td><td>&quot;Fair&quot;</td><td>false</td><td>false</td><td>false</td><td>false</td><td>false</td><td>false</td><td>false</td><td>false</td><td>false</td><td>false</td><td>false</td><td>false</td><td>false</td><td>&quot;Day&quot;</td><td>&quot;Day&quot;</td><td>&quot;Day&quot;</td><td>&quot;Day&quot;</td><td>&quot;2019-08-23&quot;</td><td>&quot;2019-08-23&quot;</td><td>&quot;18:53:00&quot;</td><td>117.15363</td></tr><tr><td>&quot;A-7777759&quot;</td><td>&quot;Source1&quot;</td><td>2</td><td>&quot;2019-08-23 19:...</td><td>&quot;2019-08-23 19:...</td><td>33.77545</td><td>-117.84779</td><td>&quot;33.7774&quot;</td><td>&quot;-117.85727&quot;</td><td>0.561</td><td>&quot;At Glassell St...</td><td>&quot;Garden Grove F...</td><td>&quot;Orange&quot;</td><td>&quot;Orange&quot;</td><td>&quot;CA&quot;</td><td>&quot;92866&quot;</td><td>&quot;US&quot;</td><td>&quot;US/Pacific&quot;</td><td>&quot;KSNA&quot;</td><td>&quot;2019-08-23 18:...</td><td>73.0</td><td>73.0</td><td>64.0</td><td>29.74</td><td>10.0</td><td>&quot;SSW&quot;</td><td>10.0</td><td>0.0</td><td>&quot;Partly Cloudy&quot;</td><td>false</td><td>false</td><td>false</td><td>false</td><td>true</td><td>false</td><td>false</td><td>false</td><td>false</td><td>false</td><td>false</td><td>false</td><td>false</td><td>&quot;Day&quot;</td><td>&quot;Day&quot;</td><td>&quot;Day&quot;</td><td>&quot;Day&quot;</td><td>&quot;2019-08-23&quot;</td><td>&quot;2019-08-23&quot;</td><td>&quot;18:53:00&quot;</td><td>117.85727</td></tr><tr><td>&quot;A-7777760&quot;</td><td>&quot;Source1&quot;</td><td>2</td><td>&quot;2019-08-23 19:...</td><td>&quot;2019-08-23 19:...</td><td>33.99246</td><td>-118.40302</td><td>&quot;33.98311&quot;</td><td>&quot;-118.39565&quot;</td><td>0.772</td><td>&quot;At CA-90/Marin...</td><td>&quot;San Diego Fwy ...</td><td>&quot;Culver City&quot;</td><td>&quot;Los Angeles&quot;</td><td>&quot;CA&quot;</td><td>&quot;90230&quot;</td><td>&quot;US&quot;</td><td>&quot;US/Pacific&quot;</td><td>&quot;KSMO&quot;</td><td>&quot;2019-08-23 18:...</td><td>71.0</td><td>71.0</td><td>81.0</td><td>29.62</td><td>10.0</td><td>&quot;SW&quot;</td><td>8.0</td><td>0.0</td><td>&quot;Fair&quot;</td><td>false</td><td>false</td><td>false</td><td>false</td><td>false</td><td>false</td><td>false</td><td>false</td><td>false</td><td>false</td><td>false</td><td>false</td><td>false</td><td>&quot;Day&quot;</td><td>&quot;Day&quot;</td><td>&quot;Day&quot;</td><td>&quot;Day&quot;</td><td>&quot;2019-08-23&quot;</td><td>&quot;2019-08-23&quot;</td><td>&quot;18:51:00&quot;</td><td>118.39565</td></tr><tr><td>&quot;A-7777761&quot;</td><td>&quot;Source1&quot;</td><td>2</td><td>&quot;2019-08-23 18:...</td><td>&quot;2019-08-23 19:...</td><td>34.13393</td><td>-117.23092</td><td>&quot;34.13736&quot;</td><td>&quot;-117.239339999...</td><td>0.537</td><td>&quot;At Highland Av...</td><td>&quot;CA-210 W&quot;</td><td>&quot;Highland&quot;</td><td>&quot;San Bernardino...</td><td>&quot;CA&quot;</td><td>&quot;92346&quot;</td><td>&quot;US&quot;</td><td>&quot;US/Pacific&quot;</td><td>&quot;KSBD&quot;</td><td>&quot;2019-08-23 20:...</td><td>79.0</td><td>79.0</td><td>47.0</td><td>28.63</td><td>7.0</td><td>&quot;SW&quot;</td><td>7.0</td><td>0.0</td><td>&quot;Fair&quot;</td><td>false</td><td>false</td><td>false</td><td>false</td><td>false</td><td>false</td><td>false</td><td>false</td><td>false</td><td>false</td><td>false</td><td>false</td><td>false</td><td>&quot;Day&quot;</td><td>&quot;Day&quot;</td><td>&quot;Day&quot;</td><td>&quot;Day&quot;</td><td>&quot;2019-08-23&quot;</td><td>&quot;2019-08-23&quot;</td><td>&quot;20:50:00&quot;</td><td>117.23934</td></tr></tbody></table></div>"
     },
     "execution_count": 58,
     "metadata": {},
     "output_type": "execute_result"
    }
   ],
   "source": [
    "accident_data"
   ],
   "metadata": {
    "collapsed": false,
    "pycharm": {
     "name": "#%%\n"
    }
   }
  },
  {
   "cell_type": "code",
   "execution_count": 56,
   "outputs": [
    {
     "data": {
      "text/plain": "shape: (10,)\nSeries: 'End_Lng' [str]\n[\n\tnull\n\tnull\n\tnull\n\tnull\n\tnull\n\tnull\n\tnull\n\tnull\n\tnull\n\tnull\n]",
      "text/html": "<div><style>\n.dataframe > thead > tr > th,\n.dataframe > tbody > tr > td {\n  text-align: right;\n}\n</style>\n<small>shape: (10,)</small><table border=\"1\" class=\"dataframe\"><thead><tr><th>End_Lng</th></tr><tr><td>str</td></tr></thead><tbody><tr><td>null</td></tr><tr><td>null</td></tr><tr><td>null</td></tr><tr><td>null</td></tr><tr><td>null</td></tr><tr><td>null</td></tr><tr><td>null</td></tr><tr><td>null</td></tr><tr><td>null</td></tr><tr><td>null</td></tr></tbody></table></div>"
     },
     "execution_count": 56,
     "metadata": {},
     "output_type": "execute_result"
    }
   ],
   "source": [
    "accident_data['End_Lng'].head()"
   ],
   "metadata": {
    "collapsed": false,
    "pycharm": {
     "name": "#%%\n"
    }
   }
  },
  {
   "cell_type": "code",
   "execution_count": 2,
   "outputs": [],
   "source": [
    "accident_data_reduced = pl.read_csv(\"C:\\\\Users\\\\sarap\\\\Desktop\\\\BDMG-vehicle-accidents\\\\datasets\\\\US_Accidents_March23\\\\test.csv\")"
   ],
   "metadata": {
    "collapsed": false,
    "pycharm": {
     "name": "#%%\n"
    }
   }
  },
  {
   "cell_type": "code",
   "execution_count": 71,
   "outputs": [
    {
     "data": {
      "text/plain": "shape: (7, 47)\n┌────────────┬───────────┬─────────┬──────────┬─────┬────────────────┬────────────────┬───────────────────┬───────────────────────┐\n│ describe   ┆ ID        ┆ Source  ┆ Severity ┆ ... ┆ Sunrise_Sunset ┆ Civil_Twilight ┆ Nautical_Twilight ┆ Astronomical_Twilight │\n│ ---        ┆ ---       ┆ ---     ┆ ---      ┆     ┆ ---            ┆ ---            ┆ ---               ┆ ---                   │\n│ str        ┆ str       ┆ str     ┆ f64      ┆     ┆ str            ┆ str            ┆ str               ┆ str                   │\n╞════════════╪═══════════╪═════════╪══════════╪═════╪════════════════╪════════════════╪═══════════════════╪═══════════════════════╡\n│ count      ┆ 500000    ┆ 500000  ┆ 500000.0 ┆ ... ┆ 500000         ┆ 500000         ┆ 500000            ┆ 500000                │\n│ null_count ┆ 0         ┆ 0       ┆ 0.0      ┆ ... ┆ 1483           ┆ 1483           ┆ 1483              ┆ 1483                  │\n│ mean       ┆ null      ┆ null    ┆ 2.212748 ┆ ... ┆ null           ┆ null           ┆ null              ┆ null                  │\n│ std        ┆ null      ┆ null    ┆ 0.486661 ┆ ... ┆ null           ┆ null           ┆ null              ┆ null                  │\n│ min        ┆ A-1000009 ┆ Source1 ┆ 1.0      ┆ ... ┆ Day            ┆ Day            ┆ Day               ┆ Day                   │\n│ max        ┆ A-999998  ┆ Source3 ┆ 4.0      ┆ ... ┆ Night          ┆ Night          ┆ Night             ┆ Night                 │\n│ median     ┆ null      ┆ null    ┆ 2.0      ┆ ... ┆ null           ┆ null           ┆ null              ┆ null                  │\n└────────────┴───────────┴─────────┴──────────┴─────┴────────────────┴────────────────┴───────────────────┴───────────────────────┘",
      "text/html": "<div><style>\n.dataframe > thead > tr > th,\n.dataframe > tbody > tr > td {\n  text-align: right;\n}\n</style>\n<small>shape: (7, 47)</small><table border=\"1\" class=\"dataframe\"><thead><tr><th>describe</th><th>ID</th><th>Source</th><th>Severity</th><th>Start_Time</th><th>End_Time</th><th>Start_Lat</th><th>Start_Lng</th><th>End_Lat</th><th>End_Lng</th><th>Distance(mi)</th><th>Description</th><th>Street</th><th>City</th><th>County</th><th>State</th><th>Zipcode</th><th>Country</th><th>Timezone</th><th>Airport_Code</th><th>Weather_Timestamp</th><th>Temperature(F)</th><th>Wind_Chill(F)</th><th>Humidity(%)</th><th>Pressure(in)</th><th>Visibility(mi)</th><th>Wind_Direction</th><th>Wind_Speed(mph)</th><th>Precipitation(in)</th><th>Weather_Condition</th><th>Amenity</th><th>Bump</th><th>Crossing</th><th>Give_Way</th><th>Junction</th><th>No_Exit</th><th>Railway</th><th>Roundabout</th><th>Station</th><th>Stop</th><th>Traffic_Calming</th><th>Traffic_Signal</th><th>Turning_Loop</th><th>Sunrise_Sunset</th><th>Civil_Twilight</th><th>Nautical_Twilight</th><th>Astronomical_Twilight</th></tr><tr><td>str</td><td>str</td><td>str</td><td>f64</td><td>str</td><td>str</td><td>f64</td><td>f64</td><td>f64</td><td>f64</td><td>f64</td><td>str</td><td>str</td><td>str</td><td>str</td><td>str</td><td>str</td><td>str</td><td>str</td><td>str</td><td>str</td><td>f64</td><td>f64</td><td>f64</td><td>f64</td><td>f64</td><td>str</td><td>f64</td><td>f64</td><td>str</td><td>f64</td><td>f64</td><td>f64</td><td>f64</td><td>f64</td><td>f64</td><td>f64</td><td>f64</td><td>f64</td><td>f64</td><td>f64</td><td>f64</td><td>f64</td><td>str</td><td>str</td><td>str</td><td>str</td></tr></thead><tbody><tr><td>&quot;count&quot;</td><td>&quot;500000&quot;</td><td>&quot;500000&quot;</td><td>500000.0</td><td>&quot;500000&quot;</td><td>&quot;500000&quot;</td><td>500000.0</td><td>500000.0</td><td>500000.0</td><td>500000.0</td><td>500000.0</td><td>&quot;500000&quot;</td><td>&quot;500000&quot;</td><td>&quot;500000&quot;</td><td>&quot;500000&quot;</td><td>&quot;500000&quot;</td><td>&quot;500000&quot;</td><td>&quot;500000&quot;</td><td>&quot;500000&quot;</td><td>&quot;500000&quot;</td><td>&quot;500000&quot;</td><td>500000.0</td><td>500000.0</td><td>500000.0</td><td>500000.0</td><td>500000.0</td><td>&quot;500000&quot;</td><td>500000.0</td><td>500000.0</td><td>&quot;500000&quot;</td><td>500000.0</td><td>500000.0</td><td>500000.0</td><td>500000.0</td><td>500000.0</td><td>500000.0</td><td>500000.0</td><td>500000.0</td><td>500000.0</td><td>500000.0</td><td>500000.0</td><td>500000.0</td><td>500000.0</td><td>&quot;500000&quot;</td><td>&quot;500000&quot;</td><td>&quot;500000&quot;</td><td>&quot;500000&quot;</td></tr><tr><td>&quot;null_count&quot;</td><td>&quot;0&quot;</td><td>&quot;0&quot;</td><td>0.0</td><td>&quot;0&quot;</td><td>&quot;0&quot;</td><td>0.0</td><td>0.0</td><td>220377.0</td><td>220377.0</td><td>0.0</td><td>&quot;1&quot;</td><td>&quot;691&quot;</td><td>&quot;19&quot;</td><td>&quot;0&quot;</td><td>&quot;0&quot;</td><td>&quot;116&quot;</td><td>&quot;0&quot;</td><td>&quot;507&quot;</td><td>&quot;1446&quot;</td><td>&quot;7674&quot;</td><td>10466.0</td><td>129017.0</td><td>11130.0</td><td>8928.0</td><td>11291.0</td><td>&quot;11197&quot;</td><td>36987.0</td><td>142616.0</td><td>&quot;11101&quot;</td><td>0.0</td><td>0.0</td><td>0.0</td><td>0.0</td><td>0.0</td><td>0.0</td><td>0.0</td><td>0.0</td><td>0.0</td><td>0.0</td><td>0.0</td><td>0.0</td><td>0.0</td><td>&quot;1483&quot;</td><td>&quot;1483&quot;</td><td>&quot;1483&quot;</td><td>&quot;1483&quot;</td></tr><tr><td>&quot;mean&quot;</td><td>null</td><td>null</td><td>2.212748</td><td>null</td><td>null</td><td>36.206421</td><td>-94.736583</td><td>36.273192</td><td>-95.776553</td><td>0.564317</td><td>null</td><td>null</td><td>null</td><td>null</td><td>null</td><td>null</td><td>null</td><td>null</td><td>null</td><td>null</td><td>61.646254</td><td>58.229028</td><td>64.834921</td><td>29.536621</td><td>9.09154</td><td>null</td><td>7.681347</td><td>0.008289</td><td>null</td><td>0.012382</td><td>0.000422</td><td>0.112506</td><td>0.004724</td><td>0.074014</td><td>0.00249</td><td>0.00864</td><td>0.000026</td><td>0.025996</td><td>0.028126</td><td>0.000932</td><td>0.14807</td><td>0.0</td><td>null</td><td>null</td><td>null</td><td>null</td></tr><tr><td>&quot;std&quot;</td><td>null</td><td>null</td><td>0.486661</td><td>null</td><td>null</td><td>5.071411</td><td>17.405761</td><td>5.265333</td><td>18.120211</td><td>1.774872</td><td>null</td><td>null</td><td>null</td><td>null</td><td>null</td><td>null</td><td>null</td><td>null</td><td>null</td><td>null</td><td>19.000133</td><td>22.352246</td><td>22.826158</td><td>1.008666</td><td>2.708083</td><td>null</td><td>5.431361</td><td>0.101865</td><td>null</td><td>0.110581</td><td>0.020536</td><td>0.316015</td><td>0.068565</td><td>0.261805</td><td>0.049845</td><td>0.092553</td><td>0.005099</td><td>0.159112</td><td>0.165339</td><td>0.03051</td><td>0.355216</td><td>0.0</td><td>null</td><td>null</td><td>null</td><td>null</td></tr><tr><td>&quot;min&quot;</td><td>&quot;A-1000009&quot;</td><td>&quot;Source1&quot;</td><td>1.0</td><td>&quot;2016-01-14 20:...</td><td>&quot;2016-02-08 06:...</td><td>24.562117</td><td>-124.49742</td><td>24.57011</td><td>-124.497419</td><td>0.0</td><td>&quot; 1183 1182 112...</td><td>&quot; 1/2 Ave&quot;</td><td>&quot;Aaronsburg&quot;</td><td>&quot;Abbeville&quot;</td><td>&quot;AL&quot;</td><td>&quot;01002-2608&quot;</td><td>&quot;US&quot;</td><td>&quot;US/Central&quot;</td><td>&quot;K01M&quot;</td><td>&quot;2016-01-14 19:...</td><td>-77.8</td><td>-53.2</td><td>1.0</td><td>0.12</td><td>0.0</td><td>&quot;CALM&quot;</td><td>0.0</td><td>0.0</td><td>&quot;Blowing Dust&quot;</td><td>0.0</td><td>0.0</td><td>0.0</td><td>0.0</td><td>0.0</td><td>0.0</td><td>0.0</td><td>0.0</td><td>0.0</td><td>0.0</td><td>0.0</td><td>0.0</td><td>0.0</td><td>&quot;Day&quot;</td><td>&quot;Day&quot;</td><td>&quot;Day&quot;</td><td>&quot;Day&quot;</td></tr><tr><td>&quot;max&quot;</td><td>&quot;A-999998&quot;</td><td>&quot;Source3&quot;</td><td>4.0</td><td>&quot;2023-03-31 22:...</td><td>&quot;2023-03-31 23:...</td><td>48.999569</td><td>-67.48413</td><td>48.998901</td><td>-67.48413</td><td>193.479996</td><td>&quot; A crash causi...</td><td>&quot;Zuniga Rd&quot;</td><td>&quot;Zwingle&quot;</td><td>&quot;Yuma&quot;</td><td>&quot;WY&quot;</td><td>&quot;99401-9712&quot;</td><td>&quot;US&quot;</td><td>&quot;US/Pacific&quot;</td><td>&quot;KZZV&quot;</td><td>&quot;2023-03-31 22:...</td><td>207.0</td><td>207.0</td><td>100.0</td><td>38.44</td><td>130.0</td><td>&quot;West&quot;</td><td>822.8</td><td>10.13</td><td>&quot;Wintry Mix / W...</td><td>1.0</td><td>1.0</td><td>1.0</td><td>1.0</td><td>1.0</td><td>1.0</td><td>1.0</td><td>1.0</td><td>1.0</td><td>1.0</td><td>1.0</td><td>1.0</td><td>0.0</td><td>&quot;Night&quot;</td><td>&quot;Night&quot;</td><td>&quot;Night&quot;</td><td>&quot;Night&quot;</td></tr><tr><td>&quot;median&quot;</td><td>null</td><td>null</td><td>2.0</td><td>null</td><td>null</td><td>35.832147</td><td>-87.794365</td><td>36.192669</td><td>-88.039013</td><td>0.029</td><td>null</td><td>null</td><td>null</td><td>null</td><td>null</td><td>null</td><td>null</td><td>null</td><td>null</td><td>null</td><td>64.0</td><td>62.0</td><td>67.0</td><td>29.86</td><td>10.0</td><td>null</td><td>7.0</td><td>0.0</td><td>null</td><td>0.0</td><td>0.0</td><td>0.0</td><td>0.0</td><td>0.0</td><td>0.0</td><td>0.0</td><td>0.0</td><td>0.0</td><td>0.0</td><td>0.0</td><td>0.0</td><td>0.0</td><td>null</td><td>null</td><td>null</td><td>null</td></tr></tbody></table></div>"
     },
     "execution_count": 71,
     "metadata": {},
     "output_type": "execute_result"
    }
   ],
   "source": [
    "accident_data_reduced.describe()"
   ],
   "metadata": {
    "collapsed": false,
    "pycharm": {
     "name": "#%%\n"
    }
   }
  },
  {
   "cell_type": "code",
   "execution_count": 72,
   "outputs": [
    {
     "data": {
      "text/plain": "shape: (500000,)\nSeries: 'End_Lng' [bool]\n[\n\ttrue\n\tfalse\n\tfalse\n\tfalse\n\tfalse\n\ttrue\n\tfalse\n\tfalse\n\tfalse\n\tfalse\n\ttrue\n\tfalse\n\t...\n\tfalse\n\tfalse\n\tfalse\n\tfalse\n\ttrue\n\tfalse\n\tfalse\n\tfalse\n\tfalse\n\tfalse\n\tfalse\n\tfalse\n\tfalse\n]",
      "text/html": "<div><style>\n.dataframe > thead > tr > th,\n.dataframe > tbody > tr > td {\n  text-align: right;\n}\n</style>\n<small>shape: (500000,)</small><table border=\"1\" class=\"dataframe\"><thead><tr><th>End_Lng</th></tr><tr><td>bool</td></tr></thead><tbody><tr><td>true</td></tr><tr><td>false</td></tr><tr><td>false</td></tr><tr><td>false</td></tr><tr><td>false</td></tr><tr><td>true</td></tr><tr><td>false</td></tr><tr><td>false</td></tr><tr><td>false</td></tr><tr><td>false</td></tr><tr><td>true</td></tr><tr><td>false</td></tr><tr><td>...</td></tr><tr><td>false</td></tr><tr><td>false</td></tr><tr><td>false</td></tr><tr><td>true</td></tr><tr><td>false</td></tr><tr><td>false</td></tr><tr><td>false</td></tr><tr><td>false</td></tr><tr><td>false</td></tr><tr><td>false</td></tr><tr><td>false</td></tr><tr><td>false</td></tr></tbody></table></div>"
     },
     "execution_count": 72,
     "metadata": {},
     "output_type": "execute_result"
    }
   ],
   "source": [
    "accident_data_reduced['End_Lng'].is_null()"
   ],
   "metadata": {
    "collapsed": false,
    "pycharm": {
     "name": "#%%\n"
    }
   }
  },
  {
   "cell_type": "code",
   "execution_count": 74,
   "outputs": [
    {
     "data": {
      "text/plain": "shape: (500000, 47)\n┌───────────┬─────────┬──────────┬───────────────────────────────┬─────┬────────────────┬───────────────────┬───────────────────────┬────────────┐\n│ ID        ┆ Source  ┆ Severity ┆ Start_Time                    ┆ ... ┆ Civil_Twilight ┆ Nautical_Twilight ┆ Astronomical_Twilight ┆ prova      │\n│ ---       ┆ ---     ┆ ---      ┆ ---                           ┆     ┆ ---            ┆ ---               ┆ ---                   ┆ ---        │\n│ str       ┆ str     ┆ i64      ┆ str                           ┆     ┆ str            ┆ str               ┆ str                   ┆ f64        │\n╞═══════════╪═════════╪══════════╪═══════════════════════════════╪═════╪════════════════╪═══════════════════╪═══════════════════════╪════════════╡\n│ A-2047758 ┆ Source2 ┆ 2        ┆ 2019-06-12 10:10:56           ┆ ... ┆ Day            ┆ Day               ┆ Day                   ┆ null       │\n│ A-4694324 ┆ Source1 ┆ 2        ┆ 2022-12-03 23:37:14.000000000 ┆ ... ┆ Night          ┆ Night             ┆ Night                 ┆ 77.398282  │\n│ A-5006183 ┆ Source1 ┆ 2        ┆ 2022-08-20 13:13:00.000000000 ┆ ... ┆ Day            ┆ Day               ┆ Day                   ┆ 120.492442 │\n│ A-4237356 ┆ Source1 ┆ 2        ┆ 2022-02-21 17:43:04           ┆ ... ┆ Day            ┆ Day               ┆ Day                   ┆ 92.972223  │\n│ ...       ┆ ...     ┆ ...      ┆ ...                           ┆ ... ┆ ...            ┆ ...               ┆ ...                   ┆ ...        │\n│ A-6323243 ┆ Source1 ┆ 2        ┆ 2021-12-19 16:25:00           ┆ ... ┆ Day            ┆ Day               ┆ Day                   ┆ 80.111133  │\n│ A-3789256 ┆ Source1 ┆ 2        ┆ 2022-04-13 19:28:29           ┆ ... ┆ Night          ┆ Day               ┆ Day                   ┆ 112.26715  │\n│ A-7030381 ┆ Source1 ┆ 3        ┆ 2020-05-15 17:20:56           ┆ ... ┆ Day            ┆ Day               ┆ Day                   ┆ 78.61931   │\n│ A-5438901 ┆ Source1 ┆ 2        ┆ 2022-04-02 23:23:13           ┆ ... ┆ Night          ┆ Night             ┆ Night                 ┆ 85.233836  │\n└───────────┴─────────┴──────────┴───────────────────────────────┴─────┴────────────────┴───────────────────┴───────────────────────┴────────────┘",
      "text/html": "<div><style>\n.dataframe > thead > tr > th,\n.dataframe > tbody > tr > td {\n  text-align: right;\n}\n</style>\n<small>shape: (500000, 47)</small><table border=\"1\" class=\"dataframe\"><thead><tr><th>ID</th><th>Source</th><th>Severity</th><th>Start_Time</th><th>End_Time</th><th>Start_Lat</th><th>Start_Lng</th><th>End_Lat</th><th>End_Lng</th><th>Distance(mi)</th><th>Description</th><th>Street</th><th>City</th><th>County</th><th>State</th><th>Zipcode</th><th>Country</th><th>Timezone</th><th>Airport_Code</th><th>Weather_Timestamp</th><th>Temperature(F)</th><th>Wind_Chill(F)</th><th>Humidity(%)</th><th>Pressure(in)</th><th>Visibility(mi)</th><th>Wind_Direction</th><th>Wind_Speed(mph)</th><th>Precipitation(in)</th><th>Weather_Condition</th><th>Amenity</th><th>Bump</th><th>Crossing</th><th>Give_Way</th><th>Junction</th><th>No_Exit</th><th>Railway</th><th>Roundabout</th><th>Station</th><th>Stop</th><th>Traffic_Calming</th><th>Traffic_Signal</th><th>Turning_Loop</th><th>Sunrise_Sunset</th><th>Civil_Twilight</th><th>Nautical_Twilight</th><th>Astronomical_Twilight</th><th>prova</th></tr><tr><td>str</td><td>str</td><td>i64</td><td>str</td><td>str</td><td>f64</td><td>f64</td><td>f64</td><td>f64</td><td>f64</td><td>str</td><td>str</td><td>str</td><td>str</td><td>str</td><td>str</td><td>str</td><td>str</td><td>str</td><td>str</td><td>f64</td><td>f64</td><td>f64</td><td>f64</td><td>f64</td><td>str</td><td>f64</td><td>f64</td><td>str</td><td>bool</td><td>bool</td><td>bool</td><td>bool</td><td>bool</td><td>bool</td><td>bool</td><td>bool</td><td>bool</td><td>bool</td><td>bool</td><td>bool</td><td>bool</td><td>str</td><td>str</td><td>str</td><td>str</td><td>f64</td></tr></thead><tbody><tr><td>&quot;A-2047758&quot;</td><td>&quot;Source2&quot;</td><td>2</td><td>&quot;2019-06-12 10:...</td><td>&quot;2019-06-12 10:...</td><td>30.641211</td><td>-91.153481</td><td>null</td><td>null</td><td>0.0</td><td>&quot;Accident on LA...</td><td>&quot;Highway 19&quot;</td><td>&quot;Zachary&quot;</td><td>&quot;East Baton Rou...</td><td>&quot;LA&quot;</td><td>&quot;70791-4610&quot;</td><td>&quot;US&quot;</td><td>&quot;US/Central&quot;</td><td>&quot;KBTR&quot;</td><td>&quot;2019-06-12 09:...</td><td>77.0</td><td>77.0</td><td>62.0</td><td>29.92</td><td>10.0</td><td>&quot;NW&quot;</td><td>5.0</td><td>0.0</td><td>&quot;Fair&quot;</td><td>false</td><td>false</td><td>false</td><td>false</td><td>false</td><td>false</td><td>false</td><td>false</td><td>false</td><td>false</td><td>false</td><td>true</td><td>false</td><td>&quot;Day&quot;</td><td>&quot;Day&quot;</td><td>&quot;Day&quot;</td><td>&quot;Day&quot;</td><td>null</td></tr><tr><td>&quot;A-4694324&quot;</td><td>&quot;Source1&quot;</td><td>2</td><td>&quot;2022-12-03 23:...</td><td>&quot;2022-12-04 01:...</td><td>38.990562</td><td>-77.39907</td><td>38.990037</td><td>-77.398282</td><td>0.056</td><td>&quot;Incident on FO...</td><td>&quot; Forest Ridge ...</td><td>&quot;Sterling&quot;</td><td>&quot;Loudoun&quot;</td><td>&quot;VA&quot;</td><td>&quot;20164-2813&quot;</td><td>&quot;US&quot;</td><td>&quot;US/Eastern&quot;</td><td>&quot;KIAD&quot;</td><td>&quot;2022-12-03 23:...</td><td>45.0</td><td>43.0</td><td>48.0</td><td>29.91</td><td>10.0</td><td>&quot;W&quot;</td><td>5.0</td><td>0.0</td><td>&quot;Fair&quot;</td><td>false</td><td>false</td><td>false</td><td>false</td><td>false</td><td>false</td><td>false</td><td>false</td><td>false</td><td>false</td><td>false</td><td>false</td><td>false</td><td>&quot;Night&quot;</td><td>&quot;Night&quot;</td><td>&quot;Night&quot;</td><td>&quot;Night&quot;</td><td>77.398282</td></tr><tr><td>&quot;A-5006183&quot;</td><td>&quot;Source1&quot;</td><td>2</td><td>&quot;2022-08-20 13:...</td><td>&quot;2022-08-20 15:...</td><td>34.661189</td><td>-120.492822</td><td>34.661189</td><td>-120.492442</td><td>0.022</td><td>&quot;Accident on W ...</td><td>&quot;Floradale Ave&quot;</td><td>&quot;Lompoc&quot;</td><td>&quot;Santa Barbara&quot;</td><td>&quot;CA&quot;</td><td>&quot;93436&quot;</td><td>&quot;US&quot;</td><td>&quot;US/Pacific&quot;</td><td>&quot;KLPC&quot;</td><td>&quot;2022-08-20 12:...</td><td>68.0</td><td>68.0</td><td>73.0</td><td>29.79</td><td>10.0</td><td>&quot;W&quot;</td><td>13.0</td><td>0.0</td><td>&quot;Fair&quot;</td><td>false</td><td>false</td><td>false</td><td>false</td><td>false</td><td>false</td><td>false</td><td>false</td><td>false</td><td>false</td><td>false</td><td>true</td><td>false</td><td>&quot;Day&quot;</td><td>&quot;Day&quot;</td><td>&quot;Day&quot;</td><td>&quot;Day&quot;</td><td>120.492442</td></tr><tr><td>&quot;A-4237356&quot;</td><td>&quot;Source1&quot;</td><td>2</td><td>&quot;2022-02-21 17:...</td><td>&quot;2022-02-21 19:...</td><td>43.680592</td><td>-92.993317</td><td>43.680574</td><td>-92.972223</td><td>1.054</td><td>&quot;Incident on I-...</td><td>&quot;14th St NW&quot;</td><td>&quot;Austin&quot;</td><td>&quot;Mower&quot;</td><td>&quot;MN&quot;</td><td>&quot;55912&quot;</td><td>&quot;US&quot;</td><td>&quot;US/Central&quot;</td><td>&quot;KAUM&quot;</td><td>&quot;2022-02-21 17:...</td><td>27.0</td><td>15.0</td><td>86.0</td><td>28.49</td><td>10.0</td><td>&quot;ENE&quot;</td><td>15.0</td><td>0.0</td><td>&quot;Wintry Mix&quot;</td><td>false</td><td>false</td><td>false</td><td>false</td><td>false</td><td>false</td><td>false</td><td>false</td><td>false</td><td>false</td><td>false</td><td>false</td><td>false</td><td>&quot;Day&quot;</td><td>&quot;Day&quot;</td><td>&quot;Day&quot;</td><td>&quot;Day&quot;</td><td>92.972223</td></tr><tr><td>&quot;A-6690583&quot;</td><td>&quot;Source1&quot;</td><td>2</td><td>&quot;2020-12-04 01:...</td><td>&quot;2020-12-04 04:...</td><td>35.395484</td><td>-118.985176</td><td>35.395476</td><td>-118.985995</td><td>0.046</td><td>&quot;RP ADV THEY LO...</td><td>&quot; River Blvd&quot;</td><td>&quot;Bakersfield&quot;</td><td>&quot;Kern&quot;</td><td>&quot;CA&quot;</td><td>&quot;93305-2649&quot;</td><td>&quot;US&quot;</td><td>&quot;US/Pacific&quot;</td><td>&quot;KBFL&quot;</td><td>&quot;2020-12-04 01:...</td><td>42.0</td><td>42.0</td><td>34.0</td><td>29.77</td><td>10.0</td><td>&quot;CALM&quot;</td><td>0.0</td><td>0.0</td><td>&quot;Fair&quot;</td><td>false</td><td>false</td><td>false</td><td>false</td><td>false</td><td>false</td><td>false</td><td>false</td><td>false</td><td>false</td><td>false</td><td>false</td><td>false</td><td>&quot;Night&quot;</td><td>&quot;Night&quot;</td><td>&quot;Night&quot;</td><td>&quot;Night&quot;</td><td>118.985995</td></tr><tr><td>&quot;A-1101469&quot;</td><td>&quot;Source2&quot;</td><td>2</td><td>&quot;2021-03-29 07:...</td><td>&quot;2021-03-29 08:...</td><td>42.532082</td><td>-70.944267</td><td>null</td><td>null</td><td>0.0</td><td>&quot;Accident on Fo...</td><td>&quot;Lowell St&quot;</td><td>&quot;Peabody&quot;</td><td>&quot;Essex&quot;</td><td>&quot;MA&quot;</td><td>&quot;01960-4275&quot;</td><td>&quot;US&quot;</td><td>&quot;US/Eastern&quot;</td><td>&quot;KBVY&quot;</td><td>&quot;2021-03-29 06:...</td><td>42.0</td><td>35.0</td><td>58.0</td><td>29.37</td><td>10.0</td><td>&quot;W&quot;</td><td>13.0</td><td>0.0</td><td>&quot;Fair&quot;</td><td>false</td><td>false</td><td>false</td><td>false</td><td>false</td><td>false</td><td>false</td><td>false</td><td>false</td><td>false</td><td>false</td><td>true</td><td>false</td><td>&quot;Day&quot;</td><td>&quot;Day&quot;</td><td>&quot;Day&quot;</td><td>&quot;Day&quot;</td><td>null</td></tr><tr><td>&quot;A-7222249&quot;</td><td>&quot;Source1&quot;</td><td>2</td><td>&quot;2020-01-14 16:...</td><td>&quot;2020-01-14 20:...</td><td>42.42128</td><td>-123.11945</td><td>42.42128</td><td>-123.11945</td><td>0.0</td><td>&quot;At OR-99/Exit ...</td><td>&quot;I-5 N&quot;</td><td>&quot;Gold Hill&quot;</td><td>&quot;Jackson&quot;</td><td>&quot;OR&quot;</td><td>&quot;97525&quot;</td><td>&quot;US&quot;</td><td>&quot;US/Pacific&quot;</td><td>&quot;KMFR&quot;</td><td>&quot;2020-01-14 16:...</td><td>35.0</td><td>35.0</td><td>89.0</td><td>28.71</td><td>10.0</td><td>&quot;CALM&quot;</td><td>0.0</td><td>0.0</td><td>&quot;Light Rain&quot;</td><td>false</td><td>false</td><td>false</td><td>false</td><td>false</td><td>false</td><td>false</td><td>false</td><td>false</td><td>false</td><td>false</td><td>false</td><td>false</td><td>&quot;Day&quot;</td><td>&quot;Day&quot;</td><td>&quot;Day&quot;</td><td>&quot;Day&quot;</td><td>123.11945</td></tr><tr><td>&quot;A-6198239&quot;</td><td>&quot;Source1&quot;</td><td>2</td><td>&quot;2021-08-13 16:...</td><td>&quot;2021-08-13 19:...</td><td>30.19101</td><td>-85.682508</td><td>30.190329</td><td>-85.68253</td><td>0.047</td><td>&quot;Incident on CL...</td><td>&quot; Claremont Dr&quot;</td><td>&quot;Panama City&quot;</td><td>&quot;Bay&quot;</td><td>&quot;FL&quot;</td><td>&quot;32405-3534&quot;</td><td>&quot;US&quot;</td><td>&quot;US/Central&quot;</td><td>&quot;KPAM&quot;</td><td>&quot;2021-08-13 16:...</td><td>90.0</td><td>90.0</td><td>55.0</td><td>30.03</td><td>10.0</td><td>&quot;SW&quot;</td><td>12.0</td><td>0.0</td><td>&quot;Fair&quot;</td><td>false</td><td>false</td><td>false</td><td>false</td><td>false</td><td>false</td><td>false</td><td>false</td><td>false</td><td>false</td><td>false</td><td>false</td><td>false</td><td>&quot;Day&quot;</td><td>&quot;Day&quot;</td><td>&quot;Day&quot;</td><td>&quot;Day&quot;</td><td>85.68253</td></tr><tr><td>&quot;A-4222549&quot;</td><td>&quot;Source1&quot;</td><td>2</td><td>&quot;2022-10-12 13:...</td><td>&quot;2022-10-12 15:...</td><td>32.868947</td><td>-96.804018</td><td>32.8695</td><td>-96.804014</td><td>0.038</td><td>&quot;Incident on PR...</td><td>&quot; Preston Rd&quot;</td><td>&quot;Dallas&quot;</td><td>&quot;Dallas&quot;</td><td>&quot;TX&quot;</td><td>&quot;75225&quot;</td><td>&quot;US&quot;</td><td>&quot;US/Central&quot;</td><td>&quot;KDAL&quot;</td><td>&quot;2022-10-12 13:...</td><td>91.0</td><td>91.0</td><td>39.0</td><td>29.34</td><td>10.0</td><td>&quot;VAR&quot;</td><td>7.0</td><td>0.0</td><td>&quot;Fair&quot;</td><td>false</td><td>false</td><td>false</td><td>false</td><td>false</td><td>false</td><td>false</td><td>false</td><td>true</td><td>false</td><td>false</td><td>false</td><td>false</td><td>&quot;Day&quot;</td><td>&quot;Day&quot;</td><td>&quot;Day&quot;</td><td>&quot;Day&quot;</td><td>96.804014</td></tr><tr><td>&quot;A-5924038&quot;</td><td>&quot;Source1&quot;</td><td>2</td><td>&quot;2021-10-21 07:...</td><td>&quot;2021-10-21 09:...</td><td>39.717218</td><td>-86.124691</td><td>39.733478</td><td>-86.137021</td><td>1.301</td><td>&quot;Incident on I-...</td><td>&quot;I-65&quot;</td><td>&quot;Indianapolis&quot;</td><td>&quot;Marion&quot;</td><td>&quot;IN&quot;</td><td>&quot;46237&quot;</td><td>&quot;US&quot;</td><td>&quot;US/Eastern&quot;</td><td>&quot;KIND&quot;</td><td>&quot;2021-10-21 07:...</td><td>63.0</td><td>63.0</td><td>78.0</td><td>29.06</td><td>10.0</td><td>&quot;SW&quot;</td><td>10.0</td><td>0.0</td><td>&quot;Cloudy&quot;</td><td>false</td><td>false</td><td>false</td><td>false</td><td>false</td><td>false</td><td>false</td><td>false</td><td>false</td><td>false</td><td>false</td><td>false</td><td>false</td><td>&quot;Night&quot;</td><td>&quot;Day&quot;</td><td>&quot;Day&quot;</td><td>&quot;Day&quot;</td><td>86.137021</td></tr><tr><td>&quot;A-925338&quot;</td><td>&quot;Source2&quot;</td><td>2</td><td>&quot;2021-08-25 07:...</td><td>&quot;2021-08-25 07:...</td><td>39.93346</td><td>-86.157433</td><td>null</td><td>null</td><td>2.48</td><td>&quot;Exit ramp from...</td><td>&quot;N Meridian St&quot;</td><td>&quot;Indianapolis&quot;</td><td>&quot;Hamilton&quot;</td><td>&quot;IN&quot;</td><td>&quot;46290&quot;</td><td>&quot;US&quot;</td><td>&quot;US/Eastern&quot;</td><td>&quot;KTYQ&quot;</td><td>&quot;2021-08-25 07:...</td><td>70.0</td><td>70.0</td><td>97.0</td><td>29.11</td><td>10.0</td><td>&quot;S&quot;</td><td>3.0</td><td>0.0</td><td>&quot;Cloudy&quot;</td><td>false</td><td>false</td><td>false</td><td>false</td><td>false</td><td>false</td><td>false</td><td>false</td><td>false</td><td>false</td><td>false</td><td>false</td><td>false</td><td>&quot;Day&quot;</td><td>&quot;Day&quot;</td><td>&quot;Day&quot;</td><td>&quot;Day&quot;</td><td>null</td></tr><tr><td>&quot;A-4908440&quot;</td><td>&quot;Source1&quot;</td><td>2</td><td>&quot;2022-02-01 04:...</td><td>&quot;2022-02-01 07:...</td><td>47.258259</td><td>-115.052916</td><td>47.283369</td><td>-115.077806</td><td>2.091</td><td>&quot;Travelers can ...</td><td>&quot;I-90 W&quot;</td><td>&quot;Saint Regis&quot;</td><td>&quot;Mineral&quot;</td><td>&quot;MT&quot;</td><td>&quot;59866&quot;</td><td>&quot;US&quot;</td><td>&quot;US/Mountain&quot;</td><td>&quot;K3TH&quot;</td><td>&quot;2022-02-01 03:...</td><td>13.0</td><td>13.0</td><td>84.0</td><td>24.08</td><td>10.0</td><td>&quot;VAR&quot;</td><td>3.0</td><td>0.0</td><td>&quot;Cloudy&quot;</td><td>false</td><td>false</td><td>false</td><td>false</td><td>false</td><td>false</td><td>false</td><td>false</td><td>false</td><td>false</td><td>false</td><td>false</td><td>false</td><td>&quot;Night&quot;</td><td>&quot;Night&quot;</td><td>&quot;Night&quot;</td><td>&quot;Night&quot;</td><td>115.077806</td></tr><tr><td>...</td><td>...</td><td>...</td><td>...</td><td>...</td><td>...</td><td>...</td><td>...</td><td>...</td><td>...</td><td>...</td><td>...</td><td>...</td><td>...</td><td>...</td><td>...</td><td>...</td><td>...</td><td>...</td><td>...</td><td>...</td><td>...</td><td>...</td><td>...</td><td>...</td><td>...</td><td>...</td><td>...</td><td>...</td><td>...</td><td>...</td><td>...</td><td>...</td><td>...</td><td>...</td><td>...</td><td>...</td><td>...</td><td>...</td><td>...</td><td>...</td><td>...</td><td>...</td><td>...</td><td>...</td><td>...</td><td>...</td></tr><tr><td>&quot;A-4254974&quot;</td><td>&quot;Source1&quot;</td><td>2</td><td>&quot;2022-04-01 16:...</td><td>&quot;2022-04-01 18:...</td><td>33.669909</td><td>-112.038242</td><td>33.672649</td><td>-112.024312</td><td>0.823</td><td>&quot;Crash blocking...</td><td>&quot;AZ-101-LOOP&quot;</td><td>&quot;Phoenix&quot;</td><td>&quot;Maricopa&quot;</td><td>&quot;AZ&quot;</td><td>&quot;85024&quot;</td><td>&quot;US&quot;</td><td>&quot;US/Mountain&quot;</td><td>&quot;KDVT&quot;</td><td>&quot;2022-04-01 15:...</td><td>82.0</td><td>82.0</td><td>16.0</td><td>28.19</td><td>10.0</td><td>&quot;S&quot;</td><td>8.0</td><td>0.0</td><td>&quot;Fair&quot;</td><td>false</td><td>false</td><td>false</td><td>false</td><td>true</td><td>false</td><td>false</td><td>false</td><td>false</td><td>false</td><td>false</td><td>false</td><td>false</td><td>&quot;Day&quot;</td><td>&quot;Day&quot;</td><td>&quot;Day&quot;</td><td>&quot;Day&quot;</td><td>112.024312</td></tr><tr><td>&quot;A-3807203&quot;</td><td>&quot;Source1&quot;</td><td>2</td><td>&quot;2022-07-07 13:...</td><td>&quot;2022-07-07 14:...</td><td>39.780865</td><td>-84.234712</td><td>39.781599</td><td>-84.234732</td><td>0.051</td><td>&quot;Incident on PH...</td><td>&quot; Philadelphia ...</td><td>&quot;Dayton&quot;</td><td>&quot;Montgomery&quot;</td><td>&quot;OH&quot;</td><td>&quot;45406-4011&quot;</td><td>&quot;US&quot;</td><td>&quot;US/Eastern&quot;</td><td>&quot;KDAY&quot;</td><td>&quot;2022-07-07 12:...</td><td>83.0</td><td>83.0</td><td>54.0</td><td>28.97</td><td>10.0</td><td>&quot;ENE&quot;</td><td>7.0</td><td>0.0</td><td>&quot;Mostly Cloudy&quot;</td><td>false</td><td>false</td><td>false</td><td>false</td><td>false</td><td>false</td><td>false</td><td>false</td><td>false</td><td>false</td><td>false</td><td>true</td><td>false</td><td>&quot;Day&quot;</td><td>&quot;Day&quot;</td><td>&quot;Day&quot;</td><td>&quot;Day&quot;</td><td>84.234732</td></tr><tr><td>&quot;A-6789377&quot;</td><td>&quot;Source1&quot;</td><td>2</td><td>&quot;2020-10-29 21:...</td><td>&quot;2020-10-29 23:...</td><td>42.518114</td><td>-71.510684</td><td>42.524905</td><td>-71.50453</td><td>0.564</td><td>&quot;Stationary tra...</td><td>&quot;I-495 N&quot;</td><td>&quot;Littleton&quot;</td><td>&quot;Middlesex&quot;</td><td>&quot;MA&quot;</td><td>&quot;01460&quot;</td><td>&quot;US&quot;</td><td>&quot;US/Eastern&quot;</td><td>&quot;KBED&quot;</td><td>&quot;2020-10-29 21:...</td><td>43.0</td><td>37.0</td><td>93.0</td><td>29.56</td><td>8.0</td><td>&quot;NNE&quot;</td><td>12.0</td><td>0.09</td><td>&quot;Light Rain&quot;</td><td>false</td><td>false</td><td>false</td><td>false</td><td>false</td><td>false</td><td>false</td><td>false</td><td>false</td><td>false</td><td>false</td><td>false</td><td>false</td><td>&quot;Night&quot;</td><td>&quot;Night&quot;</td><td>&quot;Night&quot;</td><td>&quot;Night&quot;</td><td>71.50453</td></tr><tr><td>&quot;A-826167&quot;</td><td>&quot;Source2&quot;</td><td>2</td><td>&quot;2021-11-10 05:...</td><td>&quot;2021-11-10 05:...</td><td>42.913189</td><td>-85.670921</td><td>null</td><td>null</td><td>0.0</td><td>&quot;Accident on M-...</td><td>&quot;Buchanan Ave S...</td><td>&quot;Grand Rapids&quot;</td><td>&quot;Kent&quot;</td><td>&quot;MI&quot;</td><td>&quot;49548-1040&quot;</td><td>&quot;US&quot;</td><td>&quot;US/Eastern&quot;</td><td>&quot;KGRR&quot;</td><td>&quot;2021-11-10 04:...</td><td>30.0</td><td>30.0</td><td>92.0</td><td>29.19</td><td>10.0</td><td>&quot;ESE&quot;</td><td>3.0</td><td>0.0</td><td>&quot;Fair&quot;</td><td>false</td><td>false</td><td>true</td><td>false</td><td>false</td><td>false</td><td>false</td><td>false</td><td>false</td><td>false</td><td>false</td><td>true</td><td>false</td><td>&quot;Night&quot;</td><td>&quot;Night&quot;</td><td>&quot;Night&quot;</td><td>&quot;Night&quot;</td><td>null</td></tr><tr><td>&quot;A-7504991&quot;</td><td>&quot;Source1&quot;</td><td>2</td><td>&quot;2018-11-19 09:...</td><td>&quot;2018-11-19 10:...</td><td>32.338782</td><td>-86.160308</td><td>32.33876</td><td>-86.162304</td><td>0.117</td><td>&quot;At AL-271/Tayl...</td><td>&quot; Vaughn Rd&quot;</td><td>&quot;Montgomery&quot;</td><td>&quot;Montgomery&quot;</td><td>&quot;AL&quot;</td><td>&quot;36117-0901&quot;</td><td>&quot;US&quot;</td><td>&quot;US/Central&quot;</td><td>&quot;KMXF&quot;</td><td>&quot;2018-11-19 09:...</td><td>58.3</td><td>null</td><td>74.0</td><td>30.2</td><td>10.0</td><td>&quot;Calm&quot;</td><td>null</td><td>null</td><td>&quot;Clear&quot;</td><td>false</td><td>false</td><td>false</td><td>false</td><td>false</td><td>false</td><td>false</td><td>false</td><td>false</td><td>false</td><td>false</td><td>false</td><td>false</td><td>&quot;Day&quot;</td><td>&quot;Day&quot;</td><td>&quot;Day&quot;</td><td>&quot;Day&quot;</td><td>86.162304</td></tr><tr><td>&quot;A-4757020&quot;</td><td>&quot;Source1&quot;</td><td>2</td><td>&quot;2022-02-16 12:...</td><td>&quot;2022-02-16 17:...</td><td>34.065767</td><td>-118.460635</td><td>34.04913</td><td>-118.448508</td><td>1.343</td><td>&quot;Slow traffic o...</td><td>&quot;I-405 S&quot;</td><td>&quot;Los Angeles&quot;</td><td>&quot;Los Angeles&quot;</td><td>&quot;CA&quot;</td><td>&quot;90049&quot;</td><td>&quot;US&quot;</td><td>&quot;US/Pacific&quot;</td><td>&quot;KSMO&quot;</td><td>&quot;2022-02-16 12:...</td><td>63.0</td><td>63.0</td><td>37.0</td><td>29.79</td><td>10.0</td><td>&quot;SW&quot;</td><td>10.0</td><td>0.0</td><td>&quot;Fair&quot;</td><td>false</td><td>false</td><td>false</td><td>false</td><td>false</td><td>false</td><td>false</td><td>false</td><td>false</td><td>false</td><td>false</td><td>false</td><td>false</td><td>&quot;Day&quot;</td><td>&quot;Day&quot;</td><td>&quot;Day&quot;</td><td>&quot;Day&quot;</td><td>118.448508</td></tr><tr><td>&quot;A-7376496&quot;</td><td>&quot;Source1&quot;</td><td>2</td><td>&quot;2019-11-09 16:...</td><td>&quot;2019-11-09 17:...</td><td>34.136442</td><td>-117.411771</td><td>34.136442</td><td>-117.411771</td><td>0.0</td><td>&quot;At Alder Ave/E...</td><td>&quot;CA-210 W&quot;</td><td>&quot;Rialto&quot;</td><td>&quot;San Bernardino...</td><td>&quot;CA&quot;</td><td>&quot;92376&quot;</td><td>&quot;US&quot;</td><td>&quot;US/Pacific&quot;</td><td>&quot;KSBD&quot;</td><td>&quot;2019-11-09 15:...</td><td>90.0</td><td>90.0</td><td>7.0</td><td>28.72</td><td>10.0</td><td>&quot;NW&quot;</td><td>8.0</td><td>0.0</td><td>&quot;Fair&quot;</td><td>false</td><td>false</td><td>false</td><td>false</td><td>false</td><td>false</td><td>false</td><td>false</td><td>false</td><td>false</td><td>false</td><td>false</td><td>false</td><td>&quot;Day&quot;</td><td>&quot;Day&quot;</td><td>&quot;Day&quot;</td><td>&quot;Day&quot;</td><td>117.411771</td></tr><tr><td>&quot;A-6077227&quot;</td><td>&quot;Source1&quot;</td><td>2</td><td>&quot;2021-12-15 07:...</td><td>&quot;2021-12-15 07:...</td><td>45.52251</td><td>-123.084104</td><td>45.520225</td><td>-123.084211</td><td>0.158</td><td>&quot;Stationary tra...</td><td>&quot; Quince St&quot;</td><td>&quot;Forest Grove&quot;</td><td>&quot;Washington&quot;</td><td>&quot;OR&quot;</td><td>&quot;97116-2174&quot;</td><td>&quot;US&quot;</td><td>&quot;US/Pacific&quot;</td><td>&quot;KHIO&quot;</td><td>&quot;2021-12-15 07:...</td><td>40.0</td><td>32.0</td><td>77.0</td><td>29.55</td><td>10.0</td><td>&quot;SSE&quot;</td><td>15.0</td><td>0.01</td><td>&quot;Light Rain&quot;</td><td>false</td><td>false</td><td>false</td><td>false</td><td>false</td><td>false</td><td>false</td><td>false</td><td>false</td><td>false</td><td>false</td><td>false</td><td>false</td><td>&quot;Night&quot;</td><td>&quot;Day&quot;</td><td>&quot;Day&quot;</td><td>&quot;Day&quot;</td><td>123.084211</td></tr><tr><td>&quot;A-6323243&quot;</td><td>&quot;Source1&quot;</td><td>2</td><td>&quot;2021-12-19 16:...</td><td>&quot;2021-12-19 17:...</td><td>26.70257</td><td>-80.111169</td><td>26.703141</td><td>-80.111133</td><td>0.04</td><td>&quot;Incident on MI...</td><td>&quot; N Military Tr...</td><td>&quot;West Palm Beac...</td><td>&quot;Palm Beach&quot;</td><td>&quot;FL&quot;</td><td>&quot;33409-4712&quot;</td><td>&quot;US&quot;</td><td>&quot;US/Eastern&quot;</td><td>&quot;KPBI&quot;</td><td>&quot;2021-12-19 16:...</td><td>78.0</td><td>78.0</td><td>87.0</td><td>29.94</td><td>10.0</td><td>&quot;SSE&quot;</td><td>13.0</td><td>0.01</td><td>&quot;Partly Cloudy&quot;</td><td>false</td><td>false</td><td>false</td><td>false</td><td>false</td><td>false</td><td>false</td><td>false</td><td>false</td><td>false</td><td>false</td><td>false</td><td>false</td><td>&quot;Day&quot;</td><td>&quot;Day&quot;</td><td>&quot;Day&quot;</td><td>&quot;Day&quot;</td><td>80.111133</td></tr><tr><td>&quot;A-3789256&quot;</td><td>&quot;Source1&quot;</td><td>2</td><td>&quot;2022-04-13 19:...</td><td>&quot;2022-04-13 21:...</td><td>34.561862</td><td>-112.25962</td><td>34.566822</td><td>-112.26715</td><td>0.549</td><td>&quot;Crash on the r...</td><td>&quot; E AZ-69&quot;</td><td>&quot;Dewey&quot;</td><td>&quot;Yavapai&quot;</td><td>&quot;AZ&quot;</td><td>&quot;86327&quot;</td><td>&quot;US&quot;</td><td>&quot;US/Mountain&quot;</td><td>&quot;KPRC&quot;</td><td>&quot;2022-04-13 19:...</td><td>52.0</td><td>52.0</td><td>12.0</td><td>24.94</td><td>10.0</td><td>&quot;WSW&quot;</td><td>12.0</td><td>0.0</td><td>&quot;Fair&quot;</td><td>false</td><td>false</td><td>true</td><td>true</td><td>false</td><td>false</td><td>false</td><td>false</td><td>false</td><td>false</td><td>false</td><td>true</td><td>false</td><td>&quot;Night&quot;</td><td>&quot;Night&quot;</td><td>&quot;Day&quot;</td><td>&quot;Day&quot;</td><td>112.26715</td></tr><tr><td>&quot;A-7030381&quot;</td><td>&quot;Source1&quot;</td><td>3</td><td>&quot;2020-05-15 17:...</td><td>&quot;2020-05-15 17:...</td><td>38.40668</td><td>-78.61931</td><td>38.40668</td><td>-78.61931</td><td>0.0</td><td>&quot;At US-340/S St...</td><td>&quot; W Spotswood T...</td><td>&quot;Elkton&quot;</td><td>&quot;Rockingham&quot;</td><td>&quot;VA&quot;</td><td>&quot;22827&quot;</td><td>&quot;US&quot;</td><td>&quot;US/Eastern&quot;</td><td>&quot;KSHD&quot;</td><td>&quot;2020-05-15 17:...</td><td>82.0</td><td>82.0</td><td>38.0</td><td>28.7</td><td>10.0</td><td>&quot;SSW&quot;</td><td>14.0</td><td>0.0</td><td>&quot;Fair&quot;</td><td>false</td><td>false</td><td>false</td><td>false</td><td>false</td><td>false</td><td>false</td><td>false</td><td>false</td><td>false</td><td>false</td><td>true</td><td>false</td><td>&quot;Day&quot;</td><td>&quot;Day&quot;</td><td>&quot;Day&quot;</td><td>&quot;Day&quot;</td><td>78.61931</td></tr><tr><td>&quot;A-5438901&quot;</td><td>&quot;Source1&quot;</td><td>2</td><td>&quot;2022-04-02 23:...</td><td>&quot;2022-04-03 00:...</td><td>35.069358</td><td>-85.23441</td><td>35.070505</td><td>-85.233836</td><td>0.086</td><td>&quot;Incident on NE...</td><td>&quot; New York Ave&quot;</td><td>&quot;Chattanooga&quot;</td><td>&quot;Hamilton&quot;</td><td>&quot;TN&quot;</td><td>&quot;37406-2132&quot;</td><td>&quot;US&quot;</td><td>&quot;US/Eastern&quot;</td><td>&quot;KCHA&quot;</td><td>&quot;2022-04-02 23:...</td><td>50.0</td><td>50.0</td><td>66.0</td><td>29.29</td><td>10.0</td><td>&quot;CALM&quot;</td><td>0.0</td><td>0.0</td><td>&quot;Fair&quot;</td><td>false</td><td>false</td><td>false</td><td>false</td><td>false</td><td>false</td><td>false</td><td>false</td><td>false</td><td>false</td><td>false</td><td>false</td><td>false</td><td>&quot;Night&quot;</td><td>&quot;Night&quot;</td><td>&quot;Night&quot;</td><td>&quot;Night&quot;</td><td>85.233836</td></tr></tbody></table></div>"
     },
     "execution_count": 74,
     "metadata": {},
     "output_type": "execute_result"
    }
   ],
   "source": [
    "accident_data_reduced = accident_data_reduced.with_columns(pl.col([\"End_Lng\"]).cast(pl.Float64).apply(lambda x: abs(x)).alias('prova'))\n",
    "accident_data_reduced"
   ],
   "metadata": {
    "collapsed": false,
    "pycharm": {
     "name": "#%%\n"
    }
   }
  },
  {
   "cell_type": "code",
   "execution_count": 69,
   "outputs": [
    {
     "ename": "ValueError",
     "evalue": "The truth value of a Series is ambiguous. Hint: use '&' or '|' to chain Series boolean results together, not and/or; to check if a Series contains any values, use 'is_empty()'",
     "output_type": "error",
     "traceback": [
      "\u001B[1;31m---------------------------------------------------------------------------\u001B[0m",
      "\u001B[1;31mValueError\u001B[0m                                Traceback (most recent call last)",
      "Cell \u001B[1;32mIn[69], line 1\u001B[0m\n\u001B[1;32m----> 1\u001B[0m \u001B[38;5;28;01mif\u001B[39;00m accident_data_reduced[\u001B[38;5;124m'\u001B[39m\u001B[38;5;124mEnd_Lng\u001B[39m\u001B[38;5;124m'\u001B[39m]\u001B[38;5;241m.\u001B[39mis_not_null():\n\u001B[0;32m      2\u001B[0m     accident_data_reduced \u001B[38;5;241m=\u001B[39m accident_data_reduced\u001B[38;5;241m.\u001B[39mwith_columns(pl\u001B[38;5;241m.\u001B[39mcol([\u001B[38;5;124m\"\u001B[39m\u001B[38;5;124mEnd_Lng\u001B[39m\u001B[38;5;124m\"\u001B[39m])\u001B[38;5;241m.\u001B[39mcast(pl\u001B[38;5;241m.\u001B[39mFloat64)\u001B[38;5;241m.\u001B[39mapply(\u001B[38;5;28;01mlambda\u001B[39;00m x: \u001B[38;5;28mabs\u001B[39m(x))\u001B[38;5;241m.\u001B[39malias(\u001B[38;5;124m'\u001B[39m\u001B[38;5;124mprova\u001B[39m\u001B[38;5;124m'\u001B[39m))\n",
      "File \u001B[1;32m~\\.virtualenvs\\BDMG-vehicle-accidents-7Efbz886\\lib\\site-packages\\polars\\internals\\series\\series.py:403\u001B[0m, in \u001B[0;36mSeries.__bool__\u001B[1;34m(self)\u001B[0m\n\u001B[0;32m    402\u001B[0m \u001B[38;5;28;01mdef\u001B[39;00m \u001B[38;5;21m__bool__\u001B[39m(\u001B[38;5;28mself\u001B[39m) \u001B[38;5;241m-\u001B[39m\u001B[38;5;241m>\u001B[39m NoReturn:\n\u001B[1;32m--> 403\u001B[0m     \u001B[38;5;28;01mraise\u001B[39;00m \u001B[38;5;167;01mValueError\u001B[39;00m(\n\u001B[0;32m    404\u001B[0m         \u001B[38;5;124m\"\u001B[39m\u001B[38;5;124mThe truth value of a Series is ambiguous. Hint: use \u001B[39m\u001B[38;5;124m'\u001B[39m\u001B[38;5;124m&\u001B[39m\u001B[38;5;124m'\u001B[39m\u001B[38;5;124m or \u001B[39m\u001B[38;5;124m'\u001B[39m\u001B[38;5;124m|\u001B[39m\u001B[38;5;124m'\u001B[39m\u001B[38;5;124m to chain \u001B[39m\u001B[38;5;124m\"\u001B[39m\n\u001B[0;32m    405\u001B[0m         \u001B[38;5;124m\"\u001B[39m\u001B[38;5;124mSeries boolean results together, not and/or; to check if a Series \u001B[39m\u001B[38;5;124m\"\u001B[39m\n\u001B[0;32m    406\u001B[0m         \u001B[38;5;124m\"\u001B[39m\u001B[38;5;124mcontains any values, use \u001B[39m\u001B[38;5;124m'\u001B[39m\u001B[38;5;124mis_empty()\u001B[39m\u001B[38;5;124m'\u001B[39m\u001B[38;5;124m\"\u001B[39m\n\u001B[0;32m    407\u001B[0m     )\n",
      "\u001B[1;31mValueError\u001B[0m: The truth value of a Series is ambiguous. Hint: use '&' or '|' to chain Series boolean results together, not and/or; to check if a Series contains any values, use 'is_empty()'"
     ]
    }
   ],
   "source": [
    "accident_data_reduced = accident_data_reduced.with_columns(pl.col([\"End_Lng\"]).cast(pl.Float64).apply(lambda x: abs(x)).alias('prova'))"
   ],
   "metadata": {
    "collapsed": false,
    "pycharm": {
     "name": "#%%\n"
    }
   }
  },
  {
   "cell_type": "code",
   "execution_count": 76,
   "outputs": [
    {
     "ename": "AttributeError",
     "evalue": "'Expr' object has no attribute 'fill_median'",
     "output_type": "error",
     "traceback": [
      "\u001B[1;31m---------------------------------------------------------------------------\u001B[0m",
      "\u001B[1;31mAttributeError\u001B[0m                            Traceback (most recent call last)",
      "Cell \u001B[1;32mIn[76], line 2\u001B[0m\n\u001B[0;32m      1\u001B[0m \u001B[38;5;28;01mfor\u001B[39;00m column \u001B[38;5;129;01min\u001B[39;00m [\u001B[38;5;124m\"\u001B[39m\u001B[38;5;124mTemperature(F)\u001B[39m\u001B[38;5;124m\"\u001B[39m,\u001B[38;5;124m\"\u001B[39m\u001B[38;5;124mWind_Chill(F)\u001B[39m\u001B[38;5;124m\"\u001B[39m,\u001B[38;5;124m\"\u001B[39m\u001B[38;5;124mHumidity(\u001B[39m\u001B[38;5;124m%\u001B[39m\u001B[38;5;124m)\u001B[39m\u001B[38;5;124m\"\u001B[39m,\u001B[38;5;124m\"\u001B[39m\u001B[38;5;124mPressure(in)\u001B[39m\u001B[38;5;124m\"\u001B[39m,\u001B[38;5;124m\"\u001B[39m\u001B[38;5;124mVisibility(mi)\u001B[39m\u001B[38;5;124m\"\u001B[39m,\u001B[38;5;124m\"\u001B[39m\u001B[38;5;124mWind_Speed(mph)\u001B[39m\u001B[38;5;124m\"\u001B[39m,\u001B[38;5;124m\"\u001B[39m\u001B[38;5;124mPrecipitation(in)\u001B[39m\u001B[38;5;124m\"\u001B[39m]:\n\u001B[1;32m----> 2\u001B[0m     accident_data_reduced \u001B[38;5;241m=\u001B[39m accident_data_reduced\u001B[38;5;241m.\u001B[39mwith_columns(\u001B[43mpl\u001B[49m\u001B[38;5;241;43m.\u001B[39;49m\u001B[43mcol\u001B[49m\u001B[43m(\u001B[49m\u001B[43mcolumn\u001B[49m\u001B[43m)\u001B[49m\u001B[38;5;241;43m.\u001B[39;49m\u001B[43mfill_median\u001B[49m())\n\u001B[0;32m      4\u001B[0m accident_data_reduced\n",
      "\u001B[1;31mAttributeError\u001B[0m: 'Expr' object has no attribute 'fill_median'"
     ]
    }
   ],
   "source": [
    "for column in [\"Temperature(F)\",\"Wind_Chill(F)\",\"Humidity(%)\",\"Pressure(in)\",\"Visibility(mi)\",\"Wind_Speed(mph)\",\"Precipitation(in)\"]:\n",
    "    accident_data_reduced = accident_data_reduced.with_columns(pl.col(column).fill_median())\n",
    "\n",
    "accident_data_reduced"
   ],
   "metadata": {
    "collapsed": false,
    "pycharm": {
     "name": "#%%\n"
    }
   }
  },
  {
   "cell_type": "code",
   "execution_count": 78,
   "outputs": [
    {
     "ename": "IndexError",
     "evalue": "index 89 is out of bounds for axis 0 with size 7",
     "output_type": "error",
     "traceback": [
      "\u001B[1;31m---------------------------------------------------------------------------\u001B[0m",
      "\u001B[1;31mIndexError\u001B[0m                                Traceback (most recent call last)",
      "Cell \u001B[1;32mIn[78], line 5\u001B[0m\n\u001B[0;32m      2\u001B[0m \u001B[38;5;28;01mimport\u001B[39;00m \u001B[38;5;21;01mnumpy\u001B[39;00m \u001B[38;5;28;01mas\u001B[39;00m \u001B[38;5;21;01mnp\u001B[39;00m\n\u001B[0;32m      4\u001B[0m imputer1 \u001B[38;5;241m=\u001B[39m SimpleImputer(missing_values\u001B[38;5;241m=\u001B[39mnp\u001B[38;5;241m.\u001B[39mnan, strategy\u001B[38;5;241m=\u001B[39m\u001B[38;5;124m'\u001B[39m\u001B[38;5;124mmedian\u001B[39m\u001B[38;5;124m'\u001B[39m)\n\u001B[1;32m----> 5\u001B[0m accident_data_median_fit \u001B[38;5;241m=\u001B[39m \u001B[43mimputer1\u001B[49m\u001B[38;5;241;43m.\u001B[39;49m\u001B[43mfit_transform\u001B[49m\u001B[43m(\u001B[49m\u001B[43maccident_data_reduced\u001B[49m\u001B[38;5;241;43m.\u001B[39;49m\u001B[43mselect\u001B[49m\u001B[43m(\u001B[49m\u001B[43m[\u001B[49m\u001B[38;5;124;43m\"\u001B[39;49m\u001B[38;5;124;43mTemperature(F)\u001B[39;49m\u001B[38;5;124;43m\"\u001B[39;49m\u001B[43m,\u001B[49m\u001B[38;5;124;43m\"\u001B[39;49m\u001B[38;5;124;43mWind_Chill(F)\u001B[39;49m\u001B[38;5;124;43m\"\u001B[39;49m\u001B[43m,\u001B[49m\u001B[38;5;124;43m\"\u001B[39;49m\u001B[38;5;124;43mHumidity(\u001B[39;49m\u001B[38;5;124;43m%\u001B[39;49m\u001B[38;5;124;43m)\u001B[39;49m\u001B[38;5;124;43m\"\u001B[39;49m\u001B[43m,\u001B[49m\u001B[38;5;124;43m\"\u001B[39;49m\u001B[38;5;124;43mPressure(in)\u001B[39;49m\u001B[38;5;124;43m\"\u001B[39;49m\u001B[43m,\u001B[49m\u001B[38;5;124;43m\"\u001B[39;49m\u001B[38;5;124;43mVisibility(mi)\u001B[39;49m\u001B[38;5;124;43m\"\u001B[39;49m\u001B[43m,\u001B[49m\u001B[38;5;124;43m\"\u001B[39;49m\u001B[38;5;124;43mWind_Speed(mph)\u001B[39;49m\u001B[38;5;124;43m\"\u001B[39;49m\u001B[43m,\u001B[49m\u001B[38;5;124;43m\"\u001B[39;49m\u001B[38;5;124;43mPrecipitation(in)\u001B[39;49m\u001B[38;5;124;43m\"\u001B[39;49m\u001B[43m]\u001B[49m\u001B[43m)\u001B[49m\u001B[43m)\u001B[49m\n\u001B[0;32m      6\u001B[0m accident_data_median \u001B[38;5;241m=\u001B[39m imputer1\u001B[38;5;241m.\u001B[39mtransform(accident_data_median_fit)\n",
      "File \u001B[1;32m~\\.virtualenvs\\BDMG-vehicle-accidents-7Efbz886\\lib\\site-packages\\sklearn\\utils\\_set_output.py:273\u001B[0m, in \u001B[0;36m_wrap_method_output.<locals>.wrapped\u001B[1;34m(self, X, *args, **kwargs)\u001B[0m\n\u001B[0;32m    271\u001B[0m \u001B[38;5;129m@wraps\u001B[39m(f)\n\u001B[0;32m    272\u001B[0m \u001B[38;5;28;01mdef\u001B[39;00m \u001B[38;5;21mwrapped\u001B[39m(\u001B[38;5;28mself\u001B[39m, X, \u001B[38;5;241m*\u001B[39margs, \u001B[38;5;241m*\u001B[39m\u001B[38;5;241m*\u001B[39mkwargs):\n\u001B[1;32m--> 273\u001B[0m     data_to_wrap \u001B[38;5;241m=\u001B[39m f(\u001B[38;5;28mself\u001B[39m, X, \u001B[38;5;241m*\u001B[39margs, \u001B[38;5;241m*\u001B[39m\u001B[38;5;241m*\u001B[39mkwargs)\n\u001B[0;32m    274\u001B[0m     \u001B[38;5;28;01mif\u001B[39;00m \u001B[38;5;28misinstance\u001B[39m(data_to_wrap, \u001B[38;5;28mtuple\u001B[39m):\n\u001B[0;32m    275\u001B[0m         \u001B[38;5;66;03m# only wrap the first output for cross decomposition\u001B[39;00m\n\u001B[0;32m    276\u001B[0m         return_tuple \u001B[38;5;241m=\u001B[39m (\n\u001B[0;32m    277\u001B[0m             _wrap_data_with_container(method, data_to_wrap[\u001B[38;5;241m0\u001B[39m], X, \u001B[38;5;28mself\u001B[39m),\n\u001B[0;32m    278\u001B[0m             \u001B[38;5;241m*\u001B[39mdata_to_wrap[\u001B[38;5;241m1\u001B[39m:],\n\u001B[0;32m    279\u001B[0m         )\n",
      "File \u001B[1;32m~\\.virtualenvs\\BDMG-vehicle-accidents-7Efbz886\\lib\\site-packages\\sklearn\\base.py:1061\u001B[0m, in \u001B[0;36mTransformerMixin.fit_transform\u001B[1;34m(self, X, y, **fit_params)\u001B[0m\n\u001B[0;32m   1046\u001B[0m         warnings\u001B[38;5;241m.\u001B[39mwarn(\n\u001B[0;32m   1047\u001B[0m             (\n\u001B[0;32m   1048\u001B[0m                 \u001B[38;5;124mf\u001B[39m\u001B[38;5;124m\"\u001B[39m\u001B[38;5;124mThis object (\u001B[39m\u001B[38;5;132;01m{\u001B[39;00m\u001B[38;5;28mself\u001B[39m\u001B[38;5;241m.\u001B[39m\u001B[38;5;18m__class__\u001B[39m\u001B[38;5;241m.\u001B[39m\u001B[38;5;18m__name__\u001B[39m\u001B[38;5;132;01m}\u001B[39;00m\u001B[38;5;124m) has a `transform`\u001B[39m\u001B[38;5;124m\"\u001B[39m\n\u001B[1;32m   (...)\u001B[0m\n\u001B[0;32m   1056\u001B[0m             \u001B[38;5;167;01mUserWarning\u001B[39;00m,\n\u001B[0;32m   1057\u001B[0m         )\n\u001B[0;32m   1059\u001B[0m \u001B[38;5;28;01mif\u001B[39;00m y \u001B[38;5;129;01mis\u001B[39;00m \u001B[38;5;28;01mNone\u001B[39;00m:\n\u001B[0;32m   1060\u001B[0m     \u001B[38;5;66;03m# fit method of arity 1 (unsupervised transformation)\u001B[39;00m\n\u001B[1;32m-> 1061\u001B[0m     \u001B[38;5;28;01mreturn\u001B[39;00m \u001B[38;5;28;43mself\u001B[39;49m\u001B[38;5;241;43m.\u001B[39;49m\u001B[43mfit\u001B[49m\u001B[43m(\u001B[49m\u001B[43mX\u001B[49m\u001B[43m,\u001B[49m\u001B[43m \u001B[49m\u001B[38;5;241;43m*\u001B[39;49m\u001B[38;5;241;43m*\u001B[39;49m\u001B[43mfit_params\u001B[49m\u001B[43m)\u001B[49m\u001B[38;5;241;43m.\u001B[39;49m\u001B[43mtransform\u001B[49m\u001B[43m(\u001B[49m\u001B[43mX\u001B[49m\u001B[43m)\u001B[49m\n\u001B[0;32m   1062\u001B[0m \u001B[38;5;28;01melse\u001B[39;00m:\n\u001B[0;32m   1063\u001B[0m     \u001B[38;5;66;03m# fit method of arity 2 (supervised transformation)\u001B[39;00m\n\u001B[0;32m   1064\u001B[0m     \u001B[38;5;28;01mreturn\u001B[39;00m \u001B[38;5;28mself\u001B[39m\u001B[38;5;241m.\u001B[39mfit(X, y, \u001B[38;5;241m*\u001B[39m\u001B[38;5;241m*\u001B[39mfit_params)\u001B[38;5;241m.\u001B[39mtransform(X)\n",
      "File \u001B[1;32m~\\.virtualenvs\\BDMG-vehicle-accidents-7Efbz886\\lib\\site-packages\\sklearn\\utils\\_set_output.py:273\u001B[0m, in \u001B[0;36m_wrap_method_output.<locals>.wrapped\u001B[1;34m(self, X, *args, **kwargs)\u001B[0m\n\u001B[0;32m    271\u001B[0m \u001B[38;5;129m@wraps\u001B[39m(f)\n\u001B[0;32m    272\u001B[0m \u001B[38;5;28;01mdef\u001B[39;00m \u001B[38;5;21mwrapped\u001B[39m(\u001B[38;5;28mself\u001B[39m, X, \u001B[38;5;241m*\u001B[39margs, \u001B[38;5;241m*\u001B[39m\u001B[38;5;241m*\u001B[39mkwargs):\n\u001B[1;32m--> 273\u001B[0m     data_to_wrap \u001B[38;5;241m=\u001B[39m f(\u001B[38;5;28mself\u001B[39m, X, \u001B[38;5;241m*\u001B[39margs, \u001B[38;5;241m*\u001B[39m\u001B[38;5;241m*\u001B[39mkwargs)\n\u001B[0;32m    274\u001B[0m     \u001B[38;5;28;01mif\u001B[39;00m \u001B[38;5;28misinstance\u001B[39m(data_to_wrap, \u001B[38;5;28mtuple\u001B[39m):\n\u001B[0;32m    275\u001B[0m         \u001B[38;5;66;03m# only wrap the first output for cross decomposition\u001B[39;00m\n\u001B[0;32m    276\u001B[0m         return_tuple \u001B[38;5;241m=\u001B[39m (\n\u001B[0;32m    277\u001B[0m             _wrap_data_with_container(method, data_to_wrap[\u001B[38;5;241m0\u001B[39m], X, \u001B[38;5;28mself\u001B[39m),\n\u001B[0;32m    278\u001B[0m             \u001B[38;5;241m*\u001B[39mdata_to_wrap[\u001B[38;5;241m1\u001B[39m:],\n\u001B[0;32m    279\u001B[0m         )\n",
      "File \u001B[1;32m~\\.virtualenvs\\BDMG-vehicle-accidents-7Efbz886\\lib\\site-packages\\sklearn\\impute\\_base.py:564\u001B[0m, in \u001B[0;36mSimpleImputer.transform\u001B[1;34m(self, X)\u001B[0m\n\u001B[0;32m    562\u001B[0m \u001B[38;5;66;03m# use feature names warning if features are provided\u001B[39;00m\n\u001B[0;32m    563\u001B[0m \u001B[38;5;28;01mif\u001B[39;00m \u001B[38;5;28mhasattr\u001B[39m(\u001B[38;5;28mself\u001B[39m, \u001B[38;5;124m\"\u001B[39m\u001B[38;5;124mfeature_names_in_\u001B[39m\u001B[38;5;124m\"\u001B[39m):\n\u001B[1;32m--> 564\u001B[0m     invalid_features \u001B[38;5;241m=\u001B[39m \u001B[38;5;28;43mself\u001B[39;49m\u001B[38;5;241;43m.\u001B[39;49m\u001B[43mfeature_names_in_\u001B[49m\u001B[43m[\u001B[49m\u001B[43minvalid_features\u001B[49m\u001B[43m]\u001B[49m\n\u001B[0;32m    565\u001B[0m warnings\u001B[38;5;241m.\u001B[39mwarn(\n\u001B[0;32m    566\u001B[0m     \u001B[38;5;124m\"\u001B[39m\u001B[38;5;124mSkipping features without any observed values:\u001B[39m\u001B[38;5;124m\"\u001B[39m\n\u001B[0;32m    567\u001B[0m     \u001B[38;5;124mf\u001B[39m\u001B[38;5;124m\"\u001B[39m\u001B[38;5;124m \u001B[39m\u001B[38;5;132;01m{\u001B[39;00minvalid_features\u001B[38;5;132;01m}\u001B[39;00m\u001B[38;5;124m. At least one non-missing value is needed\u001B[39m\u001B[38;5;124m\"\u001B[39m\n\u001B[0;32m    568\u001B[0m     \u001B[38;5;124mf\u001B[39m\u001B[38;5;124m\"\u001B[39m\u001B[38;5;124m for imputation with strategy=\u001B[39m\u001B[38;5;124m'\u001B[39m\u001B[38;5;132;01m{\u001B[39;00m\u001B[38;5;28mself\u001B[39m\u001B[38;5;241m.\u001B[39mstrategy\u001B[38;5;132;01m}\u001B[39;00m\u001B[38;5;124m'\u001B[39m\u001B[38;5;124m.\u001B[39m\u001B[38;5;124m\"\u001B[39m\n\u001B[0;32m    569\u001B[0m )\n\u001B[0;32m    570\u001B[0m X \u001B[38;5;241m=\u001B[39m X[:, valid_statistics_indexes]\n",
      "\u001B[1;31mIndexError\u001B[0m: index 89 is out of bounds for axis 0 with size 7"
     ]
    }
   ],
   "source": [
    "from sklearn.impute import SimpleImputer\n",
    "import numpy as np\n",
    "\n",
    "imputer1 = SimpleImputer(missing_values=np.nan, strategy='median')\n",
    "accident_data_median_fit = imputer1.fit_transform(accident_data_reduced.select([\"Temperature(F)\",\"Wind_Chill(F)\",\"Humidity(%)\",\"Pressure(in)\",\"Visibility(mi)\",\"Wind_Speed(mph)\",\"Precipitation(in)\"]))\n",
    "accident_data_median = imputer1.transform(accident_data_median_fit)"
   ],
   "metadata": {
    "collapsed": false,
    "pycharm": {
     "name": "#%%\n"
    }
   }
  },
  {
   "cell_type": "code",
   "execution_count": null,
   "outputs": [],
   "source": [
    "accident_data_reduced =accident_data_reduced.with_columns([\n",
    "    pl.lit(accident_data_median[:, i]).alias(column)\n",
    "    for i, column in enumerate(columns)\n",
    "])"
   ],
   "metadata": {
    "collapsed": false,
    "pycharm": {
     "name": "#%%\n"
    }
   }
  },
  {
   "cell_type": "markdown",
   "source": [
    "## PCA"
   ],
   "metadata": {
    "collapsed": false
   }
  },
  {
   "cell_type": "code",
   "execution_count": 18,
   "outputs": [],
   "source": [
    "accident_data = pl.read_csv(r'C:\\Users\\sarap\\Desktop\\BDMG-vehicle-accidents\\datasets\\test\\sample.csv')"
   ],
   "metadata": {
    "collapsed": false,
    "pycharm": {
     "name": "#%%\n"
    }
   }
  },
  {
   "cell_type": "code",
   "execution_count": 19,
   "outputs": [],
   "source": [
    "numerical = ['Start_Lat', 'Start_Lng', 'End_Lat', 'End_Lng', 'Distance(mi)', 'Temperature(F)', 'Wind_Chill(F)', 'Humidity(%)', 'Pressure(in)', 'Visibility(mi)','Wind_Speed(mph)', 'Precipitation(in)']"
   ],
   "metadata": {
    "collapsed": false,
    "pycharm": {
     "name": "#%%\n"
    }
   }
  },
  {
   "cell_type": "code",
   "execution_count": 20,
   "outputs": [],
   "source": [
    "accident_sample = accident_data[numerical].sample(int(len(accident_data)/100))"
   ],
   "metadata": {
    "collapsed": false,
    "pycharm": {
     "name": "#%%\n"
    }
   }
  },
  {
   "cell_type": "code",
   "execution_count": 22,
   "outputs": [
    {
     "data": {
      "text/plain": "shape: (7, 13)\n┌────────────┬───────────┬────────────┬───────────┬─────┬──────────────┬────────────────┬─────────────────┬───────────────────┐\n│ describe   ┆ Start_Lat ┆ Start_Lng  ┆ End_Lat   ┆ ... ┆ Pressure(in) ┆ Visibility(mi) ┆ Wind_Speed(mph) ┆ Precipitation(in) │\n│ ---        ┆ ---       ┆ ---        ┆ ---       ┆     ┆ ---          ┆ ---            ┆ ---             ┆ ---               │\n│ str        ┆ f64       ┆ f64        ┆ f64       ┆     ┆ f64          ┆ f64            ┆ f64             ┆ f64               │\n╞════════════╪═══════════╪════════════╪═══════════╪═════╪══════════════╪════════════════╪═════════════════╪═══════════════════╡\n│ count      ┆ 5000.0    ┆ 5000.0     ┆ 5000.0    ┆ ... ┆ 5000.0       ┆ 5000.0         ┆ 5000.0          ┆ 5000.0            │\n│ null_count ┆ 0.0       ┆ 0.0        ┆ 2207.0    ┆ ... ┆ 85.0         ┆ 108.0          ┆ 391.0           ┆ 1466.0            │\n│ mean       ┆ 36.184826 ┆ -94.796252 ┆ 36.209197 ┆ ... ┆ 29.565579    ┆ 9.070493       ┆ 7.735452        ┆ 0.007131          │\n│ std        ┆ 5.171577  ┆ 17.459074  ┆ 5.297837  ┆ ... ┆ 0.939795     ┆ 2.533456       ┆ 5.133481        ┆ 0.038167          │\n│ min        ┆ 25.533401 ┆ -124.30909 ┆ 25.534203 ┆ ... ┆ 20.56        ┆ 0.0            ┆ 0.0             ┆ 0.0               │\n│ max        ┆ 48.781989 ┆ -70.32297  ┆ 48.783319 ┆ ... ┆ 30.95        ┆ 50.0           ┆ 32.0            ┆ 0.8               │\n│ median     ┆ 35.862148 ┆ -87.754725 ┆ 36.141915 ┆ ... ┆ 29.86        ┆ 10.0           ┆ 7.0             ┆ 0.0               │\n└────────────┴───────────┴────────────┴───────────┴─────┴──────────────┴────────────────┴─────────────────┴───────────────────┘",
      "text/html": "<div><style>\n.dataframe > thead > tr > th,\n.dataframe > tbody > tr > td {\n  text-align: right;\n}\n</style>\n<small>shape: (7, 13)</small><table border=\"1\" class=\"dataframe\"><thead><tr><th>describe</th><th>Start_Lat</th><th>Start_Lng</th><th>End_Lat</th><th>End_Lng</th><th>Distance(mi)</th><th>Temperature(F)</th><th>Wind_Chill(F)</th><th>Humidity(%)</th><th>Pressure(in)</th><th>Visibility(mi)</th><th>Wind_Speed(mph)</th><th>Precipitation(in)</th></tr><tr><td>str</td><td>f64</td><td>f64</td><td>f64</td><td>f64</td><td>f64</td><td>f64</td><td>f64</td><td>f64</td><td>f64</td><td>f64</td><td>f64</td><td>f64</td></tr></thead><tbody><tr><td>&quot;count&quot;</td><td>5000.0</td><td>5000.0</td><td>5000.0</td><td>5000.0</td><td>5000.0</td><td>5000.0</td><td>5000.0</td><td>5000.0</td><td>5000.0</td><td>5000.0</td><td>5000.0</td><td>5000.0</td></tr><tr><td>&quot;null_count&quot;</td><td>0.0</td><td>0.0</td><td>2207.0</td><td>2207.0</td><td>0.0</td><td>100.0</td><td>1339.0</td><td>106.0</td><td>85.0</td><td>108.0</td><td>391.0</td><td>1466.0</td></tr><tr><td>&quot;mean&quot;</td><td>36.184826</td><td>-94.796252</td><td>36.209197</td><td>-95.904189</td><td>0.521883</td><td>61.991286</td><td>58.516553</td><td>64.422558</td><td>29.565579</td><td>9.070493</td><td>7.735452</td><td>0.007131</td></tr><tr><td>&quot;std&quot;</td><td>5.171577</td><td>17.459074</td><td>5.297837</td><td>18.223926</td><td>1.445235</td><td>18.835527</td><td>22.227091</td><td>22.803097</td><td>0.939795</td><td>2.533456</td><td>5.133481</td><td>0.038167</td></tr><tr><td>&quot;min&quot;</td><td>25.533401</td><td>-124.30909</td><td>25.534203</td><td>-124.267637</td><td>0.0</td><td>-23.0</td><td>-37.0</td><td>5.0</td><td>20.56</td><td>0.0</td><td>0.0</td><td>0.0</td></tr><tr><td>&quot;max&quot;</td><td>48.781989</td><td>-70.32297</td><td>48.783319</td><td>-70.323809</td><td>29.272</td><td>108.0</td><td>108.0</td><td>100.0</td><td>30.95</td><td>50.0</td><td>32.0</td><td>0.8</td></tr><tr><td>&quot;median&quot;</td><td>35.862148</td><td>-87.754725</td><td>36.141915</td><td>-88.023618</td><td>0.024</td><td>64.0</td><td>62.0</td><td>66.0</td><td>29.86</td><td>10.0</td><td>7.0</td><td>0.0</td></tr></tbody></table></div>"
     },
     "execution_count": 22,
     "metadata": {},
     "output_type": "execute_result"
    }
   ],
   "source": [
    "accident_sample.describe()"
   ],
   "metadata": {
    "collapsed": false,
    "pycharm": {
     "name": "#%%\n"
    }
   }
  },
  {
   "cell_type": "code",
   "execution_count": 23,
   "outputs": [],
   "source": [
    "data_pca = accident_sample.select([\n",
    "    ((pl.col(column) - accident_sample.select(pl.col(column).mean()).get_column(column).to_numpy()[0]) /\n",
    "     accident_sample.select(pl.col(column).std()).get_column(column).to_numpy()[0]).alias(column)\n",
    "    for column in accident_sample.columns\n",
    "])"
   ],
   "metadata": {
    "collapsed": false,
    "pycharm": {
     "name": "#%%\n"
    }
   }
  },
  {
   "cell_type": "code",
   "execution_count": 24,
   "outputs": [
    {
     "data": {
      "text/plain": "shape: (7, 13)\n┌────────────┬─────────────┬─────────────┬────────────┬─────┬──────────────┬────────────────┬─────────────────┬───────────────────┐\n│ describe   ┆ Start_Lat   ┆ Start_Lng   ┆ End_Lat    ┆ ... ┆ Pressure(in) ┆ Visibility(mi) ┆ Wind_Speed(mph) ┆ Precipitation(in) │\n│ ---        ┆ ---         ┆ ---         ┆ ---        ┆     ┆ ---          ┆ ---            ┆ ---             ┆ ---               │\n│ str        ┆ f64         ┆ f64         ┆ f64        ┆     ┆ f64          ┆ f64            ┆ f64             ┆ f64               │\n╞════════════╪═════════════╪═════════════╪════════════╪═════╪══════════════╪════════════════╪═════════════════╪═══════════════════╡\n│ count      ┆ 5000.0      ┆ 5000.0      ┆ 5000.0     ┆ ... ┆ 5000.0       ┆ 5000.0         ┆ 5000.0          ┆ 5000.0            │\n│ null_count ┆ 0.0         ┆ 0.0         ┆ 2207.0     ┆ ... ┆ 85.0         ┆ 108.0          ┆ 391.0           ┆ 1466.0            │\n│ mean       ┆ -3.0440e-15 ┆ -1.3344e-15 ┆ 3.2945e-16 ┆ ... ┆ 1.0688e-14   ┆ 1.7720e-16     ┆ -5.0874e-16     ┆ -1.1209e-16       │\n│ std        ┆ 1.0         ┆ 1.0         ┆ 1.0        ┆ ... ┆ 1.0          ┆ 1.0            ┆ 1.0             ┆ 1.0               │\n│ min        ┆ -2.059609   ┆ -1.690401   ┆ -2.014972  ┆ ... ┆ -9.582498    ┆ -3.580284      ┆ -1.506863       ┆ -0.186831         │\n│ max        ┆ 2.435845    ┆ 1.401751    ┆ 2.373444   ┆ ... ┆ 1.47311      ┆ 16.155602      ┆ 4.726724        ┆ 20.773859         │\n│ median     ┆ -0.062394   ┆ 0.403316    ┆ -0.0127    ┆ ... ┆ 0.313282     ┆ 0.366893       ┆ -0.143266       ┆ -0.186831         │\n└────────────┴─────────────┴─────────────┴────────────┴─────┴──────────────┴────────────────┴─────────────────┴───────────────────┘",
      "text/html": "<div><style>\n.dataframe > thead > tr > th,\n.dataframe > tbody > tr > td {\n  text-align: right;\n}\n</style>\n<small>shape: (7, 13)</small><table border=\"1\" class=\"dataframe\"><thead><tr><th>describe</th><th>Start_Lat</th><th>Start_Lng</th><th>End_Lat</th><th>End_Lng</th><th>Distance(mi)</th><th>Temperature(F)</th><th>Wind_Chill(F)</th><th>Humidity(%)</th><th>Pressure(in)</th><th>Visibility(mi)</th><th>Wind_Speed(mph)</th><th>Precipitation(in)</th></tr><tr><td>str</td><td>f64</td><td>f64</td><td>f64</td><td>f64</td><td>f64</td><td>f64</td><td>f64</td><td>f64</td><td>f64</td><td>f64</td><td>f64</td><td>f64</td></tr></thead><tbody><tr><td>&quot;count&quot;</td><td>5000.0</td><td>5000.0</td><td>5000.0</td><td>5000.0</td><td>5000.0</td><td>5000.0</td><td>5000.0</td><td>5000.0</td><td>5000.0</td><td>5000.0</td><td>5000.0</td><td>5000.0</td></tr><tr><td>&quot;null_count&quot;</td><td>0.0</td><td>0.0</td><td>2207.0</td><td>2207.0</td><td>0.0</td><td>100.0</td><td>1339.0</td><td>106.0</td><td>85.0</td><td>108.0</td><td>391.0</td><td>1466.0</td></tr><tr><td>&quot;mean&quot;</td><td>-3.0440e-15</td><td>-1.3344e-15</td><td>3.2945e-16</td><td>-1.8037e-15</td><td>-1.5987e-18</td><td>2.6355e-16</td><td>2.1640e-16</td><td>-1.5789e-17</td><td>1.0688e-14</td><td>1.7720e-16</td><td>-5.0874e-16</td><td>-1.1209e-16</td></tr><tr><td>&quot;std&quot;</td><td>1.0</td><td>1.0</td><td>1.0</td><td>1.0</td><td>1.0</td><td>1.0</td><td>1.0</td><td>1.0</td><td>1.0</td><td>1.0</td><td>1.0</td><td>1.0</td></tr><tr><td>&quot;min&quot;</td><td>-2.059609</td><td>-1.690401</td><td>-2.014972</td><td>-1.556385</td><td>-0.361106</td><td>-4.512286</td><td>-4.297303</td><td>-2.605899</td><td>-9.582498</td><td>-3.580284</td><td>-1.506863</td><td>-0.186831</td></tr><tr><td>&quot;max&quot;</td><td>2.435845</td><td>1.401751</td><td>2.373444</td><td>1.40367</td><td>19.893043</td><td>2.442656</td><td>2.226267</td><td>1.560202</td><td>1.47311</td><td>16.155602</td><td>4.726724</td><td>20.773859</td></tr><tr><td>&quot;median&quot;</td><td>-0.062394</td><td>0.403316</td><td>-0.0127</td><td>0.43243</td><td>-0.3445</td><td>0.106645</td><td>0.156721</td><td>0.069177</td><td>0.313282</td><td>0.366893</td><td>-0.143266</td><td>-0.186831</td></tr></tbody></table></div>"
     },
     "execution_count": 24,
     "metadata": {},
     "output_type": "execute_result"
    }
   ],
   "source": [
    "data_pca.describe()"
   ],
   "metadata": {
    "collapsed": false,
    "pycharm": {
     "name": "#%%\n"
    }
   }
  },
  {
   "cell_type": "code",
   "execution_count": 25,
   "outputs": [],
   "source": [
    "data_pca = data_pca.filter(pl.all([pl.col(column).is_not_null() for column in data_pca.columns]))"
   ],
   "metadata": {
    "collapsed": false,
    "pycharm": {
     "name": "#%%\n"
    }
   }
  },
  {
   "cell_type": "code",
   "execution_count": 26,
   "outputs": [
    {
     "data": {
      "text/plain": "shape: (7, 13)\n┌────────────┬───────────┬───────────┬───────────┬─────┬──────────────┬────────────────┬─────────────────┬───────────────────┐\n│ describe   ┆ Start_Lat ┆ Start_Lng ┆ End_Lat   ┆ ... ┆ Pressure(in) ┆ Visibility(mi) ┆ Wind_Speed(mph) ┆ Precipitation(in) │\n│ ---        ┆ ---       ┆ ---       ┆ ---       ┆     ┆ ---          ┆ ---            ┆ ---             ┆ ---               │\n│ str        ┆ f64       ┆ f64       ┆ f64       ┆     ┆ f64          ┆ f64            ┆ f64             ┆ f64               │\n╞════════════╪═══════════╪═══════════╪═══════════╪═════╪══════════════╪════════════════╪═════════════════╪═══════════════════╡\n│ count      ┆ 2332.0    ┆ 2332.0    ┆ 2332.0    ┆ ... ┆ 2332.0       ┆ 2332.0         ┆ 2332.0          ┆ 2332.0            │\n│ null_count ┆ 0.0       ┆ 0.0       ┆ 0.0       ┆ ... ┆ 0.0          ┆ 0.0            ┆ 0.0             ┆ 0.0               │\n│ mean       ┆ -0.01317  ┆ -0.035845 ┆ -0.017581 ┆ ... ┆ -0.192964    ┆ 0.0055         ┆ -0.04458        ┆ -0.070208         │\n│ std        ┆ 1.038657  ┆ 1.03813   ┆ 1.014065  ┆ ... ┆ 1.117987     ┆ 0.913845       ┆ 1.057802        ┆ 0.84825           │\n│ min        ┆ -2.059609 ┆ -1.688106 ┆ -2.014972 ┆ ... ┆ -9.582498    ┆ -3.580284      ┆ -1.506863       ┆ -0.186831         │\n│ max        ┆ 2.435845  ┆ 1.374388  ┆ 2.373444  ┆ ... ┆ 1.185814     ┆ 4.31407        ┆ 4.726724        ┆ 20.773859         │\n│ median     ┆ -0.023057 ┆ 0.422038  ┆ -0.028183 ┆ ... ┆ 0.164314     ┆ 0.366893       ┆ -0.143266       ┆ -0.186831         │\n└────────────┴───────────┴───────────┴───────────┴─────┴──────────────┴────────────────┴─────────────────┴───────────────────┘",
      "text/html": "<div><style>\n.dataframe > thead > tr > th,\n.dataframe > tbody > tr > td {\n  text-align: right;\n}\n</style>\n<small>shape: (7, 13)</small><table border=\"1\" class=\"dataframe\"><thead><tr><th>describe</th><th>Start_Lat</th><th>Start_Lng</th><th>End_Lat</th><th>End_Lng</th><th>Distance(mi)</th><th>Temperature(F)</th><th>Wind_Chill(F)</th><th>Humidity(%)</th><th>Pressure(in)</th><th>Visibility(mi)</th><th>Wind_Speed(mph)</th><th>Precipitation(in)</th></tr><tr><td>str</td><td>f64</td><td>f64</td><td>f64</td><td>f64</td><td>f64</td><td>f64</td><td>f64</td><td>f64</td><td>f64</td><td>f64</td><td>f64</td><td>f64</td></tr></thead><tbody><tr><td>&quot;count&quot;</td><td>2332.0</td><td>2332.0</td><td>2332.0</td><td>2332.0</td><td>2332.0</td><td>2332.0</td><td>2332.0</td><td>2332.0</td><td>2332.0</td><td>2332.0</td><td>2332.0</td><td>2332.0</td></tr><tr><td>&quot;null_count&quot;</td><td>0.0</td><td>0.0</td><td>0.0</td><td>0.0</td><td>0.0</td><td>0.0</td><td>0.0</td><td>0.0</td><td>0.0</td><td>0.0</td><td>0.0</td><td>0.0</td></tr><tr><td>&quot;mean&quot;</td><td>-0.01317</td><td>-0.035845</td><td>-0.017581</td><td>0.026498</td><td>0.195457</td><td>-0.03947</td><td>0.063484</td><td>-0.066127</td><td>-0.192964</td><td>0.0055</td><td>-0.04458</td><td>-0.070208</td></tr><tr><td>&quot;std&quot;</td><td>1.038657</td><td>1.03813</td><td>1.014065</td><td>0.994537</td><td>1.035948</td><td>1.021698</td><td>0.968584</td><td>0.994488</td><td>1.117987</td><td>0.913845</td><td>1.057802</td><td>0.84825</td></tr><tr><td>&quot;min&quot;</td><td>-2.059609</td><td>-1.688106</td><td>-2.014972</td><td>-1.556385</td><td>-0.361106</td><td>-3.76901</td><td>-3.892392</td><td>-2.605899</td><td>-9.582498</td><td>-3.580284</td><td>-1.506863</td><td>-0.186831</td></tr><tr><td>&quot;max&quot;</td><td>2.435845</td><td>1.374388</td><td>2.373444</td><td>1.377501</td><td>12.527458</td><td>2.442656</td><td>2.226267</td><td>1.560202</td><td>1.185814</td><td>4.31407</td><td>4.726724</td><td>20.773859</td></tr><tr><td>&quot;median&quot;</td><td>-0.023057</td><td>0.422038</td><td>-0.028183</td><td>0.465008</td><td>-0.189508</td><td>0.053554</td><td>0.201711</td><td>-0.018531</td><td>0.164314</td><td>0.366893</td><td>-0.143266</td><td>-0.186831</td></tr></tbody></table></div>"
     },
     "execution_count": 26,
     "metadata": {},
     "output_type": "execute_result"
    }
   ],
   "source": [
    "data_pca.describe()"
   ],
   "metadata": {
    "collapsed": false,
    "pycharm": {
     "name": "#%%\n"
    }
   }
  },
  {
   "cell_type": "code",
   "execution_count": 28,
   "outputs": [],
   "source": [
    "from sklearn.decomposition import PCA\n",
    "pca = PCA(3)\n",
    "accident_data_pca = pca.fit_transform(data_pca)"
   ],
   "metadata": {
    "collapsed": false,
    "pycharm": {
     "name": "#%%\n"
    }
   }
  },
  {
   "cell_type": "code",
   "execution_count": 29,
   "outputs": [
    {
     "data": {
      "text/plain": "array([[ 45.10514608, -16.38342125,  -3.62616063],\n       [ -6.15366991,  34.42976436, -19.78969877],\n       [ 44.08692429, -16.07295091,  -3.45181337],\n       [ -5.76965856,  32.60604719, -19.02117629],\n       [  8.53603612, -10.45417997,   9.82202352],\n       [-38.09257477, -21.12101731,   0.93522886],\n       [-35.97894967, -20.70731841,   2.78988459],\n       [ 16.89221553,  24.37864572,  26.00423275],\n       [-18.55053282,  15.61339349,  27.52331062],\n       [-13.68511605, -18.39675629,  -8.74285793],\n       [ -1.27793225,  -5.24253946, -24.14079532],\n       [  4.88811201,   1.35033284,  11.69782197]])"
     },
     "execution_count": 29,
     "metadata": {},
     "output_type": "execute_result"
    }
   ],
   "source": [
    "accident_data_pca"
   ],
   "metadata": {
    "collapsed": false,
    "pycharm": {
     "name": "#%%\n"
    }
   }
  }
 ],
 "metadata": {
  "kernelspec": {
   "display_name": "Python 3",
   "language": "python",
   "name": "python3"
  },
  "language_info": {
   "codemirror_mode": {
    "name": "ipython",
    "version": 2
   },
   "file_extension": ".py",
   "mimetype": "text/x-python",
   "name": "python",
   "nbconvert_exporter": "python",
   "pygments_lexer": "ipython2",
   "version": "2.7.6"
  }
 },
 "nbformat": 4,
 "nbformat_minor": 0
}