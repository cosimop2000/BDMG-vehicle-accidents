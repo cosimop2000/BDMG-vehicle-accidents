{
 "cells": [
  {
   "cell_type": "code",
   "execution_count": 3,
   "metadata": {},
   "outputs": [],
   "source": [
    "#import libraries\n",
    "import numpy as np\n",
    "import pandas as pd\n",
    "import matplotlib.pyplot as plt\n",
    "import seaborn as sns\n",
    "import gc\n",
    "\n",
    "#supress warnings\n",
    "import warnings\n",
    "warnings.filterwarnings(\"ignore\")"
   ]
  },
  {
   "cell_type": "code",
   "execution_count": 4,
   "metadata": {},
   "outputs": [],
   "source": [
    "accident_data = pd.read_csv(\"C:\\\\Users\\\\pavon\\\\Documents\\\\BDMG-vehicle-accidents\\\\datasets\\\\US_Accidents_March23\\\\US_Accidents_March23.csv\")"
   ]
  },
  {
   "cell_type": "code",
   "execution_count": 5,
   "metadata": {},
   "outputs": [
    {
     "name": "stdout",
     "output_type": "stream",
     "text": [
      "<class 'pandas.core.frame.DataFrame'>\n",
      "RangeIndex: 7728394 entries, 0 to 7728393\n",
      "Data columns (total 46 columns):\n",
      " #   Column                 Dtype  \n",
      "---  ------                 -----  \n",
      " 0   ID                     object \n",
      " 1   Source                 object \n",
      " 2   Severity               int64  \n",
      " 3   Start_Time             object \n",
      " 4   End_Time               object \n",
      " 5   Start_Lat              float64\n",
      " 6   Start_Lng              float64\n",
      " 7   End_Lat                float64\n",
      " 8   End_Lng                float64\n",
      " 9   Distance(mi)           float64\n",
      " 10  Description            object \n",
      " 11  Street                 object \n",
      " 12  City                   object \n",
      " 13  County                 object \n",
      " 14  State                  object \n",
      " 15  Zipcode                object \n",
      " 16  Country                object \n",
      " 17  Timezone               object \n",
      " 18  Airport_Code           object \n",
      " 19  Weather_Timestamp      object \n",
      " 20  Temperature(F)         float64\n",
      " 21  Wind_Chill(F)          float64\n",
      " 22  Humidity(%)            float64\n",
      " 23  Pressure(in)           float64\n",
      " 24  Visibility(mi)         float64\n",
      " 25  Wind_Direction         object \n",
      " 26  Wind_Speed(mph)        float64\n",
      " 27  Precipitation(in)      float64\n",
      " 28  Weather_Condition      object \n",
      " 29  Amenity                bool   \n",
      " 30  Bump                   bool   \n",
      " 31  Crossing               bool   \n",
      " 32  Give_Way               bool   \n",
      " 33  Junction               bool   \n",
      " 34  No_Exit                bool   \n",
      " 35  Railway                bool   \n",
      " 36  Roundabout             bool   \n",
      " 37  Station                bool   \n",
      " 38  Stop                   bool   \n",
      " 39  Traffic_Calming        bool   \n",
      " 40  Traffic_Signal         bool   \n",
      " 41  Turning_Loop           bool   \n",
      " 42  Sunrise_Sunset         object \n",
      " 43  Civil_Twilight         object \n",
      " 44  Nautical_Twilight      object \n",
      " 45  Astronomical_Twilight  object \n",
      "dtypes: bool(13), float64(12), int64(1), object(20)\n",
      "memory usage: 2.0+ GB\n"
     ]
    }
   ],
   "source": [
    "accident_data.info()"
   ]
  },
  {
   "cell_type": "code",
   "execution_count": 6,
   "metadata": {},
   "outputs": [
    {
     "name": "stdout",
     "output_type": "stream",
     "text": [
      "Null values per variable\n",
      "ID: 0 (0.0%)\n",
      "Source: 0 (0.0%)\n",
      "Severity: 0 (0.0%)\n",
      "Start_Time: 0 (0.0%)\n",
      "End_Time: 0 (0.0%)\n",
      "Start_Lat: 0 (0.0%)\n",
      "Start_Lng: 0 (0.0%)\n",
      "End_Lat: 3402762 (44.02935461106149%)\n",
      "End_Lng: 3402762 (44.02935461106149%)\n",
      "Distance(mi): 0 (0.0%)\n",
      "Description: 5 (6.469649451102002e-05%)\n",
      "Street: 10869 (0.1406372397680553%)\n",
      "City: 253 (0.003273642622257613%)\n",
      "County: 0 (0.0%)\n",
      "State: 0 (0.0%)\n",
      "Zipcode: 1915 (0.024778757397720667%)\n",
      "Country: 0 (0.0%)\n",
      "Timezone: 7808 (0.10103004582840884%)\n",
      "Airport_Code: 22635 (0.2928810306513876%)\n",
      "Weather_Timestamp: 120228 (1.5556660284141828%)\n",
      "Temperature(F): 163853 (2.1201429430228327%)\n",
      "Wind_Chill(F): 1999019 (25.86590435218494%)\n",
      "Humidity(%): 174144 (2.253301268025414%)\n",
      "Pressure(in): 140679 (1.820287630263157%)\n",
      "Visibility(mi): 177098 (2.291523956982524%)\n",
      "Wind_Direction: 175206 (2.2670428034595544%)\n",
      "Wind_Speed(mph): 571233 (7.391354529802699%)\n",
      "Precipitation(in): 2203586 (28.512857910712107%)\n",
      "Weather_Condition: 173459 (2.244437848277404%)\n",
      "Amenity: 0 (0.0%)\n",
      "Bump: 0 (0.0%)\n",
      "Crossing: 0 (0.0%)\n",
      "Give_Way: 0 (0.0%)\n",
      "Junction: 0 (0.0%)\n",
      "No_Exit: 0 (0.0%)\n",
      "Railway: 0 (0.0%)\n",
      "Roundabout: 0 (0.0%)\n",
      "Station: 0 (0.0%)\n",
      "Stop: 0 (0.0%)\n",
      "Traffic_Calming: 0 (0.0%)\n",
      "Traffic_Signal: 0 (0.0%)\n",
      "Turning_Loop: 0 (0.0%)\n",
      "Sunrise_Sunset: 23246 (0.30078694228063424%)\n",
      "Civil_Twilight: 23246 (0.30078694228063424%)\n",
      "Nautical_Twilight: 23246 (0.30078694228063424%)\n",
      "Astronomical_Twilight: 23246 (0.30078694228063424%)\n"
     ]
    }
   ],
   "source": [
    "#print number and percentage of null entries per variable\n",
    "print('Null values per variable')\n",
    "for column in accident_data.columns:\n",
    "    print('{}: {} ({}%)'.format(column,pd.isnull(accident_data[column]).sum(),(pd.isnull(accident_data[column]).sum()/len(accident_data))*100))"
   ]
  }
 ],
 "metadata": {
  "kernelspec": {
   "display_name": "BDMG_project",
   "language": "python",
   "name": "python3"
  },
  "language_info": {
   "codemirror_mode": {
    "name": "ipython",
    "version": 3
   },
   "file_extension": ".py",
   "mimetype": "text/x-python",
   "name": "python",
   "nbconvert_exporter": "python",
   "pygments_lexer": "ipython3",
   "version": "3.9.18"
  }
 },
 "nbformat": 4,
 "nbformat_minor": 2
}
